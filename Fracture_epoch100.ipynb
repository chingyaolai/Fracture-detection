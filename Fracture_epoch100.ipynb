{
 "cells": [
  {
   "cell_type": "code",
   "execution_count": 1,
   "metadata": {},
   "outputs": [],
   "source": [
    "from __future__ import division, print_function\n",
    "%matplotlib inline\n",
    "import matplotlib.pyplot as plt\n",
    "import matplotlib\n",
    "import numpy as np\n",
    "plt.rcParams['image.cmap'] = 'gray'\n",
    "np.random.seed(98765)"
   ]
  },
  {
   "cell_type": "code",
   "execution_count": 2,
   "metadata": {},
   "outputs": [],
   "source": [
    "from tf_unet import image_util\n",
    "from tf_unet import unet\n",
    "from tf_unet import util"
   ]
  },
  {
   "cell_type": "code",
   "execution_count": 3,
   "metadata": {},
   "outputs": [
    {
     "name": "stdout",
     "output_type": "stream",
     "text": [
      "Number of files used: 11\n",
      "Number of channels: 1\n",
      "Number of classes: 2\n"
     ]
    }
   ],
   "source": [
    "prediction_path = \"./prediction_3layers_feature32_epoch100\"\n",
    "output_path = \"./trained_3layers_feature32_epoch100\"\n",
    "training_data = image_util.ImageDataProvider(\"./data_train/*.tif\")"
   ]
  },
  {
   "cell_type": "code",
   "execution_count": 4,
   "metadata": {
    "scrolled": false
   },
   "outputs": [
    {
     "name": "stderr",
     "output_type": "stream",
     "text": [
      "2019-05-26 23:31:00,119 Layers 3, features 32, filter size 3x3, pool size: 2x2\n"
     ]
    },
    {
     "name": "stdout",
     "output_type": "stream",
     "text": [
      "WARNING:tensorflow:From /home/yao/anaconda3/lib/python3.6/site-packages/tensorflow/python/framework/op_def_library.py:263: colocate_with (from tensorflow.python.framework.ops) is deprecated and will be removed in a future version.\n",
      "Instructions for updating:\n",
      "Colocations handled automatically by placer.\n"
     ]
    },
    {
     "name": "stderr",
     "output_type": "stream",
     "text": [
      "2019-05-26 23:31:00,147 From /home/yao/anaconda3/lib/python3.6/site-packages/tensorflow/python/framework/op_def_library.py:263: colocate_with (from tensorflow.python.framework.ops) is deprecated and will be removed in a future version.\n",
      "Instructions for updating:\n",
      "Colocations handled automatically by placer.\n"
     ]
    },
    {
     "name": "stdout",
     "output_type": "stream",
     "text": [
      "WARNING:tensorflow:From /home/yao/.local/lib/python3.6/site-packages/tf_unet-0.1.2-py3.6.egg/tf_unet/layers.py:39: calling dropout (from tensorflow.python.ops.nn_ops) with keep_prob is deprecated and will be removed in a future version.\n",
      "Instructions for updating:\n",
      "Please use `rate` instead of `keep_prob`. Rate should be set to `rate = 1 - keep_prob`.\n"
     ]
    },
    {
     "name": "stderr",
     "output_type": "stream",
     "text": [
      "2019-05-26 23:31:00,168 From /home/yao/.local/lib/python3.6/site-packages/tf_unet-0.1.2-py3.6.egg/tf_unet/layers.py:39: calling dropout (from tensorflow.python.ops.nn_ops) with keep_prob is deprecated and will be removed in a future version.\n",
      "Instructions for updating:\n",
      "Please use `rate` instead of `keep_prob`. Rate should be set to `rate = 1 - keep_prob`.\n",
      "2019-05-26 23:31:01,251 Removing '/home/yao/Downloads/tf_unet-master/demo/prediction_3layers_feature32_epoch100'\n",
      "2019-05-26 23:31:01,268 Removing '/home/yao/Downloads/tf_unet-master/demo/trained_3layers_feature32_epoch100'\n",
      "2019-05-26 23:31:01,295 Allocating '/home/yao/Downloads/tf_unet-master/demo/prediction_3layers_feature32_epoch100'\n",
      "2019-05-26 23:31:01,296 Allocating '/home/yao/Downloads/tf_unet-master/demo/trained_3layers_feature32_epoch100'\n",
      "2019-05-26 23:31:22,192 Verification error= 30.4%, loss= 0.6917\n",
      "2019-05-26 23:31:23,334 Start optimization\n",
      "2019-05-26 23:31:40,158 Iter 0, Minibatch Loss= 0.5295, Training Accuracy= 0.9876, Minibatch error= 1.2%\n",
      "2019-05-26 23:32:06,808 Iter 2, Minibatch Loss= 0.2120, Training Accuracy= 0.9992, Minibatch error= 0.1%\n",
      "2019-05-26 23:32:33,405 Iter 4, Minibatch Loss= 0.2443, Training Accuracy= 0.9348, Minibatch error= 6.5%\n",
      "2019-05-26 23:33:00,080 Iter 6, Minibatch Loss= 0.0266, Training Accuracy= 0.9992, Minibatch error= 0.1%\n",
      "2019-05-26 23:33:26,552 Iter 8, Minibatch Loss= 0.0711, Training Accuracy= 0.9876, Minibatch error= 1.2%\n",
      "2019-05-26 23:33:52,986 Iter 10, Minibatch Loss= 0.0403, Training Accuracy= 1.0000, Minibatch error= 0.0%\n",
      "2019-05-26 23:34:19,375 Iter 12, Minibatch Loss= 0.0326, Training Accuracy= 0.9967, Minibatch error= 0.3%\n",
      "2019-05-26 23:34:46,178 Iter 14, Minibatch Loss= 0.1361, Training Accuracy= 0.9701, Minibatch error= 3.0%\n",
      "2019-05-26 23:35:12,613 Iter 16, Minibatch Loss= 0.0084, Training Accuracy= 1.0000, Minibatch error= 0.0%\n",
      "2019-05-26 23:35:39,362 Iter 18, Minibatch Loss= 0.1451, Training Accuracy= 0.9644, Minibatch error= 3.6%\n",
      "2019-05-26 23:36:06,112 Iter 20, Minibatch Loss= 0.0162, Training Accuracy= 0.9992, Minibatch error= 0.1%\n",
      "2019-05-26 23:36:32,801 Iter 22, Minibatch Loss= 0.2223, Training Accuracy= 0.9399, Minibatch error= 6.0%\n",
      "2019-05-26 23:36:59,516 Iter 24, Minibatch Loss= 0.2403, Training Accuracy= 0.9348, Minibatch error= 6.5%\n",
      "2019-05-26 23:37:26,141 Iter 26, Minibatch Loss= 0.0252, Training Accuracy= 0.9967, Minibatch error= 0.3%\n",
      "2019-05-26 23:37:52,797 Iter 28, Minibatch Loss= 0.0047, Training Accuracy= 1.0000, Minibatch error= 0.0%\n",
      "2019-05-26 23:38:19,424 Iter 30, Minibatch Loss= 0.0031, Training Accuracy= 1.0000, Minibatch error= 0.0%\n",
      "2019-05-26 23:38:31,243 Epoch 0, Average loss: 0.1484, learning rate: 0.2000\n",
      "2019-05-26 23:38:50,160 Verification error= 0.2%, loss= 0.0119\n",
      "2019-05-26 23:39:05,778 Iter 32, Minibatch Loss= 0.0646, Training Accuracy= 0.9876, Minibatch error= 1.2%\n",
      "2019-05-26 23:39:32,202 Iter 34, Minibatch Loss= 0.0024, Training Accuracy= 1.0000, Minibatch error= 0.0%\n",
      "2019-05-26 23:39:58,879 Iter 36, Minibatch Loss= 0.2412, Training Accuracy= 0.9348, Minibatch error= 6.5%\n",
      "2019-05-26 23:40:25,868 Iter 38, Minibatch Loss= 0.1271, Training Accuracy= 0.9701, Minibatch error= 3.0%\n",
      "2019-05-26 23:40:52,325 Iter 40, Minibatch Loss= 0.0151, Training Accuracy= 0.9992, Minibatch error= 0.1%\n",
      "2019-05-26 23:41:19,021 Iter 42, Minibatch Loss= 0.1261, Training Accuracy= 0.9701, Minibatch error= 3.0%\n",
      "2019-05-26 23:41:45,687 Iter 44, Minibatch Loss= 0.0200, Training Accuracy= 0.9967, Minibatch error= 0.3%\n",
      "2019-05-26 23:42:12,257 Iter 46, Minibatch Loss= 0.0030, Training Accuracy= 1.0000, Minibatch error= 0.0%\n",
      "2019-05-26 23:42:38,963 Iter 48, Minibatch Loss= 0.2448, Training Accuracy= 0.9348, Minibatch error= 6.5%\n",
      "2019-05-26 23:43:05,503 Iter 50, Minibatch Loss= 0.1287, Training Accuracy= 0.9644, Minibatch error= 3.6%\n",
      "2019-05-26 23:43:31,931 Iter 52, Minibatch Loss= 0.0229, Training Accuracy= 0.9967, Minibatch error= 0.3%\n",
      "2019-05-26 23:43:58,537 Iter 54, Minibatch Loss= 0.2436, Training Accuracy= 0.9348, Minibatch error= 6.5%\n",
      "2019-05-26 23:44:25,178 Iter 56, Minibatch Loss= 0.2174, Training Accuracy= 0.9399, Minibatch error= 6.0%\n",
      "2019-05-26 23:44:51,718 Iter 58, Minibatch Loss= 0.1264, Training Accuracy= 0.9644, Minibatch error= 3.6%\n",
      "2019-05-26 23:45:18,345 Iter 60, Minibatch Loss= 0.0216, Training Accuracy= 0.9955, Minibatch error= 0.5%\n",
      "2019-05-26 23:45:45,154 Iter 62, Minibatch Loss= 0.1250, Training Accuracy= 0.9701, Minibatch error= 3.0%\n",
      "2019-05-26 23:45:56,777 Epoch 1, Average loss: 0.0938, learning rate: 0.1900\n",
      "2019-05-26 23:46:15,751 Verification error= 0.2%, loss= 0.0120\n",
      "2019-05-26 23:46:31,433 Iter 64, Minibatch Loss= 0.0209, Training Accuracy= 0.9955, Minibatch error= 0.5%\n",
      "2019-05-26 23:46:58,039 Iter 66, Minibatch Loss= 0.1277, Training Accuracy= 0.9644, Minibatch error= 3.6%\n",
      "2019-05-26 23:47:24,568 Iter 68, Minibatch Loss= 0.0098, Training Accuracy= 0.9992, Minibatch error= 0.1%\n",
      "2019-05-26 23:47:50,913 Iter 70, Minibatch Loss= 0.0083, Training Accuracy= 0.9992, Minibatch error= 0.1%\n",
      "2019-05-26 23:48:17,669 Iter 72, Minibatch Loss= 0.2442, Training Accuracy= 0.9348, Minibatch error= 6.5%\n",
      "2019-05-26 23:48:44,271 Iter 74, Minibatch Loss= 0.0241, Training Accuracy= 0.9967, Minibatch error= 0.3%\n",
      "2019-05-26 23:49:10,670 Iter 76, Minibatch Loss= 0.1240, Training Accuracy= 0.9644, Minibatch error= 3.6%\n",
      "2019-05-26 23:49:37,053 Iter 78, Minibatch Loss= 0.0031, Training Accuracy= 1.0000, Minibatch error= 0.0%\n",
      "2019-05-26 23:50:03,725 Iter 80, Minibatch Loss= 0.1242, Training Accuracy= 0.9701, Minibatch error= 3.0%\n",
      "2019-05-26 23:50:30,213 Iter 82, Minibatch Loss= 0.0207, Training Accuracy= 0.9955, Minibatch error= 0.5%\n",
      "2019-05-26 23:50:56,922 Iter 84, Minibatch Loss= 0.2426, Training Accuracy= 0.9348, Minibatch error= 6.5%\n",
      "2019-05-26 23:51:23,364 Iter 86, Minibatch Loss= 0.0074, Training Accuracy= 0.9992, Minibatch error= 0.1%\n",
      "2019-05-26 23:51:50,031 Iter 88, Minibatch Loss= 0.0202, Training Accuracy= 0.9955, Minibatch error= 0.5%\n",
      "2019-05-26 23:52:16,735 Iter 90, Minibatch Loss= 0.0093, Training Accuracy= 0.9992, Minibatch error= 0.1%\n",
      "2019-05-26 23:52:43,474 Iter 92, Minibatch Loss= 0.0648, Training Accuracy= 0.9876, Minibatch error= 1.2%\n",
      "2019-05-26 23:53:09,830 Iter 94, Minibatch Loss= 0.0189, Training Accuracy= 0.9967, Minibatch error= 0.3%\n",
      "2019-05-26 23:53:21,487 Epoch 2, Average loss: 0.0771, learning rate: 0.1805\n",
      "2019-05-26 23:53:40,391 Verification error= 0.2%, loss= 0.0102\n",
      "2019-05-26 23:53:56,122 Iter 96, Minibatch Loss= 0.0050, Training Accuracy= 0.9992, Minibatch error= 0.1%\n",
      "2019-05-26 23:54:22,603 Iter 98, Minibatch Loss= 0.0085, Training Accuracy= 0.9992, Minibatch error= 0.1%\n",
      "2019-05-26 23:54:49,070 Iter 100, Minibatch Loss= 0.1216, Training Accuracy= 0.9644, Minibatch error= 3.6%\n",
      "2019-05-26 23:55:15,567 Iter 102, Minibatch Loss= 0.2433, Training Accuracy= 0.9348, Minibatch error= 6.5%\n",
      "2019-05-26 23:55:42,096 Iter 104, Minibatch Loss= 0.0193, Training Accuracy= 0.9955, Minibatch error= 0.5%\n",
      "2019-05-26 23:56:08,616 Iter 106, Minibatch Loss= 0.0192, Training Accuracy= 0.9955, Minibatch error= 0.5%\n",
      "2019-05-26 23:56:35,378 Iter 108, Minibatch Loss= 0.0054, Training Accuracy= 0.9992, Minibatch error= 0.1%\n",
      "2019-05-26 23:57:01,997 Iter 110, Minibatch Loss= 0.2419, Training Accuracy= 0.9348, Minibatch error= 6.5%\n",
      "2019-05-26 23:57:28,662 Iter 112, Minibatch Loss= 0.1229, Training Accuracy= 0.9701, Minibatch error= 3.0%\n",
      "2019-05-26 23:57:55,199 Iter 114, Minibatch Loss= 0.0027, Training Accuracy= 1.0000, Minibatch error= 0.0%\n",
      "2019-05-26 23:58:21,797 Iter 116, Minibatch Loss= 0.0087, Training Accuracy= 0.9992, Minibatch error= 0.1%\n",
      "2019-05-26 23:58:48,324 Iter 118, Minibatch Loss= 0.0017, Training Accuracy= 1.0000, Minibatch error= 0.0%\n",
      "2019-05-26 23:59:15,043 Iter 120, Minibatch Loss= 0.0662, Training Accuracy= 0.9876, Minibatch error= 1.2%\n",
      "2019-05-26 23:59:41,711 Iter 122, Minibatch Loss= 0.1211, Training Accuracy= 0.9701, Minibatch error= 3.0%\n",
      "2019-05-27 00:00:08,326 Iter 124, Minibatch Loss= 0.0015, Training Accuracy= 1.0000, Minibatch error= 0.0%\n",
      "2019-05-27 00:00:34,863 Iter 126, Minibatch Loss= 0.2414, Training Accuracy= 0.9348, Minibatch error= 6.5%\n",
      "2019-05-27 00:00:46,532 Epoch 3, Average loss: 0.0811, learning rate: 0.1715\n"
     ]
    },
    {
     "name": "stderr",
     "output_type": "stream",
     "text": [
      "2019-05-27 00:01:05,385 Verification error= 0.2%, loss= 0.0122\n",
      "2019-05-27 00:01:20,913 Iter 128, Minibatch Loss= 0.0025, Training Accuracy= 1.0000, Minibatch error= 0.0%\n",
      "2019-05-27 00:01:47,407 Iter 130, Minibatch Loss= 0.1197, Training Accuracy= 0.9644, Minibatch error= 3.6%\n",
      "2019-05-27 00:02:14,348 Iter 132, Minibatch Loss= 0.2071, Training Accuracy= 0.9399, Minibatch error= 6.0%\n",
      "2019-05-27 00:02:40,898 Iter 134, Minibatch Loss= 0.0187, Training Accuracy= 0.9955, Minibatch error= 0.5%\n",
      "2019-05-27 00:03:07,624 Iter 136, Minibatch Loss= 0.2407, Training Accuracy= 0.9348, Minibatch error= 6.5%\n",
      "2019-05-27 00:03:34,302 Iter 138, Minibatch Loss= 0.1208, Training Accuracy= 0.9701, Minibatch error= 3.0%\n",
      "2019-05-27 00:04:00,907 Iter 140, Minibatch Loss= 0.0014, Training Accuracy= 1.0000, Minibatch error= 0.0%\n",
      "2019-05-27 00:04:27,503 Iter 142, Minibatch Loss= 0.1215, Training Accuracy= 0.9701, Minibatch error= 3.0%\n",
      "2019-05-27 00:04:53,919 Iter 144, Minibatch Loss= 0.0066, Training Accuracy= 0.9992, Minibatch error= 0.1%\n",
      "2019-05-27 00:05:20,446 Iter 146, Minibatch Loss= 0.0641, Training Accuracy= 0.9876, Minibatch error= 1.2%\n",
      "2019-05-27 00:05:47,024 Iter 148, Minibatch Loss= 0.1197, Training Accuracy= 0.9644, Minibatch error= 3.6%\n",
      "2019-05-27 00:06:13,486 Iter 150, Minibatch Loss= 0.0015, Training Accuracy= 1.0000, Minibatch error= 0.0%\n",
      "2019-05-27 00:06:39,882 Iter 152, Minibatch Loss= 0.0185, Training Accuracy= 0.9955, Minibatch error= 0.5%\n",
      "2019-05-27 00:07:06,391 Iter 154, Minibatch Loss= 0.0637, Training Accuracy= 0.9876, Minibatch error= 1.2%\n",
      "2019-05-27 00:07:33,224 Iter 156, Minibatch Loss= 0.2402, Training Accuracy= 0.9348, Minibatch error= 6.5%\n",
      "2019-05-27 00:08:00,009 Iter 158, Minibatch Loss= 0.1186, Training Accuracy= 0.9644, Minibatch error= 3.6%\n",
      "2019-05-27 00:08:11,762 Epoch 4, Average loss: 0.0795, learning rate: 0.1629\n",
      "2019-05-27 00:08:30,805 Verification error= 0.2%, loss= 0.0117\n",
      "2019-05-27 00:08:46,482 Iter 160, Minibatch Loss= 0.0063, Training Accuracy= 0.9992, Minibatch error= 0.1%\n",
      "2019-05-27 00:09:13,057 Iter 162, Minibatch Loss= 0.0054, Training Accuracy= 0.9992, Minibatch error= 0.1%\n",
      "2019-05-27 00:09:39,503 Iter 164, Minibatch Loss= 0.0011, Training Accuracy= 1.0000, Minibatch error= 0.0%\n",
      "2019-05-27 00:10:05,906 Iter 166, Minibatch Loss= 0.1193, Training Accuracy= 0.9644, Minibatch error= 3.6%\n",
      "2019-05-27 00:10:32,450 Iter 168, Minibatch Loss= 0.0087, Training Accuracy= 0.9992, Minibatch error= 0.1%\n",
      "2019-05-27 00:10:59,154 Iter 170, Minibatch Loss= 0.2391, Training Accuracy= 0.9348, Minibatch error= 6.5%\n",
      "2019-05-27 00:11:25,880 Iter 172, Minibatch Loss= 0.1181, Training Accuracy= 0.9644, Minibatch error= 3.6%\n",
      "2019-05-27 00:11:52,422 Iter 174, Minibatch Loss= 0.0055, Training Accuracy= 0.9992, Minibatch error= 0.1%\n",
      "2019-05-27 00:12:19,036 Iter 176, Minibatch Loss= 0.0011, Training Accuracy= 1.0000, Minibatch error= 0.0%\n",
      "2019-05-27 00:12:45,788 Iter 178, Minibatch Loss= 0.2395, Training Accuracy= 0.9348, Minibatch error= 6.5%\n",
      "2019-05-27 00:13:12,525 Iter 180, Minibatch Loss= 0.0090, Training Accuracy= 0.9992, Minibatch error= 0.1%\n",
      "2019-05-27 00:13:38,910 Iter 182, Minibatch Loss= 0.0183, Training Accuracy= 0.9955, Minibatch error= 0.5%\n",
      "2019-05-27 00:14:05,425 Iter 184, Minibatch Loss= 0.0013, Training Accuracy= 1.0000, Minibatch error= 0.0%\n",
      "2019-05-27 00:14:32,425 Iter 186, Minibatch Loss= 0.2387, Training Accuracy= 0.9348, Minibatch error= 6.5%\n",
      "2019-05-27 00:14:59,111 Iter 188, Minibatch Loss= 0.0057, Training Accuracy= 0.9992, Minibatch error= 0.1%\n",
      "2019-05-27 00:15:25,590 Iter 190, Minibatch Loss= 0.0073, Training Accuracy= 0.9992, Minibatch error= 0.1%\n",
      "2019-05-27 00:15:37,402 Epoch 5, Average loss: 0.0717, learning rate: 0.1548\n",
      "2019-05-27 00:15:56,273 Verification error= 0.2%, loss= 0.0112\n",
      "2019-05-27 00:16:12,088 Iter 192, Minibatch Loss= 0.1177, Training Accuracy= 0.9644, Minibatch error= 3.6%\n",
      "2019-05-27 00:16:38,732 Iter 194, Minibatch Loss= 0.2004, Training Accuracy= 0.9399, Minibatch error= 6.0%\n",
      "2019-05-27 00:17:05,438 Iter 196, Minibatch Loss= 0.0629, Training Accuracy= 0.9876, Minibatch error= 1.2%\n",
      "2019-05-27 00:17:31,786 Iter 198, Minibatch Loss= 0.0068, Training Accuracy= 0.9992, Minibatch error= 0.1%\n",
      "2019-05-27 00:17:58,383 Iter 200, Minibatch Loss= 0.0009, Training Accuracy= 1.0000, Minibatch error= 0.0%\n",
      "2019-05-27 00:18:24,820 Iter 202, Minibatch Loss= 0.0007, Training Accuracy= 1.0000, Minibatch error= 0.0%\n",
      "2019-05-27 00:18:51,344 Iter 204, Minibatch Loss= 0.1178, Training Accuracy= 0.9644, Minibatch error= 3.6%\n",
      "2019-05-27 00:19:17,986 Iter 206, Minibatch Loss= 0.2368, Training Accuracy= 0.9348, Minibatch error= 6.5%\n",
      "2019-05-27 00:19:44,386 Iter 208, Minibatch Loss= 0.0183, Training Accuracy= 0.9955, Minibatch error= 0.5%\n",
      "2019-05-27 00:20:10,834 Iter 210, Minibatch Loss= 0.0069, Training Accuracy= 0.9992, Minibatch error= 0.1%\n",
      "2019-05-27 00:20:37,472 Iter 212, Minibatch Loss= 0.2000, Training Accuracy= 0.9399, Minibatch error= 6.0%\n",
      "2019-05-27 00:21:04,149 Iter 214, Minibatch Loss= 0.0208, Training Accuracy= 0.9967, Minibatch error= 0.3%\n",
      "2019-05-27 00:21:30,593 Iter 216, Minibatch Loss= 0.0072, Training Accuracy= 0.9992, Minibatch error= 0.1%\n",
      "2019-05-27 00:21:56,945 Iter 218, Minibatch Loss= 0.0656, Training Accuracy= 0.9876, Minibatch error= 1.2%\n",
      "2019-05-27 00:22:23,771 Iter 220, Minibatch Loss= 0.2365, Training Accuracy= 0.9348, Minibatch error= 6.5%\n",
      "2019-05-27 00:22:50,124 Iter 222, Minibatch Loss= 0.0226, Training Accuracy= 0.9967, Minibatch error= 0.3%\n",
      "2019-05-27 00:23:01,766 Epoch 6, Average loss: 0.0852, learning rate: 0.1470\n",
      "2019-05-27 00:23:20,650 Verification error= 0.2%, loss= 0.0113\n",
      "2019-05-27 00:23:36,300 Iter 224, Minibatch Loss= 0.0015, Training Accuracy= 1.0000, Minibatch error= 0.0%\n",
      "2019-05-27 00:24:02,841 Iter 226, Minibatch Loss= 0.0058, Training Accuracy= 0.9992, Minibatch error= 0.1%\n",
      "2019-05-27 00:24:29,494 Iter 228, Minibatch Loss= 0.0084, Training Accuracy= 0.9992, Minibatch error= 0.1%\n",
      "2019-05-27 00:24:56,188 Iter 230, Minibatch Loss= 0.1172, Training Accuracy= 0.9701, Minibatch error= 3.0%\n",
      "2019-05-27 00:25:22,874 Iter 232, Minibatch Loss= 0.2367, Training Accuracy= 0.9348, Minibatch error= 6.5%\n",
      "2019-05-27 00:25:49,273 Iter 234, Minibatch Loss= 0.0062, Training Accuracy= 0.9992, Minibatch error= 0.1%\n",
      "2019-05-27 00:26:15,659 Iter 236, Minibatch Loss= 0.0195, Training Accuracy= 0.9967, Minibatch error= 0.3%\n",
      "2019-05-27 00:26:42,341 Iter 238, Minibatch Loss= 0.0619, Training Accuracy= 0.9876, Minibatch error= 1.2%\n",
      "2019-05-27 00:27:08,933 Iter 240, Minibatch Loss= 0.0090, Training Accuracy= 0.9992, Minibatch error= 0.1%\n",
      "2019-05-27 00:27:35,845 Iter 242, Minibatch Loss= 0.1167, Training Accuracy= 0.9644, Minibatch error= 3.6%\n",
      "2019-05-27 00:28:02,782 Iter 244, Minibatch Loss= 0.2362, Training Accuracy= 0.9348, Minibatch error= 6.5%\n",
      "2019-05-27 00:28:29,522 Iter 246, Minibatch Loss= 0.0221, Training Accuracy= 0.9967, Minibatch error= 0.3%\n",
      "2019-05-27 00:28:55,882 Iter 248, Minibatch Loss= 0.0010, Training Accuracy= 1.0000, Minibatch error= 0.0%\n",
      "2019-05-27 00:29:22,600 Iter 250, Minibatch Loss= 0.1164, Training Accuracy= 0.9644, Minibatch error= 3.6%\n",
      "2019-05-27 00:29:49,401 Iter 252, Minibatch Loss= 0.0645, Training Accuracy= 0.9876, Minibatch error= 1.2%\n",
      "2019-05-27 00:30:16,266 Iter 254, Minibatch Loss= 0.1162, Training Accuracy= 0.9701, Minibatch error= 3.0%\n",
      "2019-05-27 00:30:28,031 Epoch 7, Average loss: 0.0640, learning rate: 0.1397\n",
      "2019-05-27 00:30:46,933 Verification error= 0.2%, loss= 0.0099\n",
      "2019-05-27 00:31:02,735 Iter 256, Minibatch Loss= 0.1971, Training Accuracy= 0.9399, Minibatch error= 6.0%\n",
      "2019-05-27 00:31:29,288 Iter 258, Minibatch Loss= 0.0091, Training Accuracy= 0.9992, Minibatch error= 0.1%\n",
      "2019-05-27 00:31:57,424 Iter 260, Minibatch Loss= 0.0086, Training Accuracy= 0.9992, Minibatch error= 0.1%\n",
      "2019-05-27 00:32:23,658 Iter 262, Minibatch Loss= 0.0214, Training Accuracy= 0.9967, Minibatch error= 0.3%\n",
      "2019-05-27 00:32:49,933 Iter 264, Minibatch Loss= 0.0009, Training Accuracy= 1.0000, Minibatch error= 0.0%\n",
      "2019-05-27 00:33:16,551 Iter 266, Minibatch Loss= 0.1965, Training Accuracy= 0.9399, Minibatch error= 6.0%\n",
      "2019-05-27 00:33:43,129 Iter 268, Minibatch Loss= 0.2360, Training Accuracy= 0.9348, Minibatch error= 6.5%\n"
     ]
    },
    {
     "name": "stderr",
     "output_type": "stream",
     "text": [
      "2019-05-27 00:34:09,788 Iter 270, Minibatch Loss= 0.1155, Training Accuracy= 0.9701, Minibatch error= 3.0%\n",
      "2019-05-27 00:34:36,005 Iter 272, Minibatch Loss= 0.0182, Training Accuracy= 0.9967, Minibatch error= 0.3%\n",
      "2019-05-27 00:35:02,437 Iter 274, Minibatch Loss= 0.1157, Training Accuracy= 0.9701, Minibatch error= 3.0%\n",
      "2019-05-27 00:35:28,996 Iter 276, Minibatch Loss= 0.1166, Training Accuracy= 0.9644, Minibatch error= 3.6%\n",
      "2019-05-27 00:35:55,210 Iter 278, Minibatch Loss= 0.2348, Training Accuracy= 0.9348, Minibatch error= 6.5%\n",
      "2019-05-27 00:36:21,448 Iter 280, Minibatch Loss= 0.0177, Training Accuracy= 0.9955, Minibatch error= 0.5%\n",
      "2019-05-27 00:36:47,752 Iter 282, Minibatch Loss= 0.0212, Training Accuracy= 0.9967, Minibatch error= 0.3%\n",
      "2019-05-27 00:37:14,420 Iter 284, Minibatch Loss= 0.1150, Training Accuracy= 0.9701, Minibatch error= 3.0%\n",
      "2019-05-27 00:37:40,603 Iter 286, Minibatch Loss= 0.0014, Training Accuracy= 1.0000, Minibatch error= 0.0%\n",
      "2019-05-27 00:37:52,415 Epoch 8, Average loss: 0.0788, learning rate: 0.1327\n",
      "2019-05-27 00:38:11,113 Verification error= 0.2%, loss= 0.0103\n",
      "2019-05-27 00:38:26,715 Iter 288, Minibatch Loss= 0.1159, Training Accuracy= 0.9644, Minibatch error= 3.6%\n",
      "2019-05-27 00:38:53,042 Iter 290, Minibatch Loss= 0.0093, Training Accuracy= 0.9992, Minibatch error= 0.1%\n",
      "2019-05-27 00:39:19,371 Iter 292, Minibatch Loss= 0.0012, Training Accuracy= 1.0000, Minibatch error= 0.0%\n",
      "2019-05-27 00:39:45,476 Iter 294, Minibatch Loss= 0.0087, Training Accuracy= 0.9992, Minibatch error= 0.1%\n",
      "2019-05-27 00:40:11,774 Iter 296, Minibatch Loss= 0.1153, Training Accuracy= 0.9644, Minibatch error= 3.6%\n",
      "2019-05-27 00:40:38,187 Iter 298, Minibatch Loss= 0.0176, Training Accuracy= 0.9955, Minibatch error= 0.5%\n",
      "2019-05-27 00:41:04,749 Iter 300, Minibatch Loss= 0.2342, Training Accuracy= 0.9348, Minibatch error= 6.5%\n",
      "2019-05-27 00:41:31,003 Iter 302, Minibatch Loss= 0.0235, Training Accuracy= 0.9967, Minibatch error= 0.3%\n",
      "2019-05-27 00:41:57,202 Iter 304, Minibatch Loss= 0.1154, Training Accuracy= 0.9644, Minibatch error= 3.6%\n",
      "2019-05-27 00:42:23,822 Iter 306, Minibatch Loss= 0.1927, Training Accuracy= 0.9399, Minibatch error= 6.0%\n",
      "2019-05-27 00:42:50,099 Iter 308, Minibatch Loss= 0.0089, Training Accuracy= 0.9992, Minibatch error= 0.1%\n",
      "2019-05-27 00:43:16,605 Iter 310, Minibatch Loss= 0.0629, Training Accuracy= 0.9876, Minibatch error= 1.2%\n",
      "2019-05-27 00:43:43,022 Iter 312, Minibatch Loss= 0.0044, Training Accuracy= 0.9992, Minibatch error= 0.1%\n",
      "2019-05-27 00:44:09,580 Iter 314, Minibatch Loss= 0.2341, Training Accuracy= 0.9348, Minibatch error= 6.5%\n",
      "2019-05-27 00:44:35,743 Iter 316, Minibatch Loss= 0.0012, Training Accuracy= 1.0000, Minibatch error= 0.0%\n",
      "2019-05-27 00:45:02,129 Iter 318, Minibatch Loss= 0.0175, Training Accuracy= 0.9955, Minibatch error= 0.5%\n",
      "2019-05-27 00:45:13,623 Epoch 9, Average loss: 0.0652, learning rate: 0.1260\n",
      "2019-05-27 00:45:32,364 Verification error= 0.2%, loss= 0.0106\n",
      "2019-05-27 00:45:47,790 Iter 320, Minibatch Loss= 0.0083, Training Accuracy= 0.9992, Minibatch error= 0.1%\n",
      "2019-05-27 00:46:14,371 Iter 322, Minibatch Loss= 0.2340, Training Accuracy= 0.9348, Minibatch error= 6.5%\n",
      "2019-05-27 00:46:40,930 Iter 324, Minibatch Loss= 0.0618, Training Accuracy= 0.9876, Minibatch error= 1.2%\n",
      "2019-05-27 00:47:07,454 Iter 326, Minibatch Loss= 0.0644, Training Accuracy= 0.9876, Minibatch error= 1.2%\n",
      "2019-05-27 00:47:33,648 Iter 328, Minibatch Loss= 0.0086, Training Accuracy= 0.9992, Minibatch error= 0.1%\n",
      "2019-05-27 00:47:59,910 Iter 330, Minibatch Loss= 0.0049, Training Accuracy= 0.9992, Minibatch error= 0.1%\n",
      "2019-05-27 00:48:26,147 Iter 332, Minibatch Loss= 0.0227, Training Accuracy= 0.9967, Minibatch error= 0.3%\n",
      "2019-05-27 00:48:52,515 Iter 334, Minibatch Loss= 0.0009, Training Accuracy= 1.0000, Minibatch error= 0.0%\n",
      "2019-05-27 00:49:18,736 Iter 336, Minibatch Loss= 0.0014, Training Accuracy= 1.0000, Minibatch error= 0.0%\n",
      "2019-05-27 00:49:45,270 Iter 338, Minibatch Loss= 0.1134, Training Accuracy= 0.9701, Minibatch error= 3.0%\n",
      "2019-05-27 00:50:11,596 Iter 340, Minibatch Loss= 0.0074, Training Accuracy= 0.9992, Minibatch error= 0.1%\n",
      "2019-05-27 00:50:37,883 Iter 342, Minibatch Loss= 0.0015, Training Accuracy= 1.0000, Minibatch error= 0.0%\n",
      "2019-05-27 00:51:04,154 Iter 344, Minibatch Loss= 0.1143, Training Accuracy= 0.9644, Minibatch error= 3.6%\n",
      "2019-05-27 00:51:30,198 Iter 346, Minibatch Loss= 0.0010, Training Accuracy= 1.0000, Minibatch error= 0.0%\n",
      "2019-05-27 00:51:56,747 Iter 348, Minibatch Loss= 0.1905, Training Accuracy= 0.9399, Minibatch error= 6.0%\n",
      "2019-05-27 00:52:23,098 Iter 350, Minibatch Loss= 0.0008, Training Accuracy= 1.0000, Minibatch error= 0.0%\n",
      "2019-05-27 00:52:34,791 Epoch 10, Average loss: 0.0866, learning rate: 0.1197\n",
      "2019-05-27 00:52:53,593 Verification error= 0.2%, loss= 0.0096\n",
      "2019-05-27 00:53:09,245 Iter 352, Minibatch Loss= 0.0066, Training Accuracy= 0.9992, Minibatch error= 0.1%\n",
      "2019-05-27 00:53:35,475 Iter 354, Minibatch Loss= 0.0173, Training Accuracy= 0.9955, Minibatch error= 0.5%\n",
      "2019-05-27 00:54:01,981 Iter 356, Minibatch Loss= 0.2317, Training Accuracy= 0.9348, Minibatch error= 6.5%\n",
      "2019-05-27 00:54:28,408 Iter 358, Minibatch Loss= 0.0225, Training Accuracy= 0.9967, Minibatch error= 0.3%\n",
      "2019-05-27 00:54:54,952 Iter 360, Minibatch Loss= 0.1141, Training Accuracy= 0.9644, Minibatch error= 3.6%\n",
      "2019-05-27 00:55:21,532 Iter 362, Minibatch Loss= 0.1900, Training Accuracy= 0.9399, Minibatch error= 6.0%\n",
      "2019-05-27 00:55:47,594 Iter 364, Minibatch Loss= 0.0012, Training Accuracy= 1.0000, Minibatch error= 0.0%\n",
      "2019-05-27 00:56:14,207 Iter 366, Minibatch Loss= 0.1126, Training Accuracy= 0.9701, Minibatch error= 3.0%\n",
      "2019-05-27 00:56:40,389 Iter 368, Minibatch Loss= 0.0008, Training Accuracy= 1.0000, Minibatch error= 0.0%\n",
      "2019-05-27 00:57:06,590 Iter 370, Minibatch Loss= 0.0178, Training Accuracy= 0.9967, Minibatch error= 0.3%\n",
      "2019-05-27 00:57:32,656 Iter 372, Minibatch Loss= 0.0011, Training Accuracy= 1.0000, Minibatch error= 0.0%\n",
      "2019-05-27 00:57:59,403 Iter 374, Minibatch Loss= 0.1895, Training Accuracy= 0.9399, Minibatch error= 6.0%\n",
      "2019-05-27 00:58:25,944 Iter 376, Minibatch Loss= 0.1124, Training Accuracy= 0.9701, Minibatch error= 3.0%\n",
      "2019-05-27 00:58:52,372 Iter 378, Minibatch Loss= 0.0608, Training Accuracy= 0.9876, Minibatch error= 1.2%\n",
      "2019-05-27 00:59:18,591 Iter 380, Minibatch Loss= 0.0062, Training Accuracy= 0.9992, Minibatch error= 0.1%\n",
      "2019-05-27 00:59:44,642 Iter 382, Minibatch Loss= 0.0094, Training Accuracy= 0.9992, Minibatch error= 0.1%\n",
      "2019-05-27 00:59:56,279 Epoch 11, Average loss: 0.0641, learning rate: 0.1138\n",
      "2019-05-27 01:00:15,009 Verification error= 0.2%, loss= 0.0108\n",
      "2019-05-27 01:00:30,616 Iter 384, Minibatch Loss= 0.0173, Training Accuracy= 0.9955, Minibatch error= 0.5%\n",
      "2019-05-27 01:00:56,991 Iter 386, Minibatch Loss= 0.2309, Training Accuracy= 0.9348, Minibatch error= 6.5%\n",
      "2019-05-27 01:01:23,158 Iter 388, Minibatch Loss= 0.0052, Training Accuracy= 0.9992, Minibatch error= 0.1%\n",
      "2019-05-27 01:01:49,617 Iter 390, Minibatch Loss= 0.0630, Training Accuracy= 0.9876, Minibatch error= 1.2%\n",
      "2019-05-27 01:02:16,222 Iter 392, Minibatch Loss= 0.2303, Training Accuracy= 0.9348, Minibatch error= 6.5%\n",
      "2019-05-27 01:02:42,433 Iter 394, Minibatch Loss= 0.0077, Training Accuracy= 0.9992, Minibatch error= 0.1%\n",
      "2019-05-27 01:03:08,868 Iter 396, Minibatch Loss= 0.0600, Training Accuracy= 0.9876, Minibatch error= 1.2%\n",
      "2019-05-27 01:03:35,189 Iter 398, Minibatch Loss= 0.0006, Training Accuracy= 1.0000, Minibatch error= 0.0%\n",
      "2019-05-27 01:04:01,405 Iter 400, Minibatch Loss= 0.1133, Training Accuracy= 0.9644, Minibatch error= 3.6%\n",
      "2019-05-27 01:04:27,862 Iter 402, Minibatch Loss= 0.0175, Training Accuracy= 0.9955, Minibatch error= 0.5%\n",
      "2019-05-27 01:04:53,999 Iter 404, Minibatch Loss= 0.0174, Training Accuracy= 0.9955, Minibatch error= 0.5%\n",
      "2019-05-27 01:05:20,123 Iter 406, Minibatch Loss= 0.0087, Training Accuracy= 0.9992, Minibatch error= 0.1%\n",
      "2019-05-27 01:05:46,492 Iter 408, Minibatch Loss= 0.0009, Training Accuracy= 1.0000, Minibatch error= 0.0%\n",
      "2019-05-27 01:06:12,765 Iter 410, Minibatch Loss= 0.0190, Training Accuracy= 0.9967, Minibatch error= 0.3%\n",
      "2019-05-27 01:06:39,156 Iter 412, Minibatch Loss= 0.1139, Training Accuracy= 0.9644, Minibatch error= 3.6%\n"
     ]
    },
    {
     "name": "stderr",
     "output_type": "stream",
     "text": [
      "2019-05-27 01:07:05,369 Iter 414, Minibatch Loss= 0.0057, Training Accuracy= 0.9992, Minibatch error= 0.1%\n",
      "2019-05-27 01:07:16,940 Epoch 12, Average loss: 0.0771, learning rate: 0.1081\n",
      "2019-05-27 01:07:35,679 Verification error= 0.2%, loss= 0.0100\n",
      "2019-05-27 01:07:51,421 Iter 416, Minibatch Loss= 0.1113, Training Accuracy= 0.9701, Minibatch error= 3.0%\n",
      "2019-05-27 01:08:18,044 Iter 418, Minibatch Loss= 0.2297, Training Accuracy= 0.9348, Minibatch error= 6.5%\n",
      "2019-05-27 01:08:44,180 Iter 420, Minibatch Loss= 0.0095, Training Accuracy= 0.9992, Minibatch error= 0.1%\n",
      "2019-05-27 01:09:10,578 Iter 422, Minibatch Loss= 0.1875, Training Accuracy= 0.9399, Minibatch error= 6.0%\n",
      "2019-05-27 01:09:36,970 Iter 424, Minibatch Loss= 0.0172, Training Accuracy= 0.9955, Minibatch error= 0.5%\n",
      "2019-05-27 01:10:03,386 Iter 426, Minibatch Loss= 0.0630, Training Accuracy= 0.9876, Minibatch error= 1.2%\n",
      "2019-05-27 01:10:29,733 Iter 428, Minibatch Loss= 0.2289, Training Accuracy= 0.9348, Minibatch error= 6.5%\n",
      "2019-05-27 01:10:55,980 Iter 430, Minibatch Loss= 0.0218, Training Accuracy= 0.9967, Minibatch error= 0.3%\n",
      "2019-05-27 01:11:22,177 Iter 432, Minibatch Loss= 0.1108, Training Accuracy= 0.9701, Minibatch error= 3.0%\n",
      "2019-05-27 01:11:48,549 Iter 434, Minibatch Loss= 0.0009, Training Accuracy= 1.0000, Minibatch error= 0.0%\n",
      "2019-05-27 01:12:15,034 Iter 436, Minibatch Loss= 0.1107, Training Accuracy= 0.9701, Minibatch error= 3.0%\n",
      "2019-05-27 01:12:41,254 Iter 438, Minibatch Loss= 0.0073, Training Accuracy= 0.9992, Minibatch error= 0.1%\n",
      "2019-05-27 01:13:07,987 Iter 440, Minibatch Loss= 0.1869, Training Accuracy= 0.9399, Minibatch error= 6.0%\n",
      "2019-05-27 01:13:34,256 Iter 442, Minibatch Loss= 0.0007, Training Accuracy= 1.0000, Minibatch error= 0.0%\n",
      "2019-05-27 01:14:00,455 Iter 444, Minibatch Loss= 0.0234, Training Accuracy= 0.9967, Minibatch error= 0.3%\n",
      "2019-05-27 01:14:26,817 Iter 446, Minibatch Loss= 0.0053, Training Accuracy= 0.9992, Minibatch error= 0.1%\n",
      "2019-05-27 01:14:38,492 Epoch 13, Average loss: 0.0727, learning rate: 0.1027\n",
      "2019-05-27 01:14:57,226 Verification error= 0.2%, loss= 0.0102\n",
      "2019-05-27 01:15:12,772 Iter 448, Minibatch Loss= 0.1104, Training Accuracy= 0.9701, Minibatch error= 3.0%\n",
      "2019-05-27 01:15:39,066 Iter 450, Minibatch Loss= 0.1129, Training Accuracy= 0.9644, Minibatch error= 3.6%\n",
      "2019-05-27 01:16:05,531 Iter 452, Minibatch Loss= 0.2283, Training Accuracy= 0.9348, Minibatch error= 6.5%\n",
      "2019-05-27 01:16:32,049 Iter 454, Minibatch Loss= 0.1861, Training Accuracy= 0.9399, Minibatch error= 6.0%\n",
      "2019-05-27 01:16:58,393 Iter 456, Minibatch Loss= 0.0007, Training Accuracy= 1.0000, Minibatch error= 0.0%\n",
      "2019-05-27 01:17:24,628 Iter 458, Minibatch Loss= 0.0045, Training Accuracy= 0.9992, Minibatch error= 0.1%\n",
      "2019-05-27 01:17:50,768 Iter 460, Minibatch Loss= 0.1131, Training Accuracy= 0.9644, Minibatch error= 3.6%\n",
      "2019-05-27 01:18:17,250 Iter 462, Minibatch Loss= 0.2277, Training Accuracy= 0.9348, Minibatch error= 6.5%\n",
      "2019-05-27 01:18:43,721 Iter 464, Minibatch Loss= 0.1103, Training Accuracy= 0.9701, Minibatch error= 3.0%\n",
      "2019-05-27 01:19:10,026 Iter 466, Minibatch Loss= 0.0216, Training Accuracy= 0.9967, Minibatch error= 0.3%\n",
      "2019-05-27 01:19:36,327 Iter 468, Minibatch Loss= 0.0010, Training Accuracy= 1.0000, Minibatch error= 0.0%\n",
      "2019-05-27 01:20:02,709 Iter 470, Minibatch Loss= 0.0008, Training Accuracy= 1.0000, Minibatch error= 0.0%\n",
      "2019-05-27 01:20:29,010 Iter 472, Minibatch Loss= 0.0233, Training Accuracy= 0.9967, Minibatch error= 0.3%\n",
      "2019-05-27 01:20:55,153 Iter 474, Minibatch Loss= 0.0047, Training Accuracy= 0.9992, Minibatch error= 0.1%\n",
      "2019-05-27 01:21:21,380 Iter 476, Minibatch Loss= 0.0008, Training Accuracy= 1.0000, Minibatch error= 0.0%\n",
      "2019-05-27 01:21:47,632 Iter 478, Minibatch Loss= 0.0170, Training Accuracy= 0.9955, Minibatch error= 0.5%\n",
      "2019-05-27 01:21:59,229 Epoch 14, Average loss: 0.0742, learning rate: 0.0975\n",
      "2019-05-27 01:22:17,978 Verification error= 0.2%, loss= 0.0108\n",
      "2019-05-27 01:22:33,815 Iter 480, Minibatch Loss= 0.0093, Training Accuracy= 0.9992, Minibatch error= 0.1%\n",
      "2019-05-27 01:23:00,498 Iter 482, Minibatch Loss= 0.1094, Training Accuracy= 0.9701, Minibatch error= 3.0%\n",
      "2019-05-27 01:23:26,602 Iter 484, Minibatch Loss= 0.0010, Training Accuracy= 1.0000, Minibatch error= 0.0%\n",
      "2019-05-27 01:23:52,905 Iter 486, Minibatch Loss= 0.0609, Training Accuracy= 0.9876, Minibatch error= 1.2%\n",
      "2019-05-27 01:24:19,371 Iter 488, Minibatch Loss= 0.0184, Training Accuracy= 0.9967, Minibatch error= 0.3%\n",
      "2019-05-27 01:24:45,652 Iter 490, Minibatch Loss= 0.0171, Training Accuracy= 0.9955, Minibatch error= 0.5%\n",
      "2019-05-27 01:25:12,291 Iter 492, Minibatch Loss= 0.1847, Training Accuracy= 0.9399, Minibatch error= 6.0%\n",
      "2019-05-27 01:25:38,559 Iter 494, Minibatch Loss= 0.0046, Training Accuracy= 0.9992, Minibatch error= 0.1%\n",
      "2019-05-27 01:26:04,935 Iter 496, Minibatch Loss= 0.0010, Training Accuracy= 1.0000, Minibatch error= 0.0%\n",
      "2019-05-27 01:26:31,015 Iter 498, Minibatch Loss= 0.0170, Training Accuracy= 0.9955, Minibatch error= 0.5%\n",
      "2019-05-27 01:26:57,314 Iter 500, Minibatch Loss= 0.0228, Training Accuracy= 0.9967, Minibatch error= 0.3%\n",
      "2019-05-27 01:27:23,856 Iter 502, Minibatch Loss= 0.1842, Training Accuracy= 0.9399, Minibatch error= 6.0%\n",
      "2019-05-27 01:27:50,691 Iter 504, Minibatch Loss= 0.1089, Training Accuracy= 0.9701, Minibatch error= 3.0%\n",
      "2019-05-27 01:28:16,810 Iter 506, Minibatch Loss= 0.0057, Training Accuracy= 0.9992, Minibatch error= 0.1%\n",
      "2019-05-27 01:28:43,292 Iter 508, Minibatch Loss= 0.0613, Training Accuracy= 0.9876, Minibatch error= 1.2%\n",
      "2019-05-27 01:29:09,566 Iter 510, Minibatch Loss= 0.0172, Training Accuracy= 0.9955, Minibatch error= 0.5%\n",
      "2019-05-27 01:29:21,142 Epoch 15, Average loss: 0.0704, learning rate: 0.0927\n",
      "2019-05-27 01:29:39,842 Verification error= 0.2%, loss= 0.0093\n",
      "2019-05-27 01:29:55,349 Iter 512, Minibatch Loss= 0.1122, Training Accuracy= 0.9644, Minibatch error= 3.6%\n",
      "2019-05-27 01:30:21,593 Iter 514, Minibatch Loss= 0.0061, Training Accuracy= 0.9992, Minibatch error= 0.1%\n",
      "2019-05-27 01:30:47,838 Iter 516, Minibatch Loss= 0.0075, Training Accuracy= 0.9992, Minibatch error= 0.1%\n",
      "2019-05-27 01:31:14,305 Iter 518, Minibatch Loss= 0.0171, Training Accuracy= 0.9955, Minibatch error= 0.5%\n",
      "2019-05-27 01:31:40,728 Iter 520, Minibatch Loss= 0.1105, Training Accuracy= 0.9644, Minibatch error= 3.6%\n",
      "2019-05-27 01:32:07,332 Iter 522, Minibatch Loss= 0.1086, Training Accuracy= 0.9701, Minibatch error= 3.0%\n",
      "2019-05-27 01:32:33,748 Iter 524, Minibatch Loss= 0.0594, Training Accuracy= 0.9876, Minibatch error= 1.2%\n",
      "2019-05-27 01:33:00,162 Iter 526, Minibatch Loss= 0.2255, Training Accuracy= 0.9348, Minibatch error= 6.5%\n",
      "2019-05-27 01:33:26,643 Iter 528, Minibatch Loss= 0.1100, Training Accuracy= 0.9644, Minibatch error= 3.6%\n",
      "2019-05-27 01:33:52,918 Iter 530, Minibatch Loss= 0.0008, Training Accuracy= 1.0000, Minibatch error= 0.0%\n",
      "2019-05-27 01:34:19,197 Iter 532, Minibatch Loss= 0.0066, Training Accuracy= 0.9992, Minibatch error= 0.1%\n",
      "2019-05-27 01:34:45,554 Iter 534, Minibatch Loss= 0.1836, Training Accuracy= 0.9399, Minibatch error= 6.0%\n",
      "2019-05-27 01:35:11,762 Iter 536, Minibatch Loss= 0.0169, Training Accuracy= 0.9955, Minibatch error= 0.5%\n",
      "2019-05-27 01:35:38,171 Iter 538, Minibatch Loss= 0.2252, Training Accuracy= 0.9348, Minibatch error= 6.5%\n",
      "2019-05-27 01:36:04,591 Iter 540, Minibatch Loss= 0.0073, Training Accuracy= 0.9992, Minibatch error= 0.1%\n",
      "2019-05-27 01:36:30,893 Iter 542, Minibatch Loss= 0.0007, Training Accuracy= 1.0000, Minibatch error= 0.0%\n",
      "2019-05-27 01:36:42,508 Epoch 16, Average loss: 0.0768, learning rate: 0.0880\n",
      "2019-05-27 01:37:01,220 Verification error= 0.2%, loss= 0.0105\n",
      "2019-05-27 01:37:16,929 Iter 544, Minibatch Loss= 0.0056, Training Accuracy= 0.9992, Minibatch error= 0.1%\n",
      "2019-05-27 01:37:43,401 Iter 546, Minibatch Loss= 0.2249, Training Accuracy= 0.9348, Minibatch error= 6.5%\n",
      "2019-05-27 01:38:09,814 Iter 548, Minibatch Loss= 0.0055, Training Accuracy= 0.9992, Minibatch error= 0.1%\n",
      "2019-05-27 01:38:36,558 Iter 550, Minibatch Loss= 0.1828, Training Accuracy= 0.9399, Minibatch error= 6.0%\n",
      "2019-05-27 01:39:02,946 Iter 552, Minibatch Loss= 0.1078, Training Accuracy= 0.9701, Minibatch error= 3.0%\n"
     ]
    },
    {
     "name": "stderr",
     "output_type": "stream",
     "text": [
      "2019-05-27 01:39:29,208 Iter 554, Minibatch Loss= 0.0187, Training Accuracy= 0.9967, Minibatch error= 0.3%\n",
      "2019-05-27 01:39:55,558 Iter 556, Minibatch Loss= 0.1113, Training Accuracy= 0.9644, Minibatch error= 3.6%\n",
      "2019-05-27 01:40:21,887 Iter 558, Minibatch Loss= 0.0055, Training Accuracy= 0.9992, Minibatch error= 0.1%\n",
      "2019-05-27 01:40:48,306 Iter 560, Minibatch Loss= 0.0613, Training Accuracy= 0.9876, Minibatch error= 1.2%\n",
      "2019-05-27 01:41:14,539 Iter 562, Minibatch Loss= 0.0009, Training Accuracy= 1.0000, Minibatch error= 0.0%\n",
      "2019-05-27 01:41:40,924 Iter 564, Minibatch Loss= 0.1077, Training Accuracy= 0.9701, Minibatch error= 3.0%\n",
      "2019-05-27 01:42:07,107 Iter 566, Minibatch Loss= 0.0068, Training Accuracy= 0.9992, Minibatch error= 0.1%\n",
      "2019-05-27 01:42:33,500 Iter 568, Minibatch Loss= 0.1074, Training Accuracy= 0.9701, Minibatch error= 3.0%\n",
      "2019-05-27 01:42:59,536 Iter 570, Minibatch Loss= 0.0006, Training Accuracy= 1.0000, Minibatch error= 0.0%\n",
      "2019-05-27 01:43:25,597 Iter 572, Minibatch Loss= 0.1106, Training Accuracy= 0.9644, Minibatch error= 3.6%\n",
      "2019-05-27 01:43:51,801 Iter 574, Minibatch Loss= 0.0600, Training Accuracy= 0.9876, Minibatch error= 1.2%\n",
      "2019-05-27 01:44:03,381 Epoch 17, Average loss: 0.0676, learning rate: 0.0836\n",
      "2019-05-27 01:44:22,105 Verification error= 0.2%, loss= 0.0105\n",
      "2019-05-27 01:44:37,827 Iter 576, Minibatch Loss= 0.1820, Training Accuracy= 0.9399, Minibatch error= 6.0%\n",
      "2019-05-27 01:45:04,093 Iter 578, Minibatch Loss= 0.0086, Training Accuracy= 0.9992, Minibatch error= 0.1%\n",
      "2019-05-27 01:45:30,323 Iter 580, Minibatch Loss= 0.0008, Training Accuracy= 1.0000, Minibatch error= 0.0%\n",
      "2019-05-27 01:45:56,689 Iter 582, Minibatch Loss= 0.2237, Training Accuracy= 0.9348, Minibatch error= 6.5%\n",
      "2019-05-27 01:46:23,098 Iter 584, Minibatch Loss= 0.0192, Training Accuracy= 0.9967, Minibatch error= 0.3%\n",
      "2019-05-27 01:46:49,358 Iter 586, Minibatch Loss= 0.0067, Training Accuracy= 0.9992, Minibatch error= 0.1%\n",
      "2019-05-27 01:47:15,529 Iter 588, Minibatch Loss= 0.0168, Training Accuracy= 0.9955, Minibatch error= 0.5%\n",
      "2019-05-27 01:47:41,950 Iter 590, Minibatch Loss= 0.1811, Training Accuracy= 0.9399, Minibatch error= 6.0%\n",
      "2019-05-27 01:48:08,173 Iter 592, Minibatch Loss= 0.0168, Training Accuracy= 0.9955, Minibatch error= 0.5%\n",
      "2019-05-27 01:48:34,583 Iter 594, Minibatch Loss= 0.0089, Training Accuracy= 0.9992, Minibatch error= 0.1%\n",
      "2019-05-27 01:49:00,784 Iter 596, Minibatch Loss= 0.0008, Training Accuracy= 1.0000, Minibatch error= 0.0%\n",
      "2019-05-27 01:49:27,165 Iter 598, Minibatch Loss= 0.1102, Training Accuracy= 0.9644, Minibatch error= 3.6%\n",
      "2019-05-27 01:49:53,338 Iter 600, Minibatch Loss= 0.0597, Training Accuracy= 0.9876, Minibatch error= 1.2%\n",
      "2019-05-27 01:50:19,530 Iter 602, Minibatch Loss= 0.0045, Training Accuracy= 0.9992, Minibatch error= 0.1%\n",
      "2019-05-27 01:50:45,814 Iter 604, Minibatch Loss= 0.2232, Training Accuracy= 0.9348, Minibatch error= 6.5%\n",
      "2019-05-27 01:51:12,064 Iter 606, Minibatch Loss= 0.1064, Training Accuracy= 0.9701, Minibatch error= 3.0%\n",
      "2019-05-27 01:51:23,498 Epoch 18, Average loss: 0.0726, learning rate: 0.0794\n",
      "2019-05-27 01:51:42,223 Verification error= 0.2%, loss= 0.0096\n",
      "2019-05-27 01:51:57,905 Iter 608, Minibatch Loss= 0.0187, Training Accuracy= 0.9967, Minibatch error= 0.3%\n",
      "2019-05-27 01:52:24,406 Iter 610, Minibatch Loss= 0.1105, Training Accuracy= 0.9644, Minibatch error= 3.6%\n",
      "2019-05-27 01:52:50,903 Iter 612, Minibatch Loss= 0.1802, Training Accuracy= 0.9399, Minibatch error= 6.0%\n",
      "2019-05-27 01:53:17,330 Iter 614, Minibatch Loss= 0.1061, Training Accuracy= 0.9701, Minibatch error= 3.0%\n",
      "2019-05-27 01:53:43,807 Iter 616, Minibatch Loss= 0.0589, Training Accuracy= 0.9876, Minibatch error= 1.2%\n",
      "2019-05-27 01:54:10,548 Iter 618, Minibatch Loss= 0.2225, Training Accuracy= 0.9348, Minibatch error= 6.5%\n",
      "2019-05-27 01:54:36,922 Iter 620, Minibatch Loss= 0.0233, Training Accuracy= 0.9967, Minibatch error= 0.3%\n",
      "2019-05-27 01:55:03,135 Iter 622, Minibatch Loss= 0.0086, Training Accuracy= 0.9992, Minibatch error= 0.1%\n",
      "2019-05-27 01:55:29,511 Iter 624, Minibatch Loss= 0.0009, Training Accuracy= 1.0000, Minibatch error= 0.0%\n",
      "2019-05-27 01:55:55,731 Iter 626, Minibatch Loss= 0.0602, Training Accuracy= 0.9876, Minibatch error= 1.2%\n",
      "2019-05-27 01:56:21,995 Iter 628, Minibatch Loss= 0.0071, Training Accuracy= 0.9992, Minibatch error= 0.1%\n",
      "2019-05-27 01:56:48,399 Iter 630, Minibatch Loss= 0.0216, Training Accuracy= 0.9967, Minibatch error= 0.3%\n",
      "2019-05-27 01:57:14,943 Iter 632, Minibatch Loss= 0.1082, Training Accuracy= 0.9644, Minibatch error= 3.6%\n",
      "2019-05-27 01:57:41,157 Iter 634, Minibatch Loss= 0.0189, Training Accuracy= 0.9967, Minibatch error= 0.3%\n",
      "2019-05-27 01:58:07,254 Iter 636, Minibatch Loss= 0.0044, Training Accuracy= 0.9992, Minibatch error= 0.1%\n",
      "2019-05-27 01:58:33,809 Iter 638, Minibatch Loss= 0.2224, Training Accuracy= 0.9348, Minibatch error= 6.5%\n",
      "2019-05-27 01:58:45,530 Epoch 19, Average loss: 0.0692, learning rate: 0.0755\n",
      "2019-05-27 01:59:04,205 Verification error= 0.2%, loss= 0.0109\n",
      "2019-05-27 01:59:19,920 Iter 640, Minibatch Loss= 0.1078, Training Accuracy= 0.9644, Minibatch error= 3.6%\n",
      "2019-05-27 01:59:46,012 Iter 642, Minibatch Loss= 0.0167, Training Accuracy= 0.9955, Minibatch error= 0.5%\n",
      "2019-05-27 02:00:12,487 Iter 644, Minibatch Loss= 0.1054, Training Accuracy= 0.9701, Minibatch error= 3.0%\n",
      "2019-05-27 02:00:38,856 Iter 646, Minibatch Loss= 0.0580, Training Accuracy= 0.9876, Minibatch error= 1.2%\n",
      "2019-05-27 02:01:05,363 Iter 648, Minibatch Loss= 0.1099, Training Accuracy= 0.9644, Minibatch error= 3.6%\n",
      "2019-05-27 02:01:31,512 Iter 650, Minibatch Loss= 0.0008, Training Accuracy= 1.0000, Minibatch error= 0.0%\n",
      "2019-05-27 02:01:58,047 Iter 652, Minibatch Loss= 0.1054, Training Accuracy= 0.9701, Minibatch error= 3.0%\n",
      "2019-05-27 02:02:24,778 Iter 654, Minibatch Loss= 0.2215, Training Accuracy= 0.9348, Minibatch error= 6.5%\n",
      "2019-05-27 02:02:50,966 Iter 656, Minibatch Loss= 0.0053, Training Accuracy= 0.9992, Minibatch error= 0.1%\n",
      "2019-05-27 02:03:17,268 Iter 658, Minibatch Loss= 0.0075, Training Accuracy= 0.9992, Minibatch error= 0.1%\n",
      "2019-05-27 02:03:43,573 Iter 660, Minibatch Loss= 0.1054, Training Accuracy= 0.9701, Minibatch error= 3.0%\n",
      "2019-05-27 02:04:09,812 Iter 662, Minibatch Loss= 0.1074, Training Accuracy= 0.9644, Minibatch error= 3.6%\n",
      "2019-05-27 02:04:36,005 Iter 664, Minibatch Loss= 0.0008, Training Accuracy= 1.0000, Minibatch error= 0.0%\n",
      "2019-05-27 02:05:02,378 Iter 666, Minibatch Loss= 0.0597, Training Accuracy= 0.9876, Minibatch error= 1.2%\n",
      "2019-05-27 02:05:28,738 Iter 668, Minibatch Loss= 0.0008, Training Accuracy= 1.0000, Minibatch error= 0.0%\n",
      "2019-05-27 02:05:55,166 Iter 670, Minibatch Loss= 0.1785, Training Accuracy= 0.9399, Minibatch error= 6.0%\n",
      "2019-05-27 02:06:06,806 Epoch 20, Average loss: 0.0685, learning rate: 0.0717\n",
      "2019-05-27 02:06:25,473 Verification error= 0.2%, loss= 0.0099\n",
      "2019-05-27 02:06:41,095 Iter 672, Minibatch Loss= 0.0080, Training Accuracy= 0.9992, Minibatch error= 0.1%\n",
      "2019-05-27 02:07:07,175 Iter 674, Minibatch Loss= 0.0006, Training Accuracy= 1.0000, Minibatch error= 0.0%\n",
      "2019-05-27 02:07:33,587 Iter 676, Minibatch Loss= 0.2207, Training Accuracy= 0.9348, Minibatch error= 6.5%\n",
      "2019-05-27 02:07:59,757 Iter 678, Minibatch Loss= 0.0192, Training Accuracy= 0.9967, Minibatch error= 0.3%\n",
      "2019-05-27 02:08:26,416 Iter 680, Minibatch Loss= 0.1783, Training Accuracy= 0.9399, Minibatch error= 6.0%\n",
      "2019-05-27 02:08:52,500 Iter 682, Minibatch Loss= 0.0006, Training Accuracy= 1.0000, Minibatch error= 0.0%\n",
      "2019-05-27 02:09:18,664 Iter 684, Minibatch Loss= 0.0168, Training Accuracy= 0.9955, Minibatch error= 0.5%\n",
      "2019-05-27 02:09:44,924 Iter 686, Minibatch Loss= 0.1043, Training Accuracy= 0.9701, Minibatch error= 3.0%\n",
      "2019-05-27 02:10:11,504 Iter 688, Minibatch Loss= 0.2201, Training Accuracy= 0.9348, Minibatch error= 6.5%\n",
      "2019-05-27 02:10:37,868 Iter 690, Minibatch Loss= 0.0605, Training Accuracy= 0.9876, Minibatch error= 1.2%\n",
      "2019-05-27 02:11:03,926 Iter 692, Minibatch Loss= 0.0081, Training Accuracy= 0.9992, Minibatch error= 0.1%\n",
      "2019-05-27 02:11:30,053 Iter 694, Minibatch Loss= 0.0008, Training Accuracy= 1.0000, Minibatch error= 0.0%\n",
      "2019-05-27 02:11:56,610 Iter 696, Minibatch Loss= 0.1782, Training Accuracy= 0.9399, Minibatch error= 6.0%\n"
     ]
    },
    {
     "name": "stderr",
     "output_type": "stream",
     "text": [
      "2019-05-27 02:12:23,167 Iter 698, Minibatch Loss= 0.1039, Training Accuracy= 0.9701, Minibatch error= 3.0%\n",
      "2019-05-27 02:12:49,231 Iter 700, Minibatch Loss= 0.0214, Training Accuracy= 0.9967, Minibatch error= 0.3%\n",
      "2019-05-27 02:13:15,365 Iter 702, Minibatch Loss= 0.0055, Training Accuracy= 0.9992, Minibatch error= 0.1%\n",
      "2019-05-27 02:13:26,843 Epoch 21, Average loss: 0.0712, learning rate: 0.0681\n",
      "2019-05-27 02:13:45,571 Verification error= 0.2%, loss= 0.0095\n",
      "2019-05-27 02:14:01,151 Iter 704, Minibatch Loss= 0.0007, Training Accuracy= 1.0000, Minibatch error= 0.0%\n",
      "2019-05-27 02:14:27,744 Iter 706, Minibatch Loss= 0.1036, Training Accuracy= 0.9701, Minibatch error= 3.0%\n",
      "2019-05-27 02:14:54,447 Iter 708, Minibatch Loss= 0.1775, Training Accuracy= 0.9399, Minibatch error= 6.0%\n",
      "2019-05-27 02:15:20,641 Iter 710, Minibatch Loss= 0.1062, Training Accuracy= 0.9644, Minibatch error= 3.6%\n",
      "2019-05-27 02:15:47,176 Iter 712, Minibatch Loss= 0.2188, Training Accuracy= 0.9348, Minibatch error= 6.5%\n",
      "2019-05-27 02:16:13,508 Iter 714, Minibatch Loss= 0.0165, Training Accuracy= 0.9955, Minibatch error= 0.5%\n",
      "2019-05-27 02:16:39,619 Iter 716, Minibatch Loss= 0.0182, Training Accuracy= 0.9967, Minibatch error= 0.3%\n",
      "2019-05-27 02:17:06,034 Iter 718, Minibatch Loss= 0.1057, Training Accuracy= 0.9644, Minibatch error= 3.6%\n",
      "2019-05-27 02:17:32,134 Iter 720, Minibatch Loss= 0.0011, Training Accuracy= 1.0000, Minibatch error= 0.0%\n",
      "2019-05-27 02:17:58,455 Iter 722, Minibatch Loss= 0.1768, Training Accuracy= 0.9399, Minibatch error= 6.0%\n",
      "2019-05-27 02:18:24,693 Iter 724, Minibatch Loss= 0.2185, Training Accuracy= 0.9348, Minibatch error= 6.5%\n",
      "2019-05-27 02:18:50,881 Iter 726, Minibatch Loss= 0.0048, Training Accuracy= 0.9992, Minibatch error= 0.1%\n",
      "2019-05-27 02:19:17,348 Iter 728, Minibatch Loss= 0.1066, Training Accuracy= 0.9644, Minibatch error= 3.6%\n",
      "2019-05-27 02:19:43,500 Iter 730, Minibatch Loss= 0.0579, Training Accuracy= 0.9876, Minibatch error= 1.2%\n",
      "2019-05-27 02:20:09,748 Iter 732, Minibatch Loss= 0.0171, Training Accuracy= 0.9955, Minibatch error= 0.5%\n",
      "2019-05-27 02:20:35,905 Iter 734, Minibatch Loss= 0.0172, Training Accuracy= 0.9967, Minibatch error= 0.3%\n",
      "2019-05-27 02:20:47,547 Epoch 22, Average loss: 0.0691, learning rate: 0.0647\n",
      "2019-05-27 02:21:06,238 Verification error= 0.2%, loss= 0.0100\n",
      "2019-05-27 02:21:21,886 Iter 736, Minibatch Loss= 0.1047, Training Accuracy= 0.9644, Minibatch error= 3.6%\n",
      "2019-05-27 02:21:48,265 Iter 738, Minibatch Loss= 0.1023, Training Accuracy= 0.9701, Minibatch error= 3.0%\n",
      "2019-05-27 02:22:14,527 Iter 740, Minibatch Loss= 0.0165, Training Accuracy= 0.9955, Minibatch error= 0.5%\n",
      "2019-05-27 02:22:40,792 Iter 742, Minibatch Loss= 0.0007, Training Accuracy= 1.0000, Minibatch error= 0.0%\n",
      "2019-05-27 02:23:07,190 Iter 744, Minibatch Loss= 0.0007, Training Accuracy= 1.0000, Minibatch error= 0.0%\n",
      "2019-05-27 02:23:33,460 Iter 746, Minibatch Loss= 0.0048, Training Accuracy= 0.9992, Minibatch error= 0.1%\n",
      "2019-05-27 02:23:59,683 Iter 748, Minibatch Loss= 0.0574, Training Accuracy= 0.9876, Minibatch error= 1.2%\n",
      "2019-05-27 02:24:25,944 Iter 750, Minibatch Loss= 0.0083, Training Accuracy= 0.9992, Minibatch error= 0.1%\n",
      "2019-05-27 02:24:52,041 Iter 752, Minibatch Loss= 0.0215, Training Accuracy= 0.9967, Minibatch error= 0.3%\n",
      "2019-05-27 02:25:18,396 Iter 754, Minibatch Loss= 0.0010, Training Accuracy= 1.0000, Minibatch error= 0.0%\n",
      "2019-05-27 02:25:44,405 Iter 756, Minibatch Loss= 0.0165, Training Accuracy= 0.9955, Minibatch error= 0.5%\n",
      "2019-05-27 02:26:10,585 Iter 758, Minibatch Loss= 0.0055, Training Accuracy= 0.9992, Minibatch error= 0.1%\n",
      "2019-05-27 02:26:37,027 Iter 760, Minibatch Loss= 0.1755, Training Accuracy= 0.9399, Minibatch error= 6.0%\n",
      "2019-05-27 02:27:03,261 Iter 762, Minibatch Loss= 0.0008, Training Accuracy= 1.0000, Minibatch error= 0.0%\n",
      "2019-05-27 02:27:29,700 Iter 764, Minibatch Loss= 0.0005, Training Accuracy= 1.0000, Minibatch error= 0.0%\n",
      "2019-05-27 02:27:56,008 Iter 766, Minibatch Loss= 0.0165, Training Accuracy= 0.9955, Minibatch error= 0.5%\n",
      "2019-05-27 02:28:07,986 Epoch 23, Average loss: 0.0650, learning rate: 0.0615\n",
      "2019-05-27 02:28:26,760 Verification error= 0.2%, loss= 0.0092\n",
      "2019-05-27 02:28:42,407 Iter 768, Minibatch Loss= 0.0005, Training Accuracy= 1.0000, Minibatch error= 0.0%\n",
      "2019-05-27 02:29:08,718 Iter 770, Minibatch Loss= 0.1061, Training Accuracy= 0.9644, Minibatch error= 3.6%\n",
      "2019-05-27 02:29:35,313 Iter 772, Minibatch Loss= 0.2162, Training Accuracy= 0.9348, Minibatch error= 6.5%\n",
      "2019-05-27 02:30:01,329 Iter 774, Minibatch Loss= 0.0082, Training Accuracy= 0.9992, Minibatch error= 0.1%\n",
      "2019-05-27 02:30:27,656 Iter 776, Minibatch Loss= 0.1012, Training Accuracy= 0.9701, Minibatch error= 3.0%\n",
      "2019-05-27 02:30:53,934 Iter 778, Minibatch Loss= 0.2160, Training Accuracy= 0.9348, Minibatch error= 6.5%\n",
      "2019-05-27 02:31:20,159 Iter 780, Minibatch Loss= 0.1037, Training Accuracy= 0.9644, Minibatch error= 3.6%\n",
      "2019-05-27 02:31:46,373 Iter 782, Minibatch Loss= 0.0591, Training Accuracy= 0.9876, Minibatch error= 1.2%\n",
      "2019-05-27 02:32:12,348 Iter 784, Minibatch Loss= 0.0008, Training Accuracy= 1.0000, Minibatch error= 0.0%\n",
      "2019-05-27 02:32:38,381 Iter 786, Minibatch Loss= 0.0005, Training Accuracy= 1.0000, Minibatch error= 0.0%\n",
      "2019-05-27 02:33:04,744 Iter 788, Minibatch Loss= 0.1740, Training Accuracy= 0.9399, Minibatch error= 6.0%\n",
      "2019-05-27 02:33:31,247 Iter 790, Minibatch Loss= 0.0576, Training Accuracy= 0.9876, Minibatch error= 1.2%\n",
      "2019-05-27 02:33:57,507 Iter 792, Minibatch Loss= 0.2150, Training Accuracy= 0.9348, Minibatch error= 6.5%\n",
      "2019-05-27 02:34:24,034 Iter 794, Minibatch Loss= 0.0217, Training Accuracy= 0.9967, Minibatch error= 0.3%\n",
      "2019-05-27 02:34:50,144 Iter 796, Minibatch Loss= 0.0009, Training Accuracy= 1.0000, Minibatch error= 0.0%\n",
      "2019-05-27 02:35:16,304 Iter 798, Minibatch Loss= 0.0049, Training Accuracy= 0.9992, Minibatch error= 0.1%\n",
      "2019-05-27 02:35:27,849 Epoch 24, Average loss: 0.0675, learning rate: 0.0584\n",
      "2019-05-27 02:35:46,580 Verification error= 0.2%, loss= 0.0094\n",
      "2019-05-27 02:36:02,370 Iter 800, Minibatch Loss= 0.0188, Training Accuracy= 0.9967, Minibatch error= 0.3%\n",
      "2019-05-27 02:36:28,539 Iter 802, Minibatch Loss= 0.0167, Training Accuracy= 0.9955, Minibatch error= 0.5%\n",
      "2019-05-27 02:36:54,638 Iter 804, Minibatch Loss= 0.0006, Training Accuracy= 1.0000, Minibatch error= 0.0%\n",
      "2019-05-27 02:37:21,127 Iter 806, Minibatch Loss= 0.2158, Training Accuracy= 0.9348, Minibatch error= 6.5%\n",
      "2019-05-27 02:37:47,353 Iter 808, Minibatch Loss= 0.1028, Training Accuracy= 0.9644, Minibatch error= 3.6%\n",
      "2019-05-27 02:38:13,721 Iter 810, Minibatch Loss= 0.0196, Training Accuracy= 0.9967, Minibatch error= 0.3%\n",
      "2019-05-27 02:38:40,013 Iter 812, Minibatch Loss= 0.0007, Training Accuracy= 1.0000, Minibatch error= 0.0%\n",
      "2019-05-27 02:39:06,439 Iter 814, Minibatch Loss= 0.2148, Training Accuracy= 0.9348, Minibatch error= 6.5%\n",
      "2019-05-27 02:39:32,671 Iter 816, Minibatch Loss= 0.0589, Training Accuracy= 0.9876, Minibatch error= 1.2%\n",
      "2019-05-27 02:39:58,876 Iter 818, Minibatch Loss= 0.0045, Training Accuracy= 0.9992, Minibatch error= 0.1%\n",
      "2019-05-27 02:40:25,239 Iter 820, Minibatch Loss= 0.0164, Training Accuracy= 0.9955, Minibatch error= 0.5%\n",
      "2019-05-27 02:40:51,457 Iter 822, Minibatch Loss= 0.2141, Training Accuracy= 0.9348, Minibatch error= 6.5%\n",
      "2019-05-27 02:41:17,887 Iter 824, Minibatch Loss= 0.1025, Training Accuracy= 0.9644, Minibatch error= 3.6%\n",
      "2019-05-27 02:41:44,110 Iter 826, Minibatch Loss= 0.0007, Training Accuracy= 1.0000, Minibatch error= 0.0%\n",
      "2019-05-27 02:42:10,224 Iter 828, Minibatch Loss= 0.0047, Training Accuracy= 0.9992, Minibatch error= 0.1%\n",
      "2019-05-27 02:42:36,485 Iter 830, Minibatch Loss= 0.0199, Training Accuracy= 0.9967, Minibatch error= 0.3%\n",
      "2019-05-27 02:42:48,075 Epoch 25, Average loss: 0.0696, learning rate: 0.0555\n",
      "2019-05-27 02:43:06,740 Verification error= 0.2%, loss= 0.0094\n",
      "2019-05-27 02:43:22,342 Iter 832, Minibatch Loss= 0.0188, Training Accuracy= 0.9967, Minibatch error= 0.3%\n",
      "2019-05-27 02:43:48,638 Iter 834, Minibatch Loss= 0.1035, Training Accuracy= 0.9644, Minibatch error= 3.6%\n",
      "2019-05-27 02:44:15,144 Iter 836, Minibatch Loss= 0.0046, Training Accuracy= 0.9992, Minibatch error= 0.1%\n"
     ]
    },
    {
     "name": "stderr",
     "output_type": "stream",
     "text": [
      "2019-05-27 02:44:41,575 Iter 838, Minibatch Loss= 0.0996, Training Accuracy= 0.9701, Minibatch error= 3.0%\n",
      "2019-05-27 02:45:08,283 Iter 840, Minibatch Loss= 0.1727, Training Accuracy= 0.9399, Minibatch error= 6.0%\n",
      "2019-05-27 02:45:34,747 Iter 842, Minibatch Loss= 0.0010, Training Accuracy= 1.0000, Minibatch error= 0.0%\n",
      "2019-05-27 02:46:01,029 Iter 844, Minibatch Loss= 0.0997, Training Accuracy= 0.9701, Minibatch error= 3.0%\n",
      "2019-05-27 02:46:27,221 Iter 846, Minibatch Loss= 0.0165, Training Accuracy= 0.9955, Minibatch error= 0.5%\n",
      "2019-05-27 02:46:53,383 Iter 848, Minibatch Loss= 0.1027, Training Accuracy= 0.9644, Minibatch error= 3.6%\n",
      "2019-05-27 02:47:19,730 Iter 850, Minibatch Loss= 0.0210, Training Accuracy= 0.9967, Minibatch error= 0.3%\n",
      "2019-05-27 02:47:45,989 Iter 852, Minibatch Loss= 0.0578, Training Accuracy= 0.9876, Minibatch error= 1.2%\n",
      "2019-05-27 02:48:12,111 Iter 854, Minibatch Loss= 0.0005, Training Accuracy= 1.0000, Minibatch error= 0.0%\n",
      "2019-05-27 02:48:38,551 Iter 856, Minibatch Loss= 0.0561, Training Accuracy= 0.9876, Minibatch error= 1.2%\n",
      "2019-05-27 02:49:05,086 Iter 858, Minibatch Loss= 0.2129, Training Accuracy= 0.9348, Minibatch error= 6.5%\n",
      "2019-05-27 02:49:31,511 Iter 860, Minibatch Loss= 0.0091, Training Accuracy= 0.9992, Minibatch error= 0.1%\n",
      "2019-05-27 02:49:57,751 Iter 862, Minibatch Loss= 0.0047, Training Accuracy= 0.9992, Minibatch error= 0.1%\n",
      "2019-05-27 02:50:09,458 Epoch 26, Average loss: 0.0692, learning rate: 0.0527\n",
      "2019-05-27 02:50:28,144 Verification error= 0.2%, loss= 0.0095\n",
      "2019-05-27 02:50:43,591 Iter 864, Minibatch Loss= 0.0008, Training Accuracy= 1.0000, Minibatch error= 0.0%\n",
      "2019-05-27 02:51:09,696 Iter 866, Minibatch Loss= 0.0164, Training Accuracy= 0.9955, Minibatch error= 0.5%\n",
      "2019-05-27 02:51:35,956 Iter 868, Minibatch Loss= 0.0007, Training Accuracy= 1.0000, Minibatch error= 0.0%\n",
      "2019-05-27 02:52:02,256 Iter 870, Minibatch Loss= 0.0585, Training Accuracy= 0.9876, Minibatch error= 1.2%\n",
      "2019-05-27 02:52:28,592 Iter 872, Minibatch Loss= 0.0044, Training Accuracy= 0.9992, Minibatch error= 0.1%\n",
      "2019-05-27 02:52:55,098 Iter 874, Minibatch Loss= 0.1721, Training Accuracy= 0.9399, Minibatch error= 6.0%\n",
      "2019-05-27 02:53:21,527 Iter 876, Minibatch Loss= 0.0089, Training Accuracy= 0.9992, Minibatch error= 0.1%\n",
      "2019-05-27 02:53:47,556 Iter 878, Minibatch Loss= 0.0164, Training Accuracy= 0.9955, Minibatch error= 0.5%\n",
      "2019-05-27 02:54:13,929 Iter 880, Minibatch Loss= 0.1712, Training Accuracy= 0.9399, Minibatch error= 6.0%\n",
      "2019-05-27 02:54:40,109 Iter 882, Minibatch Loss= 0.0005, Training Accuracy= 1.0000, Minibatch error= 0.0%\n",
      "2019-05-27 02:55:06,462 Iter 884, Minibatch Loss= 0.1024, Training Accuracy= 0.9644, Minibatch error= 3.6%\n",
      "2019-05-27 02:55:32,952 Iter 886, Minibatch Loss= 0.0598, Training Accuracy= 0.9876, Minibatch error= 1.2%\n",
      "2019-05-27 02:55:58,947 Iter 888, Minibatch Loss= 0.0007, Training Accuracy= 1.0000, Minibatch error= 0.0%\n",
      "2019-05-27 02:56:25,299 Iter 890, Minibatch Loss= 0.0052, Training Accuracy= 0.9992, Minibatch error= 0.1%\n",
      "2019-05-27 02:56:51,668 Iter 892, Minibatch Loss= 0.1015, Training Accuracy= 0.9644, Minibatch error= 3.6%\n",
      "2019-05-27 02:57:18,069 Iter 894, Minibatch Loss= 0.0979, Training Accuracy= 0.9701, Minibatch error= 3.0%\n",
      "2019-05-27 02:57:29,599 Epoch 27, Average loss: 0.0678, learning rate: 0.0501\n",
      "2019-05-27 02:57:48,285 Verification error= 0.2%, loss= 0.0090\n",
      "2019-05-27 02:58:03,993 Iter 896, Minibatch Loss= 0.0176, Training Accuracy= 0.9967, Minibatch error= 0.3%\n",
      "2019-05-27 02:58:30,611 Iter 898, Minibatch Loss= 0.0557, Training Accuracy= 0.9876, Minibatch error= 1.2%\n",
      "2019-05-27 02:58:56,715 Iter 900, Minibatch Loss= 0.0069, Training Accuracy= 0.9992, Minibatch error= 0.1%\n",
      "2019-05-27 02:59:22,961 Iter 902, Minibatch Loss= 0.0175, Training Accuracy= 0.9967, Minibatch error= 0.3%\n",
      "2019-05-27 02:59:48,978 Iter 904, Minibatch Loss= 0.0162, Training Accuracy= 0.9955, Minibatch error= 0.5%\n",
      "2019-05-27 03:00:15,373 Iter 906, Minibatch Loss= 0.2115, Training Accuracy= 0.9348, Minibatch error= 6.5%\n",
      "2019-05-27 03:00:41,665 Iter 908, Minibatch Loss= 0.0981, Training Accuracy= 0.9701, Minibatch error= 3.0%\n",
      "2019-05-27 03:01:07,937 Iter 910, Minibatch Loss= 0.0178, Training Accuracy= 0.9967, Minibatch error= 0.3%\n",
      "2019-05-27 03:01:33,997 Iter 912, Minibatch Loss= 0.0006, Training Accuracy= 1.0000, Minibatch error= 0.0%\n",
      "2019-05-27 03:02:00,656 Iter 914, Minibatch Loss= 0.1700, Training Accuracy= 0.9399, Minibatch error= 6.0%\n",
      "2019-05-27 03:02:26,995 Iter 916, Minibatch Loss= 0.0086, Training Accuracy= 0.9992, Minibatch error= 0.1%\n",
      "2019-05-27 03:02:53,049 Iter 918, Minibatch Loss= 0.1020, Training Accuracy= 0.9644, Minibatch error= 3.6%\n",
      "2019-05-27 03:03:19,117 Iter 920, Minibatch Loss= 0.0189, Training Accuracy= 0.9967, Minibatch error= 0.3%\n",
      "2019-05-27 03:03:45,343 Iter 922, Minibatch Loss= 0.0076, Training Accuracy= 0.9992, Minibatch error= 0.1%\n",
      "2019-05-27 03:04:11,794 Iter 924, Minibatch Loss= 0.1704, Training Accuracy= 0.9399, Minibatch error= 6.0%\n",
      "2019-05-27 03:04:38,145 Iter 926, Minibatch Loss= 0.0580, Training Accuracy= 0.9876, Minibatch error= 1.2%\n",
      "2019-05-27 03:04:49,814 Epoch 28, Average loss: 0.0586, learning rate: 0.0476\n",
      "2019-05-27 03:05:08,520 Verification error= 0.2%, loss= 0.0090\n",
      "2019-05-27 03:05:24,493 Iter 928, Minibatch Loss= 0.2112, Training Accuracy= 0.9348, Minibatch error= 6.5%\n",
      "2019-05-27 03:05:50,670 Iter 930, Minibatch Loss= 0.0978, Training Accuracy= 0.9701, Minibatch error= 3.0%\n",
      "2019-05-27 03:06:16,855 Iter 932, Minibatch Loss= 0.0050, Training Accuracy= 0.9992, Minibatch error= 0.1%\n",
      "2019-05-27 03:06:43,217 Iter 934, Minibatch Loss= 0.0162, Training Accuracy= 0.9955, Minibatch error= 0.5%\n",
      "2019-05-27 03:07:09,647 Iter 936, Minibatch Loss= 0.1695, Training Accuracy= 0.9399, Minibatch error= 6.0%\n",
      "2019-05-27 03:07:35,778 Iter 938, Minibatch Loss= 0.0070, Training Accuracy= 0.9992, Minibatch error= 0.1%\n",
      "2019-05-27 03:08:01,950 Iter 940, Minibatch Loss= 0.0168, Training Accuracy= 0.9967, Minibatch error= 0.3%\n",
      "2019-05-27 03:08:28,041 Iter 942, Minibatch Loss= 0.0059, Training Accuracy= 0.9992, Minibatch error= 0.1%\n",
      "2019-05-27 03:08:54,380 Iter 944, Minibatch Loss= 0.0004, Training Accuracy= 1.0000, Minibatch error= 0.0%\n",
      "2019-05-27 03:09:20,723 Iter 946, Minibatch Loss= 0.0975, Training Accuracy= 0.9701, Minibatch error= 3.0%\n",
      "2019-05-27 03:09:46,835 Iter 948, Minibatch Loss= 0.1041, Training Accuracy= 0.9644, Minibatch error= 3.6%\n",
      "2019-05-27 03:10:13,056 Iter 950, Minibatch Loss= 0.0008, Training Accuracy= 1.0000, Minibatch error= 0.0%\n",
      "2019-05-27 03:10:39,361 Iter 952, Minibatch Loss= 0.0590, Training Accuracy= 0.9876, Minibatch error= 1.2%\n",
      "2019-05-27 03:11:05,386 Iter 954, Minibatch Loss= 0.0006, Training Accuracy= 1.0000, Minibatch error= 0.0%\n",
      "2019-05-27 03:11:31,595 Iter 956, Minibatch Loss= 0.0997, Training Accuracy= 0.9644, Minibatch error= 3.6%\n",
      "2019-05-27 03:11:57,815 Iter 958, Minibatch Loss= 0.0194, Training Accuracy= 0.9967, Minibatch error= 0.3%\n",
      "2019-05-27 03:12:09,301 Epoch 29, Average loss: 0.0689, learning rate: 0.0452\n",
      "2019-05-27 03:12:27,907 Verification error= 0.2%, loss= 0.0089\n",
      "2019-05-27 03:12:43,534 Iter 960, Minibatch Loss= 0.0045, Training Accuracy= 0.9992, Minibatch error= 0.1%\n",
      "2019-05-27 03:13:09,911 Iter 962, Minibatch Loss= 0.0167, Training Accuracy= 0.9955, Minibatch error= 0.5%\n",
      "2019-05-27 03:13:36,115 Iter 964, Minibatch Loss= 0.0577, Training Accuracy= 0.9876, Minibatch error= 1.2%\n",
      "2019-05-27 03:14:01,990 Iter 966, Minibatch Loss= 0.0006, Training Accuracy= 1.0000, Minibatch error= 0.0%\n",
      "2019-05-27 03:14:28,193 Iter 968, Minibatch Loss= 0.0173, Training Accuracy= 0.9967, Minibatch error= 0.3%\n",
      "2019-05-27 03:14:54,611 Iter 970, Minibatch Loss= 0.0966, Training Accuracy= 0.9701, Minibatch error= 3.0%\n",
      "2019-05-27 03:15:21,096 Iter 972, Minibatch Loss= 0.2098, Training Accuracy= 0.9348, Minibatch error= 6.5%\n",
      "2019-05-27 03:15:47,573 Iter 974, Minibatch Loss= 0.0995, Training Accuracy= 0.9644, Minibatch error= 3.6%\n",
      "2019-05-27 03:16:13,889 Iter 976, Minibatch Loss= 0.2091, Training Accuracy= 0.9348, Minibatch error= 6.5%\n",
      "2019-05-27 03:16:39,895 Iter 978, Minibatch Loss= 0.0161, Training Accuracy= 0.9955, Minibatch error= 0.5%\n",
      "2019-05-27 03:17:06,155 Iter 980, Minibatch Loss= 0.1687, Training Accuracy= 0.9399, Minibatch error= 6.0%\n"
     ]
    },
    {
     "name": "stderr",
     "output_type": "stream",
     "text": [
      "2019-05-27 03:17:32,337 Iter 982, Minibatch Loss= 0.1000, Training Accuracy= 0.9644, Minibatch error= 3.6%\n",
      "2019-05-27 03:17:58,862 Iter 984, Minibatch Loss= 0.0961, Training Accuracy= 0.9701, Minibatch error= 3.0%\n",
      "2019-05-27 03:18:25,353 Iter 986, Minibatch Loss= 0.1007, Training Accuracy= 0.9644, Minibatch error= 3.6%\n",
      "2019-05-27 03:18:51,501 Iter 988, Minibatch Loss= 0.0082, Training Accuracy= 0.9992, Minibatch error= 0.1%\n",
      "2019-05-27 03:19:17,903 Iter 990, Minibatch Loss= 0.0958, Training Accuracy= 0.9701, Minibatch error= 3.0%\n",
      "2019-05-27 03:19:29,485 Epoch 30, Average loss: 0.0743, learning rate: 0.0429\n",
      "2019-05-27 03:19:48,152 Verification error= 0.2%, loss= 0.0095\n",
      "2019-05-27 03:20:04,055 Iter 992, Minibatch Loss= 0.0053, Training Accuracy= 0.9992, Minibatch error= 0.1%\n",
      "2019-05-27 03:20:30,211 Iter 994, Minibatch Loss= 0.0008, Training Accuracy= 1.0000, Minibatch error= 0.0%\n",
      "2019-05-27 03:20:56,400 Iter 996, Minibatch Loss= 0.0163, Training Accuracy= 0.9955, Minibatch error= 0.5%\n",
      "2019-05-27 03:21:22,835 Iter 998, Minibatch Loss= 0.0967, Training Accuracy= 0.9701, Minibatch error= 3.0%\n",
      "2019-05-27 03:21:49,273 Iter 1000, Minibatch Loss= 0.0178, Training Accuracy= 0.9967, Minibatch error= 0.3%\n",
      "2019-05-27 03:22:15,390 Iter 1002, Minibatch Loss= 0.0004, Training Accuracy= 1.0000, Minibatch error= 0.0%\n",
      "2019-05-27 03:22:41,571 Iter 1004, Minibatch Loss= 0.0007, Training Accuracy= 1.0000, Minibatch error= 0.0%\n",
      "2019-05-27 03:23:07,786 Iter 1006, Minibatch Loss= 0.0994, Training Accuracy= 0.9644, Minibatch error= 3.6%\n",
      "2019-05-27 03:23:33,836 Iter 1008, Minibatch Loss= 0.0007, Training Accuracy= 1.0000, Minibatch error= 0.0%\n",
      "2019-05-27 03:23:59,909 Iter 1010, Minibatch Loss= 0.0045, Training Accuracy= 0.9992, Minibatch error= 0.1%\n",
      "2019-05-27 03:24:26,282 Iter 1012, Minibatch Loss= 0.0064, Training Accuracy= 0.9992, Minibatch error= 0.1%\n",
      "2019-05-27 03:24:52,688 Iter 1014, Minibatch Loss= 0.2093, Training Accuracy= 0.9348, Minibatch error= 6.5%\n",
      "2019-05-27 03:25:18,859 Iter 1016, Minibatch Loss= 0.0594, Training Accuracy= 0.9876, Minibatch error= 1.2%\n",
      "2019-05-27 03:25:45,272 Iter 1018, Minibatch Loss= 0.1680, Training Accuracy= 0.9399, Minibatch error= 6.0%\n",
      "2019-05-27 03:26:11,252 Iter 1020, Minibatch Loss= 0.0007, Training Accuracy= 1.0000, Minibatch error= 0.0%\n",
      "2019-05-27 03:26:37,451 Iter 1022, Minibatch Loss= 0.0047, Training Accuracy= 0.9992, Minibatch error= 0.1%\n",
      "2019-05-27 03:26:49,046 Epoch 31, Average loss: 0.0519, learning rate: 0.0408\n",
      "2019-05-27 03:27:07,677 Verification error= 0.2%, loss= 0.0088\n",
      "2019-05-27 03:27:23,613 Iter 1024, Minibatch Loss= 0.1679, Training Accuracy= 0.9399, Minibatch error= 6.0%\n",
      "2019-05-27 03:27:50,029 Iter 1026, Minibatch Loss= 0.0089, Training Accuracy= 0.9992, Minibatch error= 0.1%\n",
      "2019-05-27 03:28:16,472 Iter 1028, Minibatch Loss= 0.0160, Training Accuracy= 0.9955, Minibatch error= 0.5%\n",
      "2019-05-27 03:28:42,669 Iter 1030, Minibatch Loss= 0.0991, Training Accuracy= 0.9644, Minibatch error= 3.6%\n",
      "2019-05-27 03:29:09,025 Iter 1032, Minibatch Loss= 0.1682, Training Accuracy= 0.9399, Minibatch error= 6.0%\n",
      "2019-05-27 03:29:35,231 Iter 1034, Minibatch Loss= 0.0006, Training Accuracy= 1.0000, Minibatch error= 0.0%\n",
      "2019-05-27 03:30:01,767 Iter 1036, Minibatch Loss= 0.0950, Training Accuracy= 0.9701, Minibatch error= 3.0%\n",
      "2019-05-27 03:30:28,439 Iter 1038, Minibatch Loss= 0.2086, Training Accuracy= 0.9348, Minibatch error= 6.5%\n",
      "2019-05-27 03:30:54,594 Iter 1040, Minibatch Loss= 0.0082, Training Accuracy= 0.9992, Minibatch error= 0.1%\n",
      "2019-05-27 03:31:20,927 Iter 1042, Minibatch Loss= 0.0580, Training Accuracy= 0.9876, Minibatch error= 1.2%\n",
      "2019-05-27 03:31:46,901 Iter 1044, Minibatch Loss= 0.0174, Training Accuracy= 0.9967, Minibatch error= 0.3%\n",
      "2019-05-27 03:32:13,222 Iter 1046, Minibatch Loss= 0.1005, Training Accuracy= 0.9644, Minibatch error= 3.6%\n",
      "2019-05-27 03:32:39,606 Iter 1048, Minibatch Loss= 0.2075, Training Accuracy= 0.9348, Minibatch error= 6.5%\n",
      "2019-05-27 03:33:05,834 Iter 1050, Minibatch Loss= 0.0160, Training Accuracy= 0.9955, Minibatch error= 0.5%\n",
      "2019-05-27 03:33:32,251 Iter 1052, Minibatch Loss= 0.0995, Training Accuracy= 0.9644, Minibatch error= 3.6%\n",
      "2019-05-27 03:33:58,544 Iter 1054, Minibatch Loss= 0.0049, Training Accuracy= 0.9992, Minibatch error= 0.1%\n",
      "2019-05-27 03:34:10,085 Epoch 32, Average loss: 0.0720, learning rate: 0.0387\n",
      "2019-05-27 03:34:28,781 Verification error= 0.2%, loss= 0.0094\n",
      "2019-05-27 03:34:44,452 Iter 1056, Minibatch Loss= 0.0007, Training Accuracy= 1.0000, Minibatch error= 0.0%\n",
      "2019-05-27 03:35:10,652 Iter 1058, Minibatch Loss= 0.0564, Training Accuracy= 0.9876, Minibatch error= 1.2%\n",
      "2019-05-27 03:35:36,885 Iter 1060, Minibatch Loss= 0.0196, Training Accuracy= 0.9967, Minibatch error= 0.3%\n",
      "2019-05-27 03:36:03,120 Iter 1062, Minibatch Loss= 0.0162, Training Accuracy= 0.9955, Minibatch error= 0.5%\n",
      "2019-05-27 03:36:29,096 Iter 1064, Minibatch Loss= 0.0047, Training Accuracy= 0.9992, Minibatch error= 0.1%\n",
      "2019-05-27 03:36:55,282 Iter 1066, Minibatch Loss= 0.0078, Training Accuracy= 0.9992, Minibatch error= 0.1%\n",
      "2019-05-27 03:37:21,711 Iter 1068, Minibatch Loss= 0.0946, Training Accuracy= 0.9701, Minibatch error= 3.0%\n",
      "2019-05-27 03:37:47,985 Iter 1070, Minibatch Loss= 0.2078, Training Accuracy= 0.9348, Minibatch error= 6.5%\n",
      "2019-05-27 03:38:14,424 Iter 1072, Minibatch Loss= 0.0575, Training Accuracy= 0.9876, Minibatch error= 1.2%\n",
      "2019-05-27 03:38:40,669 Iter 1074, Minibatch Loss= 0.0572, Training Accuracy= 0.9876, Minibatch error= 1.2%\n",
      "2019-05-27 03:39:06,823 Iter 1076, Minibatch Loss= 0.0004, Training Accuracy= 1.0000, Minibatch error= 0.0%\n",
      "2019-05-27 03:39:32,816 Iter 1078, Minibatch Loss= 0.0161, Training Accuracy= 0.9955, Minibatch error= 0.5%\n",
      "2019-05-27 03:39:59,085 Iter 1080, Minibatch Loss= 0.0982, Training Accuracy= 0.9644, Minibatch error= 3.6%\n",
      "2019-05-27 03:40:25,529 Iter 1082, Minibatch Loss= 0.2065, Training Accuracy= 0.9348, Minibatch error= 6.5%\n",
      "2019-05-27 03:40:51,638 Iter 1084, Minibatch Loss= 0.0180, Training Accuracy= 0.9967, Minibatch error= 0.3%\n",
      "2019-05-27 03:41:17,808 Iter 1086, Minibatch Loss= 0.0161, Training Accuracy= 0.9955, Minibatch error= 0.5%\n",
      "2019-05-27 03:41:29,466 Epoch 33, Average loss: 0.0647, learning rate: 0.0368\n",
      "2019-05-27 03:41:48,193 Verification error= 0.2%, loss= 0.0090\n",
      "2019-05-27 03:42:03,796 Iter 1088, Minibatch Loss= 0.0004, Training Accuracy= 1.0000, Minibatch error= 0.0%\n",
      "2019-05-27 03:42:30,112 Iter 1090, Minibatch Loss= 0.0940, Training Accuracy= 0.9701, Minibatch error= 3.0%\n",
      "2019-05-27 03:42:56,306 Iter 1092, Minibatch Loss= 0.0974, Training Accuracy= 0.9644, Minibatch error= 3.6%\n",
      "2019-05-27 03:43:22,405 Iter 1094, Minibatch Loss= 0.0007, Training Accuracy= 1.0000, Minibatch error= 0.0%\n",
      "2019-05-27 03:43:48,831 Iter 1096, Minibatch Loss= 0.0940, Training Accuracy= 0.9701, Minibatch error= 3.0%\n",
      "2019-05-27 03:44:15,204 Iter 1098, Minibatch Loss= 0.1005, Training Accuracy= 0.9644, Minibatch error= 3.6%\n",
      "2019-05-27 03:44:41,121 Iter 1100, Minibatch Loss= 0.0006, Training Accuracy= 1.0000, Minibatch error= 0.0%\n",
      "2019-05-27 03:45:07,306 Iter 1102, Minibatch Loss= 0.0045, Training Accuracy= 0.9992, Minibatch error= 0.1%\n",
      "2019-05-27 03:45:33,300 Iter 1104, Minibatch Loss= 0.0161, Training Accuracy= 0.9955, Minibatch error= 0.5%\n",
      "2019-05-27 03:45:59,665 Iter 1106, Minibatch Loss= 0.2061, Training Accuracy= 0.9348, Minibatch error= 6.5%\n",
      "2019-05-27 03:46:25,951 Iter 1108, Minibatch Loss= 0.0204, Training Accuracy= 0.9967, Minibatch error= 0.3%\n",
      "2019-05-27 03:46:52,050 Iter 1110, Minibatch Loss= 0.0076, Training Accuracy= 0.9992, Minibatch error= 0.1%\n",
      "2019-05-27 03:47:18,268 Iter 1112, Minibatch Loss= 0.0939, Training Accuracy= 0.9701, Minibatch error= 3.0%\n",
      "2019-05-27 03:47:44,362 Iter 1114, Minibatch Loss= 0.0044, Training Accuracy= 0.9992, Minibatch error= 0.1%\n",
      "2019-05-27 03:48:10,422 Iter 1116, Minibatch Loss= 0.0006, Training Accuracy= 1.0000, Minibatch error= 0.0%\n",
      "2019-05-27 03:48:37,078 Iter 1118, Minibatch Loss= 0.1658, Training Accuracy= 0.9399, Minibatch error= 6.0%\n",
      "2019-05-27 03:48:48,666 Epoch 34, Average loss: 0.0658, learning rate: 0.0350\n",
      "2019-05-27 03:49:07,332 Verification error= 0.2%, loss= 0.0090\n",
      "2019-05-27 03:49:23,085 Iter 1120, Minibatch Loss= 0.0072, Training Accuracy= 0.9992, Minibatch error= 0.1%\n"
     ]
    },
    {
     "name": "stderr",
     "output_type": "stream",
     "text": [
      "2019-05-27 03:49:49,523 Iter 1122, Minibatch Loss= 0.0563, Training Accuracy= 0.9876, Minibatch error= 1.2%\n",
      "2019-05-27 03:50:15,742 Iter 1124, Minibatch Loss= 0.0994, Training Accuracy= 0.9644, Minibatch error= 3.6%\n",
      "2019-05-27 03:50:42,251 Iter 1126, Minibatch Loss= 0.0936, Training Accuracy= 0.9701, Minibatch error= 3.0%\n",
      "2019-05-27 03:51:08,664 Iter 1128, Minibatch Loss= 0.0007, Training Accuracy= 1.0000, Minibatch error= 0.0%\n",
      "2019-05-27 03:51:34,715 Iter 1130, Minibatch Loss= 0.0007, Training Accuracy= 1.0000, Minibatch error= 0.0%\n",
      "2019-05-27 03:52:00,674 Iter 1132, Minibatch Loss= 0.0048, Training Accuracy= 0.9992, Minibatch error= 0.1%\n",
      "2019-05-27 03:52:26,941 Iter 1134, Minibatch Loss= 0.0933, Training Accuracy= 0.9701, Minibatch error= 3.0%\n",
      "2019-05-27 03:52:53,260 Iter 1136, Minibatch Loss= 0.0004, Training Accuracy= 1.0000, Minibatch error= 0.0%\n",
      "2019-05-27 03:53:19,430 Iter 1138, Minibatch Loss= 0.0083, Training Accuracy= 0.9992, Minibatch error= 0.1%\n",
      "2019-05-27 03:53:45,713 Iter 1140, Minibatch Loss= 0.0199, Training Accuracy= 0.9967, Minibatch error= 0.3%\n",
      "2019-05-27 03:54:11,786 Iter 1142, Minibatch Loss= 0.2049, Training Accuracy= 0.9348, Minibatch error= 6.5%\n",
      "2019-05-27 03:54:38,050 Iter 1144, Minibatch Loss= 0.0588, Training Accuracy= 0.9876, Minibatch error= 1.2%\n",
      "2019-05-27 03:55:04,104 Iter 1146, Minibatch Loss= 0.0048, Training Accuracy= 0.9992, Minibatch error= 0.1%\n",
      "2019-05-27 03:55:30,431 Iter 1148, Minibatch Loss= 0.0986, Training Accuracy= 0.9644, Minibatch error= 3.6%\n",
      "2019-05-27 03:55:56,553 Iter 1150, Minibatch Loss= 0.0161, Training Accuracy= 0.9955, Minibatch error= 0.5%\n",
      "2019-05-27 03:56:07,993 Epoch 35, Average loss: 0.0602, learning rate: 0.0332\n",
      "2019-05-27 03:56:26,687 Verification error= 0.2%, loss= 0.0090\n",
      "2019-05-27 03:56:42,451 Iter 1152, Minibatch Loss= 0.0180, Training Accuracy= 0.9967, Minibatch error= 0.3%\n",
      "2019-05-27 03:57:08,540 Iter 1154, Minibatch Loss= 0.0046, Training Accuracy= 0.9992, Minibatch error= 0.1%\n",
      "2019-05-27 03:57:34,777 Iter 1156, Minibatch Loss= 0.0970, Training Accuracy= 0.9644, Minibatch error= 3.6%\n",
      "2019-05-27 03:58:00,849 Iter 1158, Minibatch Loss= 0.0004, Training Accuracy= 1.0000, Minibatch error= 0.0%\n",
      "2019-05-27 03:58:27,242 Iter 1160, Minibatch Loss= 0.0066, Training Accuracy= 0.9992, Minibatch error= 0.1%\n",
      "2019-05-27 03:58:53,931 Iter 1162, Minibatch Loss= 0.1648, Training Accuracy= 0.9399, Minibatch error= 6.0%\n",
      "2019-05-27 03:59:19,908 Iter 1164, Minibatch Loss= 0.0006, Training Accuracy= 1.0000, Minibatch error= 0.0%\n",
      "2019-05-27 03:59:46,152 Iter 1166, Minibatch Loss= 0.0180, Training Accuracy= 0.9967, Minibatch error= 0.3%\n",
      "2019-05-27 04:00:12,554 Iter 1168, Minibatch Loss= 0.2058, Training Accuracy= 0.9348, Minibatch error= 6.5%\n",
      "2019-05-27 04:00:38,867 Iter 1170, Minibatch Loss= 0.0971, Training Accuracy= 0.9644, Minibatch error= 3.6%\n",
      "2019-05-27 04:01:05,279 Iter 1172, Minibatch Loss= 0.0075, Training Accuracy= 0.9992, Minibatch error= 0.1%\n",
      "2019-05-27 04:01:31,620 Iter 1174, Minibatch Loss= 0.2043, Training Accuracy= 0.9348, Minibatch error= 6.5%\n",
      "2019-05-27 04:01:57,634 Iter 1176, Minibatch Loss= 0.0005, Training Accuracy= 1.0000, Minibatch error= 0.0%\n",
      "2019-05-27 04:02:23,961 Iter 1178, Minibatch Loss= 0.0591, Training Accuracy= 0.9876, Minibatch error= 1.2%\n",
      "2019-05-27 04:02:49,983 Iter 1180, Minibatch Loss= 0.0161, Training Accuracy= 0.9955, Minibatch error= 0.5%\n",
      "2019-05-27 04:03:16,381 Iter 1182, Minibatch Loss= 0.0926, Training Accuracy= 0.9701, Minibatch error= 3.0%\n",
      "2019-05-27 04:03:27,934 Epoch 36, Average loss: 0.0659, learning rate: 0.0316\n",
      "2019-05-27 04:03:46,591 Verification error= 0.2%, loss= 0.0086\n",
      "2019-05-27 04:04:02,750 Iter 1184, Minibatch Loss= 0.1662, Training Accuracy= 0.9399, Minibatch error= 6.0%\n",
      "2019-05-27 04:04:29,262 Iter 1186, Minibatch Loss= 0.0926, Training Accuracy= 0.9701, Minibatch error= 3.0%\n",
      "2019-05-27 04:04:55,381 Iter 1188, Minibatch Loss= 0.0005, Training Accuracy= 1.0000, Minibatch error= 0.0%\n",
      "2019-05-27 04:05:21,763 Iter 1190, Minibatch Loss= 0.2044, Training Accuracy= 0.9348, Minibatch error= 6.5%\n",
      "2019-05-27 04:05:47,838 Iter 1192, Minibatch Loss= 0.0083, Training Accuracy= 0.9992, Minibatch error= 0.1%\n",
      "2019-05-27 04:06:13,894 Iter 1194, Minibatch Loss= 0.0047, Training Accuracy= 0.9992, Minibatch error= 0.1%\n",
      "2019-05-27 04:06:40,104 Iter 1196, Minibatch Loss= 0.0046, Training Accuracy= 0.9992, Minibatch error= 0.1%\n",
      "2019-05-27 04:07:06,219 Iter 1198, Minibatch Loss= 0.0571, Training Accuracy= 0.9876, Minibatch error= 1.2%\n",
      "2019-05-27 04:07:32,683 Iter 1200, Minibatch Loss= 0.2056, Training Accuracy= 0.9348, Minibatch error= 6.5%\n",
      "2019-05-27 04:07:58,754 Iter 1202, Minibatch Loss= 0.0958, Training Accuracy= 0.9644, Minibatch error= 3.6%\n",
      "2019-05-27 04:08:25,105 Iter 1204, Minibatch Loss= 0.0161, Training Accuracy= 0.9955, Minibatch error= 0.5%\n",
      "2019-05-27 04:08:51,224 Iter 1206, Minibatch Loss= 0.0178, Training Accuracy= 0.9967, Minibatch error= 0.3%\n",
      "2019-05-27 04:09:17,311 Iter 1208, Minibatch Loss= 0.0161, Training Accuracy= 0.9955, Minibatch error= 0.5%\n",
      "2019-05-27 04:09:43,662 Iter 1210, Minibatch Loss= 0.1652, Training Accuracy= 0.9399, Minibatch error= 6.0%\n",
      "2019-05-27 04:10:09,973 Iter 1212, Minibatch Loss= 0.2040, Training Accuracy= 0.9348, Minibatch error= 6.5%\n",
      "2019-05-27 04:10:35,966 Iter 1214, Minibatch Loss= 0.0004, Training Accuracy= 1.0000, Minibatch error= 0.0%\n",
      "2019-05-27 04:10:47,458 Epoch 37, Average loss: 0.0659, learning rate: 0.0300\n",
      "2019-05-27 04:11:06,101 Verification error= 0.2%, loss= 0.0090\n",
      "2019-05-27 04:11:22,062 Iter 1216, Minibatch Loss= 0.0048, Training Accuracy= 0.9992, Minibatch error= 0.1%\n",
      "2019-05-27 04:11:48,416 Iter 1218, Minibatch Loss= 0.1645, Training Accuracy= 0.9399, Minibatch error= 6.0%\n",
      "2019-05-27 04:12:14,593 Iter 1220, Minibatch Loss= 0.0004, Training Accuracy= 1.0000, Minibatch error= 0.0%\n",
      "2019-05-27 04:12:40,697 Iter 1222, Minibatch Loss= 0.0964, Training Accuracy= 0.9644, Minibatch error= 3.6%\n",
      "2019-05-27 04:13:06,954 Iter 1224, Minibatch Loss= 0.0571, Training Accuracy= 0.9876, Minibatch error= 1.2%\n",
      "2019-05-27 04:13:33,347 Iter 1226, Minibatch Loss= 0.0932, Training Accuracy= 0.9701, Minibatch error= 3.0%\n",
      "2019-05-27 04:13:59,705 Iter 1228, Minibatch Loss= 0.0920, Training Accuracy= 0.9701, Minibatch error= 3.0%\n",
      "2019-05-27 04:14:25,957 Iter 1230, Minibatch Loss= 0.0067, Training Accuracy= 0.9992, Minibatch error= 0.1%\n",
      "2019-05-27 04:14:52,195 Iter 1232, Minibatch Loss= 0.0005, Training Accuracy= 1.0000, Minibatch error= 0.0%\n",
      "2019-05-27 04:15:18,427 Iter 1234, Minibatch Loss= 0.0965, Training Accuracy= 0.9644, Minibatch error= 3.6%\n",
      "2019-05-27 04:15:44,929 Iter 1236, Minibatch Loss= 0.2040, Training Accuracy= 0.9348, Minibatch error= 6.5%\n",
      "2019-05-27 04:16:11,098 Iter 1238, Minibatch Loss= 0.0193, Training Accuracy= 0.9967, Minibatch error= 0.3%\n",
      "2019-05-27 04:16:37,338 Iter 1240, Minibatch Loss= 0.0004, Training Accuracy= 1.0000, Minibatch error= 0.0%\n",
      "2019-05-27 04:17:03,558 Iter 1242, Minibatch Loss= 0.0589, Training Accuracy= 0.9876, Minibatch error= 1.2%\n",
      "2019-05-27 04:17:29,502 Iter 1244, Minibatch Loss= 0.0006, Training Accuracy= 1.0000, Minibatch error= 0.0%\n",
      "2019-05-27 04:17:55,553 Iter 1246, Minibatch Loss= 0.0162, Training Accuracy= 0.9955, Minibatch error= 0.5%\n",
      "2019-05-27 04:18:07,173 Epoch 38, Average loss: 0.0624, learning rate: 0.0285\n",
      "2019-05-27 04:18:25,830 Verification error= 0.2%, loss= 0.0089\n",
      "2019-05-27 04:18:41,651 Iter 1248, Minibatch Loss= 0.0048, Training Accuracy= 0.9992, Minibatch error= 0.1%\n",
      "2019-05-27 04:19:07,833 Iter 1250, Minibatch Loss= 0.0068, Training Accuracy= 0.9992, Minibatch error= 0.1%\n",
      "2019-05-27 04:19:34,058 Iter 1252, Minibatch Loss= 0.0048, Training Accuracy= 0.9992, Minibatch error= 0.1%\n",
      "2019-05-27 04:20:00,144 Iter 1254, Minibatch Loss= 0.0003, Training Accuracy= 1.0000, Minibatch error= 0.0%\n",
      "2019-05-27 04:20:26,398 Iter 1256, Minibatch Loss= 0.0005, Training Accuracy= 1.0000, Minibatch error= 0.0%\n",
      "2019-05-27 04:20:52,596 Iter 1258, Minibatch Loss= 0.0165, Training Accuracy= 0.9955, Minibatch error= 0.5%\n",
      "2019-05-27 04:21:18,753 Iter 1260, Minibatch Loss= 0.1639, Training Accuracy= 0.9399, Minibatch error= 6.0%\n",
      "2019-05-27 04:21:45,095 Iter 1262, Minibatch Loss= 0.0923, Training Accuracy= 0.9701, Minibatch error= 3.0%\n"
     ]
    },
    {
     "name": "stderr",
     "output_type": "stream",
     "text": [
      "2019-05-27 04:22:11,112 Iter 1264, Minibatch Loss= 0.0006, Training Accuracy= 1.0000, Minibatch error= 0.0%\n",
      "2019-05-27 04:22:37,620 Iter 1266, Minibatch Loss= 0.0569, Training Accuracy= 0.9876, Minibatch error= 1.2%\n",
      "2019-05-27 04:23:03,687 Iter 1268, Minibatch Loss= 0.0003, Training Accuracy= 1.0000, Minibatch error= 0.0%\n",
      "2019-05-27 04:23:30,426 Iter 1270, Minibatch Loss= 0.2044, Training Accuracy= 0.9348, Minibatch error= 6.5%\n",
      "2019-05-27 04:23:56,371 Iter 1272, Minibatch Loss= 0.0004, Training Accuracy= 1.0000, Minibatch error= 0.0%\n",
      "2019-05-27 04:24:23,038 Iter 1274, Minibatch Loss= 0.1635, Training Accuracy= 0.9399, Minibatch error= 6.0%\n",
      "2019-05-27 04:24:48,905 Iter 1276, Minibatch Loss= 0.0070, Training Accuracy= 0.9992, Minibatch error= 0.1%\n",
      "2019-05-27 04:25:15,347 Iter 1278, Minibatch Loss= 0.2027, Training Accuracy= 0.9348, Minibatch error= 6.5%\n",
      "2019-05-27 04:25:26,989 Epoch 39, Average loss: 0.0662, learning rate: 0.0271\n",
      "2019-05-27 04:25:45,699 Verification error= 0.2%, loss= 0.0092\n",
      "2019-05-27 04:26:01,669 Iter 1280, Minibatch Loss= 0.0580, Training Accuracy= 0.9876, Minibatch error= 1.2%\n",
      "2019-05-27 04:26:27,781 Iter 1282, Minibatch Loss= 0.0006, Training Accuracy= 1.0000, Minibatch error= 0.0%\n",
      "2019-05-27 04:26:53,993 Iter 1284, Minibatch Loss= 0.0922, Training Accuracy= 0.9701, Minibatch error= 3.0%\n",
      "2019-05-27 04:27:20,487 Iter 1286, Minibatch Loss= 0.1639, Training Accuracy= 0.9399, Minibatch error= 6.0%\n",
      "2019-05-27 04:27:46,949 Iter 1288, Minibatch Loss= 0.0004, Training Accuracy= 1.0000, Minibatch error= 0.0%\n",
      "2019-05-27 04:28:12,973 Iter 1290, Minibatch Loss= 0.0081, Training Accuracy= 0.9992, Minibatch error= 0.1%\n",
      "2019-05-27 04:28:39,541 Iter 1292, Minibatch Loss= 0.0581, Training Accuracy= 0.9876, Minibatch error= 1.2%\n",
      "2019-05-27 04:29:05,393 Iter 1294, Minibatch Loss= 0.0162, Training Accuracy= 0.9955, Minibatch error= 0.5%\n",
      "2019-05-27 04:29:31,524 Iter 1296, Minibatch Loss= 0.0554, Training Accuracy= 0.9876, Minibatch error= 1.2%\n",
      "2019-05-27 04:29:57,539 Iter 1298, Minibatch Loss= 0.0948, Training Accuracy= 0.9644, Minibatch error= 3.6%\n",
      "2019-05-27 04:30:23,611 Iter 1300, Minibatch Loss= 0.0004, Training Accuracy= 1.0000, Minibatch error= 0.0%\n",
      "2019-05-27 04:30:49,831 Iter 1302, Minibatch Loss= 0.0074, Training Accuracy= 0.9992, Minibatch error= 0.1%\n",
      "2019-05-27 04:31:16,050 Iter 1304, Minibatch Loss= 0.0048, Training Accuracy= 0.9992, Minibatch error= 0.1%\n",
      "2019-05-27 04:31:41,955 Iter 1306, Minibatch Loss= 0.0004, Training Accuracy= 1.0000, Minibatch error= 0.0%\n",
      "2019-05-27 04:32:08,176 Iter 1308, Minibatch Loss= 0.0006, Training Accuracy= 1.0000, Minibatch error= 0.0%\n",
      "2019-05-27 04:32:34,474 Iter 1310, Minibatch Loss= 0.0161, Training Accuracy= 0.9955, Minibatch error= 0.5%\n",
      "2019-05-27 04:32:46,074 Epoch 40, Average loss: 0.0525, learning rate: 0.0257\n",
      "2019-05-27 04:33:04,728 Verification error= 0.2%, loss= 0.0087\n",
      "2019-05-27 04:33:20,588 Iter 1312, Minibatch Loss= 0.0066, Training Accuracy= 0.9992, Minibatch error= 0.1%\n",
      "2019-05-27 04:33:46,859 Iter 1314, Minibatch Loss= 0.2050, Training Accuracy= 0.9348, Minibatch error= 6.5%\n",
      "2019-05-27 04:34:13,132 Iter 1316, Minibatch Loss= 0.0076, Training Accuracy= 0.9992, Minibatch error= 0.1%\n",
      "2019-05-27 04:34:39,418 Iter 1318, Minibatch Loss= 0.0049, Training Accuracy= 0.9992, Minibatch error= 0.1%\n",
      "2019-05-27 04:35:05,608 Iter 1320, Minibatch Loss= 0.0185, Training Accuracy= 0.9967, Minibatch error= 0.3%\n",
      "2019-05-27 04:35:31,980 Iter 1322, Minibatch Loss= 0.2038, Training Accuracy= 0.9348, Minibatch error= 6.5%\n",
      "2019-05-27 04:35:57,865 Iter 1324, Minibatch Loss= 0.0006, Training Accuracy= 1.0000, Minibatch error= 0.0%\n",
      "2019-05-27 04:36:24,288 Iter 1326, Minibatch Loss= 0.0925, Training Accuracy= 0.9701, Minibatch error= 3.0%\n",
      "2019-05-27 04:36:50,604 Iter 1328, Minibatch Loss= 0.0583, Training Accuracy= 0.9876, Minibatch error= 1.2%\n",
      "2019-05-27 04:37:16,852 Iter 1330, Minibatch Loss= 0.0918, Training Accuracy= 0.9701, Minibatch error= 3.0%\n",
      "2019-05-27 04:37:42,742 Iter 1332, Minibatch Loss= 0.0003, Training Accuracy= 1.0000, Minibatch error= 0.0%\n",
      "2019-05-27 04:38:08,969 Iter 1334, Minibatch Loss= 0.0005, Training Accuracy= 1.0000, Minibatch error= 0.0%\n",
      "2019-05-27 04:38:35,605 Iter 1336, Minibatch Loss= 0.1638, Training Accuracy= 0.9399, Minibatch error= 6.0%\n",
      "2019-05-27 04:39:02,120 Iter 1338, Minibatch Loss= 0.2023, Training Accuracy= 0.9348, Minibatch error= 6.5%\n",
      "2019-05-27 04:39:28,134 Iter 1340, Minibatch Loss= 0.0159, Training Accuracy= 0.9955, Minibatch error= 0.5%\n",
      "2019-05-27 04:39:54,319 Iter 1342, Minibatch Loss= 0.0944, Training Accuracy= 0.9644, Minibatch error= 3.6%\n",
      "2019-05-27 04:40:05,933 Epoch 41, Average loss: 0.0698, learning rate: 0.0244\n",
      "2019-05-27 04:40:24,608 Verification error= 0.2%, loss= 0.0092\n",
      "2019-05-27 04:40:40,607 Iter 1344, Minibatch Loss= 0.1630, Training Accuracy= 0.9399, Minibatch error= 6.0%\n",
      "2019-05-27 04:41:06,933 Iter 1346, Minibatch Loss= 0.0050, Training Accuracy= 0.9992, Minibatch error= 0.1%\n",
      "2019-05-27 04:41:33,181 Iter 1348, Minibatch Loss= 0.0907, Training Accuracy= 0.9701, Minibatch error= 3.0%\n",
      "2019-05-27 04:41:59,088 Iter 1350, Minibatch Loss= 0.0005, Training Accuracy= 1.0000, Minibatch error= 0.0%\n",
      "2019-05-27 04:42:25,424 Iter 1352, Minibatch Loss= 0.0907, Training Accuracy= 0.9701, Minibatch error= 3.0%\n",
      "2019-05-27 04:42:51,405 Iter 1354, Minibatch Loss= 0.0003, Training Accuracy= 1.0000, Minibatch error= 0.0%\n",
      "2019-05-27 04:43:18,014 Iter 1356, Minibatch Loss= 0.0563, Training Accuracy= 0.9876, Minibatch error= 1.2%\n",
      "2019-05-27 04:43:44,414 Iter 1358, Minibatch Loss= 0.0050, Training Accuracy= 0.9992, Minibatch error= 0.1%\n",
      "2019-05-27 04:44:10,647 Iter 1360, Minibatch Loss= 0.0006, Training Accuracy= 1.0000, Minibatch error= 0.0%\n",
      "2019-05-27 04:44:36,826 Iter 1362, Minibatch Loss= 0.0938, Training Accuracy= 0.9644, Minibatch error= 3.6%\n",
      "2019-05-27 04:45:02,957 Iter 1364, Minibatch Loss= 0.0198, Training Accuracy= 0.9967, Minibatch error= 0.3%\n",
      "2019-05-27 04:45:29,044 Iter 1366, Minibatch Loss= 0.0004, Training Accuracy= 1.0000, Minibatch error= 0.0%\n",
      "2019-05-27 04:45:55,059 Iter 1368, Minibatch Loss= 0.0069, Training Accuracy= 0.9992, Minibatch error= 0.1%\n",
      "2019-05-27 04:46:21,854 Iter 1370, Minibatch Loss= 0.1639, Training Accuracy= 0.9399, Minibatch error= 6.0%\n",
      "2019-05-27 04:46:48,033 Iter 1372, Minibatch Loss= 0.0045, Training Accuracy= 0.9992, Minibatch error= 0.1%\n",
      "2019-05-27 04:47:14,221 Iter 1374, Minibatch Loss= 0.0163, Training Accuracy= 0.9955, Minibatch error= 0.5%\n",
      "2019-05-27 04:47:25,813 Epoch 42, Average loss: 0.0581, learning rate: 0.0232\n",
      "2019-05-27 04:47:44,453 Verification error= 0.2%, loss= 0.0086\n",
      "2019-05-27 04:48:00,495 Iter 1376, Minibatch Loss= 0.2045, Training Accuracy= 0.9348, Minibatch error= 6.5%\n",
      "2019-05-27 04:48:26,571 Iter 1378, Minibatch Loss= 0.0006, Training Accuracy= 1.0000, Minibatch error= 0.0%\n",
      "2019-05-27 04:48:52,781 Iter 1380, Minibatch Loss= 0.0577, Training Accuracy= 0.9876, Minibatch error= 1.2%\n",
      "2019-05-27 04:49:18,973 Iter 1382, Minibatch Loss= 0.0049, Training Accuracy= 0.9992, Minibatch error= 0.1%\n",
      "2019-05-27 04:49:45,073 Iter 1384, Minibatch Loss= 0.0560, Training Accuracy= 0.9876, Minibatch error= 1.2%\n",
      "2019-05-27 04:50:11,127 Iter 1386, Minibatch Loss= 0.0003, Training Accuracy= 1.0000, Minibatch error= 0.0%\n",
      "2019-05-27 04:50:37,355 Iter 1388, Minibatch Loss= 0.0162, Training Accuracy= 0.9955, Minibatch error= 0.5%\n",
      "2019-05-27 04:51:03,611 Iter 1390, Minibatch Loss= 0.1634, Training Accuracy= 0.9399, Minibatch error= 6.0%\n",
      "2019-05-27 04:51:29,717 Iter 1392, Minibatch Loss= 0.0006, Training Accuracy= 1.0000, Minibatch error= 0.0%\n",
      "2019-05-27 04:51:56,051 Iter 1394, Minibatch Loss= 0.2005, Training Accuracy= 0.9348, Minibatch error= 6.5%\n",
      "2019-05-27 04:52:22,346 Iter 1396, Minibatch Loss= 0.0081, Training Accuracy= 0.9992, Minibatch error= 0.1%\n",
      "2019-05-27 04:52:48,728 Iter 1398, Minibatch Loss= 0.0580, Training Accuracy= 0.9876, Minibatch error= 1.2%\n",
      "2019-05-27 04:53:15,053 Iter 1400, Minibatch Loss= 0.0901, Training Accuracy= 0.9701, Minibatch error= 3.0%\n",
      "2019-05-27 04:53:41,217 Iter 1402, Minibatch Loss= 0.0045, Training Accuracy= 0.9992, Minibatch error= 0.1%\n",
      "2019-05-27 04:54:07,656 Iter 1404, Minibatch Loss= 0.0563, Training Accuracy= 0.9876, Minibatch error= 1.2%\n"
     ]
    },
    {
     "name": "stderr",
     "output_type": "stream",
     "text": [
      "2019-05-27 04:54:34,120 Iter 1406, Minibatch Loss= 0.2031, Training Accuracy= 0.9348, Minibatch error= 6.5%\n",
      "2019-05-27 04:54:45,685 Epoch 43, Average loss: 0.0694, learning rate: 0.0220\n",
      "2019-05-27 04:55:04,332 Verification error= 0.2%, loss= 0.0090\n",
      "2019-05-27 04:55:20,114 Iter 1408, Minibatch Loss= 0.0186, Training Accuracy= 0.9967, Minibatch error= 0.3%\n",
      "2019-05-27 04:55:46,526 Iter 1410, Minibatch Loss= 0.0914, Training Accuracy= 0.9701, Minibatch error= 3.0%\n",
      "2019-05-27 04:56:12,676 Iter 1412, Minibatch Loss= 0.0005, Training Accuracy= 1.0000, Minibatch error= 0.0%\n",
      "2019-05-27 04:56:39,101 Iter 1414, Minibatch Loss= 0.0003, Training Accuracy= 1.0000, Minibatch error= 0.0%\n",
      "2019-05-27 04:57:05,572 Iter 1416, Minibatch Loss= 0.1618, Training Accuracy= 0.9399, Minibatch error= 6.0%\n",
      "2019-05-27 04:57:31,789 Iter 1418, Minibatch Loss= 0.0080, Training Accuracy= 0.9992, Minibatch error= 0.1%\n",
      "2019-05-27 04:57:58,048 Iter 1420, Minibatch Loss= 0.0052, Training Accuracy= 0.9992, Minibatch error= 0.1%\n",
      "2019-05-27 04:58:24,519 Iter 1422, Minibatch Loss= 0.0581, Training Accuracy= 0.9876, Minibatch error= 1.2%\n",
      "2019-05-27 04:58:50,783 Iter 1424, Minibatch Loss= 0.0162, Training Accuracy= 0.9955, Minibatch error= 0.5%\n",
      "2019-05-27 04:59:16,654 Iter 1426, Minibatch Loss= 0.0045, Training Accuracy= 0.9992, Minibatch error= 0.1%\n",
      "2019-05-27 04:59:43,039 Iter 1428, Minibatch Loss= 0.0169, Training Accuracy= 0.9967, Minibatch error= 0.3%\n",
      "2019-05-27 05:00:09,264 Iter 1430, Minibatch Loss= 0.0161, Training Accuracy= 0.9955, Minibatch error= 0.5%\n",
      "2019-05-27 05:00:35,716 Iter 1432, Minibatch Loss= 0.0965, Training Accuracy= 0.9644, Minibatch error= 3.6%\n",
      "2019-05-27 05:01:01,962 Iter 1434, Minibatch Loss= 0.2016, Training Accuracy= 0.9348, Minibatch error= 6.5%\n",
      "2019-05-27 05:01:28,095 Iter 1436, Minibatch Loss= 0.0005, Training Accuracy= 1.0000, Minibatch error= 0.0%\n",
      "2019-05-27 05:01:54,769 Iter 1438, Minibatch Loss= 0.1619, Training Accuracy= 0.9399, Minibatch error= 6.0%\n",
      "2019-05-27 05:02:06,330 Epoch 44, Average loss: 0.0670, learning rate: 0.0209\n",
      "2019-05-27 05:02:24,998 Verification error= 0.2%, loss= 0.0092\n",
      "2019-05-27 05:02:41,019 Iter 1440, Minibatch Loss= 0.0917, Training Accuracy= 0.9701, Minibatch error= 3.0%\n",
      "2019-05-27 05:03:07,039 Iter 1442, Minibatch Loss= 0.0006, Training Accuracy= 1.0000, Minibatch error= 0.0%\n",
      "2019-05-27 05:03:33,265 Iter 1444, Minibatch Loss= 0.0946, Training Accuracy= 0.9644, Minibatch error= 3.6%\n",
      "2019-05-27 05:03:59,567 Iter 1446, Minibatch Loss= 0.0576, Training Accuracy= 0.9876, Minibatch error= 1.2%\n",
      "2019-05-27 05:04:25,862 Iter 1448, Minibatch Loss= 0.0162, Training Accuracy= 0.9955, Minibatch error= 0.5%\n",
      "2019-05-27 05:04:52,062 Iter 1450, Minibatch Loss= 0.0068, Training Accuracy= 0.9992, Minibatch error= 0.1%\n",
      "2019-05-27 05:05:18,514 Iter 1452, Minibatch Loss= 0.0908, Training Accuracy= 0.9701, Minibatch error= 3.0%\n",
      "2019-05-27 05:05:44,853 Iter 1454, Minibatch Loss= 0.1617, Training Accuracy= 0.9399, Minibatch error= 6.0%\n",
      "2019-05-27 05:06:11,131 Iter 1456, Minibatch Loss= 0.0005, Training Accuracy= 1.0000, Minibatch error= 0.0%\n",
      "2019-05-27 05:06:37,220 Iter 1458, Minibatch Loss= 0.0003, Training Accuracy= 1.0000, Minibatch error= 0.0%\n",
      "2019-05-27 05:07:03,255 Iter 1460, Minibatch Loss= 0.0003, Training Accuracy= 1.0000, Minibatch error= 0.0%\n",
      "2019-05-27 05:07:29,201 Iter 1462, Minibatch Loss= 0.0064, Training Accuracy= 0.9992, Minibatch error= 0.1%\n",
      "2019-05-27 05:07:55,308 Iter 1464, Minibatch Loss= 0.0006, Training Accuracy= 1.0000, Minibatch error= 0.0%\n",
      "2019-05-27 05:08:21,566 Iter 1466, Minibatch Loss= 0.0942, Training Accuracy= 0.9644, Minibatch error= 3.6%\n",
      "2019-05-27 05:08:47,980 Iter 1468, Minibatch Loss= 0.0908, Training Accuracy= 0.9701, Minibatch error= 3.0%\n",
      "2019-05-27 05:09:14,473 Iter 1470, Minibatch Loss= 0.0946, Training Accuracy= 0.9644, Minibatch error= 3.6%\n",
      "2019-05-27 05:09:25,973 Epoch 45, Average loss: 0.0562, learning rate: 0.0199\n",
      "2019-05-27 05:09:44,624 Verification error= 0.2%, loss= 0.0090\n",
      "2019-05-27 05:10:00,666 Iter 1472, Minibatch Loss= 0.0906, Training Accuracy= 0.9701, Minibatch error= 3.0%\n",
      "2019-05-27 05:10:26,632 Iter 1474, Minibatch Loss= 0.0005, Training Accuracy= 1.0000, Minibatch error= 0.0%\n",
      "2019-05-27 05:10:52,779 Iter 1476, Minibatch Loss= 0.0045, Training Accuracy= 0.9992, Minibatch error= 0.1%\n",
      "2019-05-27 05:11:19,240 Iter 1478, Minibatch Loss= 0.0555, Training Accuracy= 0.9876, Minibatch error= 1.2%\n",
      "2019-05-27 05:11:45,433 Iter 1480, Minibatch Loss= 0.2018, Training Accuracy= 0.9348, Minibatch error= 6.5%\n",
      "2019-05-27 05:12:11,715 Iter 1482, Minibatch Loss= 0.0577, Training Accuracy= 0.9876, Minibatch error= 1.2%\n",
      "2019-05-27 05:12:38,092 Iter 1484, Minibatch Loss= 0.0003, Training Accuracy= 1.0000, Minibatch error= 0.0%\n",
      "2019-05-27 05:13:04,299 Iter 1486, Minibatch Loss= 0.2024, Training Accuracy= 0.9348, Minibatch error= 6.5%\n",
      "2019-05-27 05:13:30,627 Iter 1488, Minibatch Loss= 0.0050, Training Accuracy= 0.9992, Minibatch error= 0.1%\n",
      "2019-05-27 05:13:56,697 Iter 1490, Minibatch Loss= 0.0159, Training Accuracy= 0.9955, Minibatch error= 0.5%\n",
      "2019-05-27 05:14:22,983 Iter 1492, Minibatch Loss= 0.0580, Training Accuracy= 0.9876, Minibatch error= 1.2%\n",
      "2019-05-27 05:14:48,849 Iter 1494, Minibatch Loss= 0.0048, Training Accuracy= 0.9992, Minibatch error= 0.1%\n",
      "2019-05-27 05:15:15,156 Iter 1496, Minibatch Loss= 0.0071, Training Accuracy= 0.9992, Minibatch error= 0.1%\n",
      "2019-05-27 05:15:41,426 Iter 1498, Minibatch Loss= 0.2018, Training Accuracy= 0.9348, Minibatch error= 6.5%\n",
      "2019-05-27 05:16:07,849 Iter 1500, Minibatch Loss= 0.1615, Training Accuracy= 0.9399, Minibatch error= 6.0%\n",
      "2019-05-27 05:16:34,108 Iter 1502, Minibatch Loss= 0.0003, Training Accuracy= 1.0000, Minibatch error= 0.0%\n",
      "2019-05-27 05:16:45,738 Epoch 46, Average loss: 0.0673, learning rate: 0.0189\n",
      "2019-05-27 05:17:04,417 Verification error= 0.2%, loss= 0.0091\n",
      "2019-05-27 05:17:20,234 Iter 1504, Minibatch Loss= 0.0077, Training Accuracy= 0.9992, Minibatch error= 0.1%\n",
      "2019-05-27 05:17:46,472 Iter 1506, Minibatch Loss= 0.0580, Training Accuracy= 0.9876, Minibatch error= 1.2%\n",
      "2019-05-27 05:18:12,559 Iter 1508, Minibatch Loss= 0.0179, Training Accuracy= 0.9967, Minibatch error= 0.3%\n",
      "2019-05-27 05:18:38,672 Iter 1510, Minibatch Loss= 0.0047, Training Accuracy= 0.9992, Minibatch error= 0.1%\n",
      "2019-05-27 05:19:05,286 Iter 1512, Minibatch Loss= 0.1615, Training Accuracy= 0.9399, Minibatch error= 6.0%\n",
      "2019-05-27 05:19:31,557 Iter 1514, Minibatch Loss= 0.1614, Training Accuracy= 0.9399, Minibatch error= 6.0%\n",
      "2019-05-27 05:19:57,548 Iter 1516, Minibatch Loss= 0.0005, Training Accuracy= 1.0000, Minibatch error= 0.0%\n",
      "2019-05-27 05:20:24,131 Iter 1518, Minibatch Loss= 0.2014, Training Accuracy= 0.9348, Minibatch error= 6.5%\n",
      "2019-05-27 05:20:50,001 Iter 1520, Minibatch Loss= 0.0160, Training Accuracy= 0.9955, Minibatch error= 0.5%\n",
      "2019-05-27 05:21:16,089 Iter 1522, Minibatch Loss= 0.0050, Training Accuracy= 0.9992, Minibatch error= 0.1%\n",
      "2019-05-27 05:21:42,447 Iter 1524, Minibatch Loss= 0.0575, Training Accuracy= 0.9876, Minibatch error= 1.2%\n",
      "2019-05-27 05:22:08,614 Iter 1526, Minibatch Loss= 0.0947, Training Accuracy= 0.9644, Minibatch error= 3.6%\n",
      "2019-05-27 05:22:34,999 Iter 1528, Minibatch Loss= 0.1612, Training Accuracy= 0.9399, Minibatch error= 6.0%\n",
      "2019-05-27 05:23:01,363 Iter 1530, Minibatch Loss= 0.0900, Training Accuracy= 0.9701, Minibatch error= 3.0%\n",
      "2019-05-27 05:23:27,512 Iter 1532, Minibatch Loss= 0.0003, Training Accuracy= 1.0000, Minibatch error= 0.0%\n",
      "2019-05-27 05:23:54,234 Iter 1534, Minibatch Loss= 0.0557, Training Accuracy= 0.9876, Minibatch error= 1.2%\n",
      "2019-05-27 05:24:05,731 Epoch 47, Average loss: 0.0576, learning rate: 0.0179\n",
      "2019-05-27 05:24:24,400 Verification error= 0.2%, loss= 0.0088\n",
      "2019-05-27 05:24:40,345 Iter 1536, Minibatch Loss= 0.0159, Training Accuracy= 0.9955, Minibatch error= 0.5%\n",
      "2019-05-27 05:25:06,460 Iter 1538, Minibatch Loss= 0.0003, Training Accuracy= 1.0000, Minibatch error= 0.0%\n",
      "2019-05-27 05:25:32,534 Iter 1540, Minibatch Loss= 0.0006, Training Accuracy= 1.0000, Minibatch error= 0.0%\n",
      "2019-05-27 05:25:58,857 Iter 1542, Minibatch Loss= 0.0932, Training Accuracy= 0.9644, Minibatch error= 3.6%\n",
      "2019-05-27 05:26:25,101 Iter 1544, Minibatch Loss= 0.1609, Training Accuracy= 0.9399, Minibatch error= 6.0%\n"
     ]
    },
    {
     "name": "stderr",
     "output_type": "stream",
     "text": [
      "2019-05-27 05:26:51,275 Iter 1546, Minibatch Loss= 0.0574, Training Accuracy= 0.9876, Minibatch error= 1.2%\n",
      "2019-05-27 05:27:17,364 Iter 1548, Minibatch Loss= 0.0003, Training Accuracy= 1.0000, Minibatch error= 0.0%\n",
      "2019-05-27 05:27:43,974 Iter 1550, Minibatch Loss= 0.0587, Training Accuracy= 0.9876, Minibatch error= 1.2%\n",
      "2019-05-27 05:28:09,989 Iter 1552, Minibatch Loss= 0.0049, Training Accuracy= 0.9992, Minibatch error= 0.1%\n",
      "2019-05-27 05:28:36,108 Iter 1554, Minibatch Loss= 0.0175, Training Accuracy= 0.9967, Minibatch error= 0.3%\n",
      "2019-05-27 05:29:02,452 Iter 1556, Minibatch Loss= 0.0005, Training Accuracy= 1.0000, Minibatch error= 0.0%\n",
      "2019-05-27 05:29:28,842 Iter 1558, Minibatch Loss= 0.2008, Training Accuracy= 0.9348, Minibatch error= 6.5%\n",
      "2019-05-27 05:29:54,958 Iter 1560, Minibatch Loss= 0.0003, Training Accuracy= 1.0000, Minibatch error= 0.0%\n",
      "2019-05-27 05:30:20,989 Iter 1562, Minibatch Loss= 0.0072, Training Accuracy= 0.9992, Minibatch error= 0.1%\n",
      "2019-05-27 05:30:47,195 Iter 1564, Minibatch Loss= 0.0896, Training Accuracy= 0.9701, Minibatch error= 3.0%\n",
      "2019-05-27 05:31:13,463 Iter 1566, Minibatch Loss= 0.0949, Training Accuracy= 0.9644, Minibatch error= 3.6%\n",
      "2019-05-27 05:31:25,071 Epoch 48, Average loss: 0.0634, learning rate: 0.0171\n",
      "2019-05-27 05:31:43,745 Verification error= 0.2%, loss= 0.0088\n",
      "2019-05-27 05:31:59,637 Iter 1568, Minibatch Loss= 0.0182, Training Accuracy= 0.9967, Minibatch error= 0.3%\n",
      "2019-05-27 05:32:26,231 Iter 1570, Minibatch Loss= 0.0891, Training Accuracy= 0.9701, Minibatch error= 3.0%\n",
      "2019-05-27 05:32:52,233 Iter 1572, Minibatch Loss= 0.0045, Training Accuracy= 0.9992, Minibatch error= 0.1%\n",
      "2019-05-27 05:33:18,494 Iter 1574, Minibatch Loss= 0.0563, Training Accuracy= 0.9876, Minibatch error= 1.2%\n",
      "2019-05-27 05:33:44,521 Iter 1576, Minibatch Loss= 0.0004, Training Accuracy= 1.0000, Minibatch error= 0.0%\n",
      "2019-05-27 05:34:10,706 Iter 1578, Minibatch Loss= 0.2026, Training Accuracy= 0.9348, Minibatch error= 6.5%\n",
      "2019-05-27 05:34:36,765 Iter 1580, Minibatch Loss= 0.0006, Training Accuracy= 1.0000, Minibatch error= 0.0%\n",
      "2019-05-27 05:35:03,088 Iter 1582, Minibatch Loss= 0.0160, Training Accuracy= 0.9955, Minibatch error= 0.5%\n",
      "2019-05-27 05:35:29,144 Iter 1584, Minibatch Loss= 0.0191, Training Accuracy= 0.9967, Minibatch error= 0.3%\n",
      "2019-05-27 05:35:55,627 Iter 1586, Minibatch Loss= 0.1605, Training Accuracy= 0.9399, Minibatch error= 6.0%\n",
      "2019-05-27 05:36:22,012 Iter 1588, Minibatch Loss= 0.0932, Training Accuracy= 0.9644, Minibatch error= 3.6%\n",
      "2019-05-27 05:36:47,965 Iter 1590, Minibatch Loss= 0.0073, Training Accuracy= 0.9992, Minibatch error= 0.1%\n",
      "2019-05-27 05:37:14,109 Iter 1592, Minibatch Loss= 0.0073, Training Accuracy= 0.9992, Minibatch error= 0.1%\n",
      "2019-05-27 05:37:40,216 Iter 1594, Minibatch Loss= 0.0181, Training Accuracy= 0.9967, Minibatch error= 0.3%\n",
      "2019-05-27 05:38:06,697 Iter 1596, Minibatch Loss= 0.0896, Training Accuracy= 0.9701, Minibatch error= 3.0%\n",
      "2019-05-27 05:38:32,981 Iter 1598, Minibatch Loss= 0.0580, Training Accuracy= 0.9876, Minibatch error= 1.2%\n",
      "2019-05-27 05:38:44,583 Epoch 49, Average loss: 0.0642, learning rate: 0.0162\n",
      "2019-05-27 05:39:03,235 Verification error= 0.2%, loss= 0.0088\n",
      "2019-05-27 05:39:19,056 Iter 1600, Minibatch Loss= 0.0005, Training Accuracy= 1.0000, Minibatch error= 0.0%\n",
      "2019-05-27 05:39:45,402 Iter 1602, Minibatch Loss= 0.0891, Training Accuracy= 0.9701, Minibatch error= 3.0%\n",
      "2019-05-27 05:40:11,472 Iter 1604, Minibatch Loss= 0.0003, Training Accuracy= 1.0000, Minibatch error= 0.0%\n",
      "2019-05-27 05:40:37,780 Iter 1606, Minibatch Loss= 0.0558, Training Accuracy= 0.9876, Minibatch error= 1.2%\n",
      "2019-05-27 05:41:04,071 Iter 1608, Minibatch Loss= 0.0044, Training Accuracy= 0.9992, Minibatch error= 0.1%\n",
      "2019-05-27 05:41:30,045 Iter 1610, Minibatch Loss= 0.0968, Training Accuracy= 0.9644, Minibatch error= 3.6%\n",
      "2019-05-27 05:41:56,471 Iter 1612, Minibatch Loss= 0.1606, Training Accuracy= 0.9399, Minibatch error= 6.0%\n",
      "2019-05-27 05:42:22,886 Iter 1614, Minibatch Loss= 0.0580, Training Accuracy= 0.9876, Minibatch error= 1.2%\n",
      "2019-05-27 05:42:49,196 Iter 1616, Minibatch Loss= 0.0048, Training Accuracy= 0.9992, Minibatch error= 0.1%\n",
      "2019-05-27 05:43:15,558 Iter 1618, Minibatch Loss= 0.1999, Training Accuracy= 0.9348, Minibatch error= 6.5%\n",
      "2019-05-27 05:43:41,599 Iter 1620, Minibatch Loss= 0.0190, Training Accuracy= 0.9967, Minibatch error= 0.3%\n",
      "2019-05-27 05:44:07,808 Iter 1622, Minibatch Loss= 0.0903, Training Accuracy= 0.9701, Minibatch error= 3.0%\n",
      "2019-05-27 05:44:34,153 Iter 1624, Minibatch Loss= 0.1994, Training Accuracy= 0.9348, Minibatch error= 6.5%\n",
      "2019-05-27 05:45:00,181 Iter 1626, Minibatch Loss= 0.0159, Training Accuracy= 0.9955, Minibatch error= 0.5%\n",
      "2019-05-27 05:45:26,448 Iter 1628, Minibatch Loss= 0.0579, Training Accuracy= 0.9876, Minibatch error= 1.2%\n",
      "2019-05-27 05:45:52,524 Iter 1630, Minibatch Loss= 0.0047, Training Accuracy= 0.9992, Minibatch error= 0.1%\n",
      "2019-05-27 05:46:04,226 Epoch 50, Average loss: 0.0637, learning rate: 0.0154\n",
      "2019-05-27 05:46:22,858 Verification error= 0.2%, loss= 0.0087\n",
      "2019-05-27 05:46:38,714 Iter 1632, Minibatch Loss= 0.0005, Training Accuracy= 1.0000, Minibatch error= 0.0%\n",
      "2019-05-27 05:47:04,943 Iter 1634, Minibatch Loss= 0.0072, Training Accuracy= 0.9992, Minibatch error= 0.1%\n",
      "2019-05-27 05:47:30,970 Iter 1636, Minibatch Loss= 0.0161, Training Accuracy= 0.9955, Minibatch error= 0.5%\n",
      "2019-05-27 05:47:56,987 Iter 1638, Minibatch Loss= 0.0005, Training Accuracy= 1.0000, Minibatch error= 0.0%\n",
      "2019-05-27 05:48:23,348 Iter 1640, Minibatch Loss= 0.2026, Training Accuracy= 0.9348, Minibatch error= 6.5%\n",
      "2019-05-27 05:48:49,523 Iter 1642, Minibatch Loss= 0.1603, Training Accuracy= 0.9399, Minibatch error= 6.0%\n",
      "2019-05-27 05:49:15,843 Iter 1644, Minibatch Loss= 0.0072, Training Accuracy= 0.9992, Minibatch error= 0.1%\n",
      "2019-05-27 05:49:42,109 Iter 1646, Minibatch Loss= 0.1601, Training Accuracy= 0.9399, Minibatch error= 6.0%\n",
      "2019-05-27 05:50:08,272 Iter 1648, Minibatch Loss= 0.0578, Training Accuracy= 0.9876, Minibatch error= 1.2%\n",
      "2019-05-27 05:50:34,812 Iter 1650, Minibatch Loss= 0.0185, Training Accuracy= 0.9967, Minibatch error= 0.3%\n",
      "2019-05-27 05:51:00,767 Iter 1652, Minibatch Loss= 0.0003, Training Accuracy= 1.0000, Minibatch error= 0.0%\n",
      "2019-05-27 05:51:27,103 Iter 1654, Minibatch Loss= 0.2007, Training Accuracy= 0.9348, Minibatch error= 6.5%\n",
      "2019-05-27 05:51:53,143 Iter 1656, Minibatch Loss= 0.0074, Training Accuracy= 0.9992, Minibatch error= 0.1%\n",
      "2019-05-27 05:52:19,281 Iter 1658, Minibatch Loss= 0.0052, Training Accuracy= 0.9992, Minibatch error= 0.1%\n",
      "2019-05-27 05:52:45,367 Iter 1660, Minibatch Loss= 0.0076, Training Accuracy= 0.9992, Minibatch error= 0.1%\n",
      "2019-05-27 05:53:11,441 Iter 1662, Minibatch Loss= 0.0179, Training Accuracy= 0.9967, Minibatch error= 0.3%\n",
      "2019-05-27 05:53:23,110 Epoch 51, Average loss: 0.0533, learning rate: 0.0146\n",
      "2019-05-27 05:53:41,677 Verification error= 0.2%, loss= 0.0087\n",
      "2019-05-27 05:53:57,758 Iter 1664, Minibatch Loss= 0.0941, Training Accuracy= 0.9644, Minibatch error= 3.6%\n",
      "2019-05-27 05:54:24,239 Iter 1666, Minibatch Loss= 0.1608, Training Accuracy= 0.9399, Minibatch error= 6.0%\n",
      "2019-05-27 05:54:50,381 Iter 1668, Minibatch Loss= 0.0072, Training Accuracy= 0.9992, Minibatch error= 0.1%\n",
      "2019-05-27 05:55:16,618 Iter 1670, Minibatch Loss= 0.1601, Training Accuracy= 0.9399, Minibatch error= 6.0%\n",
      "2019-05-27 05:55:42,942 Iter 1672, Minibatch Loss= 0.1985, Training Accuracy= 0.9348, Minibatch error= 6.5%\n",
      "2019-05-27 05:56:08,920 Iter 1674, Minibatch Loss= 0.0003, Training Accuracy= 1.0000, Minibatch error= 0.0%\n",
      "2019-05-27 05:56:35,213 Iter 1676, Minibatch Loss= 0.0892, Training Accuracy= 0.9701, Minibatch error= 3.0%\n",
      "2019-05-27 05:57:01,537 Iter 1678, Minibatch Loss= 0.0161, Training Accuracy= 0.9955, Minibatch error= 0.5%\n",
      "2019-05-27 05:57:27,788 Iter 1680, Minibatch Loss= 0.0557, Training Accuracy= 0.9876, Minibatch error= 1.2%\n",
      "2019-05-27 05:57:54,134 Iter 1682, Minibatch Loss= 0.1617, Training Accuracy= 0.9399, Minibatch error= 6.0%\n",
      "2019-05-27 05:58:20,587 Iter 1684, Minibatch Loss= 0.2011, Training Accuracy= 0.9348, Minibatch error= 6.5%\n",
      "2019-05-27 05:58:46,654 Iter 1686, Minibatch Loss= 0.0158, Training Accuracy= 0.9955, Minibatch error= 0.5%\n"
     ]
    },
    {
     "name": "stderr",
     "output_type": "stream",
     "text": [
      "2019-05-27 05:59:12,738 Iter 1688, Minibatch Loss= 0.0003, Training Accuracy= 1.0000, Minibatch error= 0.0%\n",
      "2019-05-27 05:59:38,733 Iter 1690, Minibatch Loss= 0.0180, Training Accuracy= 0.9967, Minibatch error= 0.3%\n",
      "2019-05-27 06:00:04,997 Iter 1692, Minibatch Loss= 0.0160, Training Accuracy= 0.9955, Minibatch error= 0.5%\n",
      "2019-05-27 06:00:31,232 Iter 1694, Minibatch Loss= 0.0003, Training Accuracy= 1.0000, Minibatch error= 0.0%\n",
      "2019-05-27 06:00:42,763 Epoch 52, Average loss: 0.0597, learning rate: 0.0139\n",
      "2019-05-27 06:01:01,418 Verification error= 0.2%, loss= 0.0087\n",
      "2019-05-27 06:01:17,654 Iter 1696, Minibatch Loss= 0.0886, Training Accuracy= 0.9701, Minibatch error= 3.0%\n",
      "2019-05-27 06:01:44,028 Iter 1698, Minibatch Loss= 0.0947, Training Accuracy= 0.9644, Minibatch error= 3.6%\n",
      "2019-05-27 06:02:10,161 Iter 1700, Minibatch Loss= 0.0584, Training Accuracy= 0.9876, Minibatch error= 1.2%\n",
      "2019-05-27 06:02:36,436 Iter 1702, Minibatch Loss= 0.1602, Training Accuracy= 0.9399, Minibatch error= 6.0%\n",
      "2019-05-27 06:03:02,417 Iter 1704, Minibatch Loss= 0.0076, Training Accuracy= 0.9992, Minibatch error= 0.1%\n",
      "2019-05-27 06:03:28,744 Iter 1706, Minibatch Loss= 0.0923, Training Accuracy= 0.9644, Minibatch error= 3.6%\n",
      "2019-05-27 06:03:54,776 Iter 1708, Minibatch Loss= 0.0184, Training Accuracy= 0.9967, Minibatch error= 0.3%\n",
      "2019-05-27 06:04:20,676 Iter 1710, Minibatch Loss= 0.0048, Training Accuracy= 0.9992, Minibatch error= 0.1%\n",
      "2019-05-27 06:04:46,918 Iter 1712, Minibatch Loss= 0.0048, Training Accuracy= 0.9992, Minibatch error= 0.1%\n",
      "2019-05-27 06:05:12,774 Iter 1714, Minibatch Loss= 0.0003, Training Accuracy= 1.0000, Minibatch error= 0.0%\n",
      "2019-05-27 06:05:39,060 Iter 1716, Minibatch Loss= 0.2007, Training Accuracy= 0.9348, Minibatch error= 6.5%\n",
      "2019-05-27 06:06:05,360 Iter 1718, Minibatch Loss= 0.1598, Training Accuracy= 0.9399, Minibatch error= 6.0%\n",
      "2019-05-27 06:06:31,507 Iter 1720, Minibatch Loss= 0.0074, Training Accuracy= 0.9992, Minibatch error= 0.1%\n",
      "2019-05-27 06:06:57,594 Iter 1722, Minibatch Loss= 0.0005, Training Accuracy= 1.0000, Minibatch error= 0.0%\n",
      "2019-05-27 06:07:24,030 Iter 1724, Minibatch Loss= 0.0922, Training Accuracy= 0.9644, Minibatch error= 3.6%\n",
      "2019-05-27 06:07:50,223 Iter 1726, Minibatch Loss= 0.0158, Training Accuracy= 0.9955, Minibatch error= 0.5%\n",
      "2019-05-27 06:08:01,773 Epoch 53, Average loss: 0.0721, learning rate: 0.0132\n",
      "2019-05-27 06:08:20,494 Verification error= 0.2%, loss= 0.0090\n",
      "2019-05-27 06:08:36,454 Iter 1728, Minibatch Loss= 0.0051, Training Accuracy= 0.9992, Minibatch error= 0.1%\n",
      "2019-05-27 06:09:02,548 Iter 1730, Minibatch Loss= 0.0073, Training Accuracy= 0.9992, Minibatch error= 0.1%\n",
      "2019-05-27 06:09:28,742 Iter 1732, Minibatch Loss= 0.0180, Training Accuracy= 0.9967, Minibatch error= 0.3%\n",
      "2019-05-27 06:09:54,831 Iter 1734, Minibatch Loss= 0.0003, Training Accuracy= 1.0000, Minibatch error= 0.0%\n",
      "2019-05-27 06:10:20,892 Iter 1736, Minibatch Loss= 0.0005, Training Accuracy= 1.0000, Minibatch error= 0.0%\n",
      "2019-05-27 06:10:47,107 Iter 1738, Minibatch Loss= 0.0072, Training Accuracy= 0.9992, Minibatch error= 0.1%\n",
      "2019-05-27 06:11:13,244 Iter 1740, Minibatch Loss= 0.0160, Training Accuracy= 0.9955, Minibatch error= 0.5%\n",
      "2019-05-27 06:11:39,317 Iter 1742, Minibatch Loss= 0.0046, Training Accuracy= 0.9992, Minibatch error= 0.1%\n",
      "2019-05-27 06:12:05,664 Iter 1744, Minibatch Loss= 0.0889, Training Accuracy= 0.9701, Minibatch error= 3.0%\n",
      "2019-05-27 06:12:32,019 Iter 1746, Minibatch Loss= 0.0880, Training Accuracy= 0.9701, Minibatch error= 3.0%\n",
      "2019-05-27 06:12:58,177 Iter 1748, Minibatch Loss= 0.0555, Training Accuracy= 0.9876, Minibatch error= 1.2%\n",
      "2019-05-27 06:13:24,028 Iter 1750, Minibatch Loss= 0.0004, Training Accuracy= 1.0000, Minibatch error= 0.0%\n",
      "2019-05-27 06:13:50,030 Iter 1752, Minibatch Loss= 0.0163, Training Accuracy= 0.9955, Minibatch error= 0.5%\n",
      "2019-05-27 06:14:16,393 Iter 1754, Minibatch Loss= 0.0947, Training Accuracy= 0.9644, Minibatch error= 3.6%\n",
      "2019-05-27 06:14:42,302 Iter 1756, Minibatch Loss= 0.0158, Training Accuracy= 0.9955, Minibatch error= 0.5%\n",
      "2019-05-27 06:15:08,525 Iter 1758, Minibatch Loss= 0.0920, Training Accuracy= 0.9644, Minibatch error= 3.6%\n",
      "2019-05-27 06:15:20,210 Epoch 54, Average loss: 0.0521, learning rate: 0.0125\n",
      "2019-05-27 06:15:38,772 Verification error= 0.2%, loss= 0.0090\n",
      "2019-05-27 06:15:55,120 Iter 1760, Minibatch Loss= 0.1596, Training Accuracy= 0.9399, Minibatch error= 6.0%\n",
      "2019-05-27 06:16:21,330 Iter 1762, Minibatch Loss= 0.0003, Training Accuracy= 1.0000, Minibatch error= 0.0%\n",
      "2019-05-27 06:16:47,615 Iter 1764, Minibatch Loss= 0.0589, Training Accuracy= 0.9876, Minibatch error= 1.2%\n",
      "2019-05-27 06:17:13,733 Iter 1766, Minibatch Loss= 0.0005, Training Accuracy= 1.0000, Minibatch error= 0.0%\n",
      "2019-05-27 06:17:40,071 Iter 1768, Minibatch Loss= 0.0935, Training Accuracy= 0.9644, Minibatch error= 3.6%\n",
      "2019-05-27 06:18:06,362 Iter 1770, Minibatch Loss= 0.0888, Training Accuracy= 0.9701, Minibatch error= 3.0%\n",
      "2019-05-27 06:18:32,505 Iter 1772, Minibatch Loss= 0.0566, Training Accuracy= 0.9876, Minibatch error= 1.2%\n",
      "2019-05-27 06:18:58,603 Iter 1774, Minibatch Loss= 0.1998, Training Accuracy= 0.9348, Minibatch error= 6.5%\n",
      "2019-05-27 06:19:24,920 Iter 1776, Minibatch Loss= 0.0185, Training Accuracy= 0.9967, Minibatch error= 0.3%\n",
      "2019-05-27 06:19:51,000 Iter 1778, Minibatch Loss= 0.0048, Training Accuracy= 0.9992, Minibatch error= 0.1%\n",
      "2019-05-27 06:20:17,429 Iter 1780, Minibatch Loss= 0.0005, Training Accuracy= 1.0000, Minibatch error= 0.0%\n",
      "2019-05-27 06:20:43,561 Iter 1782, Minibatch Loss= 0.0074, Training Accuracy= 0.9992, Minibatch error= 0.1%\n",
      "2019-05-27 06:21:09,899 Iter 1784, Minibatch Loss= 0.0587, Training Accuracy= 0.9876, Minibatch error= 1.2%\n",
      "2019-05-27 06:21:35,839 Iter 1786, Minibatch Loss= 0.0184, Training Accuracy= 0.9967, Minibatch error= 0.3%\n",
      "2019-05-27 06:22:01,908 Iter 1788, Minibatch Loss= 0.0003, Training Accuracy= 1.0000, Minibatch error= 0.0%\n",
      "2019-05-27 06:22:28,230 Iter 1790, Minibatch Loss= 0.1595, Training Accuracy= 0.9399, Minibatch error= 6.0%\n",
      "2019-05-27 06:22:39,678 Epoch 55, Average loss: 0.0676, learning rate: 0.0119\n",
      "2019-05-27 06:22:58,292 Verification error= 0.2%, loss= 0.0088\n",
      "2019-05-27 06:23:14,356 Iter 1792, Minibatch Loss= 0.0074, Training Accuracy= 0.9992, Minibatch error= 0.1%\n",
      "2019-05-27 06:23:40,709 Iter 1794, Minibatch Loss= 0.0885, Training Accuracy= 0.9701, Minibatch error= 3.0%\n",
      "2019-05-27 06:24:06,828 Iter 1796, Minibatch Loss= 0.0161, Training Accuracy= 0.9955, Minibatch error= 0.5%\n",
      "2019-05-27 06:24:33,326 Iter 1798, Minibatch Loss= 0.2016, Training Accuracy= 0.9348, Minibatch error= 6.5%\n",
      "2019-05-27 06:24:59,653 Iter 1800, Minibatch Loss= 0.1595, Training Accuracy= 0.9399, Minibatch error= 6.0%\n",
      "2019-05-27 06:25:25,747 Iter 1802, Minibatch Loss= 0.0158, Training Accuracy= 0.9955, Minibatch error= 0.5%\n",
      "2019-05-27 06:25:51,819 Iter 1804, Minibatch Loss= 0.0078, Training Accuracy= 0.9992, Minibatch error= 0.1%\n",
      "2019-05-27 06:26:18,341 Iter 1806, Minibatch Loss= 0.0589, Training Accuracy= 0.9876, Minibatch error= 1.2%\n",
      "2019-05-27 06:26:44,426 Iter 1808, Minibatch Loss= 0.0179, Training Accuracy= 0.9967, Minibatch error= 0.3%\n",
      "2019-05-27 06:27:10,550 Iter 1810, Minibatch Loss= 0.0003, Training Accuracy= 1.0000, Minibatch error= 0.0%\n",
      "2019-05-27 06:27:36,959 Iter 1812, Minibatch Loss= 0.0179, Training Accuracy= 0.9967, Minibatch error= 0.3%\n",
      "2019-05-27 06:28:03,027 Iter 1814, Minibatch Loss= 0.0071, Training Accuracy= 0.9992, Minibatch error= 0.1%\n",
      "2019-05-27 06:28:29,579 Iter 1816, Minibatch Loss= 0.2000, Training Accuracy= 0.9348, Minibatch error= 6.5%\n",
      "2019-05-27 06:28:55,572 Iter 1818, Minibatch Loss= 0.0003, Training Accuracy= 1.0000, Minibatch error= 0.0%\n",
      "2019-05-27 06:29:21,735 Iter 1820, Minibatch Loss= 0.0567, Training Accuracy= 0.9876, Minibatch error= 1.2%\n",
      "2019-05-27 06:29:48,081 Iter 1822, Minibatch Loss= 0.0179, Training Accuracy= 0.9967, Minibatch error= 0.3%\n",
      "2019-05-27 06:29:59,639 Epoch 56, Average loss: 0.0608, learning rate: 0.0113\n",
      "2019-05-27 06:30:18,274 Verification error= 0.2%, loss= 0.0087\n",
      "2019-05-27 06:30:34,497 Iter 1824, Minibatch Loss= 0.0881, Training Accuracy= 0.9701, Minibatch error= 3.0%\n",
      "2019-05-27 06:31:00,444 Iter 1826, Minibatch Loss= 0.0003, Training Accuracy= 1.0000, Minibatch error= 0.0%\n"
     ]
    },
    {
     "name": "stderr",
     "output_type": "stream",
     "text": [
      "2019-05-27 06:31:26,666 Iter 1828, Minibatch Loss= 0.0047, Training Accuracy= 0.9992, Minibatch error= 0.1%\n",
      "2019-05-27 06:31:52,811 Iter 1830, Minibatch Loss= 0.0070, Training Accuracy= 0.9992, Minibatch error= 0.1%\n",
      "2019-05-27 06:32:19,010 Iter 1832, Minibatch Loss= 0.0005, Training Accuracy= 1.0000, Minibatch error= 0.0%\n",
      "2019-05-27 06:32:45,277 Iter 1834, Minibatch Loss= 0.0924, Training Accuracy= 0.9644, Minibatch error= 3.6%\n",
      "2019-05-27 06:33:11,634 Iter 1836, Minibatch Loss= 0.1594, Training Accuracy= 0.9399, Minibatch error= 6.0%\n",
      "2019-05-27 06:33:37,751 Iter 1838, Minibatch Loss= 0.0182, Training Accuracy= 0.9967, Minibatch error= 0.3%\n",
      "2019-05-27 06:34:04,002 Iter 1840, Minibatch Loss= 0.0892, Training Accuracy= 0.9701, Minibatch error= 3.0%\n",
      "2019-05-27 06:34:30,225 Iter 1842, Minibatch Loss= 0.0072, Training Accuracy= 0.9992, Minibatch error= 0.1%\n",
      "2019-05-27 06:34:56,488 Iter 1844, Minibatch Loss= 0.0882, Training Accuracy= 0.9701, Minibatch error= 3.0%\n",
      "2019-05-27 06:35:22,796 Iter 1846, Minibatch Loss= 0.0047, Training Accuracy= 0.9992, Minibatch error= 0.1%\n",
      "2019-05-27 06:35:49,086 Iter 1848, Minibatch Loss= 0.0943, Training Accuracy= 0.9644, Minibatch error= 3.6%\n",
      "2019-05-27 06:36:15,076 Iter 1850, Minibatch Loss= 0.0003, Training Accuracy= 1.0000, Minibatch error= 0.0%\n",
      "2019-05-27 06:36:41,114 Iter 1852, Minibatch Loss= 0.0005, Training Accuracy= 1.0000, Minibatch error= 0.0%\n",
      "2019-05-27 06:37:07,346 Iter 1854, Minibatch Loss= 0.2000, Training Accuracy= 0.9348, Minibatch error= 6.5%\n",
      "2019-05-27 06:37:19,013 Epoch 57, Average loss: 0.0592, learning rate: 0.0107\n",
      "2019-05-27 06:37:37,658 Verification error= 0.2%, loss= 0.0087\n",
      "2019-05-27 06:37:54,094 Iter 1856, Minibatch Loss= 0.1988, Training Accuracy= 0.9348, Minibatch error= 6.5%\n",
      "2019-05-27 06:38:20,262 Iter 1858, Minibatch Loss= 0.0003, Training Accuracy= 1.0000, Minibatch error= 0.0%\n",
      "2019-05-27 06:38:46,590 Iter 1860, Minibatch Loss= 0.0159, Training Accuracy= 0.9955, Minibatch error= 0.5%\n",
      "2019-05-27 06:39:12,810 Iter 1862, Minibatch Loss= 0.0928, Training Accuracy= 0.9644, Minibatch error= 3.6%\n",
      "2019-05-27 06:39:39,025 Iter 1864, Minibatch Loss= 0.1592, Training Accuracy= 0.9399, Minibatch error= 6.0%\n",
      "2019-05-27 06:40:05,152 Iter 1866, Minibatch Loss= 0.0003, Training Accuracy= 1.0000, Minibatch error= 0.0%\n",
      "2019-05-27 06:40:31,202 Iter 1868, Minibatch Loss= 0.0005, Training Accuracy= 1.0000, Minibatch error= 0.0%\n",
      "2019-05-27 06:40:57,694 Iter 1870, Minibatch Loss= 0.0158, Training Accuracy= 0.9955, Minibatch error= 0.5%\n",
      "2019-05-27 06:41:24,209 Iter 1872, Minibatch Loss= 0.0890, Training Accuracy= 0.9701, Minibatch error= 3.0%\n",
      "2019-05-27 06:41:50,498 Iter 1874, Minibatch Loss= 0.1590, Training Accuracy= 0.9399, Minibatch error= 6.0%\n",
      "2019-05-27 06:42:16,792 Iter 1876, Minibatch Loss= 0.0574, Training Accuracy= 0.9876, Minibatch error= 1.2%\n",
      "2019-05-27 06:42:42,940 Iter 1878, Minibatch Loss= 0.0941, Training Accuracy= 0.9644, Minibatch error= 3.6%\n",
      "2019-05-27 06:43:09,455 Iter 1880, Minibatch Loss= 0.0071, Training Accuracy= 0.9992, Minibatch error= 0.1%\n",
      "2019-05-27 06:43:36,035 Iter 1882, Minibatch Loss= 0.1595, Training Accuracy= 0.9399, Minibatch error= 6.0%\n",
      "2019-05-27 06:44:02,391 Iter 1884, Minibatch Loss= 0.0582, Training Accuracy= 0.9876, Minibatch error= 1.2%\n",
      "2019-05-27 06:44:28,622 Iter 1886, Minibatch Loss= 0.0159, Training Accuracy= 0.9955, Minibatch error= 0.5%\n",
      "2019-05-27 06:44:40,116 Epoch 58, Average loss: 0.0612, learning rate: 0.0102\n",
      "2019-05-27 06:44:58,757 Verification error= 0.2%, loss= 0.0087\n",
      "2019-05-27 06:45:14,863 Iter 1888, Minibatch Loss= 0.0159, Training Accuracy= 0.9955, Minibatch error= 0.5%\n",
      "2019-05-27 06:45:40,920 Iter 1890, Minibatch Loss= 0.0003, Training Accuracy= 1.0000, Minibatch error= 0.0%\n",
      "2019-05-27 06:46:07,311 Iter 1892, Minibatch Loss= 0.0070, Training Accuracy= 0.9992, Minibatch error= 0.1%\n",
      "2019-05-27 06:46:33,645 Iter 1894, Minibatch Loss= 0.0921, Training Accuracy= 0.9644, Minibatch error= 3.6%\n",
      "2019-05-27 06:47:00,003 Iter 1896, Minibatch Loss= 0.1591, Training Accuracy= 0.9399, Minibatch error= 6.0%\n",
      "2019-05-27 06:47:25,979 Iter 1898, Minibatch Loss= 0.0005, Training Accuracy= 1.0000, Minibatch error= 0.0%\n",
      "2019-05-27 06:47:52,198 Iter 1900, Minibatch Loss= 0.0074, Training Accuracy= 0.9992, Minibatch error= 0.1%\n",
      "2019-05-27 06:48:18,233 Iter 1902, Minibatch Loss= 0.0003, Training Accuracy= 1.0000, Minibatch error= 0.0%\n",
      "2019-05-27 06:48:44,198 Iter 1904, Minibatch Loss= 0.0185, Training Accuracy= 0.9967, Minibatch error= 0.3%\n",
      "2019-05-27 06:49:10,346 Iter 1906, Minibatch Loss= 0.0931, Training Accuracy= 0.9644, Minibatch error= 3.6%\n",
      "2019-05-27 06:49:36,550 Iter 1908, Minibatch Loss= 0.0047, Training Accuracy= 0.9992, Minibatch error= 0.1%\n",
      "2019-05-27 06:50:02,762 Iter 1910, Minibatch Loss= 0.0160, Training Accuracy= 0.9955, Minibatch error= 0.5%\n",
      "2019-05-27 06:50:28,894 Iter 1912, Minibatch Loss= 0.0003, Training Accuracy= 1.0000, Minibatch error= 0.0%\n",
      "2019-05-27 06:50:55,885 Iter 1914, Minibatch Loss= 0.1599, Training Accuracy= 0.9399, Minibatch error= 6.0%\n",
      "2019-05-27 06:51:22,255 Iter 1916, Minibatch Loss= 0.0938, Training Accuracy= 0.9644, Minibatch error= 3.6%\n",
      "2019-05-27 06:51:48,298 Iter 1918, Minibatch Loss= 0.0004, Training Accuracy= 1.0000, Minibatch error= 0.0%\n",
      "2019-05-27 06:51:59,815 Epoch 59, Average loss: 0.0565, learning rate: 0.0097\n",
      "2019-05-27 06:52:18,538 Verification error= 0.2%, loss= 0.0086\n",
      "2019-05-27 06:52:34,777 Iter 1920, Minibatch Loss= 0.2002, Training Accuracy= 0.9348, Minibatch error= 6.5%\n",
      "2019-05-27 06:53:01,014 Iter 1922, Minibatch Loss= 0.0158, Training Accuracy= 0.9955, Minibatch error= 0.5%\n",
      "2019-05-27 06:53:26,858 Iter 1924, Minibatch Loss= 0.0006, Training Accuracy= 1.0000, Minibatch error= 0.0%\n",
      "2019-05-27 06:53:53,306 Iter 1926, Minibatch Loss= 0.0579, Training Accuracy= 0.9876, Minibatch error= 1.2%\n",
      "2019-05-27 06:54:19,552 Iter 1928, Minibatch Loss= 0.0178, Training Accuracy= 0.9967, Minibatch error= 0.3%\n",
      "2019-05-27 06:54:45,496 Iter 1930, Minibatch Loss= 0.0048, Training Accuracy= 0.9992, Minibatch error= 0.1%\n",
      "2019-05-27 06:55:11,713 Iter 1932, Minibatch Loss= 0.0568, Training Accuracy= 0.9876, Minibatch error= 1.2%\n",
      "2019-05-27 06:55:37,752 Iter 1934, Minibatch Loss= 0.0178, Training Accuracy= 0.9967, Minibatch error= 0.3%\n",
      "2019-05-27 06:56:03,789 Iter 1936, Minibatch Loss= 0.0070, Training Accuracy= 0.9992, Minibatch error= 0.1%\n",
      "2019-05-27 06:56:30,069 Iter 1938, Minibatch Loss= 0.0882, Training Accuracy= 0.9701, Minibatch error= 3.0%\n",
      "2019-05-27 06:56:56,125 Iter 1940, Minibatch Loss= 0.0932, Training Accuracy= 0.9644, Minibatch error= 3.6%\n",
      "2019-05-27 06:57:22,357 Iter 1942, Minibatch Loss= 0.0005, Training Accuracy= 1.0000, Minibatch error= 0.0%\n",
      "2019-05-27 06:57:48,715 Iter 1944, Minibatch Loss= 0.0003, Training Accuracy= 1.0000, Minibatch error= 0.0%\n",
      "2019-05-27 06:58:15,323 Iter 1946, Minibatch Loss= 0.1976, Training Accuracy= 0.9348, Minibatch error= 6.5%\n",
      "2019-05-27 06:58:41,847 Iter 1948, Minibatch Loss= 0.0587, Training Accuracy= 0.9876, Minibatch error= 1.2%\n",
      "2019-05-27 06:59:08,154 Iter 1950, Minibatch Loss= 0.1587, Training Accuracy= 0.9399, Minibatch error= 6.0%\n",
      "2019-05-27 06:59:19,800 Epoch 60, Average loss: 0.0662, learning rate: 0.0092\n",
      "2019-05-27 06:59:38,444 Verification error= 0.2%, loss= 0.0088\n",
      "2019-05-27 06:59:54,466 Iter 1952, Minibatch Loss= 0.0074, Training Accuracy= 0.9992, Minibatch error= 0.1%\n",
      "2019-05-27 07:00:20,652 Iter 1954, Minibatch Loss= 0.0005, Training Accuracy= 1.0000, Minibatch error= 0.0%\n",
      "2019-05-27 07:00:46,799 Iter 1956, Minibatch Loss= 0.0071, Training Accuracy= 0.9992, Minibatch error= 0.1%\n",
      "2019-05-27 07:01:12,854 Iter 1958, Minibatch Loss= 0.0160, Training Accuracy= 0.9955, Minibatch error= 0.5%\n",
      "2019-05-27 07:01:39,201 Iter 1960, Minibatch Loss= 0.0873, Training Accuracy= 0.9701, Minibatch error= 3.0%\n",
      "2019-05-27 07:02:05,424 Iter 1962, Minibatch Loss= 0.0936, Training Accuracy= 0.9644, Minibatch error= 3.6%\n",
      "2019-05-27 07:02:31,852 Iter 1964, Minibatch Loss= 0.0582, Training Accuracy= 0.9876, Minibatch error= 1.2%\n",
      "2019-05-27 07:02:58,177 Iter 1966, Minibatch Loss= 0.0922, Training Accuracy= 0.9644, Minibatch error= 3.6%\n",
      "2019-05-27 07:03:24,157 Iter 1968, Minibatch Loss= 0.0005, Training Accuracy= 1.0000, Minibatch error= 0.0%\n"
     ]
    },
    {
     "name": "stderr",
     "output_type": "stream",
     "text": [
      "2019-05-27 07:03:50,327 Iter 1970, Minibatch Loss= 0.0187, Training Accuracy= 0.9967, Minibatch error= 0.3%\n",
      "2019-05-27 07:04:16,611 Iter 1972, Minibatch Loss= 0.0003, Training Accuracy= 1.0000, Minibatch error= 0.0%\n",
      "2019-05-27 07:04:42,817 Iter 1974, Minibatch Loss= 0.0578, Training Accuracy= 0.9876, Minibatch error= 1.2%\n",
      "2019-05-27 07:05:09,355 Iter 1976, Minibatch Loss= 0.1588, Training Accuracy= 0.9399, Minibatch error= 6.0%\n",
      "2019-05-27 07:05:35,491 Iter 1978, Minibatch Loss= 0.0927, Training Accuracy= 0.9644, Minibatch error= 3.6%\n",
      "2019-05-27 07:06:01,789 Iter 1980, Minibatch Loss= 0.0048, Training Accuracy= 0.9992, Minibatch error= 0.1%\n",
      "2019-05-27 07:06:28,245 Iter 1982, Minibatch Loss= 0.1982, Training Accuracy= 0.9348, Minibatch error= 6.5%\n",
      "2019-05-27 07:06:39,811 Epoch 61, Average loss: 0.0611, learning rate: 0.0088\n",
      "2019-05-27 07:06:58,422 Verification error= 0.2%, loss= 0.0089\n",
      "2019-05-27 07:07:14,643 Iter 1984, Minibatch Loss= 0.0584, Training Accuracy= 0.9876, Minibatch error= 1.2%\n",
      "2019-05-27 07:07:40,790 Iter 1986, Minibatch Loss= 0.0882, Training Accuracy= 0.9701, Minibatch error= 3.0%\n",
      "2019-05-27 07:08:07,031 Iter 1988, Minibatch Loss= 0.0929, Training Accuracy= 0.9644, Minibatch error= 3.6%\n",
      "2019-05-27 07:08:33,619 Iter 1990, Minibatch Loss= 0.0882, Training Accuracy= 0.9701, Minibatch error= 3.0%\n",
      "2019-05-27 07:08:59,917 Iter 1992, Minibatch Loss= 0.0580, Training Accuracy= 0.9876, Minibatch error= 1.2%\n",
      "2019-05-27 07:09:26,046 Iter 1994, Minibatch Loss= 0.0005, Training Accuracy= 1.0000, Minibatch error= 0.0%\n",
      "2019-05-27 07:09:52,028 Iter 1996, Minibatch Loss= 0.0159, Training Accuracy= 0.9955, Minibatch error= 0.5%\n",
      "2019-05-27 07:10:18,385 Iter 1998, Minibatch Loss= 0.0568, Training Accuracy= 0.9876, Minibatch error= 1.2%\n",
      "2019-05-27 07:10:44,636 Iter 2000, Minibatch Loss= 0.0172, Training Accuracy= 0.9967, Minibatch error= 0.3%\n",
      "2019-05-27 07:11:10,865 Iter 2002, Minibatch Loss= 0.1599, Training Accuracy= 0.9399, Minibatch error= 6.0%\n",
      "2019-05-27 07:11:37,107 Iter 2004, Minibatch Loss= 0.0159, Training Accuracy= 0.9955, Minibatch error= 0.5%\n",
      "2019-05-27 07:12:03,339 Iter 2006, Minibatch Loss= 0.0925, Training Accuracy= 0.9644, Minibatch error= 3.6%\n",
      "2019-05-27 07:12:29,678 Iter 2008, Minibatch Loss= 0.0074, Training Accuracy= 0.9992, Minibatch error= 0.1%\n",
      "2019-05-27 07:12:55,956 Iter 2010, Minibatch Loss= 0.1975, Training Accuracy= 0.9348, Minibatch error= 6.5%\n",
      "2019-05-27 07:13:22,121 Iter 2012, Minibatch Loss= 0.0074, Training Accuracy= 0.9992, Minibatch error= 0.1%\n",
      "2019-05-27 07:13:48,618 Iter 2014, Minibatch Loss= 0.1587, Training Accuracy= 0.9399, Minibatch error= 6.0%\n",
      "2019-05-27 07:14:00,276 Epoch 62, Average loss: 0.0640, learning rate: 0.0083\n",
      "2019-05-27 07:14:19,004 Verification error= 0.2%, loss= 0.0088\n",
      "2019-05-27 07:14:35,512 Iter 2016, Minibatch Loss= 0.0886, Training Accuracy= 0.9701, Minibatch error= 3.0%\n",
      "2019-05-27 07:15:01,649 Iter 2018, Minibatch Loss= 0.0159, Training Accuracy= 0.9955, Minibatch error= 0.5%\n",
      "2019-05-27 07:15:27,928 Iter 2020, Minibatch Loss= 0.0005, Training Accuracy= 1.0000, Minibatch error= 0.0%\n",
      "2019-05-27 07:15:54,270 Iter 2022, Minibatch Loss= 0.1586, Training Accuracy= 0.9399, Minibatch error= 6.0%\n",
      "2019-05-27 07:16:20,726 Iter 2024, Minibatch Loss= 0.0876, Training Accuracy= 0.9701, Minibatch error= 3.0%\n",
      "2019-05-27 07:16:46,708 Iter 2026, Minibatch Loss= 0.0160, Training Accuracy= 0.9955, Minibatch error= 0.5%\n",
      "2019-05-27 07:17:12,762 Iter 2028, Minibatch Loss= 0.0048, Training Accuracy= 0.9992, Minibatch error= 0.1%\n",
      "2019-05-27 07:17:38,608 Iter 2030, Minibatch Loss= 0.0074, Training Accuracy= 0.9992, Minibatch error= 0.1%\n",
      "2019-05-27 07:18:04,769 Iter 2032, Minibatch Loss= 0.0158, Training Accuracy= 0.9955, Minibatch error= 0.5%\n",
      "2019-05-27 07:18:31,113 Iter 2034, Minibatch Loss= 0.0003, Training Accuracy= 1.0000, Minibatch error= 0.0%\n",
      "2019-05-27 07:18:57,066 Iter 2036, Minibatch Loss= 0.0916, Training Accuracy= 0.9644, Minibatch error= 3.6%\n",
      "2019-05-27 07:19:23,252 Iter 2038, Minibatch Loss= 0.0076, Training Accuracy= 0.9992, Minibatch error= 0.1%\n",
      "2019-05-27 07:19:49,442 Iter 2040, Minibatch Loss= 0.0049, Training Accuracy= 0.9992, Minibatch error= 0.1%\n",
      "2019-05-27 07:20:15,654 Iter 2042, Minibatch Loss= 0.0877, Training Accuracy= 0.9701, Minibatch error= 3.0%\n",
      "2019-05-27 07:20:41,864 Iter 2044, Minibatch Loss= 0.1999, Training Accuracy= 0.9348, Minibatch error= 6.5%\n",
      "2019-05-27 07:21:08,150 Iter 2046, Minibatch Loss= 0.0573, Training Accuracy= 0.9876, Minibatch error= 1.2%\n",
      "2019-05-27 07:21:19,703 Epoch 63, Average loss: 0.0577, learning rate: 0.0079\n",
      "2019-05-27 07:21:38,323 Verification error= 0.2%, loss= 0.0086\n",
      "2019-05-27 07:21:54,593 Iter 2048, Minibatch Loss= 0.0931, Training Accuracy= 0.9644, Minibatch error= 3.6%\n",
      "2019-05-27 07:22:20,886 Iter 2050, Minibatch Loss= 0.1587, Training Accuracy= 0.9399, Minibatch error= 6.0%\n",
      "2019-05-27 07:22:47,070 Iter 2052, Minibatch Loss= 0.0003, Training Accuracy= 1.0000, Minibatch error= 0.0%\n",
      "2019-05-27 07:23:13,336 Iter 2054, Minibatch Loss= 0.1989, Training Accuracy= 0.9348, Minibatch error= 6.5%\n",
      "2019-05-27 07:23:39,387 Iter 2056, Minibatch Loss= 0.0919, Training Accuracy= 0.9644, Minibatch error= 3.6%\n",
      "2019-05-27 07:24:05,440 Iter 2058, Minibatch Loss= 0.0005, Training Accuracy= 1.0000, Minibatch error= 0.0%\n",
      "2019-05-27 07:24:31,754 Iter 2060, Minibatch Loss= 0.0075, Training Accuracy= 0.9992, Minibatch error= 0.1%\n",
      "2019-05-27 07:24:57,687 Iter 2062, Minibatch Loss= 0.0158, Training Accuracy= 0.9955, Minibatch error= 0.5%\n",
      "2019-05-27 07:25:24,077 Iter 2064, Minibatch Loss= 0.0048, Training Accuracy= 0.9992, Minibatch error= 0.1%\n",
      "2019-05-27 07:25:49,955 Iter 2066, Minibatch Loss= 0.0003, Training Accuracy= 1.0000, Minibatch error= 0.0%\n",
      "2019-05-27 07:26:16,290 Iter 2068, Minibatch Loss= 0.0175, Training Accuracy= 0.9967, Minibatch error= 0.3%\n",
      "2019-05-27 07:26:42,762 Iter 2070, Minibatch Loss= 0.0562, Training Accuracy= 0.9876, Minibatch error= 1.2%\n",
      "2019-05-27 07:27:09,307 Iter 2072, Minibatch Loss= 0.1591, Training Accuracy= 0.9399, Minibatch error= 6.0%\n",
      "2019-05-27 07:27:36,117 Iter 2074, Minibatch Loss= 0.1990, Training Accuracy= 0.9348, Minibatch error= 6.5%\n",
      "2019-05-27 07:28:02,226 Iter 2076, Minibatch Loss= 0.0005, Training Accuracy= 1.0000, Minibatch error= 0.0%\n",
      "2019-05-27 07:28:28,726 Iter 2078, Minibatch Loss= 0.0885, Training Accuracy= 0.9701, Minibatch error= 3.0%\n",
      "2019-05-27 07:28:40,292 Epoch 64, Average loss: 0.0622, learning rate: 0.0075\n",
      "2019-05-27 07:28:58,850 Verification error= 0.2%, loss= 0.0087\n",
      "2019-05-27 07:29:15,407 Iter 2080, Minibatch Loss= 0.1583, Training Accuracy= 0.9399, Minibatch error= 6.0%\n",
      "2019-05-27 07:29:41,692 Iter 2082, Minibatch Loss= 0.0073, Training Accuracy= 0.9992, Minibatch error= 0.1%\n",
      "2019-05-27 07:30:07,945 Iter 2084, Minibatch Loss= 0.0048, Training Accuracy= 0.9992, Minibatch error= 0.1%\n",
      "2019-05-27 07:30:34,318 Iter 2086, Minibatch Loss= 0.1975, Training Accuracy= 0.9348, Minibatch error= 6.5%\n",
      "2019-05-27 07:31:00,275 Iter 2088, Minibatch Loss= 0.0076, Training Accuracy= 0.9992, Minibatch error= 0.1%\n",
      "2019-05-27 07:31:26,533 Iter 2090, Minibatch Loss= 0.0887, Training Accuracy= 0.9701, Minibatch error= 3.0%\n",
      "2019-05-27 07:31:52,790 Iter 2092, Minibatch Loss= 0.0573, Training Accuracy= 0.9876, Minibatch error= 1.2%\n",
      "2019-05-27 07:32:19,001 Iter 2094, Minibatch Loss= 0.0004, Training Accuracy= 1.0000, Minibatch error= 0.0%\n",
      "2019-05-27 07:32:45,111 Iter 2096, Minibatch Loss= 0.0003, Training Accuracy= 1.0000, Minibatch error= 0.0%\n",
      "2019-05-27 07:33:11,451 Iter 2098, Minibatch Loss= 0.1586, Training Accuracy= 0.9399, Minibatch error= 6.0%\n",
      "2019-05-27 07:33:37,525 Iter 2100, Minibatch Loss= 0.0048, Training Accuracy= 0.9992, Minibatch error= 0.1%\n",
      "2019-05-27 07:34:03,627 Iter 2102, Minibatch Loss= 0.0932, Training Accuracy= 0.9644, Minibatch error= 3.6%\n",
      "2019-05-27 07:34:29,704 Iter 2104, Minibatch Loss= 0.0159, Training Accuracy= 0.9955, Minibatch error= 0.5%\n",
      "2019-05-27 07:34:56,233 Iter 2106, Minibatch Loss= 0.1984, Training Accuracy= 0.9348, Minibatch error= 6.5%\n",
      "2019-05-27 07:35:22,388 Iter 2108, Minibatch Loss= 0.0180, Training Accuracy= 0.9967, Minibatch error= 0.3%\n",
      "2019-05-27 07:35:48,564 Iter 2110, Minibatch Loss= 0.0572, Training Accuracy= 0.9876, Minibatch error= 1.2%\n"
     ]
    },
    {
     "name": "stderr",
     "output_type": "stream",
     "text": [
      "2019-05-27 07:36:00,183 Epoch 65, Average loss: 0.0614, learning rate: 0.0071\n",
      "2019-05-27 07:36:18,773 Verification error= 0.2%, loss= 0.0086\n",
      "2019-05-27 07:36:34,954 Iter 2112, Minibatch Loss= 0.0004, Training Accuracy= 1.0000, Minibatch error= 0.0%\n",
      "2019-05-27 07:37:00,993 Iter 2114, Minibatch Loss= 0.0002, Training Accuracy= 1.0000, Minibatch error= 0.0%\n",
      "2019-05-27 07:37:27,376 Iter 2116, Minibatch Loss= 0.2002, Training Accuracy= 0.9348, Minibatch error= 6.5%\n",
      "2019-05-27 07:37:53,373 Iter 2118, Minibatch Loss= 0.0925, Training Accuracy= 0.9644, Minibatch error= 3.6%\n",
      "2019-05-27 07:38:19,617 Iter 2120, Minibatch Loss= 0.0005, Training Accuracy= 1.0000, Minibatch error= 0.0%\n",
      "2019-05-27 07:38:45,603 Iter 2122, Minibatch Loss= 0.0928, Training Accuracy= 0.9644, Minibatch error= 3.6%\n",
      "2019-05-27 07:39:11,963 Iter 2124, Minibatch Loss= 0.1978, Training Accuracy= 0.9348, Minibatch error= 6.5%\n",
      "2019-05-27 07:39:37,910 Iter 2126, Minibatch Loss= 0.0003, Training Accuracy= 1.0000, Minibatch error= 0.0%\n",
      "2019-05-27 07:40:04,013 Iter 2128, Minibatch Loss= 0.0073, Training Accuracy= 0.9992, Minibatch error= 0.1%\n",
      "2019-05-27 07:40:30,183 Iter 2130, Minibatch Loss= 0.0003, Training Accuracy= 1.0000, Minibatch error= 0.0%\n",
      "2019-05-27 07:40:56,201 Iter 2132, Minibatch Loss= 0.0180, Training Accuracy= 0.9967, Minibatch error= 0.3%\n",
      "2019-05-27 07:41:22,160 Iter 2134, Minibatch Loss= 0.0049, Training Accuracy= 0.9992, Minibatch error= 0.1%\n",
      "2019-05-27 07:41:48,278 Iter 2136, Minibatch Loss= 0.0881, Training Accuracy= 0.9701, Minibatch error= 3.0%\n",
      "2019-05-27 07:42:14,623 Iter 2138, Minibatch Loss= 0.0574, Training Accuracy= 0.9876, Minibatch error= 1.2%\n",
      "2019-05-27 07:42:40,626 Iter 2140, Minibatch Loss= 0.0927, Training Accuracy= 0.9644, Minibatch error= 3.6%\n",
      "2019-05-27 07:43:06,710 Iter 2142, Minibatch Loss= 0.0158, Training Accuracy= 0.9955, Minibatch error= 0.5%\n",
      "2019-05-27 07:43:18,301 Epoch 66, Average loss: 0.0606, learning rate: 0.0068\n",
      "2019-05-27 07:43:36,933 Verification error= 0.2%, loss= 0.0087\n",
      "2019-05-27 07:43:53,110 Iter 2144, Minibatch Loss= 0.0003, Training Accuracy= 1.0000, Minibatch error= 0.0%\n",
      "2019-05-27 07:44:19,326 Iter 2146, Minibatch Loss= 0.0048, Training Accuracy= 0.9992, Minibatch error= 0.1%\n",
      "2019-05-27 07:44:45,400 Iter 2148, Minibatch Loss= 0.0181, Training Accuracy= 0.9967, Minibatch error= 0.3%\n",
      "2019-05-27 07:45:11,665 Iter 2150, Minibatch Loss= 0.1993, Training Accuracy= 0.9348, Minibatch error= 6.5%\n",
      "2019-05-27 07:45:37,769 Iter 2152, Minibatch Loss= 0.0158, Training Accuracy= 0.9955, Minibatch error= 0.5%\n",
      "2019-05-27 07:46:03,619 Iter 2154, Minibatch Loss= 0.0178, Training Accuracy= 0.9967, Minibatch error= 0.3%\n",
      "2019-05-27 07:46:29,760 Iter 2156, Minibatch Loss= 0.0002, Training Accuracy= 1.0000, Minibatch error= 0.0%\n",
      "2019-05-27 07:46:56,076 Iter 2158, Minibatch Loss= 0.1994, Training Accuracy= 0.9348, Minibatch error= 6.5%\n",
      "2019-05-27 07:47:22,042 Iter 2160, Minibatch Loss= 0.0048, Training Accuracy= 0.9992, Minibatch error= 0.1%\n",
      "2019-05-27 07:47:48,145 Iter 2162, Minibatch Loss= 0.0923, Training Accuracy= 0.9644, Minibatch error= 3.6%\n",
      "2019-05-27 07:48:14,548 Iter 2164, Minibatch Loss= 0.0183, Training Accuracy= 0.9967, Minibatch error= 0.3%\n",
      "2019-05-27 07:48:40,876 Iter 2166, Minibatch Loss= 0.0574, Training Accuracy= 0.9876, Minibatch error= 1.2%\n",
      "2019-05-27 07:49:07,435 Iter 2168, Minibatch Loss= 0.0880, Training Accuracy= 0.9701, Minibatch error= 3.0%\n",
      "2019-05-27 07:49:33,595 Iter 2170, Minibatch Loss= 0.0073, Training Accuracy= 0.9992, Minibatch error= 0.1%\n",
      "2019-05-27 07:49:59,884 Iter 2172, Minibatch Loss= 0.1582, Training Accuracy= 0.9399, Minibatch error= 6.0%\n",
      "2019-05-27 07:50:25,664 Iter 2174, Minibatch Loss= 0.0003, Training Accuracy= 1.0000, Minibatch error= 0.0%\n",
      "2019-05-27 07:50:37,224 Epoch 67, Average loss: 0.0592, learning rate: 0.0064\n",
      "2019-05-27 07:50:55,872 Verification error= 0.2%, loss= 0.0087\n",
      "2019-05-27 07:51:12,270 Iter 2176, Minibatch Loss= 0.0918, Training Accuracy= 0.9644, Minibatch error= 3.6%\n",
      "2019-05-27 07:51:38,388 Iter 2178, Minibatch Loss= 0.0186, Training Accuracy= 0.9967, Minibatch error= 0.3%\n",
      "2019-05-27 07:52:04,737 Iter 2180, Minibatch Loss= 0.0880, Training Accuracy= 0.9701, Minibatch error= 3.0%\n",
      "2019-05-27 07:52:30,960 Iter 2182, Minibatch Loss= 0.0572, Training Accuracy= 0.9876, Minibatch error= 1.2%\n",
      "2019-05-27 07:52:57,103 Iter 2184, Minibatch Loss= 0.1991, Training Accuracy= 0.9348, Minibatch error= 6.5%\n",
      "2019-05-27 07:53:23,580 Iter 2186, Minibatch Loss= 0.0876, Training Accuracy= 0.9701, Minibatch error= 3.0%\n",
      "2019-05-27 07:53:50,059 Iter 2188, Minibatch Loss= 0.0574, Training Accuracy= 0.9876, Minibatch error= 1.2%\n",
      "2019-05-27 07:54:16,193 Iter 2190, Minibatch Loss= 0.0159, Training Accuracy= 0.9955, Minibatch error= 0.5%\n",
      "2019-05-27 07:54:42,366 Iter 2192, Minibatch Loss= 0.0002, Training Accuracy= 1.0000, Minibatch error= 0.0%\n",
      "2019-05-27 07:55:08,331 Iter 2194, Minibatch Loss= 0.0047, Training Accuracy= 0.9992, Minibatch error= 0.1%\n",
      "2019-05-27 07:55:34,471 Iter 2196, Minibatch Loss= 0.0005, Training Accuracy= 1.0000, Minibatch error= 0.0%\n",
      "2019-05-27 07:56:00,899 Iter 2198, Minibatch Loss= 0.1580, Training Accuracy= 0.9399, Minibatch error= 6.0%\n",
      "2019-05-27 07:56:27,365 Iter 2200, Minibatch Loss= 0.0879, Training Accuracy= 0.9701, Minibatch error= 3.0%\n",
      "2019-05-27 07:56:53,419 Iter 2202, Minibatch Loss= 0.0048, Training Accuracy= 0.9992, Minibatch error= 0.1%\n",
      "2019-05-27 07:57:19,388 Iter 2204, Minibatch Loss= 0.0576, Training Accuracy= 0.9876, Minibatch error= 1.2%\n",
      "2019-05-27 07:57:45,723 Iter 2206, Minibatch Loss= 0.1987, Training Accuracy= 0.9348, Minibatch error= 6.5%\n",
      "2019-05-27 07:57:57,365 Epoch 68, Average loss: 0.0625, learning rate: 0.0061\n",
      "2019-05-27 07:58:15,999 Verification error= 0.2%, loss= 0.0088\n",
      "2019-05-27 07:58:32,173 Iter 2208, Minibatch Loss= 0.0003, Training Accuracy= 1.0000, Minibatch error= 0.0%\n",
      "2019-05-27 07:58:58,603 Iter 2210, Minibatch Loss= 0.1980, Training Accuracy= 0.9348, Minibatch error= 6.5%\n",
      "2019-05-27 07:59:24,718 Iter 2212, Minibatch Loss= 0.0917, Training Accuracy= 0.9644, Minibatch error= 3.6%\n",
      "2019-05-27 07:59:50,730 Iter 2214, Minibatch Loss= 0.0049, Training Accuracy= 0.9992, Minibatch error= 0.1%\n",
      "2019-05-27 08:00:16,807 Iter 2216, Minibatch Loss= 0.0005, Training Accuracy= 1.0000, Minibatch error= 0.0%\n",
      "2019-05-27 08:00:42,961 Iter 2218, Minibatch Loss= 0.0876, Training Accuracy= 0.9701, Minibatch error= 3.0%\n",
      "2019-05-27 08:01:09,306 Iter 2220, Minibatch Loss= 0.0183, Training Accuracy= 0.9967, Minibatch error= 0.3%\n",
      "2019-05-27 08:01:35,433 Iter 2222, Minibatch Loss= 0.0918, Training Accuracy= 0.9644, Minibatch error= 3.6%\n",
      "2019-05-27 08:02:01,742 Iter 2224, Minibatch Loss= 0.0580, Training Accuracy= 0.9876, Minibatch error= 1.2%\n",
      "2019-05-27 08:02:27,692 Iter 2226, Minibatch Loss= 0.0158, Training Accuracy= 0.9955, Minibatch error= 0.5%\n",
      "2019-05-27 08:02:53,667 Iter 2228, Minibatch Loss= 0.0073, Training Accuracy= 0.9992, Minibatch error= 0.1%\n",
      "2019-05-27 08:03:19,605 Iter 2230, Minibatch Loss= 0.0003, Training Accuracy= 1.0000, Minibatch error= 0.0%\n",
      "2019-05-27 08:03:45,723 Iter 2232, Minibatch Loss= 0.0005, Training Accuracy= 1.0000, Minibatch error= 0.0%\n",
      "2019-05-27 08:04:12,029 Iter 2234, Minibatch Loss= 0.1581, Training Accuracy= 0.9399, Minibatch error= 6.0%\n",
      "2019-05-27 08:04:38,299 Iter 2236, Minibatch Loss= 0.0178, Training Accuracy= 0.9967, Minibatch error= 0.3%\n",
      "2019-05-27 08:05:04,468 Iter 2238, Minibatch Loss= 0.0158, Training Accuracy= 0.9955, Minibatch error= 0.5%\n",
      "2019-05-27 08:05:16,001 Epoch 69, Average loss: 0.0574, learning rate: 0.0058\n",
      "2019-05-27 08:05:34,578 Verification error= 0.2%, loss= 0.0087\n",
      "2019-05-27 08:05:50,746 Iter 2240, Minibatch Loss= 0.0158, Training Accuracy= 0.9955, Minibatch error= 0.5%\n",
      "2019-05-27 08:06:16,939 Iter 2242, Minibatch Loss= 0.0049, Training Accuracy= 0.9992, Minibatch error= 0.1%\n",
      "2019-05-27 08:06:43,409 Iter 2244, Minibatch Loss= 0.1978, Training Accuracy= 0.9348, Minibatch error= 6.5%\n",
      "2019-05-27 08:07:09,753 Iter 2246, Minibatch Loss= 0.1578, Training Accuracy= 0.9399, Minibatch error= 6.0%\n",
      "2019-05-27 08:07:35,875 Iter 2248, Minibatch Loss= 0.0184, Training Accuracy= 0.9967, Minibatch error= 0.3%\n",
      "2019-05-27 08:08:02,156 Iter 2250, Minibatch Loss= 0.0878, Training Accuracy= 0.9701, Minibatch error= 3.0%\n"
     ]
    },
    {
     "name": "stderr",
     "output_type": "stream",
     "text": [
      "2019-05-27 08:08:28,306 Iter 2252, Minibatch Loss= 0.0183, Training Accuracy= 0.9967, Minibatch error= 0.3%\n",
      "2019-05-27 08:08:54,417 Iter 2254, Minibatch Loss= 0.0159, Training Accuracy= 0.9955, Minibatch error= 0.5%\n",
      "2019-05-27 08:09:20,445 Iter 2256, Minibatch Loss= 0.0072, Training Accuracy= 0.9992, Minibatch error= 0.1%\n",
      "2019-05-27 08:09:46,669 Iter 2258, Minibatch Loss= 0.0571, Training Accuracy= 0.9876, Minibatch error= 1.2%\n",
      "2019-05-27 08:10:13,034 Iter 2260, Minibatch Loss= 0.1584, Training Accuracy= 0.9399, Minibatch error= 6.0%\n",
      "2019-05-27 08:10:39,159 Iter 2262, Minibatch Loss= 0.0048, Training Accuracy= 0.9992, Minibatch error= 0.1%\n",
      "2019-05-27 08:11:05,760 Iter 2264, Minibatch Loss= 0.0880, Training Accuracy= 0.9701, Minibatch error= 3.0%\n",
      "2019-05-27 08:11:32,176 Iter 2266, Minibatch Loss= 0.1579, Training Accuracy= 0.9399, Minibatch error= 6.0%\n",
      "2019-05-27 08:11:58,245 Iter 2268, Minibatch Loss= 0.0159, Training Accuracy= 0.9955, Minibatch error= 0.5%\n",
      "2019-05-27 08:12:24,536 Iter 2270, Minibatch Loss= 0.0924, Training Accuracy= 0.9644, Minibatch error= 3.6%\n",
      "2019-05-27 08:12:36,044 Epoch 70, Average loss: 0.0624, learning rate: 0.0055\n",
      "2019-05-27 08:12:54,672 Verification error= 0.2%, loss= 0.0087\n",
      "2019-05-27 08:13:10,888 Iter 2272, Minibatch Loss= 0.0003, Training Accuracy= 1.0000, Minibatch error= 0.0%\n",
      "2019-05-27 08:13:36,941 Iter 2274, Minibatch Loss= 0.0005, Training Accuracy= 1.0000, Minibatch error= 0.0%\n",
      "2019-05-27 08:14:03,109 Iter 2276, Minibatch Loss= 0.1579, Training Accuracy= 0.9399, Minibatch error= 6.0%\n",
      "2019-05-27 08:14:29,262 Iter 2278, Minibatch Loss= 0.0048, Training Accuracy= 0.9992, Minibatch error= 0.1%\n",
      "2019-05-27 08:14:55,330 Iter 2280, Minibatch Loss= 0.0574, Training Accuracy= 0.9876, Minibatch error= 1.2%\n",
      "2019-05-27 08:15:21,417 Iter 2282, Minibatch Loss= 0.0159, Training Accuracy= 0.9955, Minibatch error= 0.5%\n",
      "2019-05-27 08:15:47,755 Iter 2284, Minibatch Loss= 0.0874, Training Accuracy= 0.9701, Minibatch error= 3.0%\n",
      "2019-05-27 08:16:14,090 Iter 2286, Minibatch Loss= 0.0003, Training Accuracy= 1.0000, Minibatch error= 0.0%\n",
      "2019-05-27 08:16:40,062 Iter 2288, Minibatch Loss= 0.0158, Training Accuracy= 0.9955, Minibatch error= 0.5%\n",
      "2019-05-27 08:17:06,259 Iter 2290, Minibatch Loss= 0.0574, Training Accuracy= 0.9876, Minibatch error= 1.2%\n",
      "2019-05-27 08:17:32,647 Iter 2292, Minibatch Loss= 0.1579, Training Accuracy= 0.9399, Minibatch error= 6.0%\n",
      "2019-05-27 08:17:58,731 Iter 2294, Minibatch Loss= 0.0005, Training Accuracy= 1.0000, Minibatch error= 0.0%\n",
      "2019-05-27 08:18:25,053 Iter 2296, Minibatch Loss= 0.0874, Training Accuracy= 0.9701, Minibatch error= 3.0%\n",
      "2019-05-27 08:18:51,210 Iter 2298, Minibatch Loss= 0.1992, Training Accuracy= 0.9348, Minibatch error= 6.5%\n",
      "2019-05-27 08:19:17,579 Iter 2300, Minibatch Loss= 0.1577, Training Accuracy= 0.9399, Minibatch error= 6.0%\n",
      "2019-05-27 08:19:43,611 Iter 2302, Minibatch Loss= 0.0158, Training Accuracy= 0.9955, Minibatch error= 0.5%\n",
      "2019-05-27 08:19:55,082 Epoch 71, Average loss: 0.0616, learning rate: 0.0052\n",
      "2019-05-27 08:20:13,659 Verification error= 0.2%, loss= 0.0087\n",
      "2019-05-27 08:20:29,938 Iter 2304, Minibatch Loss= 0.0049, Training Accuracy= 0.9992, Minibatch error= 0.1%\n",
      "2019-05-27 08:20:56,144 Iter 2306, Minibatch Loss= 0.0875, Training Accuracy= 0.9701, Minibatch error= 3.0%\n",
      "2019-05-27 08:21:22,341 Iter 2308, Minibatch Loss= 0.0074, Training Accuracy= 0.9992, Minibatch error= 0.1%\n",
      "2019-05-27 08:21:48,745 Iter 2310, Minibatch Loss= 0.0184, Training Accuracy= 0.9967, Minibatch error= 0.3%\n",
      "2019-05-27 08:22:14,930 Iter 2312, Minibatch Loss= 0.0003, Training Accuracy= 1.0000, Minibatch error= 0.0%\n",
      "2019-05-27 08:22:41,027 Iter 2314, Minibatch Loss= 0.0048, Training Accuracy= 0.9992, Minibatch error= 0.1%\n",
      "2019-05-27 08:23:07,543 Iter 2316, Minibatch Loss= 0.1579, Training Accuracy= 0.9399, Minibatch error= 6.0%\n",
      "2019-05-27 08:23:33,707 Iter 2318, Minibatch Loss= 0.0182, Training Accuracy= 0.9967, Minibatch error= 0.3%\n",
      "2019-05-27 08:23:59,920 Iter 2320, Minibatch Loss= 0.0002, Training Accuracy= 1.0000, Minibatch error= 0.0%\n",
      "2019-05-27 08:24:26,164 Iter 2322, Minibatch Loss= 0.0879, Training Accuracy= 0.9701, Minibatch error= 3.0%\n",
      "2019-05-27 08:24:52,327 Iter 2324, Minibatch Loss= 0.0005, Training Accuracy= 1.0000, Minibatch error= 0.0%\n",
      "2019-05-27 08:25:18,577 Iter 2326, Minibatch Loss= 0.0924, Training Accuracy= 0.9644, Minibatch error= 3.6%\n",
      "2019-05-27 08:25:44,933 Iter 2328, Minibatch Loss= 0.1976, Training Accuracy= 0.9348, Minibatch error= 6.5%\n",
      "2019-05-27 08:26:11,229 Iter 2330, Minibatch Loss= 0.0880, Training Accuracy= 0.9701, Minibatch error= 3.0%\n",
      "2019-05-27 08:26:37,348 Iter 2332, Minibatch Loss= 0.0072, Training Accuracy= 0.9992, Minibatch error= 0.1%\n",
      "2019-05-27 08:27:03,515 Iter 2334, Minibatch Loss= 0.0158, Training Accuracy= 0.9955, Minibatch error= 0.5%\n",
      "2019-05-27 08:27:14,917 Epoch 72, Average loss: 0.0560, learning rate: 0.0050\n",
      "2019-05-27 08:27:33,728 Verification error= 0.2%, loss= 0.0087\n",
      "2019-05-27 08:27:49,993 Iter 2336, Minibatch Loss= 0.0049, Training Accuracy= 0.9992, Minibatch error= 0.1%\n",
      "2019-05-27 08:28:16,335 Iter 2338, Minibatch Loss= 0.0577, Training Accuracy= 0.9876, Minibatch error= 1.2%\n",
      "2019-05-27 08:28:42,650 Iter 2340, Minibatch Loss= 0.1578, Training Accuracy= 0.9399, Minibatch error= 6.0%\n",
      "2019-05-27 08:29:09,024 Iter 2342, Minibatch Loss= 0.0873, Training Accuracy= 0.9701, Minibatch error= 3.0%\n",
      "2019-05-27 08:29:35,195 Iter 2344, Minibatch Loss= 0.0072, Training Accuracy= 0.9992, Minibatch error= 0.1%\n",
      "2019-05-27 08:30:01,527 Iter 2346, Minibatch Loss= 0.0577, Training Accuracy= 0.9876, Minibatch error= 1.2%\n",
      "2019-05-27 08:30:27,705 Iter 2348, Minibatch Loss= 0.0182, Training Accuracy= 0.9967, Minibatch error= 0.3%\n",
      "2019-05-27 08:30:53,670 Iter 2350, Minibatch Loss= 0.0048, Training Accuracy= 0.9992, Minibatch error= 0.1%\n",
      "2019-05-27 08:31:19,880 Iter 2352, Minibatch Loss= 0.0073, Training Accuracy= 0.9992, Minibatch error= 0.1%\n",
      "2019-05-27 08:31:45,925 Iter 2354, Minibatch Loss= 0.1978, Training Accuracy= 0.9348, Minibatch error= 6.5%\n",
      "2019-05-27 08:32:12,415 Iter 2356, Minibatch Loss= 0.0879, Training Accuracy= 0.9701, Minibatch error= 3.0%\n",
      "2019-05-27 08:32:38,539 Iter 2358, Minibatch Loss= 0.0179, Training Accuracy= 0.9967, Minibatch error= 0.3%\n",
      "2019-05-27 08:33:04,903 Iter 2360, Minibatch Loss= 0.0002, Training Accuracy= 1.0000, Minibatch error= 0.0%\n",
      "2019-05-27 08:33:31,113 Iter 2362, Minibatch Loss= 0.0072, Training Accuracy= 0.9992, Minibatch error= 0.1%\n",
      "2019-05-27 08:33:57,290 Iter 2364, Minibatch Loss= 0.0048, Training Accuracy= 0.9992, Minibatch error= 0.1%\n",
      "2019-05-27 08:34:23,558 Iter 2366, Minibatch Loss= 0.0180, Training Accuracy= 0.9967, Minibatch error= 0.3%\n",
      "2019-05-27 08:34:35,075 Epoch 73, Average loss: 0.0578, learning rate: 0.0047\n",
      "2019-05-27 08:34:53,719 Verification error= 0.2%, loss= 0.0087\n",
      "2019-05-27 08:35:10,094 Iter 2368, Minibatch Loss= 0.0158, Training Accuracy= 0.9955, Minibatch error= 0.5%\n",
      "2019-05-27 08:35:36,348 Iter 2370, Minibatch Loss= 0.0880, Training Accuracy= 0.9701, Minibatch error= 3.0%\n",
      "2019-05-27 08:36:02,622 Iter 2372, Minibatch Loss= 0.1577, Training Accuracy= 0.9399, Minibatch error= 6.0%\n",
      "2019-05-27 08:36:28,636 Iter 2374, Minibatch Loss= 0.0002, Training Accuracy= 1.0000, Minibatch error= 0.0%\n",
      "2019-05-27 08:36:54,636 Iter 2376, Minibatch Loss= 0.0047, Training Accuracy= 0.9992, Minibatch error= 0.1%\n",
      "2019-05-27 08:37:20,756 Iter 2378, Minibatch Loss= 0.1993, Training Accuracy= 0.9348, Minibatch error= 6.5%\n",
      "2019-05-27 08:37:46,715 Iter 2380, Minibatch Loss= 0.0158, Training Accuracy= 0.9955, Minibatch error= 0.5%\n",
      "2019-05-27 08:38:12,804 Iter 2382, Minibatch Loss= 0.0005, Training Accuracy= 1.0000, Minibatch error= 0.0%\n",
      "2019-05-27 08:38:38,877 Iter 2384, Minibatch Loss= 0.0002, Training Accuracy= 1.0000, Minibatch error= 0.0%\n",
      "2019-05-27 08:39:05,268 Iter 2386, Minibatch Loss= 0.1575, Training Accuracy= 0.9399, Minibatch error= 6.0%\n",
      "2019-05-27 08:39:31,467 Iter 2388, Minibatch Loss= 0.0049, Training Accuracy= 0.9992, Minibatch error= 0.1%\n",
      "2019-05-27 08:39:57,876 Iter 2390, Minibatch Loss= 0.0916, Training Accuracy= 0.9644, Minibatch error= 3.6%\n",
      "2019-05-27 08:40:24,028 Iter 2392, Minibatch Loss= 0.0577, Training Accuracy= 0.9876, Minibatch error= 1.2%\n"
     ]
    },
    {
     "name": "stderr",
     "output_type": "stream",
     "text": [
      "2019-05-27 08:40:49,979 Iter 2394, Minibatch Loss= 0.0179, Training Accuracy= 0.9967, Minibatch error= 0.3%\n",
      "2019-05-27 08:41:15,971 Iter 2396, Minibatch Loss= 0.0005, Training Accuracy= 1.0000, Minibatch error= 0.0%\n",
      "2019-05-27 08:41:42,207 Iter 2398, Minibatch Loss= 0.0921, Training Accuracy= 0.9644, Minibatch error= 3.6%\n",
      "2019-05-27 08:41:53,723 Epoch 74, Average loss: 0.0663, learning rate: 0.0045\n",
      "2019-05-27 08:42:12,353 Verification error= 0.2%, loss= 0.0087\n",
      "2019-05-27 08:42:28,943 Iter 2400, Minibatch Loss= 0.0576, Training Accuracy= 0.9876, Minibatch error= 1.2%\n",
      "2019-05-27 08:42:54,909 Iter 2402, Minibatch Loss= 0.0002, Training Accuracy= 1.0000, Minibatch error= 0.0%\n",
      "2019-05-27 08:43:21,320 Iter 2404, Minibatch Loss= 0.1579, Training Accuracy= 0.9399, Minibatch error= 6.0%\n",
      "2019-05-27 08:43:47,281 Iter 2406, Minibatch Loss= 0.0002, Training Accuracy= 1.0000, Minibatch error= 0.0%\n",
      "2019-05-27 08:44:13,400 Iter 2408, Minibatch Loss= 0.0929, Training Accuracy= 0.9644, Minibatch error= 3.6%\n",
      "2019-05-27 08:44:39,862 Iter 2410, Minibatch Loss= 0.1579, Training Accuracy= 0.9399, Minibatch error= 6.0%\n",
      "2019-05-27 08:45:05,788 Iter 2412, Minibatch Loss= 0.0048, Training Accuracy= 0.9992, Minibatch error= 0.1%\n",
      "2019-05-27 08:45:32,086 Iter 2414, Minibatch Loss= 0.1985, Training Accuracy= 0.9348, Minibatch error= 6.5%\n",
      "2019-05-27 08:45:58,160 Iter 2416, Minibatch Loss= 0.0048, Training Accuracy= 0.9992, Minibatch error= 0.1%\n",
      "2019-05-27 08:46:24,561 Iter 2418, Minibatch Loss= 0.0876, Training Accuracy= 0.9701, Minibatch error= 3.0%\n",
      "2019-05-27 08:46:50,764 Iter 2420, Minibatch Loss= 0.1975, Training Accuracy= 0.9348, Minibatch error= 6.5%\n",
      "2019-05-27 08:47:16,889 Iter 2422, Minibatch Loss= 0.0074, Training Accuracy= 0.9992, Minibatch error= 0.1%\n",
      "2019-05-27 08:47:42,877 Iter 2424, Minibatch Loss= 0.0181, Training Accuracy= 0.9967, Minibatch error= 0.3%\n",
      "2019-05-27 08:48:09,208 Iter 2426, Minibatch Loss= 0.0158, Training Accuracy= 0.9955, Minibatch error= 0.5%\n",
      "2019-05-27 08:48:35,258 Iter 2428, Minibatch Loss= 0.0049, Training Accuracy= 0.9992, Minibatch error= 0.1%\n",
      "2019-05-27 08:49:01,517 Iter 2430, Minibatch Loss= 0.0581, Training Accuracy= 0.9876, Minibatch error= 1.2%\n",
      "2019-05-27 08:49:13,071 Epoch 75, Average loss: 0.0656, learning rate: 0.0043\n",
      "2019-05-27 08:49:31,608 Verification error= 0.2%, loss= 0.0087\n",
      "2019-05-27 08:49:47,659 Iter 2432, Minibatch Loss= 0.0005, Training Accuracy= 1.0000, Minibatch error= 0.0%\n",
      "2019-05-27 08:50:13,818 Iter 2434, Minibatch Loss= 0.0074, Training Accuracy= 0.9992, Minibatch error= 0.1%\n",
      "2019-05-27 08:50:40,059 Iter 2436, Minibatch Loss= 0.0158, Training Accuracy= 0.9955, Minibatch error= 0.5%\n",
      "2019-05-27 08:51:06,028 Iter 2438, Minibatch Loss= 0.0002, Training Accuracy= 1.0000, Minibatch error= 0.0%\n",
      "2019-05-27 08:51:32,461 Iter 2440, Minibatch Loss= 0.1574, Training Accuracy= 0.9399, Minibatch error= 6.0%\n",
      "2019-05-27 08:51:58,504 Iter 2442, Minibatch Loss= 0.0005, Training Accuracy= 1.0000, Minibatch error= 0.0%\n",
      "2019-05-27 08:52:24,475 Iter 2444, Minibatch Loss= 0.0074, Training Accuracy= 0.9992, Minibatch error= 0.1%\n",
      "2019-05-27 08:52:50,659 Iter 2446, Minibatch Loss= 0.0920, Training Accuracy= 0.9644, Minibatch error= 3.6%\n",
      "2019-05-27 08:53:16,849 Iter 2448, Minibatch Loss= 0.0576, Training Accuracy= 0.9876, Minibatch error= 1.2%\n",
      "2019-05-27 08:53:43,177 Iter 2450, Minibatch Loss= 0.0873, Training Accuracy= 0.9701, Minibatch error= 3.0%\n",
      "2019-05-27 08:54:09,081 Iter 2452, Minibatch Loss= 0.0002, Training Accuracy= 1.0000, Minibatch error= 0.0%\n",
      "2019-05-27 08:54:35,279 Iter 2454, Minibatch Loss= 0.0048, Training Accuracy= 0.9992, Minibatch error= 0.1%\n",
      "2019-05-27 08:55:01,918 Iter 2456, Minibatch Loss= 0.1578, Training Accuracy= 0.9399, Minibatch error= 6.0%\n",
      "2019-05-27 08:55:27,927 Iter 2458, Minibatch Loss= 0.0182, Training Accuracy= 0.9967, Minibatch error= 0.3%\n",
      "2019-05-27 08:55:54,163 Iter 2460, Minibatch Loss= 0.0573, Training Accuracy= 0.9876, Minibatch error= 1.2%\n",
      "2019-05-27 08:56:20,303 Iter 2462, Minibatch Loss= 0.0159, Training Accuracy= 0.9955, Minibatch error= 0.5%\n",
      "2019-05-27 08:56:31,732 Epoch 76, Average loss: 0.0484, learning rate: 0.0041\n",
      "2019-05-27 08:56:50,297 Verification error= 0.2%, loss= 0.0086\n",
      "2019-05-27 08:57:06,684 Iter 2464, Minibatch Loss= 0.0926, Training Accuracy= 0.9644, Minibatch error= 3.6%\n",
      "2019-05-27 08:57:33,135 Iter 2466, Minibatch Loss= 0.0876, Training Accuracy= 0.9701, Minibatch error= 3.0%\n",
      "2019-05-27 08:57:59,058 Iter 2468, Minibatch Loss= 0.0002, Training Accuracy= 1.0000, Minibatch error= 0.0%\n",
      "2019-05-27 08:58:25,451 Iter 2470, Minibatch Loss= 0.1577, Training Accuracy= 0.9399, Minibatch error= 6.0%\n",
      "2019-05-27 08:58:51,684 Iter 2472, Minibatch Loss= 0.1984, Training Accuracy= 0.9348, Minibatch error= 6.5%\n",
      "2019-05-27 08:59:18,232 Iter 2474, Minibatch Loss= 0.1575, Training Accuracy= 0.9399, Minibatch error= 6.0%\n",
      "2019-05-27 08:59:44,211 Iter 2476, Minibatch Loss= 0.0073, Training Accuracy= 0.9992, Minibatch error= 0.1%\n",
      "2019-05-27 09:00:10,219 Iter 2478, Minibatch Loss= 0.0158, Training Accuracy= 0.9955, Minibatch error= 0.5%\n",
      "2019-05-27 09:00:36,255 Iter 2480, Minibatch Loss= 0.0003, Training Accuracy= 1.0000, Minibatch error= 0.0%\n",
      "2019-05-27 09:01:02,529 Iter 2482, Minibatch Loss= 0.0871, Training Accuracy= 0.9701, Minibatch error= 3.0%\n",
      "2019-05-27 09:01:28,760 Iter 2484, Minibatch Loss= 0.0570, Training Accuracy= 0.9876, Minibatch error= 1.2%\n",
      "2019-05-27 09:01:54,947 Iter 2486, Minibatch Loss= 0.0158, Training Accuracy= 0.9955, Minibatch error= 0.5%\n",
      "2019-05-27 09:02:21,310 Iter 2488, Minibatch Loss= 0.1576, Training Accuracy= 0.9399, Minibatch error= 6.0%\n",
      "2019-05-27 09:02:47,419 Iter 2490, Minibatch Loss= 0.0920, Training Accuracy= 0.9644, Minibatch error= 3.6%\n",
      "2019-05-27 09:03:13,477 Iter 2492, Minibatch Loss= 0.0002, Training Accuracy= 1.0000, Minibatch error= 0.0%\n",
      "2019-05-27 09:03:39,710 Iter 2494, Minibatch Loss= 0.1976, Training Accuracy= 0.9348, Minibatch error= 6.5%\n",
      "2019-05-27 09:03:51,178 Epoch 77, Average loss: 0.0661, learning rate: 0.0039\n",
      "2019-05-27 09:04:09,766 Verification error= 0.2%, loss= 0.0087\n",
      "2019-05-27 09:04:26,050 Iter 2496, Minibatch Loss= 0.0183, Training Accuracy= 0.9967, Minibatch error= 0.3%\n",
      "2019-05-27 09:04:52,308 Iter 2498, Minibatch Loss= 0.0915, Training Accuracy= 0.9644, Minibatch error= 3.6%\n",
      "2019-05-27 09:05:18,476 Iter 2500, Minibatch Loss= 0.0878, Training Accuracy= 0.9701, Minibatch error= 3.0%\n",
      "2019-05-27 09:05:44,284 Iter 2502, Minibatch Loss= 0.0074, Training Accuracy= 0.9992, Minibatch error= 0.1%\n",
      "2019-05-27 09:06:10,329 Iter 2504, Minibatch Loss= 0.0158, Training Accuracy= 0.9955, Minibatch error= 0.5%\n",
      "2019-05-27 09:06:36,859 Iter 2506, Minibatch Loss= 0.1977, Training Accuracy= 0.9348, Minibatch error= 6.5%\n",
      "2019-05-27 09:07:02,771 Iter 2508, Minibatch Loss= 0.0048, Training Accuracy= 0.9992, Minibatch error= 0.1%\n",
      "2019-05-27 09:07:29,126 Iter 2510, Minibatch Loss= 0.0873, Training Accuracy= 0.9701, Minibatch error= 3.0%\n",
      "2019-05-27 09:07:55,233 Iter 2512, Minibatch Loss= 0.0179, Training Accuracy= 0.9967, Minibatch error= 0.3%\n",
      "2019-05-27 09:08:21,431 Iter 2514, Minibatch Loss= 0.0002, Training Accuracy= 1.0000, Minibatch error= 0.0%\n",
      "2019-05-27 09:08:47,357 Iter 2516, Minibatch Loss= 0.0158, Training Accuracy= 0.9955, Minibatch error= 0.5%\n",
      "2019-05-27 09:09:13,308 Iter 2518, Minibatch Loss= 0.0002, Training Accuracy= 1.0000, Minibatch error= 0.0%\n",
      "2019-05-27 09:09:39,500 Iter 2520, Minibatch Loss= 0.0179, Training Accuracy= 0.9967, Minibatch error= 0.3%\n",
      "2019-05-27 09:10:05,744 Iter 2522, Minibatch Loss= 0.0867, Training Accuracy= 0.9701, Minibatch error= 3.0%\n",
      "2019-05-27 09:10:31,725 Iter 2524, Minibatch Loss= 0.0921, Training Accuracy= 0.9644, Minibatch error= 3.6%\n",
      "2019-05-27 09:10:57,618 Iter 2526, Minibatch Loss= 0.0048, Training Accuracy= 0.9992, Minibatch error= 0.1%\n",
      "2019-05-27 09:11:09,353 Epoch 78, Average loss: 0.0588, learning rate: 0.0037\n",
      "2019-05-27 09:11:27,969 Verification error= 0.2%, loss= 0.0087\n",
      "2019-05-27 09:11:44,231 Iter 2528, Minibatch Loss= 0.0073, Training Accuracy= 0.9992, Minibatch error= 0.1%\n",
      "2019-05-27 09:12:10,661 Iter 2530, Minibatch Loss= 0.1978, Training Accuracy= 0.9348, Minibatch error= 6.5%\n",
      "2019-05-27 09:12:36,829 Iter 2532, Minibatch Loss= 0.0182, Training Accuracy= 0.9967, Minibatch error= 0.3%\n"
     ]
    },
    {
     "name": "stderr",
     "output_type": "stream",
     "text": [
      "2019-05-27 09:13:02,743 Iter 2534, Minibatch Loss= 0.0002, Training Accuracy= 1.0000, Minibatch error= 0.0%\n",
      "2019-05-27 09:13:28,985 Iter 2536, Minibatch Loss= 0.1575, Training Accuracy= 0.9399, Minibatch error= 6.0%\n",
      "2019-05-27 09:13:54,908 Iter 2538, Minibatch Loss= 0.0572, Training Accuracy= 0.9876, Minibatch error= 1.2%\n",
      "2019-05-27 09:14:21,221 Iter 2540, Minibatch Loss= 0.1981, Training Accuracy= 0.9348, Minibatch error= 6.5%\n",
      "2019-05-27 09:14:47,163 Iter 2542, Minibatch Loss= 0.0003, Training Accuracy= 1.0000, Minibatch error= 0.0%\n",
      "2019-05-27 09:15:13,612 Iter 2544, Minibatch Loss= 0.1575, Training Accuracy= 0.9399, Minibatch error= 6.0%\n",
      "2019-05-27 09:15:39,637 Iter 2546, Minibatch Loss= 0.0048, Training Accuracy= 0.9992, Minibatch error= 0.1%\n",
      "2019-05-27 09:16:05,802 Iter 2548, Minibatch Loss= 0.0002, Training Accuracy= 1.0000, Minibatch error= 0.0%\n",
      "2019-05-27 09:16:31,925 Iter 2550, Minibatch Loss= 0.0181, Training Accuracy= 0.9967, Minibatch error= 0.3%\n",
      "2019-05-27 09:16:57,821 Iter 2552, Minibatch Loss= 0.0005, Training Accuracy= 1.0000, Minibatch error= 0.0%\n",
      "2019-05-27 09:17:23,686 Iter 2554, Minibatch Loss= 0.0048, Training Accuracy= 0.9992, Minibatch error= 0.1%\n",
      "2019-05-27 09:17:49,923 Iter 2556, Minibatch Loss= 0.1972, Training Accuracy= 0.9348, Minibatch error= 6.5%\n",
      "2019-05-27 09:18:16,164 Iter 2558, Minibatch Loss= 0.0578, Training Accuracy= 0.9876, Minibatch error= 1.2%\n",
      "2019-05-27 09:18:27,757 Epoch 79, Average loss: 0.0619, learning rate: 0.0035\n",
      "2019-05-27 09:18:46,397 Verification error= 0.2%, loss= 0.0086\n",
      "2019-05-27 09:19:02,844 Iter 2560, Minibatch Loss= 0.0158, Training Accuracy= 0.9955, Minibatch error= 0.5%\n",
      "2019-05-27 09:19:29,134 Iter 2562, Minibatch Loss= 0.0179, Training Accuracy= 0.9967, Minibatch error= 0.3%\n",
      "2019-05-27 09:19:55,348 Iter 2564, Minibatch Loss= 0.0073, Training Accuracy= 0.9992, Minibatch error= 0.1%\n",
      "2019-05-27 09:20:21,450 Iter 2566, Minibatch Loss= 0.0921, Training Accuracy= 0.9644, Minibatch error= 3.6%\n",
      "2019-05-27 09:20:47,395 Iter 2568, Minibatch Loss= 0.0005, Training Accuracy= 1.0000, Minibatch error= 0.0%\n",
      "2019-05-27 09:21:13,617 Iter 2570, Minibatch Loss= 0.0048, Training Accuracy= 0.9992, Minibatch error= 0.1%\n",
      "2019-05-27 09:21:39,839 Iter 2572, Minibatch Loss= 0.1971, Training Accuracy= 0.9348, Minibatch error= 6.5%\n",
      "2019-05-27 09:22:06,157 Iter 2574, Minibatch Loss= 0.0579, Training Accuracy= 0.9876, Minibatch error= 1.2%\n",
      "2019-05-27 09:22:32,063 Iter 2576, Minibatch Loss= 0.0002, Training Accuracy= 1.0000, Minibatch error= 0.0%\n",
      "2019-05-27 09:22:58,264 Iter 2578, Minibatch Loss= 0.0072, Training Accuracy= 0.9992, Minibatch error= 0.1%\n",
      "2019-05-27 09:23:24,312 Iter 2580, Minibatch Loss= 0.0005, Training Accuracy= 1.0000, Minibatch error= 0.0%\n",
      "2019-05-27 09:23:50,544 Iter 2582, Minibatch Loss= 0.0870, Training Accuracy= 0.9701, Minibatch error= 3.0%\n",
      "2019-05-27 09:24:16,883 Iter 2584, Minibatch Loss= 0.0177, Training Accuracy= 0.9967, Minibatch error= 0.3%\n",
      "2019-05-27 09:24:43,125 Iter 2586, Minibatch Loss= 0.0004, Training Accuracy= 1.0000, Minibatch error= 0.0%\n",
      "2019-05-27 09:25:09,406 Iter 2588, Minibatch Loss= 0.1991, Training Accuracy= 0.9348, Minibatch error= 6.5%\n",
      "2019-05-27 09:25:35,609 Iter 2590, Minibatch Loss= 0.0073, Training Accuracy= 0.9992, Minibatch error= 0.1%\n",
      "2019-05-27 09:25:47,041 Epoch 80, Average loss: 0.0593, learning rate: 0.0033\n",
      "2019-05-27 09:26:05,565 Verification error= 0.2%, loss= 0.0087\n",
      "2019-05-27 09:26:22,117 Iter 2592, Minibatch Loss= 0.0917, Training Accuracy= 0.9644, Minibatch error= 3.6%\n",
      "2019-05-27 09:26:48,276 Iter 2594, Minibatch Loss= 0.1969, Training Accuracy= 0.9348, Minibatch error= 6.5%\n",
      "2019-05-27 09:27:14,517 Iter 2596, Minibatch Loss= 0.0580, Training Accuracy= 0.9876, Minibatch error= 1.2%\n",
      "2019-05-27 09:27:40,993 Iter 2598, Minibatch Loss= 0.0048, Training Accuracy= 0.9992, Minibatch error= 0.1%\n",
      "2019-05-27 09:28:07,347 Iter 2600, Minibatch Loss= 0.1573, Training Accuracy= 0.9399, Minibatch error= 6.0%\n",
      "2019-05-27 09:28:33,559 Iter 2602, Minibatch Loss= 0.0181, Training Accuracy= 0.9967, Minibatch error= 0.3%\n",
      "2019-05-27 09:28:59,898 Iter 2604, Minibatch Loss= 0.0873, Training Accuracy= 0.9701, Minibatch error= 3.0%\n",
      "2019-05-27 09:29:26,107 Iter 2606, Minibatch Loss= 0.1975, Training Accuracy= 0.9348, Minibatch error= 6.5%\n",
      "2019-05-27 09:29:51,730 Iter 2608, Minibatch Loss= 0.0049, Training Accuracy= 0.9992, Minibatch error= 0.1%\n",
      "2019-05-27 09:30:17,798 Iter 2610, Minibatch Loss= 0.0002, Training Accuracy= 1.0000, Minibatch error= 0.0%\n",
      "2019-05-27 09:30:44,035 Iter 2612, Minibatch Loss= 0.0577, Training Accuracy= 0.9876, Minibatch error= 1.2%\n",
      "2019-05-27 09:31:09,984 Iter 2614, Minibatch Loss= 0.0048, Training Accuracy= 0.9992, Minibatch error= 0.1%\n",
      "2019-05-27 09:31:36,086 Iter 2616, Minibatch Loss= 0.0918, Training Accuracy= 0.9644, Minibatch error= 3.6%\n",
      "2019-05-27 09:32:02,170 Iter 2618, Minibatch Loss= 0.0182, Training Accuracy= 0.9967, Minibatch error= 0.3%\n",
      "2019-05-27 09:32:28,377 Iter 2620, Minibatch Loss= 0.0574, Training Accuracy= 0.9876, Minibatch error= 1.2%\n",
      "2019-05-27 09:32:54,430 Iter 2622, Minibatch Loss= 0.0002, Training Accuracy= 1.0000, Minibatch error= 0.0%\n",
      "2019-05-27 09:33:05,853 Epoch 81, Average loss: 0.0558, learning rate: 0.0031\n",
      "2019-05-27 09:33:24,392 Verification error= 0.2%, loss= 0.0086\n",
      "2019-05-27 09:33:40,927 Iter 2624, Minibatch Loss= 0.1986, Training Accuracy= 0.9348, Minibatch error= 6.5%\n",
      "2019-05-27 09:34:07,438 Iter 2626, Minibatch Loss= 0.1572, Training Accuracy= 0.9399, Minibatch error= 6.0%\n",
      "2019-05-27 09:34:33,593 Iter 2628, Minibatch Loss= 0.0157, Training Accuracy= 0.9955, Minibatch error= 0.5%\n",
      "2019-05-27 09:34:59,675 Iter 2630, Minibatch Loss= 0.0005, Training Accuracy= 1.0000, Minibatch error= 0.0%\n",
      "2019-05-27 09:35:25,925 Iter 2632, Minibatch Loss= 0.0182, Training Accuracy= 0.9967, Minibatch error= 0.3%\n",
      "2019-05-27 09:35:52,112 Iter 2634, Minibatch Loss= 0.0577, Training Accuracy= 0.9876, Minibatch error= 1.2%\n",
      "2019-05-27 09:36:18,427 Iter 2636, Minibatch Loss= 0.1574, Training Accuracy= 0.9399, Minibatch error= 6.0%\n",
      "2019-05-27 09:36:44,414 Iter 2638, Minibatch Loss= 0.0919, Training Accuracy= 0.9644, Minibatch error= 3.6%\n",
      "2019-05-27 09:37:10,347 Iter 2640, Minibatch Loss= 0.0005, Training Accuracy= 1.0000, Minibatch error= 0.0%\n",
      "2019-05-27 09:37:36,531 Iter 2642, Minibatch Loss= 0.0872, Training Accuracy= 0.9701, Minibatch error= 3.0%\n",
      "2019-05-27 09:38:02,663 Iter 2644, Minibatch Loss= 0.0048, Training Accuracy= 0.9992, Minibatch error= 0.1%\n",
      "2019-05-27 09:38:28,938 Iter 2646, Minibatch Loss= 0.1986, Training Accuracy= 0.9348, Minibatch error= 6.5%\n",
      "2019-05-27 09:38:55,134 Iter 2648, Minibatch Loss= 0.0869, Training Accuracy= 0.9701, Minibatch error= 3.0%\n",
      "2019-05-27 09:39:21,065 Iter 2650, Minibatch Loss= 0.0047, Training Accuracy= 0.9992, Minibatch error= 0.1%\n",
      "2019-05-27 09:39:47,450 Iter 2652, Minibatch Loss= 0.1575, Training Accuracy= 0.9399, Minibatch error= 6.0%\n",
      "2019-05-27 09:40:13,558 Iter 2654, Minibatch Loss= 0.0179, Training Accuracy= 0.9967, Minibatch error= 0.3%\n",
      "2019-05-27 09:40:24,958 Epoch 82, Average loss: 0.0684, learning rate: 0.0030\n",
      "2019-05-27 09:40:43,541 Verification error= 0.2%, loss= 0.0087\n",
      "2019-05-27 09:41:00,021 Iter 2656, Minibatch Loss= 0.0005, Training Accuracy= 1.0000, Minibatch error= 0.0%\n",
      "2019-05-27 09:41:26,033 Iter 2658, Minibatch Loss= 0.0073, Training Accuracy= 0.9992, Minibatch error= 0.1%\n",
      "2019-05-27 09:41:52,244 Iter 2660, Minibatch Loss= 0.0918, Training Accuracy= 0.9644, Minibatch error= 3.6%\n",
      "2019-05-27 09:42:18,163 Iter 2662, Minibatch Loss= 0.0005, Training Accuracy= 1.0000, Minibatch error= 0.0%\n",
      "2019-05-27 09:42:44,413 Iter 2664, Minibatch Loss= 0.1574, Training Accuracy= 0.9399, Minibatch error= 6.0%\n",
      "2019-05-27 09:43:10,530 Iter 2666, Minibatch Loss= 0.1981, Training Accuracy= 0.9348, Minibatch error= 6.5%\n",
      "2019-05-27 09:43:36,526 Iter 2668, Minibatch Loss= 0.0002, Training Accuracy= 1.0000, Minibatch error= 0.0%\n",
      "2019-05-27 09:44:02,777 Iter 2670, Minibatch Loss= 0.0872, Training Accuracy= 0.9701, Minibatch error= 3.0%\n",
      "2019-05-27 09:44:28,818 Iter 2672, Minibatch Loss= 0.0920, Training Accuracy= 0.9644, Minibatch error= 3.6%\n",
      "2019-05-27 09:44:54,640 Iter 2674, Minibatch Loss= 0.0005, Training Accuracy= 1.0000, Minibatch error= 0.0%\n"
     ]
    },
    {
     "name": "stderr",
     "output_type": "stream",
     "text": [
      "2019-05-27 09:45:20,848 Iter 2676, Minibatch Loss= 0.0048, Training Accuracy= 0.9992, Minibatch error= 0.1%\n",
      "2019-05-27 09:45:47,027 Iter 2678, Minibatch Loss= 0.0179, Training Accuracy= 0.9967, Minibatch error= 0.3%\n",
      "2019-05-27 09:46:13,010 Iter 2680, Minibatch Loss= 0.0073, Training Accuracy= 0.9992, Minibatch error= 0.1%\n",
      "2019-05-27 09:46:38,756 Iter 2682, Minibatch Loss= 0.0919, Training Accuracy= 0.9644, Minibatch error= 3.6%\n",
      "2019-05-27 09:47:04,809 Iter 2684, Minibatch Loss= 0.0158, Training Accuracy= 0.9955, Minibatch error= 0.5%\n",
      "2019-05-27 09:47:30,991 Iter 2686, Minibatch Loss= 0.1978, Training Accuracy= 0.9348, Minibatch error= 6.5%\n",
      "2019-05-27 09:47:42,551 Epoch 83, Average loss: 0.0602, learning rate: 0.0028\n",
      "2019-05-27 09:48:01,163 Verification error= 0.2%, loss= 0.0087\n",
      "2019-05-27 09:48:17,990 Iter 2688, Minibatch Loss= 0.0579, Training Accuracy= 0.9876, Minibatch error= 1.2%\n",
      "2019-05-27 09:48:44,064 Iter 2690, Minibatch Loss= 0.0002, Training Accuracy= 1.0000, Minibatch error= 0.0%\n",
      "2019-05-27 09:49:10,188 Iter 2692, Minibatch Loss= 0.1572, Training Accuracy= 0.9399, Minibatch error= 6.0%\n",
      "2019-05-27 09:49:36,166 Iter 2694, Minibatch Loss= 0.0158, Training Accuracy= 0.9955, Minibatch error= 0.5%\n",
      "2019-05-27 09:50:02,211 Iter 2696, Minibatch Loss= 0.0005, Training Accuracy= 1.0000, Minibatch error= 0.0%\n",
      "2019-05-27 09:50:28,258 Iter 2698, Minibatch Loss= 0.0182, Training Accuracy= 0.9967, Minibatch error= 0.3%\n",
      "2019-05-27 09:50:54,527 Iter 2700, Minibatch Loss= 0.0874, Training Accuracy= 0.9701, Minibatch error= 3.0%\n",
      "2019-05-27 09:51:20,413 Iter 2702, Minibatch Loss= 0.0005, Training Accuracy= 1.0000, Minibatch error= 0.0%\n",
      "2019-05-27 09:51:46,639 Iter 2704, Minibatch Loss= 0.1979, Training Accuracy= 0.9348, Minibatch error= 6.5%\n",
      "2019-05-27 09:52:12,935 Iter 2706, Minibatch Loss= 0.0871, Training Accuracy= 0.9701, Minibatch error= 3.0%\n",
      "2019-05-27 09:52:39,346 Iter 2708, Minibatch Loss= 0.1573, Training Accuracy= 0.9399, Minibatch error= 6.0%\n",
      "2019-05-27 09:53:05,444 Iter 2710, Minibatch Loss= 0.0073, Training Accuracy= 0.9992, Minibatch error= 0.1%\n",
      "2019-05-27 09:53:31,576 Iter 2712, Minibatch Loss= 0.0920, Training Accuracy= 0.9644, Minibatch error= 3.6%\n",
      "2019-05-27 09:53:57,457 Iter 2714, Minibatch Loss= 0.0002, Training Accuracy= 1.0000, Minibatch error= 0.0%\n",
      "2019-05-27 09:54:23,675 Iter 2716, Minibatch Loss= 0.0919, Training Accuracy= 0.9644, Minibatch error= 3.6%\n",
      "2019-05-27 09:54:49,614 Iter 2718, Minibatch Loss= 0.0048, Training Accuracy= 0.9992, Minibatch error= 0.1%\n",
      "2019-05-27 09:55:01,076 Epoch 84, Average loss: 0.0562, learning rate: 0.0027\n",
      "2019-05-27 09:55:19,618 Verification error= 0.2%, loss= 0.0086\n",
      "2019-05-27 09:55:36,104 Iter 2720, Minibatch Loss= 0.1979, Training Accuracy= 0.9348, Minibatch error= 6.5%\n",
      "2019-05-27 09:56:02,188 Iter 2722, Minibatch Loss= 0.0073, Training Accuracy= 0.9992, Minibatch error= 0.1%\n",
      "2019-05-27 09:56:28,143 Iter 2724, Minibatch Loss= 0.0005, Training Accuracy= 1.0000, Minibatch error= 0.0%\n",
      "2019-05-27 09:56:54,089 Iter 2726, Minibatch Loss= 0.0002, Training Accuracy= 1.0000, Minibatch error= 0.0%\n",
      "2019-05-27 09:57:20,130 Iter 2728, Minibatch Loss= 0.0920, Training Accuracy= 0.9644, Minibatch error= 3.6%\n",
      "2019-05-27 09:57:46,042 Iter 2730, Minibatch Loss= 0.0158, Training Accuracy= 0.9955, Minibatch error= 0.5%\n",
      "2019-05-27 09:58:12,271 Iter 2732, Minibatch Loss= 0.0870, Training Accuracy= 0.9701, Minibatch error= 3.0%\n",
      "2019-05-27 09:58:38,648 Iter 2734, Minibatch Loss= 0.1981, Training Accuracy= 0.9348, Minibatch error= 6.5%\n",
      "2019-05-27 09:59:04,919 Iter 2736, Minibatch Loss= 0.1573, Training Accuracy= 0.9399, Minibatch error= 6.0%\n",
      "2019-05-27 09:59:30,951 Iter 2738, Minibatch Loss= 0.0180, Training Accuracy= 0.9967, Minibatch error= 0.3%\n",
      "2019-05-27 09:59:57,331 Iter 2740, Minibatch Loss= 0.1974, Training Accuracy= 0.9348, Minibatch error= 6.5%\n",
      "2019-05-27 10:00:23,553 Iter 2742, Minibatch Loss= 0.0002, Training Accuracy= 1.0000, Minibatch error= 0.0%\n",
      "2019-05-27 10:00:49,559 Iter 2744, Minibatch Loss= 0.0074, Training Accuracy= 0.9992, Minibatch error= 0.1%\n",
      "2019-05-27 10:01:15,632 Iter 2746, Minibatch Loss= 0.0048, Training Accuracy= 0.9992, Minibatch error= 0.1%\n",
      "2019-05-27 10:01:41,817 Iter 2748, Minibatch Loss= 0.1974, Training Accuracy= 0.9348, Minibatch error= 6.5%\n",
      "2019-05-27 10:02:07,782 Iter 2750, Minibatch Loss= 0.0002, Training Accuracy= 1.0000, Minibatch error= 0.0%\n",
      "2019-05-27 10:02:19,258 Epoch 85, Average loss: 0.0590, learning rate: 0.0026\n",
      "2019-05-27 10:02:37,819 Verification error= 0.2%, loss= 0.0087\n",
      "2019-05-27 10:02:54,395 Iter 2752, Minibatch Loss= 0.0181, Training Accuracy= 0.9967, Minibatch error= 0.3%\n",
      "2019-05-27 10:03:20,222 Iter 2754, Minibatch Loss= 0.0073, Training Accuracy= 0.9992, Minibatch error= 0.1%\n",
      "2019-05-27 10:03:46,495 Iter 2756, Minibatch Loss= 0.0578, Training Accuracy= 0.9876, Minibatch error= 1.2%\n",
      "2019-05-27 10:04:12,345 Iter 2758, Minibatch Loss= 0.0049, Training Accuracy= 0.9992, Minibatch error= 0.1%\n",
      "2019-05-27 10:04:38,396 Iter 2760, Minibatch Loss= 0.0158, Training Accuracy= 0.9955, Minibatch error= 0.5%\n",
      "2019-05-27 10:05:04,278 Iter 2762, Minibatch Loss= 0.0913, Training Accuracy= 0.9644, Minibatch error= 3.6%\n",
      "2019-05-27 10:05:30,381 Iter 2764, Minibatch Loss= 0.0582, Training Accuracy= 0.9876, Minibatch error= 1.2%\n",
      "2019-05-27 10:05:56,285 Iter 2766, Minibatch Loss= 0.0073, Training Accuracy= 0.9992, Minibatch error= 0.1%\n",
      "2019-05-27 10:06:22,334 Iter 2768, Minibatch Loss= 0.0048, Training Accuracy= 0.9992, Minibatch error= 0.1%\n",
      "2019-05-27 10:06:48,519 Iter 2770, Minibatch Loss= 0.1977, Training Accuracy= 0.9348, Minibatch error= 6.5%\n",
      "2019-05-27 10:07:14,588 Iter 2772, Minibatch Loss= 0.0872, Training Accuracy= 0.9701, Minibatch error= 3.0%\n",
      "2019-05-27 10:07:40,791 Iter 2774, Minibatch Loss= 0.0920, Training Accuracy= 0.9644, Minibatch error= 3.6%\n",
      "2019-05-27 10:08:06,782 Iter 2776, Minibatch Loss= 0.0158, Training Accuracy= 0.9955, Minibatch error= 0.5%\n",
      "2019-05-27 10:08:33,287 Iter 2778, Minibatch Loss= 0.1573, Training Accuracy= 0.9399, Minibatch error= 6.0%\n",
      "2019-05-27 10:08:59,348 Iter 2780, Minibatch Loss= 0.0158, Training Accuracy= 0.9955, Minibatch error= 0.5%\n",
      "2019-05-27 10:09:25,374 Iter 2782, Minibatch Loss= 0.0919, Training Accuracy= 0.9644, Minibatch error= 3.6%\n",
      "2019-05-27 10:09:36,867 Epoch 86, Average loss: 0.0564, learning rate: 0.0024\n",
      "2019-05-27 10:09:55,459 Verification error= 0.2%, loss= 0.0086\n",
      "2019-05-27 10:10:12,151 Iter 2784, Minibatch Loss= 0.1572, Training Accuracy= 0.9399, Minibatch error= 6.0%\n",
      "2019-05-27 10:10:38,428 Iter 2786, Minibatch Loss= 0.0874, Training Accuracy= 0.9701, Minibatch error= 3.0%\n",
      "2019-05-27 10:11:04,601 Iter 2788, Minibatch Loss= 0.0578, Training Accuracy= 0.9876, Minibatch error= 1.2%\n",
      "2019-05-27 10:11:30,602 Iter 2790, Minibatch Loss= 0.0180, Training Accuracy= 0.9967, Minibatch error= 0.3%\n",
      "2019-05-27 10:11:56,455 Iter 2792, Minibatch Loss= 0.0073, Training Accuracy= 0.9992, Minibatch error= 0.1%\n",
      "2019-05-27 10:12:22,724 Iter 2794, Minibatch Loss= 0.0870, Training Accuracy= 0.9701, Minibatch error= 3.0%\n",
      "2019-05-27 10:12:48,848 Iter 2796, Minibatch Loss= 0.1979, Training Accuracy= 0.9348, Minibatch error= 6.5%\n",
      "2019-05-27 10:13:14,779 Iter 2798, Minibatch Loss= 0.0002, Training Accuracy= 1.0000, Minibatch error= 0.0%\n",
      "2019-05-27 10:13:41,021 Iter 2800, Minibatch Loss= 0.0577, Training Accuracy= 0.9876, Minibatch error= 1.2%\n",
      "2019-05-27 10:14:06,954 Iter 2802, Minibatch Loss= 0.0158, Training Accuracy= 0.9955, Minibatch error= 0.5%\n",
      "2019-05-27 10:14:33,219 Iter 2804, Minibatch Loss= 0.0048, Training Accuracy= 0.9992, Minibatch error= 0.1%\n",
      "2019-05-27 10:14:59,370 Iter 2806, Minibatch Loss= 0.0572, Training Accuracy= 0.9876, Minibatch error= 1.2%\n",
      "2019-05-27 10:15:25,629 Iter 2808, Minibatch Loss= 0.1982, Training Accuracy= 0.9348, Minibatch error= 6.5%\n",
      "2019-05-27 10:15:51,416 Iter 2810, Minibatch Loss= 0.0004, Training Accuracy= 1.0000, Minibatch error= 0.0%\n",
      "2019-05-27 10:16:17,995 Iter 2812, Minibatch Loss= 0.0917, Training Accuracy= 0.9644, Minibatch error= 3.6%\n",
      "2019-05-27 10:16:44,060 Iter 2814, Minibatch Loss= 0.0578, Training Accuracy= 0.9876, Minibatch error= 1.2%\n",
      "2019-05-27 10:16:55,664 Epoch 87, Average loss: 0.0627, learning rate: 0.0023\n"
     ]
    },
    {
     "name": "stderr",
     "output_type": "stream",
     "text": [
      "2019-05-27 10:17:14,317 Verification error= 0.2%, loss= 0.0086\n",
      "2019-05-27 10:17:31,054 Iter 2816, Minibatch Loss= 0.0870, Training Accuracy= 0.9701, Minibatch error= 3.0%\n",
      "2019-05-27 10:17:57,266 Iter 2818, Minibatch Loss= 0.1978, Training Accuracy= 0.9348, Minibatch error= 6.5%\n",
      "2019-05-27 10:18:23,539 Iter 2820, Minibatch Loss= 0.0005, Training Accuracy= 1.0000, Minibatch error= 0.0%\n",
      "2019-05-27 10:18:49,436 Iter 2822, Minibatch Loss= 0.0158, Training Accuracy= 0.9955, Minibatch error= 0.5%\n",
      "2019-05-27 10:19:15,623 Iter 2824, Minibatch Loss= 0.0073, Training Accuracy= 0.9992, Minibatch error= 0.1%\n",
      "2019-05-27 10:19:41,703 Iter 2826, Minibatch Loss= 0.1572, Training Accuracy= 0.9399, Minibatch error= 6.0%\n",
      "2019-05-27 10:20:07,933 Iter 2828, Minibatch Loss= 0.0577, Training Accuracy= 0.9876, Minibatch error= 1.2%\n",
      "2019-05-27 10:20:34,431 Iter 2830, Minibatch Loss= 0.1980, Training Accuracy= 0.9348, Minibatch error= 6.5%\n",
      "2019-05-27 10:21:00,493 Iter 2832, Minibatch Loss= 0.0158, Training Accuracy= 0.9955, Minibatch error= 0.5%\n",
      "2019-05-27 10:21:26,636 Iter 2834, Minibatch Loss= 0.1571, Training Accuracy= 0.9399, Minibatch error= 6.0%\n",
      "2019-05-27 10:21:52,645 Iter 2836, Minibatch Loss= 0.0158, Training Accuracy= 0.9955, Minibatch error= 0.5%\n",
      "2019-05-27 10:22:18,943 Iter 2838, Minibatch Loss= 0.1978, Training Accuracy= 0.9348, Minibatch error= 6.5%\n",
      "2019-05-27 10:22:45,052 Iter 2840, Minibatch Loss= 0.0073, Training Accuracy= 0.9992, Minibatch error= 0.1%\n",
      "2019-05-27 10:23:11,166 Iter 2842, Minibatch Loss= 0.0916, Training Accuracy= 0.9644, Minibatch error= 3.6%\n",
      "2019-05-27 10:23:37,233 Iter 2844, Minibatch Loss= 0.0048, Training Accuracy= 0.9992, Minibatch error= 0.1%\n",
      "2019-05-27 10:24:03,106 Iter 2846, Minibatch Loss= 0.0048, Training Accuracy= 0.9992, Minibatch error= 0.1%\n",
      "2019-05-27 10:24:14,859 Epoch 88, Average loss: 0.0595, learning rate: 0.0022\n",
      "2019-05-27 10:24:33,518 Verification error= 0.2%, loss= 0.0086\n",
      "2019-05-27 10:24:50,141 Iter 2848, Minibatch Loss= 0.1572, Training Accuracy= 0.9399, Minibatch error= 6.0%\n",
      "2019-05-27 10:25:16,213 Iter 2850, Minibatch Loss= 0.0182, Training Accuracy= 0.9967, Minibatch error= 0.3%\n",
      "2019-05-27 10:25:42,255 Iter 2852, Minibatch Loss= 0.0004, Training Accuracy= 1.0000, Minibatch error= 0.0%\n",
      "2019-05-27 10:26:08,237 Iter 2854, Minibatch Loss= 0.0002, Training Accuracy= 1.0000, Minibatch error= 0.0%\n",
      "2019-05-27 10:26:34,762 Iter 2856, Minibatch Loss= 0.0576, Training Accuracy= 0.9876, Minibatch error= 1.2%\n",
      "2019-05-27 10:27:00,824 Iter 2858, Minibatch Loss= 0.1978, Training Accuracy= 0.9348, Minibatch error= 6.5%\n",
      "2019-05-27 10:27:26,915 Iter 2860, Minibatch Loss= 0.0005, Training Accuracy= 1.0000, Minibatch error= 0.0%\n",
      "2019-05-27 10:27:53,487 Iter 2862, Minibatch Loss= 0.0873, Training Accuracy= 0.9701, Minibatch error= 3.0%\n",
      "2019-05-27 10:28:19,704 Iter 2864, Minibatch Loss= 0.0002, Training Accuracy= 1.0000, Minibatch error= 0.0%\n",
      "2019-05-27 10:28:45,600 Iter 2866, Minibatch Loss= 0.0181, Training Accuracy= 0.9967, Minibatch error= 0.3%\n",
      "2019-05-27 10:29:11,737 Iter 2868, Minibatch Loss= 0.1571, Training Accuracy= 0.9399, Minibatch error= 6.0%\n",
      "2019-05-27 10:29:37,795 Iter 2870, Minibatch Loss= 0.0005, Training Accuracy= 1.0000, Minibatch error= 0.0%\n",
      "2019-05-27 10:30:03,865 Iter 2872, Minibatch Loss= 0.0002, Training Accuracy= 1.0000, Minibatch error= 0.0%\n",
      "2019-05-27 10:30:30,137 Iter 2874, Minibatch Loss= 0.1978, Training Accuracy= 0.9348, Minibatch error= 6.5%\n",
      "2019-05-27 10:30:56,259 Iter 2876, Minibatch Loss= 0.0917, Training Accuracy= 0.9644, Minibatch error= 3.6%\n",
      "2019-05-27 10:31:22,462 Iter 2878, Minibatch Loss= 0.0917, Training Accuracy= 0.9644, Minibatch error= 3.6%\n",
      "2019-05-27 10:31:33,856 Epoch 89, Average loss: 0.0626, learning rate: 0.0021\n",
      "2019-05-27 10:31:52,418 Verification error= 0.2%, loss= 0.0087\n",
      "2019-05-27 10:32:09,059 Iter 2880, Minibatch Loss= 0.0577, Training Accuracy= 0.9876, Minibatch error= 1.2%\n",
      "2019-05-27 10:32:35,062 Iter 2882, Minibatch Loss= 0.0049, Training Accuracy= 0.9992, Minibatch error= 0.1%\n",
      "2019-05-27 10:33:01,026 Iter 2884, Minibatch Loss= 0.0002, Training Accuracy= 1.0000, Minibatch error= 0.0%\n",
      "2019-05-27 10:33:27,156 Iter 2886, Minibatch Loss= 0.0158, Training Accuracy= 0.9955, Minibatch error= 0.5%\n",
      "2019-05-27 10:33:53,396 Iter 2888, Minibatch Loss= 0.1571, Training Accuracy= 0.9399, Minibatch error= 6.0%\n",
      "2019-05-27 10:34:19,522 Iter 2890, Minibatch Loss= 0.0917, Training Accuracy= 0.9644, Minibatch error= 3.6%\n",
      "2019-05-27 10:34:45,414 Iter 2892, Minibatch Loss= 0.0074, Training Accuracy= 0.9992, Minibatch error= 0.1%\n",
      "2019-05-27 10:35:11,456 Iter 2894, Minibatch Loss= 0.1971, Training Accuracy= 0.9348, Minibatch error= 6.5%\n",
      "2019-05-27 10:35:37,562 Iter 2896, Minibatch Loss= 0.0580, Training Accuracy= 0.9876, Minibatch error= 1.2%\n",
      "2019-05-27 10:36:03,585 Iter 2898, Minibatch Loss= 0.0005, Training Accuracy= 1.0000, Minibatch error= 0.0%\n",
      "2019-05-27 10:36:29,733 Iter 2900, Minibatch Loss= 0.0869, Training Accuracy= 0.9701, Minibatch error= 3.0%\n",
      "2019-05-27 10:36:55,604 Iter 2902, Minibatch Loss= 0.0048, Training Accuracy= 0.9992, Minibatch error= 0.1%\n",
      "2019-05-27 10:37:21,718 Iter 2904, Minibatch Loss= 0.0072, Training Accuracy= 0.9992, Minibatch error= 0.1%\n",
      "2019-05-27 10:37:51,542 Iter 2906, Minibatch Loss= 0.0179, Training Accuracy= 0.9967, Minibatch error= 0.3%\n",
      "2019-05-27 10:38:20,592 Iter 2908, Minibatch Loss= 0.0158, Training Accuracy= 0.9955, Minibatch error= 0.5%\n",
      "2019-05-27 10:38:47,516 Iter 2910, Minibatch Loss= 0.0005, Training Accuracy= 1.0000, Minibatch error= 0.0%\n",
      "2019-05-27 10:38:59,263 Epoch 90, Average loss: 0.0651, learning rate: 0.0020\n",
      "2019-05-27 10:39:18,272 Verification error= 0.2%, loss= 0.0087\n",
      "2019-05-27 10:39:37,201 Iter 2912, Minibatch Loss= 0.0872, Training Accuracy= 0.9701, Minibatch error= 3.0%\n",
      "2019-05-27 10:40:05,022 Iter 2914, Minibatch Loss= 0.0005, Training Accuracy= 1.0000, Minibatch error= 0.0%\n",
      "2019-05-27 10:40:32,812 Iter 2916, Minibatch Loss= 0.1571, Training Accuracy= 0.9399, Minibatch error= 6.0%\n",
      "2019-05-27 10:41:01,770 Iter 2918, Minibatch Loss= 0.0578, Training Accuracy= 0.9876, Minibatch error= 1.2%\n",
      "2019-05-27 10:41:29,236 Iter 2920, Minibatch Loss= 0.0002, Training Accuracy= 1.0000, Minibatch error= 0.0%\n",
      "2019-05-27 10:41:57,042 Iter 2922, Minibatch Loss= 0.1570, Training Accuracy= 0.9399, Minibatch error= 6.0%\n",
      "2019-05-27 10:42:24,905 Iter 2924, Minibatch Loss= 0.0073, Training Accuracy= 0.9992, Minibatch error= 0.1%\n",
      "2019-05-27 10:42:53,092 Iter 2926, Minibatch Loss= 0.0048, Training Accuracy= 0.9992, Minibatch error= 0.1%\n",
      "2019-05-27 10:43:19,820 Iter 2928, Minibatch Loss= 0.0004, Training Accuracy= 1.0000, Minibatch error= 0.0%\n",
      "2019-05-27 10:43:48,217 Iter 2930, Minibatch Loss= 0.0867, Training Accuracy= 0.9701, Minibatch error= 3.0%\n",
      "2019-05-27 10:44:16,487 Iter 2932, Minibatch Loss= 0.0919, Training Accuracy= 0.9644, Minibatch error= 3.6%\n",
      "2019-05-27 10:44:43,433 Iter 2934, Minibatch Loss= 0.0004, Training Accuracy= 1.0000, Minibatch error= 0.0%\n",
      "2019-05-27 10:45:09,898 Iter 2936, Minibatch Loss= 0.0073, Training Accuracy= 0.9992, Minibatch error= 0.1%\n",
      "2019-05-27 10:45:36,392 Iter 2938, Minibatch Loss= 0.0002, Training Accuracy= 1.0000, Minibatch error= 0.0%\n",
      "2019-05-27 10:46:03,489 Iter 2940, Minibatch Loss= 0.1980, Training Accuracy= 0.9348, Minibatch error= 6.5%\n",
      "2019-05-27 10:46:29,709 Iter 2942, Minibatch Loss= 0.0158, Training Accuracy= 0.9955, Minibatch error= 0.5%\n",
      "2019-05-27 10:46:41,547 Epoch 91, Average loss: 0.0556, learning rate: 0.0019\n",
      "2019-05-27 10:47:00,465 Verification error= 0.2%, loss= 0.0086\n",
      "2019-05-27 10:47:17,170 Iter 2944, Minibatch Loss= 0.0916, Training Accuracy= 0.9644, Minibatch error= 3.6%\n",
      "2019-05-27 10:47:45,518 Iter 2946, Minibatch Loss= 0.0002, Training Accuracy= 1.0000, Minibatch error= 0.0%\n",
      "2019-05-27 10:48:13,209 Iter 2948, Minibatch Loss= 0.1570, Training Accuracy= 0.9399, Minibatch error= 6.0%\n",
      "2019-05-27 10:48:39,937 Iter 2950, Minibatch Loss= 0.1974, Training Accuracy= 0.9348, Minibatch error= 6.5%\n",
      "2019-05-27 10:49:06,517 Iter 2952, Minibatch Loss= 0.0049, Training Accuracy= 0.9992, Minibatch error= 0.1%\n",
      "2019-05-27 10:49:33,011 Iter 2954, Minibatch Loss= 0.0005, Training Accuracy= 1.0000, Minibatch error= 0.0%\n",
      "2019-05-27 10:49:59,501 Iter 2956, Minibatch Loss= 0.0158, Training Accuracy= 0.9955, Minibatch error= 0.5%\n"
     ]
    },
    {
     "name": "stderr",
     "output_type": "stream",
     "text": [
      "2019-05-27 10:50:27,150 Iter 2958, Minibatch Loss= 0.1570, Training Accuracy= 0.9399, Minibatch error= 6.0%\n",
      "2019-05-27 10:50:54,088 Iter 2960, Minibatch Loss= 0.1974, Training Accuracy= 0.9348, Minibatch error= 6.5%\n",
      "2019-05-27 10:51:20,741 Iter 2962, Minibatch Loss= 0.0005, Training Accuracy= 1.0000, Minibatch error= 0.0%\n",
      "2019-05-27 10:51:47,141 Iter 2964, Minibatch Loss= 0.0181, Training Accuracy= 0.9967, Minibatch error= 0.3%\n",
      "2019-05-27 10:52:14,156 Iter 2966, Minibatch Loss= 0.1974, Training Accuracy= 0.9348, Minibatch error= 6.5%\n",
      "2019-05-27 10:52:41,116 Iter 2968, Minibatch Loss= 0.0158, Training Accuracy= 0.9955, Minibatch error= 0.5%\n",
      "2019-05-27 10:53:07,984 Iter 2970, Minibatch Loss= 0.0916, Training Accuracy= 0.9644, Minibatch error= 3.6%\n",
      "2019-05-27 10:53:35,001 Iter 2972, Minibatch Loss= 0.0002, Training Accuracy= 1.0000, Minibatch error= 0.0%\n",
      "2019-05-27 10:54:03,284 Iter 2974, Minibatch Loss= 0.1569, Training Accuracy= 0.9399, Minibatch error= 6.0%\n",
      "2019-05-27 10:54:17,197 Epoch 92, Average loss: 0.0614, learning rate: 0.0018\n",
      "2019-05-27 10:54:37,579 Verification error= 0.2%, loss= 0.0087\n",
      "2019-05-27 10:54:55,296 Iter 2976, Minibatch Loss= 0.0181, Training Accuracy= 0.9967, Minibatch error= 0.3%\n",
      "2019-05-27 10:55:23,540 Iter 2978, Minibatch Loss= 0.1974, Training Accuracy= 0.9348, Minibatch error= 6.5%\n",
      "2019-05-27 10:55:50,773 Iter 2980, Minibatch Loss= 0.0049, Training Accuracy= 0.9992, Minibatch error= 0.1%\n",
      "2019-05-27 10:56:18,104 Iter 2982, Minibatch Loss= 0.0873, Training Accuracy= 0.9701, Minibatch error= 3.0%\n",
      "2019-05-27 10:56:46,728 Iter 2984, Minibatch Loss= 0.0002, Training Accuracy= 1.0000, Minibatch error= 0.0%\n",
      "2019-05-27 10:57:16,478 Iter 2986, Minibatch Loss= 0.0073, Training Accuracy= 0.9992, Minibatch error= 0.1%\n",
      "2019-05-27 10:57:44,481 Iter 2988, Minibatch Loss= 0.0002, Training Accuracy= 1.0000, Minibatch error= 0.0%\n",
      "2019-05-27 10:58:13,549 Iter 2990, Minibatch Loss= 0.0073, Training Accuracy= 0.9992, Minibatch error= 0.1%\n",
      "2019-05-27 10:58:42,246 Iter 2992, Minibatch Loss= 0.0181, Training Accuracy= 0.9967, Minibatch error= 0.3%\n",
      "2019-05-27 10:59:09,521 Iter 2994, Minibatch Loss= 0.0049, Training Accuracy= 0.9992, Minibatch error= 0.1%\n",
      "2019-05-27 10:59:37,938 Iter 2996, Minibatch Loss= 0.1570, Training Accuracy= 0.9399, Minibatch error= 6.0%\n",
      "2019-05-27 11:00:07,153 Iter 2998, Minibatch Loss= 0.0158, Training Accuracy= 0.9955, Minibatch error= 0.5%\n",
      "2019-05-27 11:00:37,196 Iter 3000, Minibatch Loss= 0.1976, Training Accuracy= 0.9348, Minibatch error= 6.5%\n",
      "2019-05-27 11:01:06,221 Iter 3002, Minibatch Loss= 0.1569, Training Accuracy= 0.9399, Minibatch error= 6.0%\n",
      "2019-05-27 11:01:34,470 Iter 3004, Minibatch Loss= 0.0580, Training Accuracy= 0.9876, Minibatch error= 1.2%\n",
      "2019-05-27 11:02:01,119 Iter 3006, Minibatch Loss= 0.0181, Training Accuracy= 0.9967, Minibatch error= 0.3%\n",
      "2019-05-27 11:02:14,392 Epoch 93, Average loss: 0.0620, learning rate: 0.0017\n",
      "2019-05-27 11:02:34,040 Verification error= 0.2%, loss= 0.0086\n",
      "2019-05-27 11:02:51,364 Iter 3008, Minibatch Loss= 0.0158, Training Accuracy= 0.9955, Minibatch error= 0.5%\n",
      "2019-05-27 11:03:21,095 Iter 3010, Minibatch Loss= 0.0004, Training Accuracy= 1.0000, Minibatch error= 0.0%\n",
      "2019-05-27 11:03:48,889 Iter 3012, Minibatch Loss= 0.0574, Training Accuracy= 0.9876, Minibatch error= 1.2%\n",
      "2019-05-27 11:04:16,309 Iter 3014, Minibatch Loss= 0.0048, Training Accuracy= 0.9992, Minibatch error= 0.1%\n",
      "2019-05-27 11:04:45,098 Iter 3016, Minibatch Loss= 0.1980, Training Accuracy= 0.9348, Minibatch error= 6.5%\n",
      "2019-05-27 11:05:12,100 Iter 3018, Minibatch Loss= 0.1570, Training Accuracy= 0.9399, Minibatch error= 6.0%\n",
      "2019-05-27 11:05:40,929 Iter 3020, Minibatch Loss= 0.0073, Training Accuracy= 0.9992, Minibatch error= 0.1%\n",
      "2019-05-27 11:06:07,771 Iter 3022, Minibatch Loss= 0.0004, Training Accuracy= 1.0000, Minibatch error= 0.0%\n",
      "2019-05-27 11:06:35,300 Iter 3024, Minibatch Loss= 0.0002, Training Accuracy= 1.0000, Minibatch error= 0.0%\n",
      "2019-05-27 11:07:03,766 Iter 3026, Minibatch Loss= 0.0573, Training Accuracy= 0.9876, Minibatch error= 1.2%\n",
      "2019-05-27 11:07:30,600 Iter 3028, Minibatch Loss= 0.1981, Training Accuracy= 0.9348, Minibatch error= 6.5%\n",
      "2019-05-27 11:07:59,501 Iter 3030, Minibatch Loss= 0.1570, Training Accuracy= 0.9399, Minibatch error= 6.0%\n",
      "2019-05-27 11:08:40,849 Iter 3032, Minibatch Loss= 0.0073, Training Accuracy= 0.9992, Minibatch error= 0.1%\n",
      "2019-05-27 11:09:20,929 Iter 3034, Minibatch Loss= 0.0574, Training Accuracy= 0.9876, Minibatch error= 1.2%\n",
      "2019-05-27 11:09:50,427 Iter 3036, Minibatch Loss= 0.0002, Training Accuracy= 1.0000, Minibatch error= 0.0%\n",
      "2019-05-27 11:10:20,583 Iter 3038, Minibatch Loss= 0.0048, Training Accuracy= 0.9992, Minibatch error= 0.1%\n",
      "2019-05-27 11:10:35,327 Epoch 94, Average loss: 0.0505, learning rate: 0.0016\n",
      "2019-05-27 11:10:55,057 Verification error= 0.2%, loss= 0.0086\n",
      "2019-05-27 11:11:12,809 Iter 3040, Minibatch Loss= 0.1981, Training Accuracy= 0.9348, Minibatch error= 6.5%\n",
      "2019-05-27 11:11:39,981 Iter 3042, Minibatch Loss= 0.1570, Training Accuracy= 0.9399, Minibatch error= 6.0%\n",
      "2019-05-27 11:12:07,068 Iter 3044, Minibatch Loss= 0.1975, Training Accuracy= 0.9348, Minibatch error= 6.5%\n",
      "2019-05-27 11:12:33,856 Iter 3046, Minibatch Loss= 0.0005, Training Accuracy= 1.0000, Minibatch error= 0.0%\n",
      "2019-05-27 11:13:00,781 Iter 3048, Minibatch Loss= 0.1569, Training Accuracy= 0.9399, Minibatch error= 6.0%\n",
      "2019-05-27 11:13:27,550 Iter 3050, Minibatch Loss= 0.0917, Training Accuracy= 0.9644, Minibatch error= 3.6%\n",
      "2019-05-27 11:13:54,219 Iter 3052, Minibatch Loss= 0.0158, Training Accuracy= 0.9955, Minibatch error= 0.5%\n",
      "2019-05-27 11:14:21,163 Iter 3054, Minibatch Loss= 0.1569, Training Accuracy= 0.9399, Minibatch error= 6.0%\n",
      "2019-05-27 11:14:47,915 Iter 3056, Minibatch Loss= 0.0073, Training Accuracy= 0.9992, Minibatch error= 0.1%\n",
      "2019-05-27 11:15:14,665 Iter 3058, Minibatch Loss= 0.0002, Training Accuracy= 1.0000, Minibatch error= 0.0%\n",
      "2019-05-27 11:15:41,479 Iter 3060, Minibatch Loss= 0.0579, Training Accuracy= 0.9876, Minibatch error= 1.2%\n",
      "2019-05-27 11:16:08,316 Iter 3062, Minibatch Loss= 0.0158, Training Accuracy= 0.9955, Minibatch error= 0.5%\n",
      "2019-05-27 11:16:35,305 Iter 3064, Minibatch Loss= 0.0004, Training Accuracy= 1.0000, Minibatch error= 0.0%\n",
      "2019-05-27 11:17:01,884 Iter 3066, Minibatch Loss= 0.0158, Training Accuracy= 0.9955, Minibatch error= 0.5%\n",
      "2019-05-27 11:17:28,629 Iter 3068, Minibatch Loss= 0.0869, Training Accuracy= 0.9701, Minibatch error= 3.0%\n",
      "2019-05-27 11:17:55,326 Iter 3070, Minibatch Loss= 0.0180, Training Accuracy= 0.9967, Minibatch error= 0.3%\n",
      "2019-05-27 11:18:07,263 Epoch 95, Average loss: 0.0625, learning rate: 0.0015\n",
      "2019-05-27 11:18:26,463 Verification error= 0.2%, loss= 0.0086\n",
      "2019-05-27 11:18:43,340 Iter 3072, Minibatch Loss= 0.0048, Training Accuracy= 0.9992, Minibatch error= 0.1%\n",
      "2019-05-27 11:19:10,039 Iter 3074, Minibatch Loss= 0.0917, Training Accuracy= 0.9644, Minibatch error= 3.6%\n",
      "2019-05-27 11:19:36,777 Iter 3076, Minibatch Loss= 0.0048, Training Accuracy= 0.9992, Minibatch error= 0.1%\n",
      "2019-05-27 11:20:04,047 Iter 3078, Minibatch Loss= 0.1569, Training Accuracy= 0.9399, Minibatch error= 6.0%\n",
      "2019-05-27 11:20:31,186 Iter 3080, Minibatch Loss= 0.0579, Training Accuracy= 0.9876, Minibatch error= 1.2%\n",
      "2019-05-27 11:20:57,915 Iter 3082, Minibatch Loss= 0.0073, Training Accuracy= 0.9992, Minibatch error= 0.1%\n",
      "2019-05-27 11:21:24,665 Iter 3084, Minibatch Loss= 0.0158, Training Accuracy= 0.9955, Minibatch error= 0.5%\n",
      "2019-05-27 11:21:51,266 Iter 3086, Minibatch Loss= 0.0181, Training Accuracy= 0.9967, Minibatch error= 0.3%\n",
      "2019-05-27 11:22:18,083 Iter 3088, Minibatch Loss= 0.1570, Training Accuracy= 0.9399, Minibatch error= 6.0%\n",
      "2019-05-27 11:22:44,838 Iter 3090, Minibatch Loss= 0.0918, Training Accuracy= 0.9644, Minibatch error= 3.6%\n",
      "2019-05-27 11:23:11,659 Iter 3092, Minibatch Loss= 0.1976, Training Accuracy= 0.9348, Minibatch error= 6.5%\n",
      "2019-05-27 11:23:38,406 Iter 3094, Minibatch Loss= 0.0158, Training Accuracy= 0.9955, Minibatch error= 0.5%\n",
      "2019-05-27 11:24:05,219 Iter 3096, Minibatch Loss= 0.0002, Training Accuracy= 1.0000, Minibatch error= 0.0%\n",
      "2019-05-27 11:24:31,992 Iter 3098, Minibatch Loss= 0.0158, Training Accuracy= 0.9955, Minibatch error= 0.5%\n"
     ]
    },
    {
     "name": "stderr",
     "output_type": "stream",
     "text": [
      "2019-05-27 11:24:58,513 Iter 3100, Minibatch Loss= 0.0002, Training Accuracy= 1.0000, Minibatch error= 0.0%\n",
      "2019-05-27 11:25:25,201 Iter 3102, Minibatch Loss= 0.0180, Training Accuracy= 0.9967, Minibatch error= 0.3%\n",
      "2019-05-27 11:25:37,124 Epoch 96, Average loss: 0.0586, learning rate: 0.0015\n",
      "2019-05-27 11:25:56,235 Verification error= 0.2%, loss= 0.0086\n",
      "2019-05-27 11:26:13,412 Iter 3104, Minibatch Loss= 0.1571, Training Accuracy= 0.9399, Minibatch error= 6.0%\n",
      "2019-05-27 11:26:40,389 Iter 3106, Minibatch Loss= 0.0004, Training Accuracy= 1.0000, Minibatch error= 0.0%\n",
      "2019-05-27 11:27:07,317 Iter 3108, Minibatch Loss= 0.0918, Training Accuracy= 0.9644, Minibatch error= 3.6%\n",
      "2019-05-27 11:27:34,031 Iter 3110, Minibatch Loss= 0.0180, Training Accuracy= 0.9967, Minibatch error= 0.3%\n",
      "2019-05-27 11:28:00,894 Iter 3112, Minibatch Loss= 0.0048, Training Accuracy= 0.9992, Minibatch error= 0.1%\n",
      "2019-05-27 11:28:27,725 Iter 3114, Minibatch Loss= 0.0916, Training Accuracy= 0.9644, Minibatch error= 3.6%\n",
      "2019-05-27 11:28:54,314 Iter 3116, Minibatch Loss= 0.0005, Training Accuracy= 1.0000, Minibatch error= 0.0%\n",
      "2019-05-27 11:29:21,513 Iter 3118, Minibatch Loss= 0.1569, Training Accuracy= 0.9399, Minibatch error= 6.0%\n",
      "2019-05-27 11:29:48,313 Iter 3120, Minibatch Loss= 0.0002, Training Accuracy= 1.0000, Minibatch error= 0.0%\n",
      "2019-05-27 11:30:15,214 Iter 3122, Minibatch Loss= 0.0576, Training Accuracy= 0.9876, Minibatch error= 1.2%\n",
      "2019-05-27 11:30:42,072 Iter 3124, Minibatch Loss= 0.0918, Training Accuracy= 0.9644, Minibatch error= 3.6%\n",
      "2019-05-27 11:31:08,705 Iter 3126, Minibatch Loss= 0.0181, Training Accuracy= 0.9967, Minibatch error= 0.3%\n",
      "2019-05-27 11:31:35,418 Iter 3128, Minibatch Loss= 0.0158, Training Accuracy= 0.9955, Minibatch error= 0.5%\n",
      "2019-05-27 11:32:02,395 Iter 3130, Minibatch Loss= 0.1978, Training Accuracy= 0.9348, Minibatch error= 6.5%\n",
      "2019-05-27 11:32:29,173 Iter 3132, Minibatch Loss= 0.0181, Training Accuracy= 0.9967, Minibatch error= 0.3%\n",
      "2019-05-27 11:32:55,849 Iter 3134, Minibatch Loss= 0.0158, Training Accuracy= 0.9955, Minibatch error= 0.5%\n",
      "2019-05-27 11:33:07,674 Epoch 97, Average loss: 0.0621, learning rate: 0.0014\n",
      "2019-05-27 11:33:26,764 Verification error= 0.2%, loss= 0.0086\n",
      "2019-05-27 11:33:43,753 Iter 3136, Minibatch Loss= 0.0916, Training Accuracy= 0.9644, Minibatch error= 3.6%\n",
      "2019-05-27 11:34:10,655 Iter 3138, Minibatch Loss= 0.1972, Training Accuracy= 0.9348, Minibatch error= 6.5%\n",
      "2019-05-27 11:34:37,626 Iter 3140, Minibatch Loss= 0.0871, Training Accuracy= 0.9701, Minibatch error= 3.0%\n",
      "2019-05-27 11:35:04,438 Iter 3142, Minibatch Loss= 0.0048, Training Accuracy= 0.9992, Minibatch error= 0.1%\n",
      "2019-05-27 11:35:31,300 Iter 3144, Minibatch Loss= 0.0576, Training Accuracy= 0.9876, Minibatch error= 1.2%\n",
      "2019-05-27 11:35:58,256 Iter 3146, Minibatch Loss= 0.1570, Training Accuracy= 0.9399, Minibatch error= 6.0%\n",
      "2019-05-27 11:36:24,990 Iter 3148, Minibatch Loss= 0.0158, Training Accuracy= 0.9955, Minibatch error= 0.5%\n",
      "2019-05-27 11:36:51,633 Iter 3150, Minibatch Loss= 0.0002, Training Accuracy= 1.0000, Minibatch error= 0.0%\n",
      "2019-05-27 11:37:18,650 Iter 3152, Minibatch Loss= 0.1978, Training Accuracy= 0.9348, Minibatch error= 6.5%\n",
      "2019-05-27 11:37:45,267 Iter 3154, Minibatch Loss= 0.0004, Training Accuracy= 1.0000, Minibatch error= 0.0%\n",
      "2019-05-27 11:38:11,687 Iter 3156, Minibatch Loss= 0.0002, Training Accuracy= 1.0000, Minibatch error= 0.0%\n",
      "2019-05-27 11:38:38,530 Iter 3158, Minibatch Loss= 0.0073, Training Accuracy= 0.9992, Minibatch error= 0.1%\n",
      "2019-05-27 11:39:05,420 Iter 3160, Minibatch Loss= 0.0868, Training Accuracy= 0.9701, Minibatch error= 3.0%\n",
      "2019-05-27 11:39:32,539 Iter 3162, Minibatch Loss= 0.1980, Training Accuracy= 0.9348, Minibatch error= 6.5%\n",
      "2019-05-27 11:39:59,084 Iter 3164, Minibatch Loss= 0.0048, Training Accuracy= 0.9992, Minibatch error= 0.1%\n",
      "2019-05-27 11:40:26,240 Iter 3166, Minibatch Loss= 0.0869, Training Accuracy= 0.9701, Minibatch error= 3.0%\n",
      "2019-05-27 11:40:38,249 Epoch 98, Average loss: 0.0595, learning rate: 0.0013\n",
      "2019-05-27 11:40:57,299 Verification error= 0.2%, loss= 0.0086\n",
      "2019-05-27 11:41:14,441 Iter 3168, Minibatch Loss= 0.0918, Training Accuracy= 0.9644, Minibatch error= 3.6%\n",
      "2019-05-27 11:41:41,447 Iter 3170, Minibatch Loss= 0.1569, Training Accuracy= 0.9399, Minibatch error= 6.0%\n",
      "2019-05-27 11:42:08,106 Iter 3172, Minibatch Loss= 0.0002, Training Accuracy= 1.0000, Minibatch error= 0.0%\n",
      "2019-05-27 11:42:34,931 Iter 3174, Minibatch Loss= 0.1977, Training Accuracy= 0.9348, Minibatch error= 6.5%\n",
      "2019-05-27 11:43:02,052 Iter 3176, Minibatch Loss= 0.1974, Training Accuracy= 0.9348, Minibatch error= 6.5%\n",
      "2019-05-27 11:43:28,718 Iter 3178, Minibatch Loss= 0.0073, Training Accuracy= 0.9992, Minibatch error= 0.1%\n",
      "2019-05-27 11:43:55,558 Iter 3180, Minibatch Loss= 0.0048, Training Accuracy= 0.9992, Minibatch error= 0.1%\n",
      "2019-05-27 11:44:22,243 Iter 3182, Minibatch Loss= 0.0004, Training Accuracy= 1.0000, Minibatch error= 0.0%\n",
      "2019-05-27 11:44:49,114 Iter 3184, Minibatch Loss= 0.0002, Training Accuracy= 1.0000, Minibatch error= 0.0%\n",
      "2019-05-27 11:45:15,954 Iter 3186, Minibatch Loss= 0.0181, Training Accuracy= 0.9967, Minibatch error= 0.3%\n",
      "2019-05-27 11:45:43,020 Iter 3188, Minibatch Loss= 0.1974, Training Accuracy= 0.9348, Minibatch error= 6.5%\n",
      "2019-05-27 11:46:09,975 Iter 3190, Minibatch Loss= 0.0578, Training Accuracy= 0.9876, Minibatch error= 1.2%\n",
      "2019-05-27 11:46:36,596 Iter 3192, Minibatch Loss= 0.0915, Training Accuracy= 0.9644, Minibatch error= 3.6%\n",
      "2019-05-27 11:47:03,339 Iter 3194, Minibatch Loss= 0.0049, Training Accuracy= 0.9992, Minibatch error= 0.1%\n",
      "2019-05-27 11:47:30,153 Iter 3196, Minibatch Loss= 0.0870, Training Accuracy= 0.9701, Minibatch error= 3.0%\n",
      "2019-05-27 11:47:56,821 Iter 3198, Minibatch Loss= 0.0073, Training Accuracy= 0.9992, Minibatch error= 0.1%\n",
      "2019-05-27 11:48:08,814 Epoch 99, Average loss: 0.0589, learning rate: 0.0012\n",
      "2019-05-27 11:48:27,977 Verification error= 0.2%, loss= 0.0086\n",
      "2019-05-27 11:48:30,093 Optimization Finished!\n"
     ]
    }
   ],
   "source": [
    "net = unet.Unet(layers=3, features_root=32, channels=1, n_class=2)\n",
    "trainer = unet.Trainer(net, optimizer=\"momentum\", opt_kwargs=dict(momentum=0.2))\n",
    "#trainer = unet.Trainer(net)\n",
    "path = trainer.train(training_data, output_path, training_iters=32, epochs=100, \n",
    "                     display_step=2, prediction_path=prediction_path)"
   ]
  },
  {
   "cell_type": "markdown",
   "metadata": {},
   "source": [
    "### Test performance"
   ]
  },
  {
   "cell_type": "code",
   "execution_count": 5,
   "metadata": {},
   "outputs": [
    {
     "name": "stdout",
     "output_type": "stream",
     "text": [
      "Number of files used: 11\n",
      "Number of channels: 1\n",
      "Number of classes: 2\n"
     ]
    },
    {
     "name": "stderr",
     "output_type": "stream",
     "text": [
      "2019-05-27 12:25:24,779 Layers 3, features 32, filter size 3x3, pool size: 2x2\n"
     ]
    },
    {
     "name": "stdout",
     "output_type": "stream",
     "text": [
      "WARNING:tensorflow:From /home/yao/anaconda3/lib/python3.6/site-packages/tensorflow/python/training/saver.py:1266: checkpoint_exists (from tensorflow.python.training.checkpoint_management) is deprecated and will be removed in a future version.\n",
      "Instructions for updating:\n",
      "Use standard file APIs to check for files with this prefix.\n"
     ]
    },
    {
     "name": "stderr",
     "output_type": "stream",
     "text": [
      "2019-05-27 12:25:25,551 From /home/yao/anaconda3/lib/python3.6/site-packages/tensorflow/python/training/saver.py:1266: checkpoint_exists (from tensorflow.python.training.checkpoint_management) is deprecated and will be removed in a future version.\n",
      "Instructions for updating:\n",
      "Use standard file APIs to check for files with this prefix.\n"
     ]
    },
    {
     "name": "stdout",
     "output_type": "stream",
     "text": [
      "INFO:tensorflow:Restoring parameters from ./trained_3layers_feature32_epoch100/model.ckpt\n"
     ]
    },
    {
     "name": "stderr",
     "output_type": "stream",
     "text": [
      "2019-05-27 12:25:25,553 Restoring parameters from ./trained_3layers_feature32_epoch100/model.ckpt\n",
      "2019-05-27 12:25:25,641 Model restored from file: ./trained_3layers_feature32_epoch100/model.ckpt\n"
     ]
    },
    {
     "name": "stdout",
     "output_type": "stream",
     "text": [
      "(11, 1040, 1040, 1)\n",
      "(11, 1040, 1040, 2)\n",
      "(11, 1000, 1000, 2)\n"
     ]
    }
   ],
   "source": [
    "#prepare test data\n",
    "test_data = image_util.ImageDataProvider(\"./data_train_random/*.tif\")\n",
    "i=11 #number of images\n",
    "x_test, y_test = test_data(i)\n",
    "\n",
    "net = unet.Unet(layers=3, features_root=32, channels=1, n_class=2)\n",
    "prediction = net.predict(output_path+\"/model.ckpt\", x_test)\n",
    "\n",
    "print(x_test.shape)\n",
    "print(y_test.shape)\n",
    "print(prediction.shape)"
   ]
  },
  {
   "cell_type": "code",
   "execution_count": 6,
   "metadata": {},
   "outputs": [
    {
     "name": "stdout",
     "output_type": "stream",
     "text": [
      "1.0\n",
      "1.0\n",
      "(11000000,)\n",
      "(11000000,)\n",
      "              precision    recall  f1-score   support\n",
      "\n",
      "         0.0       0.99      0.99      0.99  10792512\n",
      "         1.0       0.30      0.32      0.31    207488\n",
      "\n",
      "   micro avg       0.97      0.97      0.97  11000000\n",
      "   macro avg       0.64      0.65      0.65  11000000\n",
      "weighted avg       0.97      0.97      0.97  11000000\n",
      "\n"
     ]
    }
   ],
   "source": [
    "from sklearn.utils import class_weight\n",
    "from sklearn.metrics import confusion_matrix, precision_score, recall_score, log_loss, f1_score, classification_report\n",
    "from sklearn.metrics import roc_curve, auc, roc_auc_score, precision_recall_curve, average_precision_score, accuracy_score\n",
    "\n",
    "test_y = y_test[...,20:1020,20:1020,1].flatten()\n",
    "test_y_predict = prediction[...,1].flatten()\n",
    "predict_max = max(test_y_predict)\n",
    "test_y_predict = test_y_predict/predict_max\n",
    "\n",
    "print(max(test_y))\n",
    "print(max(test_y_predict))\n",
    "print(test_y.shape)\n",
    "print(test_y_predict.shape)\n",
    "\n",
    "print(classification_report(test_y, (test_y_predict > 0.3)))"
   ]
  },
  {
   "cell_type": "code",
   "execution_count": 7,
   "metadata": {},
   "outputs": [
    {
     "data": {
      "image/png": "[encoded data removed]",
      "text/plain": [
       "<Figure size 432x288 with 1 Axes>"
      ]
     },
     "metadata": {
      "needs_background": "light"
     },
     "output_type": "display_data"
    },
    {
     "name": "stdout",
     "output_type": "stream",
     "text": [
      "AUC =  0.9243374261858458\n"
     ]
    },
    {
     "data": {
      "image/png": "[encoded data removed]",
      "text/plain": [
       "<Figure size 432x288 with 1 Axes>"
      ]
     },
     "metadata": {
      "needs_background": "light"
     },
     "output_type": "display_data"
    }
   ],
   "source": [
    "fpr, tpr, thresholds = roc_curve(test_y, test_y_predict)\n",
    "roc_auc = auc(fpr, tpr)\n",
    "\n",
    "plt.figure()\n",
    "lw = 2\n",
    "plt.plot(fpr, tpr, color='darkorange', lw=lw, label = 'ROC curve (area = %0.4f)' % roc_auc)\n",
    "plt.plot([0, 1], [0, 1], color = 'navy', lw=lw, linestyle = '--')\n",
    "plt.xlim([0,1])\n",
    "plt.ylim([0,1])\n",
    "plt.xlabel('False Positive Rate')\n",
    "plt.ylabel('True Positive Rate')\n",
    "plt.title('Receiver Operating Characteristic')\n",
    "plt.legend(loc = 'lower right')\n",
    "plt.show()\n",
    "print('AUC = ',roc_auc)\n",
    "\n",
    "precision, recall, thresholds = precision_recall_curve(test_y, test_y_predict)\n",
    "plt.figure()\n",
    "plt.plot(recall, precision)\n",
    "plt.xlim([0,1])\n",
    "plt.ylim([0,1])\n",
    "plt.xlabel('Recall')\n",
    "plt.ylabel('Precision')\n",
    "plt.show()"
   ]
  },
  {
   "cell_type": "code",
   "execution_count": 8,
   "metadata": {},
   "outputs": [
    {
     "data": {
      "image/png": "[encoded data removed]",
      "text/plain": [
       "<Figure size 1080x360 with 3 Axes>"
      ]
     },
     "metadata": {
      "needs_background": "light"
     },
     "output_type": "display_data"
    }
   ],
   "source": [
    "# display\n",
    "i=0#sample index\n",
    "fig, ax = plt.subplots(1, 3, sharex=True, sharey=True, figsize=(15,5))\n",
    "ax[0].imshow(x_test[i,...,0], aspect=\"auto\")\n",
    "ax[1].imshow(y_test[i,...,1], aspect=\"auto\")\n",
    "mask = prediction[i,...,1]/predict_max > 0.3\n",
    "\n",
    "ax[2].imshow(mask, aspect=\"auto\")\n",
    "ax[0].set_title(\"Input\")\n",
    "ax[1].set_title(\"Ground truth\")\n",
    "ax[2].set_title(\"Prediction\")\n",
    "fig.tight_layout()"
   ]
  },
  {
   "cell_type": "markdown",
   "metadata": {},
   "source": [
    "### prediction on frac and nonfrac on Ross ice shelf"
   ]
  },
  {
   "cell_type": "code",
   "execution_count": 9,
   "metadata": {},
   "outputs": [
    {
     "name": "stdout",
     "output_type": "stream",
     "text": [
      "Number of files used: 2\n",
      "Number of channels: 1\n",
      "Number of classes: 2\n",
      "(2, 1000, 1000, 1)\n",
      "(2, 1000, 1000, 2)\n",
      "INFO:tensorflow:Restoring parameters from ./trained_3layers_feature32_epoch100/model.ckpt\n"
     ]
    },
    {
     "name": "stderr",
     "output_type": "stream",
     "text": [
      "2019-05-27 12:29:34,532 Restoring parameters from ./trained_3layers_feature32_epoch100/model.ckpt\n",
      "2019-05-27 12:29:34,628 Model restored from file: ./trained_3layers_feature32_epoch100/model.ckpt\n"
     ]
    }
   ],
   "source": [
    "#prepare test data\n",
    "test_data = image_util.ImageDataProvider(\"./data_ross/*.tif\")\n",
    "i=2 #number of images\n",
    "x_test, y_test = test_data(i)\n",
    "print(x_test.shape)\n",
    "print(y_test.shape)\n",
    "\n",
    "prediction = net.predict(output_path+\"/model.ckpt\", x_test)"
   ]
  },
  {
   "cell_type": "code",
   "execution_count": 10,
   "metadata": {},
   "outputs": [
    {
     "data": {
      "image/png": "[encoded data removed]",
      "text/plain": [
       "<Figure size 1080x360 with 3 Axes>"
      ]
     },
     "metadata": {
      "needs_background": "light"
     },
     "output_type": "display_data"
    }
   ],
   "source": [
    "# display\n",
    "i=1#sample index\n",
    "fig, ax = plt.subplots(1, 3, sharex=True, sharey=True, figsize=(15,5))\n",
    "ax[0].imshow(x_test[i,...,0], aspect=\"auto\")\n",
    "ax[1].imshow(y_test[i,...,1], aspect=\"auto\")\n",
    "mask = prediction[i,...,1] > 0.2\n",
    "ax[2].imshow(mask, aspect=\"auto\")\n",
    "ax[0].set_title(\"Input\")\n",
    "ax[1].set_title(\"Ground truth\")\n",
    "ax[2].set_title(\"Prediction\")\n",
    "fig.tight_layout()"
   ]
  },
  {
   "cell_type": "code",
   "execution_count": 11,
   "metadata": {},
   "outputs": [],
   "source": [
    "# save as image\n",
    "img = util.combine_img_prediction(x_test, y_test, prediction)\n",
    "util.save_image(img, prediction_path+\"/prediction_ross.jpg\")"
   ]
  },
  {
   "cell_type": "markdown",
   "metadata": {},
   "source": [
    "### prediction on sample images"
   ]
  },
  {
   "cell_type": "code",
   "execution_count": 12,
   "metadata": {},
   "outputs": [
    {
     "name": "stdout",
     "output_type": "stream",
     "text": [
      "Number of files used: 4\n",
      "Number of channels: 1\n",
      "Number of classes: 2\n",
      "(4, 241, 241, 1)\n",
      "(4, 241, 241, 2)\n",
      "INFO:tensorflow:Restoring parameters from ./trained_3layers_feature32_epoch100/model.ckpt\n"
     ]
    },
    {
     "name": "stderr",
     "output_type": "stream",
     "text": [
      "2019-05-27 12:29:48,287 Restoring parameters from ./trained_3layers_feature32_epoch100/model.ckpt\n",
      "2019-05-27 12:29:48,391 Model restored from file: ./trained_3layers_feature32_epoch100/model.ckpt\n"
     ]
    }
   ],
   "source": [
    "#prepare test data\n",
    "test_data = image_util.ImageDataProvider(\"./data_sample/*.tif\")\n",
    "i=4 #number of images\n",
    "x_test, y_test = test_data(i)\n",
    "print(x_test.shape)\n",
    "print(y_test.shape)\n",
    "\n",
    "prediction = net.predict(output_path+\"/model.ckpt\", x_test)"
   ]
  },
  {
   "cell_type": "code",
   "execution_count": 14,
   "metadata": {
    "scrolled": true
   },
   "outputs": [
    {
     "data": {
      "image/png": "[encoded data removed]",
      "text/plain": [
       "<Figure size 864x360 with 3 Axes>"
      ]
     },
     "metadata": {
      "needs_background": "light"
     },
     "output_type": "display_data"
    }
   ],
   "source": [
    "# display\n",
    "i=2 #sample index\n",
    "fig, ax = plt.subplots(1, 3, sharex=True, sharey=True, figsize=(12,5))\n",
    "ax[0].imshow(x_test[i,...,0], aspect=\"auto\")\n",
    "ax[1].imshow(y_test[i,...,1], aspect=\"auto\")\n",
    "mask = prediction[i,...,1] > 0.05\n",
    "ax[2].imshow(mask, aspect=\"auto\")\n",
    "ax[0].set_title(\"Input\")\n",
    "ax[1].set_title(\"Ground truth\")\n",
    "ax[2].set_title(\"Prediction\")\n",
    "fig.tight_layout()"
   ]
  },
  {
   "cell_type": "code",
   "execution_count": 15,
   "metadata": {},
   "outputs": [],
   "source": [
    "img = util.combine_img_prediction(x_test, y_test, prediction)\n",
    "util.save_image(img, prediction_path+\"/prediction_sample.jpg\")"
   ]
  },
  {
   "cell_type": "markdown",
   "metadata": {},
   "source": [
    "### Apply to Antarctica"
   ]
  },
  {
   "cell_type": "code",
   "execution_count": 11,
   "metadata": {},
   "outputs": [
    {
     "name": "stdout",
     "output_type": "stream",
     "text": [
      "Number of files used: 1\n",
      "Number of channels: 1\n",
      "Number of classes: 2\n",
      "Number of files used: 1\n",
      "Number of channels: 1\n",
      "Number of classes: 2\n",
      "Number of files used: 1\n",
      "Number of channels: 1\n",
      "Number of classes: 2\n",
      "Number of files used: 1\n",
      "Number of channels: 1\n",
      "Number of classes: 2\n",
      "Number of files used: 1\n",
      "Number of channels: 1\n",
      "Number of classes: 2\n",
      "Number of files used: 1\n",
      "Number of channels: 1\n",
      "Number of classes: 2\n",
      "Number of files used: 1\n",
      "Number of channels: 1\n",
      "Number of classes: 2\n",
      "Number of files used: 1\n",
      "Number of channels: 1\n",
      "Number of classes: 2\n",
      "Number of files used: 1\n",
      "Number of channels: 1\n",
      "Number of classes: 2\n",
      "Number of files used: 1\n",
      "Number of channels: 1\n",
      "Number of classes: 2\n",
      "Number of files used: 1\n",
      "Number of channels: 1\n",
      "Number of classes: 2\n",
      "Number of files used: 1\n",
      "Number of channels: 1\n",
      "Number of classes: 2\n",
      "Number of files used: 1\n",
      "Number of channels: 1\n",
      "Number of classes: 2\n",
      "Number of files used: 1\n",
      "Number of channels: 1\n",
      "Number of classes: 2\n",
      "Number of files used: 1\n",
      "Number of channels: 1\n",
      "Number of classes: 2\n",
      "Number of files used: 1\n",
      "Number of channels: 1\n",
      "Number of classes: 2\n",
      "Number of files used: 1\n",
      "Number of channels: 1\n",
      "Number of classes: 2\n",
      "Number of files used: 1\n",
      "Number of channels: 1\n",
      "Number of classes: 2\n",
      "Number of files used: 1\n",
      "Number of channels: 1\n",
      "Number of classes: 2\n",
      "Number of files used: 1\n",
      "Number of channels: 1\n",
      "Number of classes: 2\n",
      "Number of files used: 1\n",
      "Number of channels: 1\n",
      "Number of classes: 2\n",
      "Number of files used: 1\n",
      "Number of channels: 1\n",
      "Number of classes: 2\n",
      "Number of files used: 1\n",
      "Number of channels: 1\n",
      "Number of classes: 2\n",
      "Number of files used: 1\n",
      "Number of channels: 1\n",
      "Number of classes: 2\n",
      "INFO:tensorflow:Restoring parameters from ./trained_3layers_feature32_epoch100/model.ckpt\n"
     ]
    },
    {
     "name": "stderr",
     "output_type": "stream",
     "text": [
      "2019-05-12 13:41:38,296 Restoring parameters from ./trained_3layers_feature32_epoch100/model.ckpt\n",
      "2019-05-12 13:41:38,847 Model restored from file: ./trained_3layers_feature32_epoch100/model.ckpt\n"
     ]
    },
    {
     "name": "stdout",
     "output_type": "stream",
     "text": [
      "Number of files used: 1\n",
      "Number of channels: 1\n",
      "Number of classes: 2\n",
      "INFO:tensorflow:Restoring parameters from ./trained_3layers_feature32_epoch100/model.ckpt\n"
     ]
    },
    {
     "name": "stderr",
     "output_type": "stream",
     "text": [
      "2019-05-12 13:41:42,581 Restoring parameters from ./trained_3layers_feature32_epoch100/model.ckpt\n",
      "2019-05-12 13:41:43,131 Model restored from file: ./trained_3layers_feature32_epoch100/model.ckpt\n"
     ]
    },
    {
     "name": "stdout",
     "output_type": "stream",
     "text": [
      "Number of files used: 1\n",
      "Number of channels: 1\n",
      "Number of classes: 2\n",
      "INFO:tensorflow:Restoring parameters from ./trained_3layers_feature32_epoch100/model.ckpt\n"
     ]
    },
    {
     "name": "stderr",
     "output_type": "stream",
     "text": [
      "2019-05-12 13:41:46,851 Restoring parameters from ./trained_3layers_feature32_epoch100/model.ckpt\n",
      "2019-05-12 13:41:47,395 Model restored from file: ./trained_3layers_feature32_epoch100/model.ckpt\n"
     ]
    },
    {
     "name": "stdout",
     "output_type": "stream",
     "text": [
      "Number of files used: 1\n",
      "Number of channels: 1\n",
      "Number of classes: 2\n",
      "INFO:tensorflow:Restoring parameters from ./trained_3layers_feature32_epoch100/model.ckpt\n"
     ]
    },
    {
     "name": "stderr",
     "output_type": "stream",
     "text": [
      "2019-05-12 13:41:51,150 Restoring parameters from ./trained_3layers_feature32_epoch100/model.ckpt\n",
      "2019-05-12 13:41:51,692 Model restored from file: ./trained_3layers_feature32_epoch100/model.ckpt\n"
     ]
    },
    {
     "name": "stdout",
     "output_type": "stream",
     "text": [
      "Number of files used: 1\n",
      "Number of channels: 1\n",
      "Number of classes: 2\n",
      "INFO:tensorflow:Restoring parameters from ./trained_3layers_feature32_epoch100/model.ckpt\n"
     ]
    },
    {
     "name": "stderr",
     "output_type": "stream",
     "text": [
      "2019-05-12 13:41:55,449 Restoring parameters from ./trained_3layers_feature32_epoch100/model.ckpt\n",
      "2019-05-12 13:41:56,002 Model restored from file: ./trained_3layers_feature32_epoch100/model.ckpt\n"
     ]
    },
    {
     "name": "stdout",
     "output_type": "stream",
     "text": [
      "Number of files used: 1\n",
      "Number of channels: 1\n",
      "Number of classes: 2\n",
      "INFO:tensorflow:Restoring parameters from ./trained_3layers_feature32_epoch100/model.ckpt\n"
     ]
    },
    {
     "name": "stderr",
     "output_type": "stream",
     "text": [
      "2019-05-12 13:41:59,737 Restoring parameters from ./trained_3layers_feature32_epoch100/model.ckpt\n",
      "2019-05-12 13:42:00,288 Model restored from file: ./trained_3layers_feature32_epoch100/model.ckpt\n"
     ]
    },
    {
     "name": "stdout",
     "output_type": "stream",
     "text": [
      "Number of files used: 1\n",
      "Number of channels: 1\n",
      "Number of classes: 2\n",
      "INFO:tensorflow:Restoring parameters from ./trained_3layers_feature32_epoch100/model.ckpt\n"
     ]
    },
    {
     "name": "stderr",
     "output_type": "stream",
     "text": [
      "2019-05-12 13:42:03,980 Restoring parameters from ./trained_3layers_feature32_epoch100/model.ckpt\n",
      "2019-05-12 13:42:04,530 Model restored from file: ./trained_3layers_feature32_epoch100/model.ckpt\n"
     ]
    },
    {
     "name": "stdout",
     "output_type": "stream",
     "text": [
      "Number of files used: 1\n",
      "Number of channels: 1\n",
      "Number of classes: 2\n",
      "INFO:tensorflow:Restoring parameters from ./trained_3layers_feature32_epoch100/model.ckpt\n"
     ]
    },
    {
     "name": "stderr",
     "output_type": "stream",
     "text": [
      "2019-05-12 13:42:08,216 Restoring parameters from ./trained_3layers_feature32_epoch100/model.ckpt\n",
      "2019-05-12 13:42:08,763 Model restored from file: ./trained_3layers_feature32_epoch100/model.ckpt\n"
     ]
    },
    {
     "name": "stdout",
     "output_type": "stream",
     "text": [
      "Number of files used: 1\n",
      "Number of channels: 1\n",
      "Number of classes: 2\n",
      "INFO:tensorflow:Restoring parameters from ./trained_3layers_feature32_epoch100/model.ckpt\n"
     ]
    },
    {
     "name": "stderr",
     "output_type": "stream",
     "text": [
      "2019-05-12 13:42:12,513 Restoring parameters from ./trained_3layers_feature32_epoch100/model.ckpt\n",
      "2019-05-12 13:42:13,074 Model restored from file: ./trained_3layers_feature32_epoch100/model.ckpt\n"
     ]
    },
    {
     "name": "stdout",
     "output_type": "stream",
     "text": [
      "Number of files used: 1\n",
      "Number of channels: 1\n",
      "Number of classes: 2\n",
      "INFO:tensorflow:Restoring parameters from ./trained_3layers_feature32_epoch100/model.ckpt\n"
     ]
    },
    {
     "name": "stderr",
     "output_type": "stream",
     "text": [
      "2019-05-12 13:42:16,821 Restoring parameters from ./trained_3layers_feature32_epoch100/model.ckpt\n",
      "2019-05-12 13:42:17,379 Model restored from file: ./trained_3layers_feature32_epoch100/model.ckpt\n"
     ]
    },
    {
     "name": "stdout",
     "output_type": "stream",
     "text": [
      "Number of files used: 1\n",
      "Number of channels: 1\n",
      "Number of classes: 2\n",
      "Number of files used: 1\n",
      "Number of channels: 1\n",
      "Number of classes: 2\n",
      "Number of files used: 1\n",
      "Number of channels: 1\n",
      "Number of classes: 2\n",
      "Number of files used: 1\n",
      "Number of channels: 1\n",
      "Number of classes: 2\n",
      "Number of files used: 1\n",
      "Number of channels: 1\n",
      "Number of classes: 2\n",
      "Number of files used: 1\n",
      "Number of channels: 1\n",
      "Number of classes: 2\n",
      "Number of files used: 1\n",
      "Number of channels: 1\n",
      "Number of classes: 2\n",
      "Number of files used: 1\n",
      "Number of channels: 1\n",
      "Number of classes: 2\n",
      "Number of files used: 1\n",
      "Number of channels: 1\n",
      "Number of classes: 2\n",
      "Number of files used: 1\n",
      "Number of channels: 1\n",
      "Number of classes: 2\n",
      "Number of files used: 1\n",
      "Number of channels: 1\n",
      "Number of classes: 2\n",
      "Number of files used: 1\n",
      "Number of channels: 1\n",
      "Number of classes: 2\n",
      "Number of files used: 1\n",
      "Number of channels: 1\n",
      "Number of classes: 2\n",
      "Number of files used: 1\n",
      "Number of channels: 1\n",
      "Number of classes: 2\n",
      "Number of files used: 1\n",
      "Number of channels: 1\n",
      "Number of classes: 2\n",
      "Number of files used: 1\n",
      "Number of channels: 1\n",
      "Number of classes: 2\n",
      "Number of files used: 1\n",
      "Number of channels: 1\n",
      "Number of classes: 2\n",
      "Number of files used: 1\n",
      "Number of channels: 1\n",
      "Number of classes: 2\n",
      "Number of files used: 1\n",
      "Number of channels: 1\n",
      "Number of classes: 2\n",
      "Number of files used: 1\n",
      "Number of channels: 1\n",
      "Number of classes: 2\n",
      "Number of files used: 1\n",
      "Number of channels: 1\n",
      "Number of classes: 2\n",
      "Number of files used: 1\n",
      "Number of channels: 1\n",
      "Number of classes: 2\n",
      "Number of files used: 1\n",
      "Number of channels: 1\n",
      "Number of classes: 2\n",
      "Number of files used: 1\n",
      "Number of channels: 1\n",
      "Number of classes: 2\n",
      "Number of files used: 1\n",
      "Number of channels: 1\n",
      "Number of classes: 2\n",
      "Number of files used: 1\n",
      "Number of channels: 1\n",
      "Number of classes: 2\n",
      "Number of files used: 1\n",
      "Number of channels: 1\n",
      "Number of classes: 2\n",
      "Number of files used: 1\n",
      "Number of channels: 1\n",
      "Number of classes: 2\n",
      "Number of files used: 1\n",
      "Number of channels: 1\n",
      "Number of classes: 2\n",
      "Number of files used: 1\n",
      "Number of channels: 1\n",
      "Number of classes: 2\n",
      "Number of files used: 1\n",
      "Number of channels: 1\n",
      "Number of classes: 2\n",
      "Number of files used: 1\n",
      "Number of channels: 1\n",
      "Number of classes: 2\n",
      "Number of files used: 1\n",
      "Number of channels: 1\n",
      "Number of classes: 2\n",
      "Number of files used: 1\n",
      "Number of channels: 1\n",
      "Number of classes: 2\n",
      "INFO:tensorflow:Restoring parameters from ./trained_3layers_feature32_epoch100/model.ckpt\n"
     ]
    },
    {
     "name": "stderr",
     "output_type": "stream",
     "text": [
      "2019-05-12 13:42:21,958 Restoring parameters from ./trained_3layers_feature32_epoch100/model.ckpt\n",
      "2019-05-12 13:42:22,522 Model restored from file: ./trained_3layers_feature32_epoch100/model.ckpt\n"
     ]
    },
    {
     "name": "stdout",
     "output_type": "stream",
     "text": [
      "Number of files used: 1\n",
      "Number of channels: 1\n",
      "Number of classes: 2\n",
      "INFO:tensorflow:Restoring parameters from ./trained_3layers_feature32_epoch100/model.ckpt\n"
     ]
    },
    {
     "name": "stderr",
     "output_type": "stream",
     "text": [
      "2019-05-12 13:42:26,234 Restoring parameters from ./trained_3layers_feature32_epoch100/model.ckpt\n",
      "2019-05-12 13:42:26,806 Model restored from file: ./trained_3layers_feature32_epoch100/model.ckpt\n"
     ]
    },
    {
     "name": "stdout",
     "output_type": "stream",
     "text": [
      "Number of files used: 1\n",
      "Number of channels: 1\n",
      "Number of classes: 2\n",
      "INFO:tensorflow:Restoring parameters from ./trained_3layers_feature32_epoch100/model.ckpt\n"
     ]
    },
    {
     "name": "stderr",
     "output_type": "stream",
     "text": [
      "2019-05-12 13:42:30,560 Restoring parameters from ./trained_3layers_feature32_epoch100/model.ckpt\n",
      "2019-05-12 13:42:31,143 Model restored from file: ./trained_3layers_feature32_epoch100/model.ckpt\n"
     ]
    },
    {
     "name": "stdout",
     "output_type": "stream",
     "text": [
      "Number of files used: 1\n",
      "Number of channels: 1\n",
      "Number of classes: 2\n",
      "Number of files used: 1\n",
      "Number of channels: 1\n",
      "Number of classes: 2\n",
      "Number of files used: 1\n",
      "Number of channels: 1\n",
      "Number of classes: 2\n",
      "Number of files used: 1\n",
      "Number of channels: 1\n",
      "Number of classes: 2\n",
      "Number of files used: 1\n",
      "Number of channels: 1\n",
      "Number of classes: 2\n",
      "INFO:tensorflow:Restoring parameters from ./trained_3layers_feature32_epoch100/model.ckpt\n"
     ]
    },
    {
     "name": "stderr",
     "output_type": "stream",
     "text": [
      "2019-05-12 13:42:34,993 Restoring parameters from ./trained_3layers_feature32_epoch100/model.ckpt\n",
      "2019-05-12 13:42:35,568 Model restored from file: ./trained_3layers_feature32_epoch100/model.ckpt\n"
     ]
    },
    {
     "name": "stdout",
     "output_type": "stream",
     "text": [
      "Number of files used: 1\n",
      "Number of channels: 1\n",
      "Number of classes: 2\n",
      "INFO:tensorflow:Restoring parameters from ./trained_3layers_feature32_epoch100/model.ckpt\n"
     ]
    },
    {
     "name": "stderr",
     "output_type": "stream",
     "text": [
      "2019-05-12 13:42:39,330 Restoring parameters from ./trained_3layers_feature32_epoch100/model.ckpt\n",
      "2019-05-12 13:42:39,906 Model restored from file: ./trained_3layers_feature32_epoch100/model.ckpt\n"
     ]
    },
    {
     "name": "stdout",
     "output_type": "stream",
     "text": [
      "Number of files used: 1\n",
      "Number of channels: 1\n",
      "Number of classes: 2\n",
      "INFO:tensorflow:Restoring parameters from ./trained_3layers_feature32_epoch100/model.ckpt\n"
     ]
    },
    {
     "name": "stderr",
     "output_type": "stream",
     "text": [
      "2019-05-12 13:42:43,636 Restoring parameters from ./trained_3layers_feature32_epoch100/model.ckpt\n",
      "2019-05-12 13:42:44,219 Model restored from file: ./trained_3layers_feature32_epoch100/model.ckpt\n"
     ]
    },
    {
     "name": "stdout",
     "output_type": "stream",
     "text": [
      "Number of files used: 1\n",
      "Number of channels: 1\n",
      "Number of classes: 2\n",
      "INFO:tensorflow:Restoring parameters from ./trained_3layers_feature32_epoch100/model.ckpt\n"
     ]
    },
    {
     "name": "stderr",
     "output_type": "stream",
     "text": [
      "2019-05-12 13:42:47,957 Restoring parameters from ./trained_3layers_feature32_epoch100/model.ckpt\n",
      "2019-05-12 13:42:48,540 Model restored from file: ./trained_3layers_feature32_epoch100/model.ckpt\n"
     ]
    },
    {
     "name": "stdout",
     "output_type": "stream",
     "text": [
      "Number of files used: 1\n",
      "Number of channels: 1\n",
      "Number of classes: 2\n",
      "INFO:tensorflow:Restoring parameters from ./trained_3layers_feature32_epoch100/model.ckpt\n"
     ]
    },
    {
     "name": "stderr",
     "output_type": "stream",
     "text": [
      "2019-05-12 13:42:52,299 Restoring parameters from ./trained_3layers_feature32_epoch100/model.ckpt\n",
      "2019-05-12 13:42:52,893 Model restored from file: ./trained_3layers_feature32_epoch100/model.ckpt\n"
     ]
    },
    {
     "name": "stdout",
     "output_type": "stream",
     "text": [
      "Number of files used: 1\n",
      "Number of channels: 1\n",
      "Number of classes: 2\n",
      "Number of files used: 1\n",
      "Number of channels: 1\n",
      "Number of classes: 2\n",
      "Number of files used: 1\n",
      "Number of channels: 1\n",
      "Number of classes: 2\n",
      "Number of files used: 1\n",
      "Number of channels: 1\n",
      "Number of classes: 2\n",
      "Number of files used: 1\n",
      "Number of channels: 1\n",
      "Number of classes: 2\n",
      "Number of files used: 1\n",
      "Number of channels: 1\n",
      "Number of classes: 2\n",
      "Number of files used: 1\n",
      "Number of channels: 1\n",
      "Number of classes: 2\n",
      "Number of files used: 1\n",
      "Number of channels: 1\n",
      "Number of classes: 2\n",
      "Number of files used: 1\n",
      "Number of channels: 1\n",
      "Number of classes: 2\n",
      "Number of files used: 1\n",
      "Number of channels: 1\n",
      "Number of classes: 2\n",
      "Number of files used: 1\n",
      "Number of channels: 1\n",
      "Number of classes: 2\n",
      "Number of files used: 1\n",
      "Number of channels: 1\n",
      "Number of classes: 2\n",
      "Number of files used: 1\n",
      "Number of channels: 1\n",
      "Number of classes: 2\n",
      "Number of files used: 1\n",
      "Number of channels: 1\n",
      "Number of classes: 2\n",
      "Number of files used: 1\n",
      "Number of channels: 1\n",
      "Number of classes: 2\n",
      "Number of files used: 1\n",
      "Number of channels: 1\n",
      "Number of classes: 2\n",
      "Number of files used: 1\n",
      "Number of channels: 1\n",
      "Number of classes: 2\n",
      "Number of files used: 1\n",
      "Number of channels: 1\n",
      "Number of classes: 2\n",
      "Number of files used: 1\n",
      "Number of channels: 1\n",
      "Number of classes: 2\n",
      "Number of files used: 1\n",
      "Number of channels: 1\n",
      "Number of classes: 2\n",
      "Number of files used: 1\n",
      "Number of channels: 1\n",
      "Number of classes: 2\n",
      "Number of files used: 1\n",
      "Number of channels: 1\n",
      "Number of classes: 2\n",
      "Number of files used: 1\n",
      "Number of channels: 1\n",
      "Number of classes: 2\n",
      "Number of files used: 1\n",
      "Number of channels: 1\n",
      "Number of classes: 2\n",
      "Number of files used: 1\n",
      "Number of channels: 1\n",
      "Number of classes: 2\n",
      "Number of files used: 1\n",
      "Number of channels: 1\n",
      "Number of classes: 2\n",
      "Number of files used: 1\n",
      "Number of channels: 1\n",
      "Number of classes: 2\n",
      "Number of files used: 1\n",
      "Number of channels: 1\n",
      "Number of classes: 2\n",
      "Number of files used: 1\n",
      "Number of channels: 1\n",
      "Number of classes: 2\n",
      "Number of files used: 1\n",
      "Number of channels: 1\n",
      "Number of classes: 2\n",
      "Number of files used: 1\n",
      "Number of channels: 1\n",
      "Number of classes: 2\n",
      "INFO:tensorflow:Restoring parameters from ./trained_3layers_feature32_epoch100/model.ckpt\n"
     ]
    },
    {
     "name": "stderr",
     "output_type": "stream",
     "text": [
      "2019-05-12 13:42:57,527 Restoring parameters from ./trained_3layers_feature32_epoch100/model.ckpt\n",
      "2019-05-12 13:42:58,132 Model restored from file: ./trained_3layers_feature32_epoch100/model.ckpt\n"
     ]
    },
    {
     "name": "stdout",
     "output_type": "stream",
     "text": [
      "Number of files used: 1\n",
      "Number of channels: 1\n",
      "Number of classes: 2\n",
      "INFO:tensorflow:Restoring parameters from ./trained_3layers_feature32_epoch100/model.ckpt\n"
     ]
    },
    {
     "name": "stderr",
     "output_type": "stream",
     "text": [
      "2019-05-12 13:43:01,915 Restoring parameters from ./trained_3layers_feature32_epoch100/model.ckpt\n",
      "2019-05-12 13:43:02,507 Model restored from file: ./trained_3layers_feature32_epoch100/model.ckpt\n"
     ]
    },
    {
     "name": "stdout",
     "output_type": "stream",
     "text": [
      "Number of files used: 1\n",
      "Number of channels: 1\n",
      "Number of classes: 2\n",
      "Number of files used: 1\n",
      "Number of channels: 1\n",
      "Number of classes: 2\n",
      "Number of files used: 1\n",
      "Number of channels: 1\n",
      "Number of classes: 2\n",
      "Number of files used: 1\n",
      "Number of channels: 1\n",
      "Number of classes: 2\n",
      "Number of files used: 1\n",
      "Number of channels: 1\n",
      "Number of classes: 2\n",
      "Number of files used: 1\n",
      "Number of channels: 1\n",
      "Number of classes: 2\n",
      "Number of files used: 1\n",
      "Number of channels: 1\n",
      "Number of classes: 2\n",
      "Number of files used: 1\n",
      "Number of channels: 1\n",
      "Number of classes: 2\n",
      "Number of files used: 1\n",
      "Number of channels: 1\n",
      "Number of classes: 2\n",
      "Number of files used: 1\n",
      "Number of channels: 1\n",
      "Number of classes: 2\n",
      "Number of files used: 1\n",
      "Number of channels: 1\n",
      "Number of classes: 2\n",
      "INFO:tensorflow:Restoring parameters from ./trained_3layers_feature32_epoch100/model.ckpt\n"
     ]
    },
    {
     "name": "stderr",
     "output_type": "stream",
     "text": [
      "2019-05-12 13:43:06,518 Restoring parameters from ./trained_3layers_feature32_epoch100/model.ckpt\n",
      "2019-05-12 13:43:07,142 Model restored from file: ./trained_3layers_feature32_epoch100/model.ckpt\n"
     ]
    },
    {
     "name": "stdout",
     "output_type": "stream",
     "text": [
      "Number of files used: 1\n",
      "Number of channels: 1\n",
      "Number of classes: 2\n",
      "INFO:tensorflow:Restoring parameters from ./trained_3layers_feature32_epoch100/model.ckpt\n"
     ]
    },
    {
     "name": "stderr",
     "output_type": "stream",
     "text": [
      "2019-05-12 13:43:10,945 Restoring parameters from ./trained_3layers_feature32_epoch100/model.ckpt\n",
      "2019-05-12 13:43:11,553 Model restored from file: ./trained_3layers_feature32_epoch100/model.ckpt\n"
     ]
    },
    {
     "name": "stdout",
     "output_type": "stream",
     "text": [
      "Number of files used: 1\n",
      "Number of channels: 1\n",
      "Number of classes: 2\n",
      "Number of files used: 1\n",
      "Number of channels: 1\n",
      "Number of classes: 2\n",
      "Number of files used: 1\n",
      "Number of channels: 1\n",
      "Number of classes: 2\n",
      "Number of files used: 1\n",
      "Number of channels: 1\n",
      "Number of classes: 2\n",
      "Number of files used: 1\n",
      "Number of channels: 1\n",
      "Number of classes: 2\n",
      "Number of files used: 1\n",
      "Number of channels: 1\n",
      "Number of classes: 2\n",
      "Number of files used: 1\n",
      "Number of channels: 1\n",
      "Number of classes: 2\n",
      "Number of files used: 1\n",
      "Number of channels: 1\n",
      "Number of classes: 2\n",
      "Number of files used: 1\n",
      "Number of channels: 1\n",
      "Number of classes: 2\n",
      "Number of files used: 1\n",
      "Number of channels: 1\n",
      "Number of classes: 2\n",
      "Number of files used: 1\n",
      "Number of channels: 1\n",
      "Number of classes: 2\n",
      "Number of files used: 1\n",
      "Number of channels: 1\n",
      "Number of classes: 2\n",
      "Number of files used: 1\n",
      "Number of channels: 1\n",
      "Number of classes: 2\n",
      "Number of files used: 1\n",
      "Number of channels: 1\n",
      "Number of classes: 2\n",
      "Number of files used: 1\n",
      "Number of channels: 1\n",
      "Number of classes: 2\n",
      "Number of files used: 1\n",
      "Number of channels: 1\n",
      "Number of classes: 2\n",
      "Number of files used: 1\n",
      "Number of channels: 1\n",
      "Number of classes: 2\n",
      "Number of files used: 1\n",
      "Number of channels: 1\n",
      "Number of classes: 2\n",
      "Number of files used: 1\n",
      "Number of channels: 1\n",
      "Number of classes: 2\n",
      "Number of files used: 1\n",
      "Number of channels: 1\n",
      "Number of classes: 2\n",
      "Number of files used: 1\n",
      "Number of channels: 1\n",
      "Number of classes: 2\n",
      "Number of files used: 1\n",
      "Number of channels: 1\n",
      "Number of classes: 2\n",
      "Number of files used: 1\n",
      "Number of channels: 1\n",
      "Number of classes: 2\n",
      "Number of files used: 1\n",
      "Number of channels: 1\n",
      "Number of classes: 2\n",
      "Number of files used: 1\n",
      "Number of channels: 1\n",
      "Number of classes: 2\n",
      "Number of files used: 1\n",
      "Number of channels: 1\n",
      "Number of classes: 2\n",
      "Number of files used: 1\n",
      "Number of channels: 1\n",
      "Number of classes: 2\n",
      "Number of files used: 1\n",
      "Number of channels: 1\n",
      "Number of classes: 2\n",
      "Number of files used: 1\n",
      "Number of channels: 1\n",
      "Number of classes: 2\n",
      "Number of files used: 1\n",
      "Number of channels: 1\n",
      "Number of classes: 2\n",
      "Number of files used: 1\n",
      "Number of channels: 1\n",
      "Number of classes: 2\n",
      "INFO:tensorflow:Restoring parameters from ./trained_3layers_feature32_epoch100/model.ckpt\n"
     ]
    },
    {
     "name": "stderr",
     "output_type": "stream",
     "text": [
      "2019-05-12 13:43:16,054 Restoring parameters from ./trained_3layers_feature32_epoch100/model.ckpt\n",
      "2019-05-12 13:43:16,679 Model restored from file: ./trained_3layers_feature32_epoch100/model.ckpt\n"
     ]
    },
    {
     "name": "stdout",
     "output_type": "stream",
     "text": [
      "Number of files used: 1\n",
      "Number of channels: 1\n",
      "Number of classes: 2\n",
      "INFO:tensorflow:Restoring parameters from ./trained_3layers_feature32_epoch100/model.ckpt\n"
     ]
    },
    {
     "name": "stderr",
     "output_type": "stream",
     "text": [
      "2019-05-12 13:43:20,485 Restoring parameters from ./trained_3layers_feature32_epoch100/model.ckpt\n",
      "2019-05-12 13:43:21,103 Model restored from file: ./trained_3layers_feature32_epoch100/model.ckpt\n"
     ]
    },
    {
     "name": "stdout",
     "output_type": "stream",
     "text": [
      "Number of files used: 1\n",
      "Number of channels: 1\n",
      "Number of classes: 2\n",
      "Number of files used: 1\n",
      "Number of channels: 1\n",
      "Number of classes: 2\n",
      "Number of files used: 1\n",
      "Number of channels: 1\n",
      "Number of classes: 2\n",
      "Number of files used: 1\n",
      "Number of channels: 1\n",
      "Number of classes: 2\n",
      "Number of files used: 1\n",
      "Number of channels: 1\n",
      "Number of classes: 2\n",
      "Number of files used: 1\n",
      "Number of channels: 1\n",
      "Number of classes: 2\n",
      "Number of files used: 1\n",
      "Number of channels: 1\n",
      "Number of classes: 2\n",
      "Number of files used: 1\n",
      "Number of channels: 1\n",
      "Number of classes: 2\n",
      "Number of files used: 1\n",
      "Number of channels: 1\n",
      "Number of classes: 2\n",
      "Number of files used: 1\n",
      "Number of channels: 1\n",
      "Number of classes: 2\n",
      "Number of files used: 1\n",
      "Number of channels: 1\n",
      "Number of classes: 2\n",
      "Number of files used: 1\n",
      "Number of channels: 1\n",
      "Number of classes: 2\n",
      "INFO:tensorflow:Restoring parameters from ./trained_3layers_feature32_epoch100/model.ckpt\n"
     ]
    },
    {
     "name": "stderr",
     "output_type": "stream",
     "text": [
      "2019-05-12 13:43:25,151 Restoring parameters from ./trained_3layers_feature32_epoch100/model.ckpt\n",
      "2019-05-12 13:43:25,770 Model restored from file: ./trained_3layers_feature32_epoch100/model.ckpt\n"
     ]
    },
    {
     "name": "stdout",
     "output_type": "stream",
     "text": [
      "Number of files used: 1\n",
      "Number of channels: 1\n",
      "Number of classes: 2\n",
      "Number of files used: 1\n",
      "Number of channels: 1\n",
      "Number of classes: 2\n",
      "Number of files used: 1\n",
      "Number of channels: 1\n",
      "Number of classes: 2\n",
      "Number of files used: 1\n",
      "Number of channels: 1\n",
      "Number of classes: 2\n",
      "Number of files used: 1\n",
      "Number of channels: 1\n",
      "Number of classes: 2\n",
      "Number of files used: 1\n",
      "Number of channels: 1\n",
      "Number of classes: 2\n",
      "Number of files used: 1\n",
      "Number of channels: 1\n",
      "Number of classes: 2\n",
      "Number of files used: 1\n",
      "Number of channels: 1\n",
      "Number of classes: 2\n",
      "Number of files used: 1\n",
      "Number of channels: 1\n",
      "Number of classes: 2\n",
      "Number of files used: 1\n",
      "Number of channels: 1\n",
      "Number of classes: 2\n",
      "Number of files used: 1\n",
      "Number of channels: 1\n",
      "Number of classes: 2\n",
      "Number of files used: 1\n",
      "Number of channels: 1\n",
      "Number of classes: 2\n",
      "Number of files used: 1\n",
      "Number of channels: 1\n",
      "Number of classes: 2\n",
      "Number of files used: 1\n",
      "Number of channels: 1\n",
      "Number of classes: 2\n",
      "Number of files used: 1\n",
      "Number of channels: 1\n",
      "Number of classes: 2\n",
      "Number of files used: 1\n",
      "Number of channels: 1\n",
      "Number of classes: 2\n",
      "Number of files used: 1\n",
      "Number of channels: 1\n",
      "Number of classes: 2\n",
      "Number of files used: 1\n",
      "Number of channels: 1\n",
      "Number of classes: 2\n",
      "Number of files used: 1\n",
      "Number of channels: 1\n",
      "Number of classes: 2\n",
      "Number of files used: 1\n",
      "Number of channels: 1\n",
      "Number of classes: 2\n",
      "Number of files used: 1\n",
      "Number of channels: 1\n",
      "Number of classes: 2\n",
      "Number of files used: 1\n",
      "Number of channels: 1\n",
      "Number of classes: 2\n",
      "Number of files used: 1\n",
      "Number of channels: 1\n",
      "Number of classes: 2\n",
      "Number of files used: 1\n",
      "Number of channels: 1\n",
      "Number of classes: 2\n",
      "Number of files used: 1\n",
      "Number of channels: 1\n",
      "Number of classes: 2\n",
      "Number of files used: 1\n",
      "Number of channels: 1\n",
      "Number of classes: 2\n",
      "Number of files used: 1\n",
      "Number of channels: 1\n",
      "Number of classes: 2\n",
      "Number of files used: 1\n",
      "Number of channels: 1\n",
      "Number of classes: 2\n",
      "Number of files used: 1\n",
      "Number of channels: 1\n",
      "Number of classes: 2\n",
      "Number of files used: 1\n",
      "Number of channels: 1\n",
      "Number of classes: 2\n",
      "INFO:tensorflow:Restoring parameters from ./trained_3layers_feature32_epoch100/model.ckpt\n"
     ]
    },
    {
     "name": "stderr",
     "output_type": "stream",
     "text": [
      "2019-05-12 13:43:30,335 Restoring parameters from ./trained_3layers_feature32_epoch100/model.ckpt\n",
      "2019-05-12 13:43:30,956 Model restored from file: ./trained_3layers_feature32_epoch100/model.ckpt\n"
     ]
    },
    {
     "name": "stdout",
     "output_type": "stream",
     "text": [
      "Number of files used: 1\n",
      "Number of channels: 1\n",
      "Number of classes: 2\n",
      "INFO:tensorflow:Restoring parameters from ./trained_3layers_feature32_epoch100/model.ckpt\n"
     ]
    },
    {
     "name": "stderr",
     "output_type": "stream",
     "text": [
      "2019-05-12 13:43:34,765 Restoring parameters from ./trained_3layers_feature32_epoch100/model.ckpt\n",
      "2019-05-12 13:43:35,392 Model restored from file: ./trained_3layers_feature32_epoch100/model.ckpt\n"
     ]
    },
    {
     "name": "stdout",
     "output_type": "stream",
     "text": [
      "Number of files used: 1\n",
      "Number of channels: 1\n",
      "Number of classes: 2\n",
      "Number of files used: 1\n",
      "Number of channels: 1\n",
      "Number of classes: 2\n",
      "Number of files used: 1\n",
      "Number of channels: 1\n",
      "Number of classes: 2\n",
      "Number of files used: 1\n",
      "Number of channels: 1\n",
      "Number of classes: 2\n",
      "Number of files used: 1\n",
      "Number of channels: 1\n",
      "Number of classes: 2\n",
      "Number of files used: 1\n",
      "Number of channels: 1\n",
      "Number of classes: 2\n",
      "Number of files used: 1\n",
      "Number of channels: 1\n",
      "Number of classes: 2\n",
      "Number of files used: 1\n",
      "Number of channels: 1\n",
      "Number of classes: 2\n",
      "Number of files used: 1\n",
      "Number of channels: 1\n",
      "Number of classes: 2\n",
      "Number of files used: 1\n",
      "Number of channels: 1\n",
      "Number of classes: 2\n",
      "Number of files used: 1\n",
      "Number of channels: 1\n",
      "Number of classes: 2\n",
      "Number of files used: 1\n",
      "Number of channels: 1\n",
      "Number of classes: 2\n",
      "INFO:tensorflow:Restoring parameters from ./trained_3layers_feature32_epoch100/model.ckpt\n"
     ]
    },
    {
     "name": "stderr",
     "output_type": "stream",
     "text": [
      "2019-05-12 13:43:39,511 Restoring parameters from ./trained_3layers_feature32_epoch100/model.ckpt\n",
      "2019-05-12 13:43:40,225 Model restored from file: ./trained_3layers_feature32_epoch100/model.ckpt\n"
     ]
    },
    {
     "name": "stdout",
     "output_type": "stream",
     "text": [
      "Number of files used: 1\n",
      "Number of channels: 1\n",
      "Number of classes: 2\n",
      "INFO:tensorflow:Restoring parameters from ./trained_3layers_feature32_epoch100/model.ckpt\n"
     ]
    },
    {
     "name": "stderr",
     "output_type": "stream",
     "text": [
      "2019-05-12 13:43:44,038 Restoring parameters from ./trained_3layers_feature32_epoch100/model.ckpt\n",
      "2019-05-12 13:43:44,666 Model restored from file: ./trained_3layers_feature32_epoch100/model.ckpt\n"
     ]
    },
    {
     "name": "stdout",
     "output_type": "stream",
     "text": [
      "Number of files used: 1\n",
      "Number of channels: 1\n",
      "Number of classes: 2\n",
      "Number of files used: 1\n",
      "Number of channels: 1\n",
      "Number of classes: 2\n",
      "Number of files used: 1\n",
      "Number of channels: 1\n",
      "Number of classes: 2\n",
      "Number of files used: 1\n",
      "Number of channels: 1\n",
      "Number of classes: 2\n",
      "Number of files used: 1\n",
      "Number of channels: 1\n",
      "Number of classes: 2\n",
      "Number of files used: 1\n",
      "Number of channels: 1\n",
      "Number of classes: 2\n",
      "Number of files used: 1\n",
      "Number of channels: 1\n",
      "Number of classes: 2\n",
      "Number of files used: 1\n",
      "Number of channels: 1\n",
      "Number of classes: 2\n",
      "Number of files used: 1\n",
      "Number of channels: 1\n",
      "Number of classes: 2\n",
      "Number of files used: 1\n",
      "Number of channels: 1\n",
      "Number of classes: 2\n",
      "Number of files used: 1\n",
      "Number of channels: 1\n",
      "Number of classes: 2\n",
      "Number of files used: 1\n",
      "Number of channels: 1\n",
      "Number of classes: 2\n",
      "Number of files used: 1\n",
      "Number of channels: 1\n",
      "Number of classes: 2\n",
      "Number of files used: 1\n",
      "Number of channels: 1\n",
      "Number of classes: 2\n",
      "Number of files used: 1\n",
      "Number of channels: 1\n",
      "Number of classes: 2\n",
      "Number of files used: 1\n",
      "Number of channels: 1\n",
      "Number of classes: 2\n",
      "Number of files used: 1\n",
      "Number of channels: 1\n",
      "Number of classes: 2\n",
      "Number of files used: 1\n",
      "Number of channels: 1\n",
      "Number of classes: 2\n",
      "Number of files used: 1\n",
      "Number of channels: 1\n",
      "Number of classes: 2\n",
      "Number of files used: 1\n",
      "Number of channels: 1\n",
      "Number of classes: 2\n",
      "Number of files used: 1\n",
      "Number of channels: 1\n",
      "Number of classes: 2\n",
      "Number of files used: 1\n",
      "Number of channels: 1\n",
      "Number of classes: 2\n",
      "Number of files used: 1\n",
      "Number of channels: 1\n",
      "Number of classes: 2\n",
      "Number of files used: 1\n",
      "Number of channels: 1\n",
      "Number of classes: 2\n",
      "Number of files used: 1\n",
      "Number of channels: 1\n",
      "Number of classes: 2\n",
      "Number of files used: 1\n",
      "Number of channels: 1\n",
      "Number of classes: 2\n",
      "Number of files used: 1\n",
      "Number of channels: 1\n",
      "Number of classes: 2\n",
      "Number of files used: 1\n",
      "Number of channels: 1\n",
      "Number of classes: 2\n",
      "Number of files used: 1\n",
      "Number of channels: 1\n",
      "Number of classes: 2\n",
      "INFO:tensorflow:Restoring parameters from ./trained_3layers_feature32_epoch100/model.ckpt\n"
     ]
    },
    {
     "name": "stderr",
     "output_type": "stream",
     "text": [
      "2019-05-12 13:43:49,172 Restoring parameters from ./trained_3layers_feature32_epoch100/model.ckpt\n",
      "2019-05-12 13:43:49,808 Model restored from file: ./trained_3layers_feature32_epoch100/model.ckpt\n"
     ]
    },
    {
     "name": "stdout",
     "output_type": "stream",
     "text": [
      "Number of files used: 1\n",
      "Number of channels: 1\n",
      "Number of classes: 2\n",
      "INFO:tensorflow:Restoring parameters from ./trained_3layers_feature32_epoch100/model.ckpt\n"
     ]
    },
    {
     "name": "stderr",
     "output_type": "stream",
     "text": [
      "2019-05-12 13:43:53,710 Restoring parameters from ./trained_3layers_feature32_epoch100/model.ckpt\n",
      "2019-05-12 13:43:54,353 Model restored from file: ./trained_3layers_feature32_epoch100/model.ckpt\n"
     ]
    },
    {
     "name": "stdout",
     "output_type": "stream",
     "text": [
      "Number of files used: 1\n",
      "Number of channels: 1\n",
      "Number of classes: 2\n",
      "Number of files used: 1\n",
      "Number of channels: 1\n",
      "Number of classes: 2\n",
      "Number of files used: 1\n",
      "Number of channels: 1\n",
      "Number of classes: 2\n",
      "Number of files used: 1\n",
      "Number of channels: 1\n",
      "Number of classes: 2\n",
      "Number of files used: 1\n",
      "Number of channels: 1\n",
      "Number of classes: 2\n",
      "Number of files used: 1\n",
      "Number of channels: 1\n",
      "Number of classes: 2\n",
      "Number of files used: 1\n",
      "Number of channels: 1\n",
      "Number of classes: 2\n",
      "Number of files used: 1\n",
      "Number of channels: 1\n",
      "Number of classes: 2\n",
      "Number of files used: 1\n",
      "Number of channels: 1\n",
      "Number of classes: 2\n",
      "Number of files used: 1\n",
      "Number of channels: 1\n",
      "Number of classes: 2\n",
      "Number of files used: 1\n",
      "Number of channels: 1\n",
      "Number of classes: 2\n",
      "Number of files used: 1\n",
      "Number of channels: 1\n",
      "Number of classes: 2\n",
      "INFO:tensorflow:Restoring parameters from ./trained_3layers_feature32_epoch100/model.ckpt\n"
     ]
    },
    {
     "name": "stderr",
     "output_type": "stream",
     "text": [
      "2019-05-12 13:43:58,441 Restoring parameters from ./trained_3layers_feature32_epoch100/model.ckpt\n",
      "2019-05-12 13:43:59,092 Model restored from file: ./trained_3layers_feature32_epoch100/model.ckpt\n"
     ]
    },
    {
     "name": "stdout",
     "output_type": "stream",
     "text": [
      "Number of files used: 1\n",
      "Number of channels: 1\n",
      "Number of classes: 2\n",
      "INFO:tensorflow:Restoring parameters from ./trained_3layers_feature32_epoch100/model.ckpt\n"
     ]
    },
    {
     "name": "stderr",
     "output_type": "stream",
     "text": [
      "2019-05-12 13:44:02,967 Restoring parameters from ./trained_3layers_feature32_epoch100/model.ckpt\n",
      "2019-05-12 13:44:03,623 Model restored from file: ./trained_3layers_feature32_epoch100/model.ckpt\n"
     ]
    },
    {
     "name": "stdout",
     "output_type": "stream",
     "text": [
      "Number of files used: 1\n",
      "Number of channels: 1\n",
      "Number of classes: 2\n",
      "Number of files used: 1\n",
      "Number of channels: 1\n",
      "Number of classes: 2\n",
      "Number of files used: 1\n",
      "Number of channels: 1\n",
      "Number of classes: 2\n",
      "Number of files used: 1\n",
      "Number of channels: 1\n",
      "Number of classes: 2\n",
      "Number of files used: 1\n",
      "Number of channels: 1\n",
      "Number of classes: 2\n",
      "Number of files used: 1\n",
      "Number of channels: 1\n",
      "Number of classes: 2\n",
      "Number of files used: 1\n",
      "Number of channels: 1\n",
      "Number of classes: 2\n",
      "Number of files used: 1\n",
      "Number of channels: 1\n",
      "Number of classes: 2\n",
      "Number of files used: 1\n",
      "Number of channels: 1\n",
      "Number of classes: 2\n",
      "Number of files used: 1\n",
      "Number of channels: 1\n",
      "Number of classes: 2\n",
      "Number of files used: 1\n",
      "Number of channels: 1\n",
      "Number of classes: 2\n",
      "Number of files used: 1\n",
      "Number of channels: 1\n",
      "Number of classes: 2\n",
      "Number of files used: 1\n",
      "Number of channels: 1\n",
      "Number of classes: 2\n",
      "Number of files used: 1\n",
      "Number of channels: 1\n",
      "Number of classes: 2\n",
      "Number of files used: 1\n",
      "Number of channels: 1\n",
      "Number of classes: 2\n",
      "Number of files used: 1\n",
      "Number of channels: 1\n",
      "Number of classes: 2\n",
      "Number of files used: 1\n",
      "Number of channels: 1\n",
      "Number of classes: 2\n",
      "Number of files used: 1\n",
      "Number of channels: 1\n",
      "Number of classes: 2\n",
      "INFO:tensorflow:Restoring parameters from ./trained_3layers_feature32_epoch100/model.ckpt\n"
     ]
    },
    {
     "name": "stderr",
     "output_type": "stream",
     "text": [
      "2019-05-12 13:44:07,878 Restoring parameters from ./trained_3layers_feature32_epoch100/model.ckpt\n",
      "2019-05-12 13:44:08,533 Model restored from file: ./trained_3layers_feature32_epoch100/model.ckpt\n"
     ]
    },
    {
     "name": "stdout",
     "output_type": "stream",
     "text": [
      "Number of files used: 1\n",
      "Number of channels: 1\n",
      "Number of classes: 2\n",
      "INFO:tensorflow:Restoring parameters from ./trained_3layers_feature32_epoch100/model.ckpt\n"
     ]
    },
    {
     "name": "stderr",
     "output_type": "stream",
     "text": [
      "2019-05-12 13:44:12,395 Restoring parameters from ./trained_3layers_feature32_epoch100/model.ckpt\n",
      "2019-05-12 13:44:13,063 Model restored from file: ./trained_3layers_feature32_epoch100/model.ckpt\n"
     ]
    },
    {
     "name": "stdout",
     "output_type": "stream",
     "text": [
      "Number of files used: 1\n",
      "Number of channels: 1\n",
      "Number of classes: 2\n",
      "INFO:tensorflow:Restoring parameters from ./trained_3layers_feature32_epoch100/model.ckpt\n"
     ]
    },
    {
     "name": "stderr",
     "output_type": "stream",
     "text": [
      "2019-05-12 13:44:16,907 Restoring parameters from ./trained_3layers_feature32_epoch100/model.ckpt\n",
      "2019-05-12 13:44:17,579 Model restored from file: ./trained_3layers_feature32_epoch100/model.ckpt\n"
     ]
    },
    {
     "name": "stdout",
     "output_type": "stream",
     "text": [
      "Number of files used: 1\n",
      "Number of channels: 1\n",
      "Number of classes: 2\n",
      "INFO:tensorflow:Restoring parameters from ./trained_3layers_feature32_epoch100/model.ckpt\n"
     ]
    },
    {
     "name": "stderr",
     "output_type": "stream",
     "text": [
      "2019-05-12 13:44:21,508 Restoring parameters from ./trained_3layers_feature32_epoch100/model.ckpt\n",
      "2019-05-12 13:44:22,172 Model restored from file: ./trained_3layers_feature32_epoch100/model.ckpt\n"
     ]
    },
    {
     "name": "stdout",
     "output_type": "stream",
     "text": [
      "Number of files used: 1\n",
      "Number of channels: 1\n",
      "Number of classes: 2\n",
      "INFO:tensorflow:Restoring parameters from ./trained_3layers_feature32_epoch100/model.ckpt\n"
     ]
    },
    {
     "name": "stderr",
     "output_type": "stream",
     "text": [
      "2019-05-12 13:44:26,029 Restoring parameters from ./trained_3layers_feature32_epoch100/model.ckpt\n",
      "2019-05-12 13:44:26,708 Model restored from file: ./trained_3layers_feature32_epoch100/model.ckpt\n"
     ]
    },
    {
     "name": "stdout",
     "output_type": "stream",
     "text": [
      "Number of files used: 1\n",
      "Number of channels: 1\n",
      "Number of classes: 2\n",
      "Number of files used: 1\n",
      "Number of channels: 1\n",
      "Number of classes: 2\n",
      "Number of files used: 1\n",
      "Number of channels: 1\n",
      "Number of classes: 2\n",
      "INFO:tensorflow:Restoring parameters from ./trained_3layers_feature32_epoch100/model.ckpt\n"
     ]
    },
    {
     "name": "stderr",
     "output_type": "stream",
     "text": [
      "2019-05-12 13:44:30,670 Restoring parameters from ./trained_3layers_feature32_epoch100/model.ckpt\n",
      "2019-05-12 13:44:31,360 Model restored from file: ./trained_3layers_feature32_epoch100/model.ckpt\n"
     ]
    },
    {
     "name": "stdout",
     "output_type": "stream",
     "text": [
      "Number of files used: 1\n",
      "Number of channels: 1\n",
      "Number of classes: 2\n",
      "INFO:tensorflow:Restoring parameters from ./trained_3layers_feature32_epoch100/model.ckpt\n"
     ]
    },
    {
     "name": "stderr",
     "output_type": "stream",
     "text": [
      "2019-05-12 13:44:35,317 Restoring parameters from ./trained_3layers_feature32_epoch100/model.ckpt\n",
      "2019-05-12 13:44:36,001 Model restored from file: ./trained_3layers_feature32_epoch100/model.ckpt\n"
     ]
    },
    {
     "name": "stdout",
     "output_type": "stream",
     "text": [
      "Number of files used: 1\n",
      "Number of channels: 1\n",
      "Number of classes: 2\n",
      "INFO:tensorflow:Restoring parameters from ./trained_3layers_feature32_epoch100/model.ckpt\n"
     ]
    },
    {
     "name": "stderr",
     "output_type": "stream",
     "text": [
      "2019-05-12 13:44:39,956 Restoring parameters from ./trained_3layers_feature32_epoch100/model.ckpt\n",
      "2019-05-12 13:44:40,658 Model restored from file: ./trained_3layers_feature32_epoch100/model.ckpt\n"
     ]
    },
    {
     "name": "stdout",
     "output_type": "stream",
     "text": [
      "Number of files used: 1\n",
      "Number of channels: 1\n",
      "Number of classes: 2\n",
      "INFO:tensorflow:Restoring parameters from ./trained_3layers_feature32_epoch100/model.ckpt\n"
     ]
    },
    {
     "name": "stderr",
     "output_type": "stream",
     "text": [
      "2019-05-12 13:44:44,596 Restoring parameters from ./trained_3layers_feature32_epoch100/model.ckpt\n",
      "2019-05-12 13:44:45,303 Model restored from file: ./trained_3layers_feature32_epoch100/model.ckpt\n"
     ]
    },
    {
     "name": "stdout",
     "output_type": "stream",
     "text": [
      "Number of files used: 1\n",
      "Number of channels: 1\n",
      "Number of classes: 2\n",
      "INFO:tensorflow:Restoring parameters from ./trained_3layers_feature32_epoch100/model.ckpt\n"
     ]
    },
    {
     "name": "stderr",
     "output_type": "stream",
     "text": [
      "2019-05-12 13:44:49,233 Restoring parameters from ./trained_3layers_feature32_epoch100/model.ckpt\n",
      "2019-05-12 13:44:49,955 Model restored from file: ./trained_3layers_feature32_epoch100/model.ckpt\n"
     ]
    },
    {
     "name": "stdout",
     "output_type": "stream",
     "text": [
      "Number of files used: 1\n",
      "Number of channels: 1\n",
      "Number of classes: 2\n",
      "Number of files used: 1\n",
      "Number of channels: 1\n",
      "Number of classes: 2\n",
      "Number of files used: 1\n",
      "Number of channels: 1\n",
      "Number of classes: 2\n",
      "Number of files used: 1\n",
      "Number of channels: 1\n",
      "Number of classes: 2\n",
      "Number of files used: 1\n",
      "Number of channels: 1\n",
      "Number of classes: 2\n",
      "Number of files used: 1\n",
      "Number of channels: 1\n",
      "Number of classes: 2\n",
      "Number of files used: 1\n",
      "Number of channels: 1\n",
      "Number of classes: 2\n",
      "Number of files used: 1\n",
      "Number of channels: 1\n",
      "Number of classes: 2\n",
      "Number of files used: 1\n",
      "Number of channels: 1\n",
      "Number of classes: 2\n",
      "Number of files used: 1\n",
      "Number of channels: 1\n",
      "Number of classes: 2\n",
      "Number of files used: 1\n",
      "Number of channels: 1\n",
      "Number of classes: 2\n",
      "Number of files used: 1\n",
      "Number of channels: 1\n",
      "Number of classes: 2\n",
      "Number of files used: 1\n",
      "Number of channels: 1\n",
      "Number of classes: 2\n",
      "Number of files used: 1\n",
      "Number of channels: 1\n",
      "Number of classes: 2\n",
      "INFO:tensorflow:Restoring parameters from ./trained_3layers_feature32_epoch100/model.ckpt\n"
     ]
    },
    {
     "name": "stderr",
     "output_type": "stream",
     "text": [
      "2019-05-12 13:44:54,218 Restoring parameters from ./trained_3layers_feature32_epoch100/model.ckpt\n",
      "2019-05-12 13:44:54,926 Model restored from file: ./trained_3layers_feature32_epoch100/model.ckpt\n"
     ]
    },
    {
     "name": "stdout",
     "output_type": "stream",
     "text": [
      "Number of files used: 1\n",
      "Number of channels: 1\n",
      "Number of classes: 2\n",
      "Number of files used: 1\n",
      "Number of channels: 1\n",
      "Number of classes: 2\n",
      "Number of files used: 1\n",
      "Number of channels: 1\n",
      "Number of classes: 2\n",
      "Number of files used: 1\n",
      "Number of channels: 1\n",
      "Number of classes: 2\n",
      "Number of files used: 1\n",
      "Number of channels: 1\n",
      "Number of classes: 2\n",
      "Number of files used: 1\n",
      "Number of channels: 1\n",
      "Number of classes: 2\n",
      "Number of files used: 1\n",
      "Number of channels: 1\n",
      "Number of classes: 2\n",
      "Number of files used: 1\n",
      "Number of channels: 1\n",
      "Number of classes: 2\n",
      "Number of files used: 1\n",
      "Number of channels: 1\n",
      "Number of classes: 2\n",
      "Number of files used: 1\n",
      "Number of channels: 1\n",
      "Number of classes: 2\n",
      "Number of files used: 1\n",
      "Number of channels: 1\n",
      "Number of classes: 2\n",
      "Number of files used: 1\n",
      "Number of channels: 1\n",
      "Number of classes: 2\n",
      "Number of files used: 1\n",
      "Number of channels: 1\n",
      "Number of classes: 2\n",
      "Number of files used: 1\n",
      "Number of channels: 1\n",
      "Number of classes: 2\n",
      "Number of files used: 1\n",
      "Number of channels: 1\n",
      "Number of classes: 2\n",
      "Number of files used: 1\n",
      "Number of channels: 1\n",
      "Number of classes: 2\n",
      "INFO:tensorflow:Restoring parameters from ./trained_3layers_feature32_epoch100/model.ckpt\n"
     ]
    },
    {
     "name": "stderr",
     "output_type": "stream",
     "text": [
      "2019-05-12 13:44:59,189 Restoring parameters from ./trained_3layers_feature32_epoch100/model.ckpt\n",
      "2019-05-12 13:44:59,888 Model restored from file: ./trained_3layers_feature32_epoch100/model.ckpt\n"
     ]
    },
    {
     "name": "stdout",
     "output_type": "stream",
     "text": [
      "Number of files used: 1\n",
      "Number of channels: 1\n",
      "Number of classes: 2\n",
      "INFO:tensorflow:Restoring parameters from ./trained_3layers_feature32_epoch100/model.ckpt\n"
     ]
    },
    {
     "name": "stderr",
     "output_type": "stream",
     "text": [
      "2019-05-12 13:45:03,840 Restoring parameters from ./trained_3layers_feature32_epoch100/model.ckpt\n",
      "2019-05-12 13:45:04,547 Model restored from file: ./trained_3layers_feature32_epoch100/model.ckpt\n"
     ]
    },
    {
     "name": "stdout",
     "output_type": "stream",
     "text": [
      "Number of files used: 1\n",
      "Number of channels: 1\n",
      "Number of classes: 2\n",
      "INFO:tensorflow:Restoring parameters from ./trained_3layers_feature32_epoch100/model.ckpt\n"
     ]
    },
    {
     "name": "stderr",
     "output_type": "stream",
     "text": [
      "2019-05-12 13:45:08,512 Restoring parameters from ./trained_3layers_feature32_epoch100/model.ckpt\n",
      "2019-05-12 13:45:09,230 Model restored from file: ./trained_3layers_feature32_epoch100/model.ckpt\n"
     ]
    },
    {
     "name": "stdout",
     "output_type": "stream",
     "text": [
      "Number of files used: 1\n",
      "Number of channels: 1\n",
      "Number of classes: 2\n",
      "INFO:tensorflow:Restoring parameters from ./trained_3layers_feature32_epoch100/model.ckpt\n"
     ]
    },
    {
     "name": "stderr",
     "output_type": "stream",
     "text": [
      "2019-05-12 13:45:13,167 Restoring parameters from ./trained_3layers_feature32_epoch100/model.ckpt\n",
      "2019-05-12 13:45:13,888 Model restored from file: ./trained_3layers_feature32_epoch100/model.ckpt\n"
     ]
    },
    {
     "name": "stdout",
     "output_type": "stream",
     "text": [
      "Number of files used: 1\n",
      "Number of channels: 1\n",
      "Number of classes: 2\n",
      "INFO:tensorflow:Restoring parameters from ./trained_3layers_feature32_epoch100/model.ckpt\n"
     ]
    },
    {
     "name": "stderr",
     "output_type": "stream",
     "text": [
      "2019-05-12 13:45:17,912 Restoring parameters from ./trained_3layers_feature32_epoch100/model.ckpt\n",
      "2019-05-12 13:45:18,630 Model restored from file: ./trained_3layers_feature32_epoch100/model.ckpt\n"
     ]
    },
    {
     "name": "stdout",
     "output_type": "stream",
     "text": [
      "Number of files used: 1\n",
      "Number of channels: 1\n",
      "Number of classes: 2\n",
      "INFO:tensorflow:Restoring parameters from ./trained_3layers_feature32_epoch100/model.ckpt\n"
     ]
    },
    {
     "name": "stderr",
     "output_type": "stream",
     "text": [
      "2019-05-12 13:45:22,618 Restoring parameters from ./trained_3layers_feature32_epoch100/model.ckpt\n",
      "2019-05-12 13:45:23,356 Model restored from file: ./trained_3layers_feature32_epoch100/model.ckpt\n"
     ]
    },
    {
     "name": "stdout",
     "output_type": "stream",
     "text": [
      "Number of files used: 1\n",
      "Number of channels: 1\n",
      "Number of classes: 2\n",
      "INFO:tensorflow:Restoring parameters from ./trained_3layers_feature32_epoch100/model.ckpt\n"
     ]
    },
    {
     "name": "stderr",
     "output_type": "stream",
     "text": [
      "2019-05-12 13:45:27,324 Restoring parameters from ./trained_3layers_feature32_epoch100/model.ckpt\n",
      "2019-05-12 13:45:28,051 Model restored from file: ./trained_3layers_feature32_epoch100/model.ckpt\n"
     ]
    },
    {
     "name": "stdout",
     "output_type": "stream",
     "text": [
      "Number of files used: 1\n",
      "Number of channels: 1\n",
      "Number of classes: 2\n",
      "INFO:tensorflow:Restoring parameters from ./trained_3layers_feature32_epoch100/model.ckpt\n"
     ]
    },
    {
     "name": "stderr",
     "output_type": "stream",
     "text": [
      "2019-05-12 13:45:32,011 Restoring parameters from ./trained_3layers_feature32_epoch100/model.ckpt\n",
      "2019-05-12 13:45:32,742 Model restored from file: ./trained_3layers_feature32_epoch100/model.ckpt\n"
     ]
    },
    {
     "name": "stdout",
     "output_type": "stream",
     "text": [
      "Number of files used: 1\n",
      "Number of channels: 1\n",
      "Number of classes: 2\n",
      "INFO:tensorflow:Restoring parameters from ./trained_3layers_feature32_epoch100/model.ckpt\n"
     ]
    },
    {
     "name": "stderr",
     "output_type": "stream",
     "text": [
      "2019-05-12 13:45:36,728 Restoring parameters from ./trained_3layers_feature32_epoch100/model.ckpt\n",
      "2019-05-12 13:45:37,458 Model restored from file: ./trained_3layers_feature32_epoch100/model.ckpt\n"
     ]
    },
    {
     "name": "stdout",
     "output_type": "stream",
     "text": [
      "Number of files used: 1\n",
      "Number of channels: 1\n",
      "Number of classes: 2\n",
      "INFO:tensorflow:Restoring parameters from ./trained_3layers_feature32_epoch100/model.ckpt\n"
     ]
    },
    {
     "name": "stderr",
     "output_type": "stream",
     "text": [
      "2019-05-12 13:45:41,450 Restoring parameters from ./trained_3layers_feature32_epoch100/model.ckpt\n",
      "2019-05-12 13:45:42,203 Model restored from file: ./trained_3layers_feature32_epoch100/model.ckpt\n"
     ]
    },
    {
     "name": "stdout",
     "output_type": "stream",
     "text": [
      "Number of files used: 1\n",
      "Number of channels: 1\n",
      "Number of classes: 2\n",
      "INFO:tensorflow:Restoring parameters from ./trained_3layers_feature32_epoch100/model.ckpt\n"
     ]
    },
    {
     "name": "stderr",
     "output_type": "stream",
     "text": [
      "2019-05-12 13:45:46,266 Restoring parameters from ./trained_3layers_feature32_epoch100/model.ckpt\n",
      "2019-05-12 13:45:47,025 Model restored from file: ./trained_3layers_feature32_epoch100/model.ckpt\n"
     ]
    },
    {
     "name": "stdout",
     "output_type": "stream",
     "text": [
      "Number of files used: 1\n",
      "Number of channels: 1\n",
      "Number of classes: 2\n",
      "INFO:tensorflow:Restoring parameters from ./trained_3layers_feature32_epoch100/model.ckpt\n"
     ]
    },
    {
     "name": "stderr",
     "output_type": "stream",
     "text": [
      "2019-05-12 13:45:51,135 Restoring parameters from ./trained_3layers_feature32_epoch100/model.ckpt\n",
      "2019-05-12 13:45:51,903 Model restored from file: ./trained_3layers_feature32_epoch100/model.ckpt\n"
     ]
    },
    {
     "name": "stdout",
     "output_type": "stream",
     "text": [
      "Number of files used: 1\n",
      "Number of channels: 1\n",
      "Number of classes: 2\n",
      "INFO:tensorflow:Restoring parameters from ./trained_3layers_feature32_epoch100/model.ckpt\n"
     ]
    },
    {
     "name": "stderr",
     "output_type": "stream",
     "text": [
      "2019-05-12 13:45:55,981 Restoring parameters from ./trained_3layers_feature32_epoch100/model.ckpt\n",
      "2019-05-12 13:45:56,750 Model restored from file: ./trained_3layers_feature32_epoch100/model.ckpt\n"
     ]
    },
    {
     "name": "stdout",
     "output_type": "stream",
     "text": [
      "Number of files used: 1\n",
      "Number of channels: 1\n",
      "Number of classes: 2\n",
      "INFO:tensorflow:Restoring parameters from ./trained_3layers_feature32_epoch100/model.ckpt\n"
     ]
    },
    {
     "name": "stderr",
     "output_type": "stream",
     "text": [
      "2019-05-12 13:46:00,824 Restoring parameters from ./trained_3layers_feature32_epoch100/model.ckpt\n",
      "2019-05-12 13:46:01,584 Model restored from file: ./trained_3layers_feature32_epoch100/model.ckpt\n"
     ]
    },
    {
     "name": "stdout",
     "output_type": "stream",
     "text": [
      "Number of files used: 1\n",
      "Number of channels: 1\n",
      "Number of classes: 2\n",
      "Number of files used: 1\n",
      "Number of channels: 1\n",
      "Number of classes: 2\n",
      "Number of files used: 1\n",
      "Number of channels: 1\n",
      "Number of classes: 2\n",
      "Number of files used: 1\n",
      "Number of channels: 1\n",
      "Number of classes: 2\n",
      "Number of files used: 1\n",
      "Number of channels: 1\n",
      "Number of classes: 2\n",
      "Number of files used: 1\n",
      "Number of channels: 1\n",
      "Number of classes: 2\n",
      "Number of files used: 1\n",
      "Number of channels: 1\n",
      "Number of classes: 2\n",
      "Number of files used: 1\n",
      "Number of channels: 1\n",
      "Number of classes: 2\n",
      "Number of files used: 1\n",
      "Number of channels: 1\n",
      "Number of classes: 2\n",
      "Number of files used: 1\n",
      "Number of channels: 1\n",
      "Number of classes: 2\n",
      "Number of files used: 1\n",
      "Number of channels: 1\n",
      "Number of classes: 2\n",
      "Number of files used: 1\n",
      "Number of channels: 1\n",
      "Number of classes: 2\n",
      "Number of files used: 1\n",
      "Number of channels: 1\n",
      "Number of classes: 2\n",
      "Number of files used: 1\n",
      "Number of channels: 1\n",
      "Number of classes: 2\n",
      "INFO:tensorflow:Restoring parameters from ./trained_3layers_feature32_epoch100/model.ckpt\n"
     ]
    },
    {
     "name": "stderr",
     "output_type": "stream",
     "text": [
      "2019-05-12 13:46:05,924 Restoring parameters from ./trained_3layers_feature32_epoch100/model.ckpt\n",
      "2019-05-12 13:46:06,699 Model restored from file: ./trained_3layers_feature32_epoch100/model.ckpt\n"
     ]
    },
    {
     "name": "stdout",
     "output_type": "stream",
     "text": [
      "Number of files used: 1\n",
      "Number of channels: 1\n",
      "Number of classes: 2\n",
      "INFO:tensorflow:Restoring parameters from ./trained_3layers_feature32_epoch100/model.ckpt\n"
     ]
    },
    {
     "name": "stderr",
     "output_type": "stream",
     "text": [
      "2019-05-12 13:46:10,777 Restoring parameters from ./trained_3layers_feature32_epoch100/model.ckpt\n",
      "2019-05-12 13:46:11,572 Model restored from file: ./trained_3layers_feature32_epoch100/model.ckpt\n"
     ]
    },
    {
     "name": "stdout",
     "output_type": "stream",
     "text": [
      "Number of files used: 1\n",
      "Number of channels: 1\n",
      "Number of classes: 2\n",
      "Number of files used: 1\n",
      "Number of channels: 1\n",
      "Number of classes: 2\n",
      "Number of files used: 1\n",
      "Number of channels: 1\n",
      "Number of classes: 2\n",
      "Number of files used: 1\n",
      "Number of channels: 1\n",
      "Number of classes: 2\n",
      "Number of files used: 1\n",
      "Number of channels: 1\n",
      "Number of classes: 2\n",
      "Number of files used: 1\n",
      "Number of channels: 1\n",
      "Number of classes: 2\n",
      "Number of files used: 1\n",
      "Number of channels: 1\n",
      "Number of classes: 2\n",
      "Number of files used: 1\n",
      "Number of channels: 1\n",
      "Number of classes: 2\n",
      "Number of files used: 1\n",
      "Number of channels: 1\n",
      "Number of classes: 2\n",
      "Number of files used: 1\n",
      "Number of channels: 1\n",
      "Number of classes: 2\n",
      "Number of files used: 1\n",
      "Number of channels: 1\n",
      "Number of classes: 2\n",
      "Number of files used: 1\n",
      "Number of channels: 1\n",
      "Number of classes: 2\n",
      "Number of files used: 1\n",
      "Number of channels: 1\n",
      "Number of classes: 2\n",
      "INFO:tensorflow:Restoring parameters from ./trained_3layers_feature32_epoch100/model.ckpt\n"
     ]
    },
    {
     "name": "stderr",
     "output_type": "stream",
     "text": [
      "2019-05-12 13:46:15,908 Restoring parameters from ./trained_3layers_feature32_epoch100/model.ckpt\n",
      "2019-05-12 13:46:16,685 Model restored from file: ./trained_3layers_feature32_epoch100/model.ckpt\n"
     ]
    },
    {
     "name": "stdout",
     "output_type": "stream",
     "text": [
      "Number of files used: 1\n",
      "Number of channels: 1\n",
      "Number of classes: 2\n",
      "INFO:tensorflow:Restoring parameters from ./trained_3layers_feature32_epoch100/model.ckpt\n"
     ]
    },
    {
     "name": "stderr",
     "output_type": "stream",
     "text": [
      "2019-05-12 13:46:20,721 Restoring parameters from ./trained_3layers_feature32_epoch100/model.ckpt\n",
      "2019-05-12 13:46:21,508 Model restored from file: ./trained_3layers_feature32_epoch100/model.ckpt\n"
     ]
    },
    {
     "name": "stdout",
     "output_type": "stream",
     "text": [
      "Number of files used: 1\n",
      "Number of channels: 1\n",
      "Number of classes: 2\n",
      "INFO:tensorflow:Restoring parameters from ./trained_3layers_feature32_epoch100/model.ckpt\n"
     ]
    },
    {
     "name": "stderr",
     "output_type": "stream",
     "text": [
      "2019-05-12 13:46:25,568 Restoring parameters from ./trained_3layers_feature32_epoch100/model.ckpt\n",
      "2019-05-12 13:46:26,347 Model restored from file: ./trained_3layers_feature32_epoch100/model.ckpt\n"
     ]
    },
    {
     "name": "stdout",
     "output_type": "stream",
     "text": [
      "Number of files used: 1\n",
      "Number of channels: 1\n",
      "Number of classes: 2\n",
      "Number of files used: 1\n",
      "Number of channels: 1\n",
      "Number of classes: 2\n",
      "Number of files used: 1\n",
      "Number of channels: 1\n",
      "Number of classes: 2\n",
      "Number of files used: 1\n",
      "Number of channels: 1\n",
      "Number of classes: 2\n",
      "INFO:tensorflow:Restoring parameters from ./trained_3layers_feature32_epoch100/model.ckpt\n"
     ]
    },
    {
     "name": "stderr",
     "output_type": "stream",
     "text": [
      "2019-05-12 13:46:30,492 Restoring parameters from ./trained_3layers_feature32_epoch100/model.ckpt\n",
      "2019-05-12 13:46:31,291 Model restored from file: ./trained_3layers_feature32_epoch100/model.ckpt\n"
     ]
    },
    {
     "name": "stdout",
     "output_type": "stream",
     "text": [
      "Number of files used: 1\n",
      "Number of channels: 1\n",
      "Number of classes: 2\n",
      "INFO:tensorflow:Restoring parameters from ./trained_3layers_feature32_epoch100/model.ckpt\n"
     ]
    },
    {
     "name": "stderr",
     "output_type": "stream",
     "text": [
      "2019-05-12 13:46:35,334 Restoring parameters from ./trained_3layers_feature32_epoch100/model.ckpt\n",
      "2019-05-12 13:46:36,143 Model restored from file: ./trained_3layers_feature32_epoch100/model.ckpt\n"
     ]
    },
    {
     "name": "stdout",
     "output_type": "stream",
     "text": [
      "Number of files used: 1\n",
      "Number of channels: 1\n",
      "Number of classes: 2\n",
      "INFO:tensorflow:Restoring parameters from ./trained_3layers_feature32_epoch100/model.ckpt\n"
     ]
    },
    {
     "name": "stderr",
     "output_type": "stream",
     "text": [
      "2019-05-12 13:46:40,292 Restoring parameters from ./trained_3layers_feature32_epoch100/model.ckpt\n",
      "2019-05-12 13:46:41,113 Model restored from file: ./trained_3layers_feature32_epoch100/model.ckpt\n"
     ]
    },
    {
     "name": "stdout",
     "output_type": "stream",
     "text": [
      "Number of files used: 1\n",
      "Number of channels: 1\n",
      "Number of classes: 2\n",
      "INFO:tensorflow:Restoring parameters from ./trained_3layers_feature32_epoch100/model.ckpt\n"
     ]
    },
    {
     "name": "stderr",
     "output_type": "stream",
     "text": [
      "2019-05-12 13:46:45,210 Restoring parameters from ./trained_3layers_feature32_epoch100/model.ckpt\n",
      "2019-05-12 13:46:46,020 Model restored from file: ./trained_3layers_feature32_epoch100/model.ckpt\n"
     ]
    },
    {
     "name": "stdout",
     "output_type": "stream",
     "text": [
      "Number of files used: 1\n",
      "Number of channels: 1\n",
      "Number of classes: 2\n",
      "INFO:tensorflow:Restoring parameters from ./trained_3layers_feature32_epoch100/model.ckpt\n"
     ]
    },
    {
     "name": "stderr",
     "output_type": "stream",
     "text": [
      "2019-05-12 13:46:50,307 Restoring parameters from ./trained_3layers_feature32_epoch100/model.ckpt\n",
      "2019-05-12 13:46:51,128 Model restored from file: ./trained_3layers_feature32_epoch100/model.ckpt\n"
     ]
    },
    {
     "name": "stdout",
     "output_type": "stream",
     "text": [
      "Number of files used: 1\n",
      "Number of channels: 1\n",
      "Number of classes: 2\n",
      "INFO:tensorflow:Restoring parameters from ./trained_3layers_feature32_epoch100/model.ckpt\n"
     ]
    },
    {
     "name": "stderr",
     "output_type": "stream",
     "text": [
      "2019-05-12 13:46:55,264 Restoring parameters from ./trained_3layers_feature32_epoch100/model.ckpt\n",
      "2019-05-12 13:46:56,096 Model restored from file: ./trained_3layers_feature32_epoch100/model.ckpt\n"
     ]
    },
    {
     "name": "stdout",
     "output_type": "stream",
     "text": [
      "Number of files used: 1\n",
      "Number of channels: 1\n",
      "Number of classes: 2\n",
      "INFO:tensorflow:Restoring parameters from ./trained_3layers_feature32_epoch100/model.ckpt\n"
     ]
    },
    {
     "name": "stderr",
     "output_type": "stream",
     "text": [
      "2019-05-12 13:47:00,292 Restoring parameters from ./trained_3layers_feature32_epoch100/model.ckpt\n",
      "2019-05-12 13:47:01,123 Model restored from file: ./trained_3layers_feature32_epoch100/model.ckpt\n"
     ]
    },
    {
     "name": "stdout",
     "output_type": "stream",
     "text": [
      "Number of files used: 1\n",
      "Number of channels: 1\n",
      "Number of classes: 2\n",
      "INFO:tensorflow:Restoring parameters from ./trained_3layers_feature32_epoch100/model.ckpt\n"
     ]
    },
    {
     "name": "stderr",
     "output_type": "stream",
     "text": [
      "2019-05-12 13:47:05,307 Restoring parameters from ./trained_3layers_feature32_epoch100/model.ckpt\n",
      "2019-05-12 13:47:06,147 Model restored from file: ./trained_3layers_feature32_epoch100/model.ckpt\n"
     ]
    },
    {
     "name": "stdout",
     "output_type": "stream",
     "text": [
      "Number of files used: 1\n",
      "Number of channels: 1\n",
      "Number of classes: 2\n",
      "INFO:tensorflow:Restoring parameters from ./trained_3layers_feature32_epoch100/model.ckpt\n"
     ]
    },
    {
     "name": "stderr",
     "output_type": "stream",
     "text": [
      "2019-05-12 13:47:10,359 Restoring parameters from ./trained_3layers_feature32_epoch100/model.ckpt\n",
      "2019-05-12 13:47:11,215 Model restored from file: ./trained_3layers_feature32_epoch100/model.ckpt\n"
     ]
    },
    {
     "name": "stdout",
     "output_type": "stream",
     "text": [
      "Number of files used: 1\n",
      "Number of channels: 1\n",
      "Number of classes: 2\n",
      "INFO:tensorflow:Restoring parameters from ./trained_3layers_feature32_epoch100/model.ckpt\n"
     ]
    },
    {
     "name": "stderr",
     "output_type": "stream",
     "text": [
      "2019-05-12 13:47:15,394 Restoring parameters from ./trained_3layers_feature32_epoch100/model.ckpt\n",
      "2019-05-12 13:47:16,236 Model restored from file: ./trained_3layers_feature32_epoch100/model.ckpt\n"
     ]
    },
    {
     "name": "stdout",
     "output_type": "stream",
     "text": [
      "Number of files used: 1\n",
      "Number of channels: 1\n",
      "Number of classes: 2\n",
      "Number of files used: 1\n",
      "Number of channels: 1\n",
      "Number of classes: 2\n",
      "Number of files used: 1\n",
      "Number of channels: 1\n",
      "Number of classes: 2\n",
      "Number of files used: 1\n",
      "Number of channels: 1\n",
      "Number of classes: 2\n",
      "Number of files used: 1\n",
      "Number of channels: 1\n",
      "Number of classes: 2\n",
      "Number of files used: 1\n",
      "Number of channels: 1\n",
      "Number of classes: 2\n",
      "Number of files used: 1\n",
      "Number of channels: 1\n",
      "Number of classes: 2\n",
      "Number of files used: 1\n",
      "Number of channels: 1\n",
      "Number of classes: 2\n",
      "Number of files used: 1\n",
      "Number of channels: 1\n",
      "Number of classes: 2\n",
      "Number of files used: 1\n",
      "Number of channels: 1\n",
      "Number of classes: 2\n",
      "Number of files used: 1\n",
      "Number of channels: 1\n",
      "Number of classes: 2\n",
      "Number of files used: 1\n",
      "Number of channels: 1\n",
      "Number of classes: 2\n",
      "Number of files used: 1\n",
      "Number of channels: 1\n",
      "Number of classes: 2\n",
      "Number of files used: 1\n",
      "Number of channels: 1\n",
      "Number of classes: 2\n",
      "Number of files used: 1\n",
      "Number of channels: 1\n",
      "Number of classes: 2\n",
      "INFO:tensorflow:Restoring parameters from ./trained_3layers_feature32_epoch100/model.ckpt\n"
     ]
    },
    {
     "name": "stderr",
     "output_type": "stream",
     "text": [
      "2019-05-12 13:47:20,752 Restoring parameters from ./trained_3layers_feature32_epoch100/model.ckpt\n",
      "2019-05-12 13:47:21,589 Model restored from file: ./trained_3layers_feature32_epoch100/model.ckpt\n"
     ]
    },
    {
     "name": "stdout",
     "output_type": "stream",
     "text": [
      "Number of files used: 1\n",
      "Number of channels: 1\n",
      "Number of classes: 2\n",
      "INFO:tensorflow:Restoring parameters from ./trained_3layers_feature32_epoch100/model.ckpt\n"
     ]
    },
    {
     "name": "stderr",
     "output_type": "stream",
     "text": [
      "2019-05-12 13:47:25,799 Restoring parameters from ./trained_3layers_feature32_epoch100/model.ckpt\n",
      "2019-05-12 13:47:26,671 Model restored from file: ./trained_3layers_feature32_epoch100/model.ckpt\n"
     ]
    },
    {
     "name": "stdout",
     "output_type": "stream",
     "text": [
      "Number of files used: 1\n",
      "Number of channels: 1\n",
      "Number of classes: 2\n",
      "Number of files used: 1\n",
      "Number of channels: 1\n",
      "Number of classes: 2\n",
      "Number of files used: 1\n",
      "Number of channels: 1\n",
      "Number of classes: 2\n",
      "Number of files used: 1\n",
      "Number of channels: 1\n",
      "Number of classes: 2\n",
      "Number of files used: 1\n",
      "Number of channels: 1\n",
      "Number of classes: 2\n",
      "Number of files used: 1\n",
      "Number of channels: 1\n",
      "Number of classes: 2\n",
      "Number of files used: 1\n",
      "Number of channels: 1\n",
      "Number of classes: 2\n",
      "Number of files used: 1\n",
      "Number of channels: 1\n",
      "Number of classes: 2\n",
      "Number of files used: 1\n",
      "Number of channels: 1\n",
      "Number of classes: 2\n",
      "Number of files used: 1\n",
      "Number of channels: 1\n",
      "Number of classes: 2\n",
      "Number of files used: 1\n",
      "Number of channels: 1\n",
      "Number of classes: 2\n",
      "Number of files used: 1\n",
      "Number of channels: 1\n",
      "Number of classes: 2\n",
      "INFO:tensorflow:Restoring parameters from ./trained_3layers_feature32_epoch100/model.ckpt\n"
     ]
    },
    {
     "name": "stderr",
     "output_type": "stream",
     "text": [
      "2019-05-12 13:47:31,108 Restoring parameters from ./trained_3layers_feature32_epoch100/model.ckpt\n",
      "2019-05-12 13:47:31,970 Model restored from file: ./trained_3layers_feature32_epoch100/model.ckpt\n"
     ]
    },
    {
     "name": "stdout",
     "output_type": "stream",
     "text": [
      "Number of files used: 1\n",
      "Number of channels: 1\n",
      "Number of classes: 2\n",
      "INFO:tensorflow:Restoring parameters from ./trained_3layers_feature32_epoch100/model.ckpt\n"
     ]
    },
    {
     "name": "stderr",
     "output_type": "stream",
     "text": [
      "2019-05-12 13:47:36,174 Restoring parameters from ./trained_3layers_feature32_epoch100/model.ckpt\n",
      "2019-05-12 13:47:37,043 Model restored from file: ./trained_3layers_feature32_epoch100/model.ckpt\n"
     ]
    },
    {
     "name": "stdout",
     "output_type": "stream",
     "text": [
      "Number of files used: 1\n",
      "Number of channels: 1\n",
      "Number of classes: 2\n",
      "Number of files used: 1\n",
      "Number of channels: 1\n",
      "Number of classes: 2\n",
      "Number of files used: 1\n",
      "Number of channels: 1\n",
      "Number of classes: 2\n",
      "Number of files used: 1\n",
      "Number of channels: 1\n",
      "Number of classes: 2\n",
      "Number of files used: 1\n",
      "Number of channels: 1\n",
      "Number of classes: 2\n",
      "Number of files used: 1\n",
      "Number of channels: 1\n",
      "Number of classes: 2\n",
      "INFO:tensorflow:Restoring parameters from ./trained_3layers_feature32_epoch100/model.ckpt\n"
     ]
    },
    {
     "name": "stderr",
     "output_type": "stream",
     "text": [
      "2019-05-12 13:47:41,323 Restoring parameters from ./trained_3layers_feature32_epoch100/model.ckpt\n",
      "2019-05-12 13:47:42,176 Model restored from file: ./trained_3layers_feature32_epoch100/model.ckpt\n"
     ]
    },
    {
     "name": "stdout",
     "output_type": "stream",
     "text": [
      "Number of files used: 1\n",
      "Number of channels: 1\n",
      "Number of classes: 2\n",
      "INFO:tensorflow:Restoring parameters from ./trained_3layers_feature32_epoch100/model.ckpt\n"
     ]
    },
    {
     "name": "stderr",
     "output_type": "stream",
     "text": [
      "2019-05-12 13:47:46,346 Restoring parameters from ./trained_3layers_feature32_epoch100/model.ckpt\n",
      "2019-05-12 13:47:47,210 Model restored from file: ./trained_3layers_feature32_epoch100/model.ckpt\n"
     ]
    },
    {
     "name": "stdout",
     "output_type": "stream",
     "text": [
      "Number of files used: 1\n",
      "Number of channels: 1\n",
      "Number of classes: 2\n",
      "INFO:tensorflow:Restoring parameters from ./trained_3layers_feature32_epoch100/model.ckpt\n"
     ]
    },
    {
     "name": "stderr",
     "output_type": "stream",
     "text": [
      "2019-05-12 13:47:51,441 Restoring parameters from ./trained_3layers_feature32_epoch100/model.ckpt\n",
      "2019-05-12 13:47:52,340 Model restored from file: ./trained_3layers_feature32_epoch100/model.ckpt\n"
     ]
    },
    {
     "name": "stdout",
     "output_type": "stream",
     "text": [
      "Number of files used: 1\n",
      "Number of channels: 1\n",
      "Number of classes: 2\n",
      "INFO:tensorflow:Restoring parameters from ./trained_3layers_feature32_epoch100/model.ckpt\n"
     ]
    },
    {
     "name": "stderr",
     "output_type": "stream",
     "text": [
      "2019-05-12 13:47:56,582 Restoring parameters from ./trained_3layers_feature32_epoch100/model.ckpt\n",
      "2019-05-12 13:47:57,464 Model restored from file: ./trained_3layers_feature32_epoch100/model.ckpt\n"
     ]
    },
    {
     "name": "stdout",
     "output_type": "stream",
     "text": [
      "Number of files used: 1\n",
      "Number of channels: 1\n",
      "Number of classes: 2\n",
      "INFO:tensorflow:Restoring parameters from ./trained_3layers_feature32_epoch100/model.ckpt\n"
     ]
    },
    {
     "name": "stderr",
     "output_type": "stream",
     "text": [
      "2019-05-12 13:48:01,703 Restoring parameters from ./trained_3layers_feature32_epoch100/model.ckpt\n",
      "2019-05-12 13:48:02,586 Model restored from file: ./trained_3layers_feature32_epoch100/model.ckpt\n"
     ]
    },
    {
     "name": "stdout",
     "output_type": "stream",
     "text": [
      "Number of files used: 1\n",
      "Number of channels: 1\n",
      "Number of classes: 2\n",
      "INFO:tensorflow:Restoring parameters from ./trained_3layers_feature32_epoch100/model.ckpt\n"
     ]
    },
    {
     "name": "stderr",
     "output_type": "stream",
     "text": [
      "2019-05-12 13:48:06,826 Restoring parameters from ./trained_3layers_feature32_epoch100/model.ckpt\n",
      "2019-05-12 13:48:07,718 Model restored from file: ./trained_3layers_feature32_epoch100/model.ckpt\n"
     ]
    },
    {
     "name": "stdout",
     "output_type": "stream",
     "text": [
      "Number of files used: 1\n",
      "Number of channels: 1\n",
      "Number of classes: 2\n",
      "INFO:tensorflow:Restoring parameters from ./trained_3layers_feature32_epoch100/model.ckpt\n"
     ]
    },
    {
     "name": "stderr",
     "output_type": "stream",
     "text": [
      "2019-05-12 13:48:11,969 Restoring parameters from ./trained_3layers_feature32_epoch100/model.ckpt\n",
      "2019-05-12 13:48:12,862 Model restored from file: ./trained_3layers_feature32_epoch100/model.ckpt\n"
     ]
    },
    {
     "name": "stdout",
     "output_type": "stream",
     "text": [
      "Number of files used: 1\n",
      "Number of channels: 1\n",
      "Number of classes: 2\n",
      "INFO:tensorflow:Restoring parameters from ./trained_3layers_feature32_epoch100/model.ckpt\n"
     ]
    },
    {
     "name": "stderr",
     "output_type": "stream",
     "text": [
      "2019-05-12 13:48:17,121 Restoring parameters from ./trained_3layers_feature32_epoch100/model.ckpt\n",
      "2019-05-12 13:48:18,019 Model restored from file: ./trained_3layers_feature32_epoch100/model.ckpt\n"
     ]
    },
    {
     "name": "stdout",
     "output_type": "stream",
     "text": [
      "Number of files used: 1\n",
      "Number of channels: 1\n",
      "Number of classes: 2\n",
      "INFO:tensorflow:Restoring parameters from ./trained_3layers_feature32_epoch100/model.ckpt\n"
     ]
    },
    {
     "name": "stderr",
     "output_type": "stream",
     "text": [
      "2019-05-12 13:48:22,232 Restoring parameters from ./trained_3layers_feature32_epoch100/model.ckpt\n",
      "2019-05-12 13:48:23,145 Model restored from file: ./trained_3layers_feature32_epoch100/model.ckpt\n"
     ]
    },
    {
     "name": "stdout",
     "output_type": "stream",
     "text": [
      "Number of files used: 1\n",
      "Number of channels: 1\n",
      "Number of classes: 2\n",
      "Number of files used: 1\n",
      "Number of channels: 1\n",
      "Number of classes: 2\n",
      "Number of files used: 1\n",
      "Number of channels: 1\n",
      "Number of classes: 2\n",
      "Number of files used: 1\n",
      "Number of channels: 1\n",
      "Number of classes: 2\n",
      "Number of files used: 1\n",
      "Number of channels: 1\n",
      "Number of classes: 2\n",
      "Number of files used: 1\n",
      "Number of channels: 1\n",
      "Number of classes: 2\n",
      "Number of files used: 1\n",
      "Number of channels: 1\n",
      "Number of classes: 2\n",
      "Number of files used: 1\n",
      "Number of channels: 1\n",
      "Number of classes: 2\n",
      "Number of files used: 1\n",
      "Number of channels: 1\n",
      "Number of classes: 2\n",
      "Number of files used: 1\n",
      "Number of channels: 1\n",
      "Number of classes: 2\n",
      "Number of files used: 1\n",
      "Number of channels: 1\n",
      "Number of classes: 2\n",
      "Number of files used: 1\n",
      "Number of channels: 1\n",
      "Number of classes: 2\n",
      "Number of files used: 1\n",
      "Number of channels: 1\n",
      "Number of classes: 2\n",
      "Number of files used: 1\n",
      "Number of channels: 1\n",
      "Number of classes: 2\n",
      "Number of files used: 1\n",
      "Number of channels: 1\n",
      "Number of classes: 2\n",
      "INFO:tensorflow:Restoring parameters from ./trained_3layers_feature32_epoch100/model.ckpt\n"
     ]
    },
    {
     "name": "stderr",
     "output_type": "stream",
     "text": [
      "2019-05-12 13:48:27,704 Restoring parameters from ./trained_3layers_feature32_epoch100/model.ckpt\n",
      "2019-05-12 13:48:28,616 Model restored from file: ./trained_3layers_feature32_epoch100/model.ckpt\n"
     ]
    },
    {
     "name": "stdout",
     "output_type": "stream",
     "text": [
      "Number of files used: 1\n",
      "Number of channels: 1\n",
      "Number of classes: 2\n",
      "INFO:tensorflow:Restoring parameters from ./trained_3layers_feature32_epoch100/model.ckpt\n"
     ]
    },
    {
     "name": "stderr",
     "output_type": "stream",
     "text": [
      "2019-05-12 13:48:32,838 Restoring parameters from ./trained_3layers_feature32_epoch100/model.ckpt\n",
      "2019-05-12 13:48:33,740 Model restored from file: ./trained_3layers_feature32_epoch100/model.ckpt\n"
     ]
    },
    {
     "name": "stdout",
     "output_type": "stream",
     "text": [
      "Number of files used: 1\n",
      "Number of channels: 1\n",
      "Number of classes: 2\n",
      "Number of files used: 1\n",
      "Number of channels: 1\n",
      "Number of classes: 2\n",
      "Number of files used: 1\n",
      "Number of channels: 1\n",
      "Number of classes: 2\n",
      "Number of files used: 1\n",
      "Number of channels: 1\n",
      "Number of classes: 2\n",
      "Number of files used: 1\n",
      "Number of channels: 1\n",
      "Number of classes: 2\n",
      "Number of files used: 1\n",
      "Number of channels: 1\n",
      "Number of classes: 2\n",
      "Number of files used: 1\n",
      "Number of channels: 1\n",
      "Number of classes: 2\n",
      "Number of files used: 1\n",
      "Number of channels: 1\n",
      "Number of classes: 2\n",
      "Number of files used: 1\n",
      "Number of channels: 1\n",
      "Number of classes: 2\n",
      "Number of files used: 1\n",
      "Number of channels: 1\n",
      "Number of classes: 2\n",
      "Number of files used: 1\n",
      "Number of channels: 1\n",
      "Number of classes: 2\n",
      "INFO:tensorflow:Restoring parameters from ./trained_3layers_feature32_epoch100/model.ckpt\n"
     ]
    },
    {
     "name": "stderr",
     "output_type": "stream",
     "text": [
      "2019-05-12 13:48:38,185 Restoring parameters from ./trained_3layers_feature32_epoch100/model.ckpt\n",
      "2019-05-12 13:48:39,115 Model restored from file: ./trained_3layers_feature32_epoch100/model.ckpt\n"
     ]
    },
    {
     "name": "stdout",
     "output_type": "stream",
     "text": [
      "Number of files used: 1\n",
      "Number of channels: 1\n",
      "Number of classes: 2\n",
      "INFO:tensorflow:Restoring parameters from ./trained_3layers_feature32_epoch100/model.ckpt\n"
     ]
    },
    {
     "name": "stderr",
     "output_type": "stream",
     "text": [
      "2019-05-12 13:48:43,396 Restoring parameters from ./trained_3layers_feature32_epoch100/model.ckpt\n",
      "2019-05-12 13:48:44,313 Model restored from file: ./trained_3layers_feature32_epoch100/model.ckpt\n"
     ]
    },
    {
     "name": "stdout",
     "output_type": "stream",
     "text": [
      "Number of files used: 1\n",
      "Number of channels: 1\n",
      "Number of classes: 2\n",
      "INFO:tensorflow:Restoring parameters from ./trained_3layers_feature32_epoch100/model.ckpt\n"
     ]
    },
    {
     "name": "stderr",
     "output_type": "stream",
     "text": [
      "2019-05-12 13:48:48,700 Restoring parameters from ./trained_3layers_feature32_epoch100/model.ckpt\n",
      "2019-05-12 13:48:49,633 Model restored from file: ./trained_3layers_feature32_epoch100/model.ckpt\n"
     ]
    },
    {
     "name": "stdout",
     "output_type": "stream",
     "text": [
      "Number of files used: 1\n",
      "Number of channels: 1\n",
      "Number of classes: 2\n",
      "Number of files used: 1\n",
      "Number of channels: 1\n",
      "Number of classes: 2\n",
      "Number of files used: 1\n",
      "Number of channels: 1\n",
      "Number of classes: 2\n",
      "Number of files used: 1\n",
      "Number of channels: 1\n",
      "Number of classes: 2\n",
      "Number of files used: 1\n",
      "Number of channels: 1\n",
      "Number of classes: 2\n",
      "Number of files used: 1\n",
      "Number of channels: 1\n",
      "Number of classes: 2\n",
      "Number of files used: 1\n",
      "Number of channels: 1\n",
      "Number of classes: 2\n",
      "INFO:tensorflow:Restoring parameters from ./trained_3layers_feature32_epoch100/model.ckpt\n"
     ]
    },
    {
     "name": "stderr",
     "output_type": "stream",
     "text": [
      "2019-05-12 13:48:54,109 Restoring parameters from ./trained_3layers_feature32_epoch100/model.ckpt\n",
      "2019-05-12 13:48:55,046 Model restored from file: ./trained_3layers_feature32_epoch100/model.ckpt\n"
     ]
    },
    {
     "name": "stdout",
     "output_type": "stream",
     "text": [
      "Number of files used: 1\n",
      "Number of channels: 1\n",
      "Number of classes: 2\n",
      "INFO:tensorflow:Restoring parameters from ./trained_3layers_feature32_epoch100/model.ckpt\n"
     ]
    },
    {
     "name": "stderr",
     "output_type": "stream",
     "text": [
      "2019-05-12 13:48:59,382 Restoring parameters from ./trained_3layers_feature32_epoch100/model.ckpt\n",
      "2019-05-12 13:49:00,325 Model restored from file: ./trained_3layers_feature32_epoch100/model.ckpt\n"
     ]
    },
    {
     "name": "stdout",
     "output_type": "stream",
     "text": [
      "Number of files used: 1\n",
      "Number of channels: 1\n",
      "Number of classes: 2\n",
      "INFO:tensorflow:Restoring parameters from ./trained_3layers_feature32_epoch100/model.ckpt\n"
     ]
    },
    {
     "name": "stderr",
     "output_type": "stream",
     "text": [
      "2019-05-12 13:49:04,632 Restoring parameters from ./trained_3layers_feature32_epoch100/model.ckpt\n",
      "2019-05-12 13:49:05,610 Model restored from file: ./trained_3layers_feature32_epoch100/model.ckpt\n"
     ]
    },
    {
     "name": "stdout",
     "output_type": "stream",
     "text": [
      "Number of files used: 1\n",
      "Number of channels: 1\n",
      "Number of classes: 2\n",
      "INFO:tensorflow:Restoring parameters from ./trained_3layers_feature32_epoch100/model.ckpt\n"
     ]
    },
    {
     "name": "stderr",
     "output_type": "stream",
     "text": [
      "2019-05-12 13:49:09,972 Restoring parameters from ./trained_3layers_feature32_epoch100/model.ckpt\n",
      "2019-05-12 13:49:10,924 Model restored from file: ./trained_3layers_feature32_epoch100/model.ckpt\n"
     ]
    },
    {
     "name": "stdout",
     "output_type": "stream",
     "text": [
      "Number of files used: 1\n",
      "Number of channels: 1\n",
      "Number of classes: 2\n",
      "INFO:tensorflow:Restoring parameters from ./trained_3layers_feature32_epoch100/model.ckpt\n"
     ]
    },
    {
     "name": "stderr",
     "output_type": "stream",
     "text": [
      "2019-05-12 13:49:15,290 Restoring parameters from ./trained_3layers_feature32_epoch100/model.ckpt\n",
      "2019-05-12 13:49:16,252 Model restored from file: ./trained_3layers_feature32_epoch100/model.ckpt\n"
     ]
    },
    {
     "name": "stdout",
     "output_type": "stream",
     "text": [
      "Number of files used: 1\n",
      "Number of channels: 1\n",
      "Number of classes: 2\n",
      "INFO:tensorflow:Restoring parameters from ./trained_3layers_feature32_epoch100/model.ckpt\n"
     ]
    },
    {
     "name": "stderr",
     "output_type": "stream",
     "text": [
      "2019-05-12 13:49:20,628 Restoring parameters from ./trained_3layers_feature32_epoch100/model.ckpt\n",
      "2019-05-12 13:49:21,584 Model restored from file: ./trained_3layers_feature32_epoch100/model.ckpt\n"
     ]
    },
    {
     "name": "stdout",
     "output_type": "stream",
     "text": [
      "Number of files used: 1\n",
      "Number of channels: 1\n",
      "Number of classes: 2\n",
      "INFO:tensorflow:Restoring parameters from ./trained_3layers_feature32_epoch100/model.ckpt\n"
     ]
    },
    {
     "name": "stderr",
     "output_type": "stream",
     "text": [
      "2019-05-12 13:49:25,915 Restoring parameters from ./trained_3layers_feature32_epoch100/model.ckpt\n",
      "2019-05-12 13:49:26,875 Model restored from file: ./trained_3layers_feature32_epoch100/model.ckpt\n"
     ]
    },
    {
     "name": "stdout",
     "output_type": "stream",
     "text": [
      "Number of files used: 1\n",
      "Number of channels: 1\n",
      "Number of classes: 2\n",
      "Number of files used: 1\n",
      "Number of channels: 1\n",
      "Number of classes: 2\n",
      "Number of files used: 1\n",
      "Number of channels: 1\n",
      "Number of classes: 2\n",
      "Number of files used: 1\n",
      "Number of channels: 1\n",
      "Number of classes: 2\n",
      "Number of files used: 1\n",
      "Number of channels: 1\n",
      "Number of classes: 2\n",
      "Number of files used: 1\n",
      "Number of channels: 1\n",
      "Number of classes: 2\n",
      "Number of files used: 1\n",
      "Number of channels: 1\n",
      "Number of classes: 2\n",
      "Number of files used: 1\n",
      "Number of channels: 1\n",
      "Number of classes: 2\n",
      "Number of files used: 1\n",
      "Number of channels: 1\n",
      "Number of classes: 2\n",
      "Number of files used: 1\n",
      "Number of channels: 1\n",
      "Number of classes: 2\n",
      "Number of files used: 1\n",
      "Number of channels: 1\n",
      "Number of classes: 2\n",
      "Number of files used: 1\n",
      "Number of channels: 1\n",
      "Number of classes: 2\n",
      "Number of files used: 1\n",
      "Number of channels: 1\n",
      "Number of classes: 2\n",
      "Number of files used: 1\n",
      "Number of channels: 1\n",
      "Number of classes: 2\n",
      "Number of files used: 1\n",
      "Number of channels: 1\n",
      "Number of classes: 2\n",
      "Number of files used: 1\n",
      "Number of channels: 1\n",
      "Number of classes: 2\n",
      "Number of files used: 1\n",
      "Number of channels: 1\n",
      "Number of classes: 2\n",
      "INFO:tensorflow:Restoring parameters from ./trained_3layers_feature32_epoch100/model.ckpt\n"
     ]
    },
    {
     "name": "stderr",
     "output_type": "stream",
     "text": [
      "2019-05-12 13:49:31,622 Restoring parameters from ./trained_3layers_feature32_epoch100/model.ckpt\n",
      "2019-05-12 13:49:32,604 Model restored from file: ./trained_3layers_feature32_epoch100/model.ckpt\n"
     ]
    },
    {
     "name": "stdout",
     "output_type": "stream",
     "text": [
      "Number of files used: 1\n",
      "Number of channels: 1\n",
      "Number of classes: 2\n",
      "INFO:tensorflow:Restoring parameters from ./trained_3layers_feature32_epoch100/model.ckpt\n"
     ]
    },
    {
     "name": "stderr",
     "output_type": "stream",
     "text": [
      "2019-05-12 13:49:36,877 Restoring parameters from ./trained_3layers_feature32_epoch100/model.ckpt\n",
      "2019-05-12 13:49:37,853 Model restored from file: ./trained_3layers_feature32_epoch100/model.ckpt\n"
     ]
    },
    {
     "name": "stdout",
     "output_type": "stream",
     "text": [
      "Number of files used: 1\n",
      "Number of channels: 1\n",
      "Number of classes: 2\n",
      "Number of files used: 1\n",
      "Number of channels: 1\n",
      "Number of classes: 2\n",
      "Number of files used: 1\n",
      "Number of channels: 1\n",
      "Number of classes: 2\n",
      "Number of files used: 1\n",
      "Number of channels: 1\n",
      "Number of classes: 2\n",
      "Number of files used: 1\n",
      "Number of channels: 1\n",
      "Number of classes: 2\n",
      "Number of files used: 1\n",
      "Number of channels: 1\n",
      "Number of classes: 2\n",
      "Number of files used: 1\n",
      "Number of channels: 1\n",
      "Number of classes: 2\n",
      "Number of files used: 1\n",
      "Number of channels: 1\n",
      "Number of classes: 2\n",
      "Number of files used: 1\n",
      "Number of channels: 1\n",
      "Number of classes: 2\n",
      "Number of files used: 1\n",
      "Number of channels: 1\n",
      "Number of classes: 2\n",
      "INFO:tensorflow:Restoring parameters from ./trained_3layers_feature32_epoch100/model.ckpt\n"
     ]
    },
    {
     "name": "stderr",
     "output_type": "stream",
     "text": [
      "2019-05-12 13:49:42,365 Restoring parameters from ./trained_3layers_feature32_epoch100/model.ckpt\n",
      "2019-05-12 13:49:43,347 Model restored from file: ./trained_3layers_feature32_epoch100/model.ckpt\n"
     ]
    },
    {
     "name": "stdout",
     "output_type": "stream",
     "text": [
      "Number of files used: 1\n",
      "Number of channels: 1\n",
      "Number of classes: 2\n",
      "INFO:tensorflow:Restoring parameters from ./trained_3layers_feature32_epoch100/model.ckpt\n"
     ]
    },
    {
     "name": "stderr",
     "output_type": "stream",
     "text": [
      "2019-05-12 13:49:47,662 Restoring parameters from ./trained_3layers_feature32_epoch100/model.ckpt\n",
      "2019-05-12 13:49:48,643 Model restored from file: ./trained_3layers_feature32_epoch100/model.ckpt\n"
     ]
    },
    {
     "name": "stdout",
     "output_type": "stream",
     "text": [
      "Number of files used: 1\n",
      "Number of channels: 1\n",
      "Number of classes: 2\n",
      "Number of files used: 1\n",
      "Number of channels: 1\n",
      "Number of classes: 2\n",
      "Number of files used: 1\n",
      "Number of channels: 1\n",
      "Number of classes: 2\n",
      "Number of files used: 1\n",
      "Number of channels: 1\n",
      "Number of classes: 2\n",
      "Number of files used: 1\n",
      "Number of channels: 1\n",
      "Number of classes: 2\n",
      "Number of files used: 1\n",
      "Number of channels: 1\n",
      "Number of classes: 2\n",
      "Number of files used: 1\n",
      "Number of channels: 1\n",
      "Number of classes: 2\n",
      "Number of files used: 1\n",
      "Number of channels: 1\n",
      "Number of classes: 2\n",
      "Number of files used: 1\n",
      "Number of channels: 1\n",
      "Number of classes: 2\n",
      "INFO:tensorflow:Restoring parameters from ./trained_3layers_feature32_epoch100/model.ckpt\n"
     ]
    },
    {
     "name": "stderr",
     "output_type": "stream",
     "text": [
      "2019-05-12 13:49:53,248 Restoring parameters from ./trained_3layers_feature32_epoch100/model.ckpt\n",
      "2019-05-12 13:49:54,256 Model restored from file: ./trained_3layers_feature32_epoch100/model.ckpt\n"
     ]
    },
    {
     "name": "stdout",
     "output_type": "stream",
     "text": [
      "Number of files used: 1\n",
      "Number of channels: 1\n",
      "Number of classes: 2\n",
      "INFO:tensorflow:Restoring parameters from ./trained_3layers_feature32_epoch100/model.ckpt\n"
     ]
    },
    {
     "name": "stderr",
     "output_type": "stream",
     "text": [
      "2019-05-12 13:49:58,654 Restoring parameters from ./trained_3layers_feature32_epoch100/model.ckpt\n",
      "2019-05-12 13:49:59,653 Model restored from file: ./trained_3layers_feature32_epoch100/model.ckpt\n"
     ]
    },
    {
     "name": "stdout",
     "output_type": "stream",
     "text": [
      "Number of files used: 1\n",
      "Number of channels: 1\n",
      "Number of classes: 2\n",
      "INFO:tensorflow:Restoring parameters from ./trained_3layers_feature32_epoch100/model.ckpt\n"
     ]
    },
    {
     "name": "stderr",
     "output_type": "stream",
     "text": [
      "2019-05-12 13:50:04,055 Restoring parameters from ./trained_3layers_feature32_epoch100/model.ckpt\n",
      "2019-05-12 13:50:05,085 Model restored from file: ./trained_3layers_feature32_epoch100/model.ckpt\n"
     ]
    },
    {
     "name": "stdout",
     "output_type": "stream",
     "text": [
      "Number of files used: 1\n",
      "Number of channels: 1\n",
      "Number of classes: 2\n",
      "INFO:tensorflow:Restoring parameters from ./trained_3layers_feature32_epoch100/model.ckpt\n"
     ]
    },
    {
     "name": "stderr",
     "output_type": "stream",
     "text": [
      "2019-05-12 13:50:09,465 Restoring parameters from ./trained_3layers_feature32_epoch100/model.ckpt\n",
      "2019-05-12 13:50:10,477 Model restored from file: ./trained_3layers_feature32_epoch100/model.ckpt\n"
     ]
    },
    {
     "name": "stdout",
     "output_type": "stream",
     "text": [
      "Number of files used: 1\n",
      "Number of channels: 1\n",
      "Number of classes: 2\n",
      "INFO:tensorflow:Restoring parameters from ./trained_3layers_feature32_epoch100/model.ckpt\n"
     ]
    },
    {
     "name": "stderr",
     "output_type": "stream",
     "text": [
      "2019-05-12 13:50:14,805 Restoring parameters from ./trained_3layers_feature32_epoch100/model.ckpt\n",
      "2019-05-12 13:50:15,813 Model restored from file: ./trained_3layers_feature32_epoch100/model.ckpt\n"
     ]
    },
    {
     "name": "stdout",
     "output_type": "stream",
     "text": [
      "Number of files used: 1\n",
      "Number of channels: 1\n",
      "Number of classes: 2\n",
      "Number of files used: 1\n",
      "Number of channels: 1\n",
      "Number of classes: 2\n",
      "Number of files used: 1\n",
      "Number of channels: 1\n",
      "Number of classes: 2\n",
      "Number of files used: 1\n",
      "Number of channels: 1\n",
      "Number of classes: 2\n",
      "Number of files used: 1\n",
      "Number of channels: 1\n",
      "Number of classes: 2\n",
      "Number of files used: 1\n",
      "Number of channels: 1\n",
      "Number of classes: 2\n",
      "Number of files used: 1\n",
      "Number of channels: 1\n",
      "Number of classes: 2\n",
      "Number of files used: 1\n",
      "Number of channels: 1\n",
      "Number of classes: 2\n",
      "Number of files used: 1\n",
      "Number of channels: 1\n",
      "Number of classes: 2\n",
      "Number of files used: 1\n",
      "Number of channels: 1\n",
      "Number of classes: 2\n",
      "Number of files used: 1\n",
      "Number of channels: 1\n",
      "Number of classes: 2\n",
      "Number of files used: 1\n",
      "Number of channels: 1\n",
      "Number of classes: 2\n",
      "Number of files used: 1\n",
      "Number of channels: 1\n",
      "Number of classes: 2\n",
      "Number of files used: 1\n",
      "Number of channels: 1\n",
      "Number of classes: 2\n",
      "Number of files used: 1\n",
      "Number of channels: 1\n",
      "Number of classes: 2\n",
      "Number of files used: 1\n",
      "Number of channels: 1\n",
      "Number of classes: 2\n",
      "Number of files used: 1\n",
      "Number of channels: 1\n",
      "Number of classes: 2\n",
      "Number of files used: 1\n",
      "Number of channels: 1\n",
      "Number of classes: 2\n",
      "Number of files used: 1\n",
      "Number of channels: 1\n",
      "Number of classes: 2\n",
      "Number of files used: 1\n",
      "Number of channels: 1\n",
      "Number of classes: 2\n",
      "INFO:tensorflow:Restoring parameters from ./trained_3layers_feature32_epoch100/model.ckpt\n"
     ]
    },
    {
     "name": "stderr",
     "output_type": "stream",
     "text": [
      "2019-05-12 13:50:20,661 Restoring parameters from ./trained_3layers_feature32_epoch100/model.ckpt\n",
      "2019-05-12 13:50:21,670 Model restored from file: ./trained_3layers_feature32_epoch100/model.ckpt\n"
     ]
    },
    {
     "name": "stdout",
     "output_type": "stream",
     "text": [
      "Number of files used: 1\n",
      "Number of channels: 1\n",
      "Number of classes: 2\n",
      "Number of files used: 1\n",
      "Number of channels: 1\n",
      "Number of classes: 2\n",
      "Number of files used: 1\n",
      "Number of channels: 1\n",
      "Number of classes: 2\n",
      "Number of files used: 1\n",
      "Number of channels: 1\n",
      "Number of classes: 2\n",
      "Number of files used: 1\n",
      "Number of channels: 1\n",
      "Number of classes: 2\n",
      "Number of files used: 1\n",
      "Number of channels: 1\n",
      "Number of classes: 2\n",
      "Number of files used: 1\n",
      "Number of channels: 1\n",
      "Number of classes: 2\n",
      "Number of files used: 1\n",
      "Number of channels: 1\n",
      "Number of classes: 2\n",
      "Number of files used: 1\n",
      "Number of channels: 1\n",
      "Number of classes: 2\n",
      "INFO:tensorflow:Restoring parameters from ./trained_3layers_feature32_epoch100/model.ckpt\n"
     ]
    },
    {
     "name": "stderr",
     "output_type": "stream",
     "text": [
      "2019-05-12 13:50:26,223 Restoring parameters from ./trained_3layers_feature32_epoch100/model.ckpt\n",
      "2019-05-12 13:50:27,235 Model restored from file: ./trained_3layers_feature32_epoch100/model.ckpt\n"
     ]
    },
    {
     "name": "stdout",
     "output_type": "stream",
     "text": [
      "Number of files used: 1\n",
      "Number of channels: 1\n",
      "Number of classes: 2\n",
      "INFO:tensorflow:Restoring parameters from ./trained_3layers_feature32_epoch100/model.ckpt\n"
     ]
    },
    {
     "name": "stderr",
     "output_type": "stream",
     "text": [
      "2019-05-12 13:50:31,637 Restoring parameters from ./trained_3layers_feature32_epoch100/model.ckpt\n",
      "2019-05-12 13:50:32,648 Model restored from file: ./trained_3layers_feature32_epoch100/model.ckpt\n"
     ]
    },
    {
     "name": "stdout",
     "output_type": "stream",
     "text": [
      "Number of files used: 1\n",
      "Number of channels: 1\n",
      "Number of classes: 2\n",
      "Number of files used: 1\n",
      "Number of channels: 1\n",
      "Number of classes: 2\n",
      "Number of files used: 1\n",
      "Number of channels: 1\n",
      "Number of classes: 2\n",
      "Number of files used: 1\n",
      "Number of channels: 1\n",
      "Number of classes: 2\n",
      "Number of files used: 1\n",
      "Number of channels: 1\n",
      "Number of classes: 2\n",
      "Number of files used: 1\n",
      "Number of channels: 1\n",
      "Number of classes: 2\n",
      "Number of files used: 1\n",
      "Number of channels: 1\n",
      "Number of classes: 2\n",
      "Number of files used: 1\n",
      "Number of channels: 1\n",
      "Number of classes: 2\n",
      "Number of files used: 1\n",
      "Number of channels: 1\n",
      "Number of classes: 2\n",
      "Number of files used: 1\n",
      "Number of channels: 1\n",
      "Number of classes: 2\n",
      "INFO:tensorflow:Restoring parameters from ./trained_3layers_feature32_epoch100/model.ckpt\n"
     ]
    },
    {
     "name": "stderr",
     "output_type": "stream",
     "text": [
      "2019-05-12 13:50:37,223 Restoring parameters from ./trained_3layers_feature32_epoch100/model.ckpt\n",
      "2019-05-12 13:50:38,248 Model restored from file: ./trained_3layers_feature32_epoch100/model.ckpt\n"
     ]
    },
    {
     "name": "stdout",
     "output_type": "stream",
     "text": [
      "Number of files used: 1\n",
      "Number of channels: 1\n",
      "Number of classes: 2\n",
      "INFO:tensorflow:Restoring parameters from ./trained_3layers_feature32_epoch100/model.ckpt\n"
     ]
    },
    {
     "name": "stderr",
     "output_type": "stream",
     "text": [
      "2019-05-12 13:50:42,659 Restoring parameters from ./trained_3layers_feature32_epoch100/model.ckpt\n",
      "2019-05-12 13:50:43,692 Model restored from file: ./trained_3layers_feature32_epoch100/model.ckpt\n"
     ]
    },
    {
     "name": "stdout",
     "output_type": "stream",
     "text": [
      "Number of files used: 1\n",
      "Number of channels: 1\n",
      "Number of classes: 2\n",
      "INFO:tensorflow:Restoring parameters from ./trained_3layers_feature32_epoch100/model.ckpt\n"
     ]
    },
    {
     "name": "stderr",
     "output_type": "stream",
     "text": [
      "2019-05-12 13:50:48,077 Restoring parameters from ./trained_3layers_feature32_epoch100/model.ckpt\n",
      "2019-05-12 13:50:49,115 Model restored from file: ./trained_3layers_feature32_epoch100/model.ckpt\n"
     ]
    },
    {
     "name": "stdout",
     "output_type": "stream",
     "text": [
      "Number of files used: 1\n",
      "Number of channels: 1\n",
      "Number of classes: 2\n",
      "Number of files used: 1\n",
      "Number of channels: 1\n",
      "Number of classes: 2\n",
      "Number of files used: 1\n",
      "Number of channels: 1\n",
      "Number of classes: 2\n",
      "Number of files used: 1\n",
      "Number of channels: 1\n",
      "Number of classes: 2\n",
      "Number of files used: 1\n",
      "Number of channels: 1\n",
      "Number of classes: 2\n",
      "Number of files used: 1\n",
      "Number of channels: 1\n",
      "Number of classes: 2\n",
      "Number of files used: 1\n",
      "Number of channels: 1\n",
      "Number of classes: 2\n",
      "Number of files used: 1\n",
      "Number of channels: 1\n",
      "Number of classes: 2\n",
      "Number of files used: 1\n",
      "Number of channels: 1\n",
      "Number of classes: 2\n",
      "Number of files used: 1\n",
      "Number of channels: 1\n",
      "Number of classes: 2\n",
      "Number of files used: 1\n",
      "Number of channels: 1\n",
      "Number of classes: 2\n",
      "Number of files used: 1\n",
      "Number of channels: 1\n",
      "Number of classes: 2\n",
      "Number of files used: 1\n",
      "Number of channels: 1\n",
      "Number of classes: 2\n",
      "Number of files used: 1\n",
      "Number of channels: 1\n",
      "Number of classes: 2\n",
      "Number of files used: 1\n",
      "Number of channels: 1\n",
      "Number of classes: 2\n",
      "Number of files used: 1\n",
      "Number of channels: 1\n",
      "Number of classes: 2\n",
      "Number of files used: 1\n",
      "Number of channels: 1\n",
      "Number of classes: 2\n",
      "Number of files used: 1\n",
      "Number of channels: 1\n",
      "Number of classes: 2\n",
      "Number of files used: 1\n",
      "Number of channels: 1\n",
      "Number of classes: 2\n",
      "Number of files used: 1\n",
      "Number of channels: 1\n",
      "Number of classes: 2\n",
      "INFO:tensorflow:Restoring parameters from ./trained_3layers_feature32_epoch100/model.ckpt\n"
     ]
    },
    {
     "name": "stderr",
     "output_type": "stream",
     "text": [
      "2019-05-12 13:50:54,009 Restoring parameters from ./trained_3layers_feature32_epoch100/model.ckpt\n",
      "2019-05-12 13:50:55,053 Model restored from file: ./trained_3layers_feature32_epoch100/model.ckpt\n"
     ]
    },
    {
     "name": "stdout",
     "output_type": "stream",
     "text": [
      "Number of files used: 1\n",
      "Number of channels: 1\n",
      "Number of classes: 2\n",
      "INFO:tensorflow:Restoring parameters from ./trained_3layers_feature32_epoch100/model.ckpt\n"
     ]
    },
    {
     "name": "stderr",
     "output_type": "stream",
     "text": [
      "2019-05-12 13:50:59,488 Restoring parameters from ./trained_3layers_feature32_epoch100/model.ckpt\n",
      "2019-05-12 13:51:00,539 Model restored from file: ./trained_3layers_feature32_epoch100/model.ckpt\n"
     ]
    },
    {
     "name": "stdout",
     "output_type": "stream",
     "text": [
      "Number of files used: 1\n",
      "Number of channels: 1\n",
      "Number of classes: 2\n",
      "Number of files used: 1\n",
      "Number of channels: 1\n",
      "Number of classes: 2\n",
      "Number of files used: 1\n",
      "Number of channels: 1\n",
      "Number of classes: 2\n",
      "Number of files used: 1\n",
      "Number of channels: 1\n",
      "Number of classes: 2\n",
      "Number of files used: 1\n",
      "Number of channels: 1\n",
      "Number of classes: 2\n",
      "Number of files used: 1\n",
      "Number of channels: 1\n",
      "Number of classes: 2\n",
      "Number of files used: 1\n",
      "Number of channels: 1\n",
      "Number of classes: 2\n",
      "INFO:tensorflow:Restoring parameters from ./trained_3layers_feature32_epoch100/model.ckpt\n"
     ]
    },
    {
     "name": "stderr",
     "output_type": "stream",
     "text": [
      "2019-05-12 13:51:05,127 Restoring parameters from ./trained_3layers_feature32_epoch100/model.ckpt\n",
      "2019-05-12 13:51:06,188 Model restored from file: ./trained_3layers_feature32_epoch100/model.ckpt\n"
     ]
    },
    {
     "name": "stdout",
     "output_type": "stream",
     "text": [
      "Number of files used: 1\n",
      "Number of channels: 1\n",
      "Number of classes: 2\n",
      "Number of files used: 1\n",
      "Number of channels: 1\n",
      "Number of classes: 2\n",
      "INFO:tensorflow:Restoring parameters from ./trained_3layers_feature32_epoch100/model.ckpt\n"
     ]
    },
    {
     "name": "stderr",
     "output_type": "stream",
     "text": [
      "2019-05-12 13:51:10,662 Restoring parameters from ./trained_3layers_feature32_epoch100/model.ckpt\n",
      "2019-05-12 13:51:11,719 Model restored from file: ./trained_3layers_feature32_epoch100/model.ckpt\n"
     ]
    },
    {
     "name": "stdout",
     "output_type": "stream",
     "text": [
      "Number of files used: 1\n",
      "Number of channels: 1\n",
      "Number of classes: 2\n",
      "INFO:tensorflow:Restoring parameters from ./trained_3layers_feature32_epoch100/model.ckpt\n"
     ]
    },
    {
     "name": "stderr",
     "output_type": "stream",
     "text": [
      "2019-05-12 13:51:16,173 Restoring parameters from ./trained_3layers_feature32_epoch100/model.ckpt\n",
      "2019-05-12 13:51:17,239 Model restored from file: ./trained_3layers_feature32_epoch100/model.ckpt\n"
     ]
    },
    {
     "name": "stdout",
     "output_type": "stream",
     "text": [
      "Number of files used: 1\n",
      "Number of channels: 1\n",
      "Number of classes: 2\n",
      "Number of files used: 1\n",
      "Number of channels: 1\n",
      "Number of classes: 2\n",
      "Number of files used: 1\n",
      "Number of channels: 1\n",
      "Number of classes: 2\n",
      "Number of files used: 1\n",
      "Number of channels: 1\n",
      "Number of classes: 2\n",
      "Number of files used: 1\n",
      "Number of channels: 1\n",
      "Number of classes: 2\n",
      "Number of files used: 1\n",
      "Number of channels: 1\n",
      "Number of classes: 2\n",
      "Number of files used: 1\n",
      "Number of channels: 1\n",
      "Number of classes: 2\n",
      "Number of files used: 1\n",
      "Number of channels: 1\n",
      "Number of classes: 2\n",
      "Number of files used: 1\n",
      "Number of channels: 1\n",
      "Number of classes: 2\n",
      "Number of files used: 1\n",
      "Number of channels: 1\n",
      "Number of classes: 2\n",
      "INFO:tensorflow:Restoring parameters from ./trained_3layers_feature32_epoch100/model.ckpt\n"
     ]
    },
    {
     "name": "stderr",
     "output_type": "stream",
     "text": [
      "2019-05-12 13:51:21,879 Restoring parameters from ./trained_3layers_feature32_epoch100/model.ckpt\n",
      "2019-05-12 13:51:22,976 Model restored from file: ./trained_3layers_feature32_epoch100/model.ckpt\n"
     ]
    },
    {
     "name": "stdout",
     "output_type": "stream",
     "text": [
      "Number of files used: 1\n",
      "Number of channels: 1\n",
      "Number of classes: 2\n",
      "INFO:tensorflow:Restoring parameters from ./trained_3layers_feature32_epoch100/model.ckpt\n"
     ]
    },
    {
     "name": "stderr",
     "output_type": "stream",
     "text": [
      "2019-05-12 13:51:27,426 Restoring parameters from ./trained_3layers_feature32_epoch100/model.ckpt\n",
      "2019-05-12 13:51:28,512 Model restored from file: ./trained_3layers_feature32_epoch100/model.ckpt\n"
     ]
    },
    {
     "name": "stdout",
     "output_type": "stream",
     "text": [
      "Number of files used: 1\n",
      "Number of channels: 1\n",
      "Number of classes: 2\n",
      "Number of files used: 1\n",
      "Number of channels: 1\n",
      "Number of classes: 2\n",
      "Number of files used: 1\n",
      "Number of channels: 1\n",
      "Number of classes: 2\n",
      "Number of files used: 1\n",
      "Number of channels: 1\n",
      "Number of classes: 2\n",
      "Number of files used: 1\n",
      "Number of channels: 1\n",
      "Number of classes: 2\n",
      "Number of files used: 1\n",
      "Number of channels: 1\n",
      "Number of classes: 2\n",
      "Number of files used: 1\n",
      "Number of channels: 1\n",
      "Number of classes: 2\n",
      "Number of files used: 1\n",
      "Number of channels: 1\n",
      "Number of classes: 2\n",
      "Number of files used: 1\n",
      "Number of channels: 1\n",
      "Number of classes: 2\n",
      "Number of files used: 1\n",
      "Number of channels: 1\n",
      "Number of classes: 2\n",
      "Number of files used: 1\n",
      "Number of channels: 1\n",
      "Number of classes: 2\n",
      "Number of files used: 1\n",
      "Number of channels: 1\n",
      "Number of classes: 2\n",
      "Number of files used: 1\n",
      "Number of channels: 1\n",
      "Number of classes: 2\n",
      "Number of files used: 1\n",
      "Number of channels: 1\n",
      "Number of classes: 2\n",
      "Number of files used: 1\n",
      "Number of channels: 1\n",
      "Number of classes: 2\n",
      "Number of files used: 1\n",
      "Number of channels: 1\n",
      "Number of classes: 2\n",
      "Number of files used: 1\n",
      "Number of channels: 1\n",
      "Number of classes: 2\n",
      "Number of files used: 1\n",
      "Number of channels: 1\n",
      "Number of classes: 2\n",
      "Number of files used: 1\n",
      "Number of channels: 1\n",
      "Number of classes: 2\n",
      "Number of files used: 1\n",
      "Number of channels: 1\n",
      "Number of classes: 2\n",
      "Number of files used: 1\n",
      "Number of channels: 1\n",
      "Number of classes: 2\n",
      "INFO:tensorflow:Restoring parameters from ./trained_3layers_feature32_epoch100/model.ckpt\n"
     ]
    },
    {
     "name": "stderr",
     "output_type": "stream",
     "text": [
      "2019-05-12 13:51:33,446 Restoring parameters from ./trained_3layers_feature32_epoch100/model.ckpt\n",
      "2019-05-12 13:51:34,517 Model restored from file: ./trained_3layers_feature32_epoch100/model.ckpt\n"
     ]
    },
    {
     "name": "stdout",
     "output_type": "stream",
     "text": [
      "Number of files used: 1\n",
      "Number of channels: 1\n",
      "Number of classes: 2\n",
      "INFO:tensorflow:Restoring parameters from ./trained_3layers_feature32_epoch100/model.ckpt\n"
     ]
    },
    {
     "name": "stderr",
     "output_type": "stream",
     "text": [
      "2019-05-12 13:51:38,971 Restoring parameters from ./trained_3layers_feature32_epoch100/model.ckpt\n",
      "2019-05-12 13:51:40,056 Model restored from file: ./trained_3layers_feature32_epoch100/model.ckpt\n"
     ]
    },
    {
     "name": "stdout",
     "output_type": "stream",
     "text": [
      "Number of files used: 1\n",
      "Number of channels: 1\n",
      "Number of classes: 2\n",
      "Number of files used: 1\n",
      "Number of channels: 1\n",
      "Number of classes: 2\n",
      "Number of files used: 1\n",
      "Number of channels: 1\n",
      "Number of classes: 2\n",
      "Number of files used: 1\n",
      "Number of channels: 1\n",
      "Number of classes: 2\n",
      "Number of files used: 1\n",
      "Number of channels: 1\n",
      "Number of classes: 2\n",
      "Number of files used: 1\n",
      "Number of channels: 1\n",
      "Number of classes: 2\n",
      "INFO:tensorflow:Restoring parameters from ./trained_3layers_feature32_epoch100/model.ckpt\n"
     ]
    },
    {
     "name": "stderr",
     "output_type": "stream",
     "text": [
      "2019-05-12 13:51:44,695 Restoring parameters from ./trained_3layers_feature32_epoch100/model.ckpt\n",
      "2019-05-12 13:51:45,794 Model restored from file: ./trained_3layers_feature32_epoch100/model.ckpt\n"
     ]
    },
    {
     "name": "stdout",
     "output_type": "stream",
     "text": [
      "Number of files used: 1\n",
      "Number of channels: 1\n",
      "Number of classes: 2\n",
      "INFO:tensorflow:Restoring parameters from ./trained_3layers_feature32_epoch100/model.ckpt\n"
     ]
    },
    {
     "name": "stderr",
     "output_type": "stream",
     "text": [
      "2019-05-12 13:51:50,270 Restoring parameters from ./trained_3layers_feature32_epoch100/model.ckpt\n",
      "2019-05-12 13:51:51,399 Model restored from file: ./trained_3layers_feature32_epoch100/model.ckpt\n"
     ]
    },
    {
     "name": "stdout",
     "output_type": "stream",
     "text": [
      "Number of files used: 1\n",
      "Number of channels: 1\n",
      "Number of classes: 2\n",
      "INFO:tensorflow:Restoring parameters from ./trained_3layers_feature32_epoch100/model.ckpt\n"
     ]
    },
    {
     "name": "stderr",
     "output_type": "stream",
     "text": [
      "2019-05-12 13:51:55,929 Restoring parameters from ./trained_3layers_feature32_epoch100/model.ckpt\n",
      "2019-05-12 13:51:57,036 Model restored from file: ./trained_3layers_feature32_epoch100/model.ckpt\n"
     ]
    },
    {
     "name": "stdout",
     "output_type": "stream",
     "text": [
      "Number of files used: 1\n",
      "Number of channels: 1\n",
      "Number of classes: 2\n",
      "INFO:tensorflow:Restoring parameters from ./trained_3layers_feature32_epoch100/model.ckpt\n"
     ]
    },
    {
     "name": "stderr",
     "output_type": "stream",
     "text": [
      "2019-05-12 13:52:01,521 Restoring parameters from ./trained_3layers_feature32_epoch100/model.ckpt\n",
      "2019-05-12 13:52:02,627 Model restored from file: ./trained_3layers_feature32_epoch100/model.ckpt\n"
     ]
    },
    {
     "name": "stdout",
     "output_type": "stream",
     "text": [
      "Number of files used: 1\n",
      "Number of channels: 1\n",
      "Number of classes: 2\n",
      "Number of files used: 1\n",
      "Number of channels: 1\n",
      "Number of classes: 2\n",
      "Number of files used: 1\n",
      "Number of channels: 1\n",
      "Number of classes: 2\n",
      "Number of files used: 1\n",
      "Number of channels: 1\n",
      "Number of classes: 2\n",
      "Number of files used: 1\n",
      "Number of channels: 1\n",
      "Number of classes: 2\n",
      "Number of files used: 1\n",
      "Number of channels: 1\n",
      "Number of classes: 2\n",
      "Number of files used: 1\n",
      "Number of channels: 1\n",
      "Number of classes: 2\n",
      "Number of files used: 1\n",
      "Number of channels: 1\n",
      "Number of classes: 2\n",
      "Number of files used: 1\n",
      "Number of channels: 1\n",
      "Number of classes: 2\n",
      "Number of files used: 1\n",
      "Number of channels: 1\n",
      "Number of classes: 2\n",
      "Number of files used: 1\n",
      "Number of channels: 1\n",
      "Number of classes: 2\n",
      "Number of files used: 1\n",
      "Number of channels: 1\n",
      "Number of classes: 2\n",
      "Number of files used: 1\n",
      "Number of channels: 1\n",
      "Number of classes: 2\n",
      "Number of files used: 1\n",
      "Number of channels: 1\n",
      "Number of classes: 2\n",
      "Number of files used: 1\n",
      "Number of channels: 1\n",
      "Number of classes: 2\n",
      "Number of files used: 1\n",
      "Number of channels: 1\n",
      "Number of classes: 2\n",
      "Number of files used: 1\n",
      "Number of channels: 1\n",
      "Number of classes: 2\n",
      "Number of files used: 1\n",
      "Number of channels: 1\n",
      "Number of classes: 2\n",
      "Number of files used: 1\n",
      "Number of channels: 1\n",
      "Number of classes: 2\n",
      "Number of files used: 1\n",
      "Number of channels: 1\n",
      "Number of classes: 2\n",
      "Number of files used: 1\n",
      "Number of channels: 1\n",
      "Number of classes: 2\n",
      "Number of files used: 1\n",
      "Number of channels: 1\n",
      "Number of classes: 2\n",
      "Number of files used: 1\n",
      "Number of channels: 1\n",
      "Number of classes: 2\n",
      "Number of files used: 1\n",
      "Number of channels: 1\n",
      "Number of classes: 2\n",
      "Number of files used: 1\n",
      "Number of channels: 1\n",
      "Number of classes: 2\n",
      "Number of files used: 1\n",
      "Number of channels: 1\n",
      "Number of classes: 2\n",
      "Number of files used: 1\n",
      "Number of channels: 1\n",
      "Number of classes: 2\n",
      "Number of files used: 1\n",
      "Number of channels: 1\n",
      "Number of classes: 2\n",
      "Number of files used: 1\n",
      "Number of channels: 1\n",
      "Number of classes: 2\n",
      "Number of files used: 1\n",
      "Number of channels: 1\n",
      "Number of classes: 2\n",
      "Number of files used: 1\n",
      "Number of channels: 1\n",
      "Number of classes: 2\n",
      "Number of files used: 1\n",
      "Number of channels: 1\n",
      "Number of classes: 2\n",
      "Number of files used: 1\n",
      "Number of channels: 1\n",
      "Number of classes: 2\n",
      "INFO:tensorflow:Restoring parameters from ./trained_3layers_feature32_epoch100/model.ckpt\n"
     ]
    },
    {
     "name": "stderr",
     "output_type": "stream",
     "text": [
      "2019-05-12 13:52:07,887 Restoring parameters from ./trained_3layers_feature32_epoch100/model.ckpt\n",
      "2019-05-12 13:52:08,989 Model restored from file: ./trained_3layers_feature32_epoch100/model.ckpt\n"
     ]
    },
    {
     "name": "stdout",
     "output_type": "stream",
     "text": [
      "Number of files used: 1\n",
      "Number of channels: 1\n",
      "Number of classes: 2\n",
      "INFO:tensorflow:Restoring parameters from ./trained_3layers_feature32_epoch100/model.ckpt\n"
     ]
    },
    {
     "name": "stderr",
     "output_type": "stream",
     "text": [
      "2019-05-12 13:52:13,566 Restoring parameters from ./trained_3layers_feature32_epoch100/model.ckpt\n",
      "2019-05-12 13:52:14,718 Model restored from file: ./trained_3layers_feature32_epoch100/model.ckpt\n"
     ]
    },
    {
     "name": "stdout",
     "output_type": "stream",
     "text": [
      "Number of files used: 1\n",
      "Number of channels: 1\n",
      "Number of classes: 2\n",
      "INFO:tensorflow:Restoring parameters from ./trained_3layers_feature32_epoch100/model.ckpt\n"
     ]
    },
    {
     "name": "stderr",
     "output_type": "stream",
     "text": [
      "2019-05-12 13:52:19,457 Restoring parameters from ./trained_3layers_feature32_epoch100/model.ckpt\n",
      "2019-05-12 13:52:20,568 Model restored from file: ./trained_3layers_feature32_epoch100/model.ckpt\n"
     ]
    },
    {
     "name": "stdout",
     "output_type": "stream",
     "text": [
      "Number of files used: 1\n",
      "Number of channels: 1\n",
      "Number of classes: 2\n",
      "Number of files used: 1\n",
      "Number of channels: 1\n",
      "Number of classes: 2\n",
      "Number of files used: 1\n",
      "Number of channels: 1\n",
      "Number of classes: 2\n",
      "Number of files used: 1\n",
      "Number of channels: 1\n",
      "Number of classes: 2\n",
      "Number of files used: 1\n",
      "Number of channels: 1\n",
      "Number of classes: 2\n",
      "INFO:tensorflow:Restoring parameters from ./trained_3layers_feature32_epoch100/model.ckpt\n"
     ]
    },
    {
     "name": "stderr",
     "output_type": "stream",
     "text": [
      "2019-05-12 13:52:25,168 Restoring parameters from ./trained_3layers_feature32_epoch100/model.ckpt\n",
      "2019-05-12 13:52:26,291 Model restored from file: ./trained_3layers_feature32_epoch100/model.ckpt\n"
     ]
    },
    {
     "name": "stdout",
     "output_type": "stream",
     "text": [
      "Number of files used: 1\n",
      "Number of channels: 1\n",
      "Number of classes: 2\n",
      "INFO:tensorflow:Restoring parameters from ./trained_3layers_feature32_epoch100/model.ckpt\n"
     ]
    },
    {
     "name": "stderr",
     "output_type": "stream",
     "text": [
      "2019-05-12 13:52:30,800 Restoring parameters from ./trained_3layers_feature32_epoch100/model.ckpt\n",
      "2019-05-12 13:52:31,920 Model restored from file: ./trained_3layers_feature32_epoch100/model.ckpt\n"
     ]
    },
    {
     "name": "stdout",
     "output_type": "stream",
     "text": [
      "Number of files used: 1\n",
      "Number of channels: 1\n",
      "Number of classes: 2\n",
      "Number of files used: 1\n",
      "Number of channels: 1\n",
      "Number of classes: 2\n",
      "INFO:tensorflow:Restoring parameters from ./trained_3layers_feature32_epoch100/model.ckpt\n"
     ]
    },
    {
     "name": "stderr",
     "output_type": "stream",
     "text": [
      "2019-05-12 13:52:36,530 Restoring parameters from ./trained_3layers_feature32_epoch100/model.ckpt\n",
      "2019-05-12 13:52:37,693 Model restored from file: ./trained_3layers_feature32_epoch100/model.ckpt\n"
     ]
    },
    {
     "name": "stdout",
     "output_type": "stream",
     "text": [
      "Number of files used: 1\n",
      "Number of channels: 1\n",
      "Number of classes: 2\n",
      "Number of files used: 1\n",
      "Number of channels: 1\n",
      "Number of classes: 2\n",
      "Number of files used: 1\n",
      "Number of channels: 1\n",
      "Number of classes: 2\n",
      "Number of files used: 1\n",
      "Number of channels: 1\n",
      "Number of classes: 2\n",
      "Number of files used: 1\n",
      "Number of channels: 1\n",
      "Number of classes: 2\n",
      "Number of files used: 1\n",
      "Number of channels: 1\n",
      "Number of classes: 2\n",
      "Number of files used: 1\n",
      "Number of channels: 1\n",
      "Number of classes: 2\n",
      "Number of files used: 1\n",
      "Number of channels: 1\n",
      "Number of classes: 2\n",
      "Number of files used: 1\n",
      "Number of channels: 1\n",
      "Number of classes: 2\n",
      "Number of files used: 1\n",
      "Number of channels: 1\n",
      "Number of classes: 2\n",
      "Number of files used: 1\n",
      "Number of channels: 1\n",
      "Number of classes: 2\n",
      "Number of files used: 1\n",
      "Number of channels: 1\n",
      "Number of classes: 2\n",
      "Number of files used: 1\n",
      "Number of channels: 1\n",
      "Number of classes: 2\n",
      "Number of files used: 1\n",
      "Number of channels: 1\n",
      "Number of classes: 2\n",
      "Number of files used: 1\n",
      "Number of channels: 1\n",
      "Number of classes: 2\n",
      "Number of files used: 1\n",
      "Number of channels: 1\n",
      "Number of classes: 2\n",
      "Number of files used: 1\n",
      "Number of channels: 1\n",
      "Number of classes: 2\n",
      "Number of files used: 1\n",
      "Number of channels: 1\n",
      "Number of classes: 2\n",
      "Number of files used: 1\n",
      "Number of channels: 1\n",
      "Number of classes: 2\n",
      "Number of files used: 1\n",
      "Number of channels: 1\n",
      "Number of classes: 2\n",
      "Number of files used: 1\n",
      "Number of channels: 1\n",
      "Number of classes: 2\n",
      "Number of files used: 1\n",
      "Number of channels: 1\n",
      "Number of classes: 2\n",
      "Number of files used: 1\n",
      "Number of channels: 1\n",
      "Number of classes: 2\n",
      "Number of files used: 1\n",
      "Number of channels: 1\n",
      "Number of classes: 2\n",
      "Number of files used: 1\n",
      "Number of channels: 1\n",
      "Number of classes: 2\n",
      "Number of files used: 1\n",
      "Number of channels: 1\n",
      "Number of classes: 2\n",
      "Number of files used: 1\n",
      "Number of channels: 1\n",
      "Number of classes: 2\n",
      "Number of files used: 1\n",
      "Number of channels: 1\n",
      "Number of classes: 2\n",
      "Number of files used: 1\n",
      "Number of channels: 1\n",
      "Number of classes: 2\n",
      "Number of files used: 1\n",
      "Number of channels: 1\n",
      "Number of classes: 2\n",
      "Number of files used: 1\n",
      "Number of channels: 1\n",
      "Number of classes: 2\n",
      "Number of files used: 1\n",
      "Number of channels: 1\n",
      "Number of classes: 2\n",
      "Number of files used: 1\n",
      "Number of channels: 1\n",
      "Number of classes: 2\n",
      "INFO:tensorflow:Restoring parameters from ./trained_3layers_feature32_epoch100/model.ckpt\n"
     ]
    },
    {
     "name": "stderr",
     "output_type": "stream",
     "text": [
      "2019-05-12 13:52:43,003 Restoring parameters from ./trained_3layers_feature32_epoch100/model.ckpt\n",
      "2019-05-12 13:52:44,143 Model restored from file: ./trained_3layers_feature32_epoch100/model.ckpt\n"
     ]
    },
    {
     "name": "stdout",
     "output_type": "stream",
     "text": [
      "Number of files used: 1\n",
      "Number of channels: 1\n",
      "Number of classes: 2\n",
      "INFO:tensorflow:Restoring parameters from ./trained_3layers_feature32_epoch100/model.ckpt\n"
     ]
    },
    {
     "name": "stderr",
     "output_type": "stream",
     "text": [
      "2019-05-12 13:52:48,623 Restoring parameters from ./trained_3layers_feature32_epoch100/model.ckpt\n",
      "2019-05-12 13:52:49,693 Model restored from file: ./trained_3layers_feature32_epoch100/model.ckpt\n"
     ]
    },
    {
     "name": "stdout",
     "output_type": "stream",
     "text": [
      "Number of files used: 1\n",
      "Number of channels: 1\n",
      "Number of classes: 2\n",
      "INFO:tensorflow:Restoring parameters from ./trained_3layers_feature32_epoch100/model.ckpt\n"
     ]
    },
    {
     "name": "stderr",
     "output_type": "stream",
     "text": [
      "2019-05-12 13:52:54,217 Restoring parameters from ./trained_3layers_feature32_epoch100/model.ckpt\n",
      "2019-05-12 13:52:55,373 Model restored from file: ./trained_3layers_feature32_epoch100/model.ckpt\n"
     ]
    },
    {
     "name": "stdout",
     "output_type": "stream",
     "text": [
      "Number of files used: 1\n",
      "Number of channels: 1\n",
      "Number of classes: 2\n",
      "Number of files used: 1\n",
      "Number of channels: 1\n",
      "Number of classes: 2\n",
      "Number of files used: 1\n",
      "Number of channels: 1\n",
      "Number of classes: 2\n",
      "Number of files used: 1\n",
      "Number of channels: 1\n",
      "Number of classes: 2\n",
      "Number of files used: 1\n",
      "Number of channels: 1\n",
      "Number of classes: 2\n",
      "Number of files used: 1\n",
      "Number of channels: 1\n",
      "Number of classes: 2\n",
      "INFO:tensorflow:Restoring parameters from ./trained_3layers_feature32_epoch100/model.ckpt\n"
     ]
    },
    {
     "name": "stderr",
     "output_type": "stream",
     "text": [
      "2019-05-12 13:53:00,115 Restoring parameters from ./trained_3layers_feature32_epoch100/model.ckpt\n",
      "2019-05-12 13:53:01,319 Model restored from file: ./trained_3layers_feature32_epoch100/model.ckpt\n"
     ]
    },
    {
     "name": "stdout",
     "output_type": "stream",
     "text": [
      "Number of files used: 1\n",
      "Number of channels: 1\n",
      "Number of classes: 2\n",
      "Number of files used: 1\n",
      "Number of channels: 1\n",
      "Number of classes: 2\n",
      "Number of files used: 1\n",
      "Number of channels: 1\n",
      "Number of classes: 2\n",
      "Number of files used: 1\n",
      "Number of channels: 1\n",
      "Number of classes: 2\n",
      "Number of files used: 1\n",
      "Number of channels: 1\n",
      "Number of classes: 2\n",
      "Number of files used: 1\n",
      "Number of channels: 1\n",
      "Number of classes: 2\n",
      "Number of files used: 1\n",
      "Number of channels: 1\n",
      "Number of classes: 2\n",
      "Number of files used: 1\n",
      "Number of channels: 1\n",
      "Number of classes: 2\n",
      "Number of files used: 1\n",
      "Number of channels: 1\n",
      "Number of classes: 2\n",
      "Number of files used: 1\n",
      "Number of channels: 1\n",
      "Number of classes: 2\n",
      "Number of files used: 1\n",
      "Number of channels: 1\n",
      "Number of classes: 2\n",
      "Number of files used: 1\n",
      "Number of channels: 1\n",
      "Number of classes: 2\n",
      "Number of files used: 1\n",
      "Number of channels: 1\n",
      "Number of classes: 2\n",
      "Number of files used: 1\n",
      "Number of channels: 1\n",
      "Number of classes: 2\n",
      "Number of files used: 1\n",
      "Number of channels: 1\n",
      "Number of classes: 2\n",
      "Number of files used: 1\n",
      "Number of channels: 1\n",
      "Number of classes: 2\n",
      "Number of files used: 1\n",
      "Number of channels: 1\n",
      "Number of classes: 2\n",
      "Number of files used: 1\n",
      "Number of channels: 1\n",
      "Number of classes: 2\n",
      "Number of files used: 1\n",
      "Number of channels: 1\n",
      "Number of classes: 2\n",
      "Number of files used: 1\n",
      "Number of channels: 1\n",
      "Number of classes: 2\n",
      "Number of files used: 1\n",
      "Number of channels: 1\n",
      "Number of classes: 2\n",
      "Number of files used: 1\n",
      "Number of channels: 1\n",
      "Number of classes: 2\n",
      "Number of files used: 1\n",
      "Number of channels: 1\n",
      "Number of classes: 2\n",
      "Number of files used: 1\n",
      "Number of channels: 1\n",
      "Number of classes: 2\n",
      "Number of files used: 1\n",
      "Number of channels: 1\n",
      "Number of classes: 2\n",
      "Number of files used: 1\n",
      "Number of channels: 1\n",
      "Number of classes: 2\n",
      "Number of files used: 1\n",
      "Number of channels: 1\n",
      "Number of classes: 2\n",
      "Number of files used: 1\n",
      "Number of channels: 1\n",
      "Number of classes: 2\n",
      "Number of files used: 1\n",
      "Number of channels: 1\n",
      "Number of classes: 2\n",
      "Number of files used: 1\n",
      "Number of channels: 1\n",
      "Number of classes: 2\n",
      "Number of files used: 1\n",
      "Number of channels: 1\n",
      "Number of classes: 2\n",
      "Number of files used: 1\n",
      "Number of channels: 1\n",
      "Number of classes: 2\n",
      "Number of files used: 1\n",
      "Number of channels: 1\n",
      "Number of classes: 2\n",
      "Number of files used: 1\n",
      "Number of channels: 1\n",
      "Number of classes: 2\n",
      "Number of files used: 1\n",
      "Number of channels: 1\n",
      "Number of classes: 2\n",
      "Number of files used: 1\n",
      "Number of channels: 1\n",
      "Number of classes: 2\n",
      "Number of files used: 1\n",
      "Number of channels: 1\n",
      "Number of classes: 2\n",
      "Number of files used: 1\n",
      "Number of channels: 1\n",
      "Number of classes: 2\n",
      "Number of files used: 1\n",
      "Number of channels: 1\n",
      "Number of classes: 2\n",
      "Number of files used: 1\n",
      "Number of channels: 1\n",
      "Number of classes: 2\n",
      "Number of files used: 1\n",
      "Number of channels: 1\n",
      "Number of classes: 2\n",
      "Number of files used: 1\n",
      "Number of channels: 1\n",
      "Number of classes: 2\n",
      "Number of files used: 1\n",
      "Number of channels: 1\n",
      "Number of classes: 2\n",
      "INFO:tensorflow:Restoring parameters from ./trained_3layers_feature32_epoch100/model.ckpt\n"
     ]
    },
    {
     "name": "stderr",
     "output_type": "stream",
     "text": [
      "2019-05-12 13:53:06,896 Restoring parameters from ./trained_3layers_feature32_epoch100/model.ckpt\n",
      "2019-05-12 13:53:08,056 Model restored from file: ./trained_3layers_feature32_epoch100/model.ckpt\n"
     ]
    },
    {
     "name": "stdout",
     "output_type": "stream",
     "text": [
      "Number of files used: 1\n",
      "Number of channels: 1\n",
      "Number of classes: 2\n",
      "Number of files used: 1\n",
      "Number of channels: 1\n",
      "Number of classes: 2\n",
      "Number of files used: 1\n",
      "Number of channels: 1\n",
      "Number of classes: 2\n",
      "Number of files used: 1\n",
      "Number of channels: 1\n",
      "Number of classes: 2\n",
      "Number of files used: 1\n",
      "Number of channels: 1\n",
      "Number of classes: 2\n",
      "Number of files used: 1\n",
      "Number of channels: 1\n",
      "Number of classes: 2\n",
      "Number of files used: 1\n",
      "Number of channels: 1\n",
      "Number of classes: 2\n",
      "Number of files used: 1\n",
      "Number of channels: 1\n",
      "Number of classes: 2\n",
      "Number of files used: 1\n",
      "Number of channels: 1\n",
      "Number of classes: 2\n",
      "Number of files used: 1\n",
      "Number of channels: 1\n",
      "Number of classes: 2\n",
      "Number of files used: 1\n",
      "Number of channels: 1\n",
      "Number of classes: 2\n",
      "Number of files used: 1\n",
      "Number of channels: 1\n",
      "Number of classes: 2\n",
      "Number of files used: 1\n",
      "Number of channels: 1\n",
      "Number of classes: 2\n",
      "Number of files used: 1\n",
      "Number of channels: 1\n",
      "Number of classes: 2\n",
      "Number of files used: 1\n",
      "Number of channels: 1\n",
      "Number of classes: 2\n",
      "Number of files used: 1\n",
      "Number of channels: 1\n",
      "Number of classes: 2\n",
      "Number of files used: 1\n",
      "Number of channels: 1\n",
      "Number of classes: 2\n",
      "Number of files used: 1\n",
      "Number of channels: 1\n",
      "Number of classes: 2\n",
      "Number of files used: 1\n",
      "Number of channels: 1\n",
      "Number of classes: 2\n",
      "Number of files used: 1\n",
      "Number of channels: 1\n",
      "Number of classes: 2\n",
      "Number of files used: 1\n",
      "Number of channels: 1\n",
      "Number of classes: 2\n",
      "Number of files used: 1\n",
      "Number of channels: 1\n",
      "Number of classes: 2\n",
      "Number of files used: 1\n",
      "Number of channels: 1\n",
      "Number of classes: 2\n",
      "Number of files used: 1\n",
      "Number of channels: 1\n",
      "Number of classes: 2\n",
      "Number of files used: 1\n",
      "Number of channels: 1\n",
      "Number of classes: 2\n",
      "Number of files used: 1\n",
      "Number of channels: 1\n",
      "Number of classes: 2\n",
      "Number of files used: 1\n",
      "Number of channels: 1\n",
      "Number of classes: 2\n",
      "Number of files used: 1\n",
      "Number of channels: 1\n",
      "Number of classes: 2\n",
      "Number of files used: 1\n",
      "Number of channels: 1\n",
      "Number of classes: 2\n",
      "Number of files used: 1\n",
      "Number of channels: 1\n",
      "Number of classes: 2\n",
      "Number of files used: 1\n",
      "Number of channels: 1\n",
      "Number of classes: 2\n",
      "Number of files used: 1\n",
      "Number of channels: 1\n",
      "Number of classes: 2\n",
      "Number of files used: 1\n",
      "Number of channels: 1\n",
      "Number of classes: 2\n",
      "Number of files used: 1\n",
      "Number of channels: 1\n",
      "Number of classes: 2\n",
      "Number of files used: 1\n",
      "Number of channels: 1\n",
      "Number of classes: 2\n",
      "INFO:tensorflow:Restoring parameters from ./trained_3layers_feature32_epoch100/model.ckpt\n"
     ]
    },
    {
     "name": "stderr",
     "output_type": "stream",
     "text": [
      "2019-05-12 13:53:13,527 Restoring parameters from ./trained_3layers_feature32_epoch100/model.ckpt\n",
      "2019-05-12 13:53:14,691 Model restored from file: ./trained_3layers_feature32_epoch100/model.ckpt\n"
     ]
    },
    {
     "name": "stdout",
     "output_type": "stream",
     "text": [
      "Number of files used: 1\n",
      "Number of channels: 1\n",
      "Number of classes: 2\n",
      "INFO:tensorflow:Restoring parameters from ./trained_3layers_feature32_epoch100/model.ckpt\n"
     ]
    },
    {
     "name": "stderr",
     "output_type": "stream",
     "text": [
      "2019-05-12 13:53:19,328 Restoring parameters from ./trained_3layers_feature32_epoch100/model.ckpt\n",
      "2019-05-12 13:53:20,498 Model restored from file: ./trained_3layers_feature32_epoch100/model.ckpt\n"
     ]
    },
    {
     "name": "stdout",
     "output_type": "stream",
     "text": [
      "Number of files used: 1\n",
      "Number of channels: 1\n",
      "Number of classes: 2\n",
      "Number of files used: 1\n",
      "Number of channels: 1\n",
      "Number of classes: 2\n",
      "Number of files used: 1\n",
      "Number of channels: 1\n",
      "Number of classes: 2\n",
      "Number of files used: 1\n",
      "Number of channels: 1\n",
      "Number of classes: 2\n",
      "Number of files used: 1\n",
      "Number of channels: 1\n",
      "Number of classes: 2\n",
      "Number of files used: 1\n",
      "Number of channels: 1\n",
      "Number of classes: 2\n",
      "Number of files used: 1\n",
      "Number of channels: 1\n",
      "Number of classes: 2\n",
      "INFO:tensorflow:Restoring parameters from ./trained_3layers_feature32_epoch100/model.ckpt\n"
     ]
    },
    {
     "name": "stderr",
     "output_type": "stream",
     "text": [
      "2019-05-12 13:53:25,239 Restoring parameters from ./trained_3layers_feature32_epoch100/model.ckpt\n",
      "2019-05-12 13:53:26,407 Model restored from file: ./trained_3layers_feature32_epoch100/model.ckpt\n"
     ]
    },
    {
     "name": "stdout",
     "output_type": "stream",
     "text": [
      "Number of files used: 1\n",
      "Number of channels: 1\n",
      "Number of classes: 2\n",
      "INFO:tensorflow:Restoring parameters from ./trained_3layers_feature32_epoch100/model.ckpt\n"
     ]
    },
    {
     "name": "stderr",
     "output_type": "stream",
     "text": [
      "2019-05-12 13:53:31,003 Restoring parameters from ./trained_3layers_feature32_epoch100/model.ckpt\n",
      "2019-05-12 13:53:32,189 Model restored from file: ./trained_3layers_feature32_epoch100/model.ckpt\n"
     ]
    },
    {
     "name": "stdout",
     "output_type": "stream",
     "text": [
      "Number of files used: 1\n",
      "Number of channels: 1\n",
      "Number of classes: 2\n",
      "Number of files used: 1\n",
      "Number of channels: 1\n",
      "Number of classes: 2\n",
      "Number of files used: 1\n",
      "Number of channels: 1\n",
      "Number of classes: 2\n",
      "INFO:tensorflow:Restoring parameters from ./trained_3layers_feature32_epoch100/model.ckpt\n"
     ]
    },
    {
     "name": "stderr",
     "output_type": "stream",
     "text": [
      "2019-05-12 13:53:36,841 Restoring parameters from ./trained_3layers_feature32_epoch100/model.ckpt\n",
      "2019-05-12 13:53:38,034 Model restored from file: ./trained_3layers_feature32_epoch100/model.ckpt\n"
     ]
    },
    {
     "name": "stdout",
     "output_type": "stream",
     "text": [
      "Number of files used: 1\n",
      "Number of channels: 1\n",
      "Number of classes: 2\n",
      "INFO:tensorflow:Restoring parameters from ./trained_3layers_feature32_epoch100/model.ckpt\n"
     ]
    },
    {
     "name": "stderr",
     "output_type": "stream",
     "text": [
      "2019-05-12 13:53:42,643 Restoring parameters from ./trained_3layers_feature32_epoch100/model.ckpt\n",
      "2019-05-12 13:53:43,836 Model restored from file: ./trained_3layers_feature32_epoch100/model.ckpt\n"
     ]
    },
    {
     "name": "stdout",
     "output_type": "stream",
     "text": [
      "Number of files used: 1\n",
      "Number of channels: 1\n",
      "Number of classes: 2\n",
      "INFO:tensorflow:Restoring parameters from ./trained_3layers_feature32_epoch100/model.ckpt\n"
     ]
    },
    {
     "name": "stderr",
     "output_type": "stream",
     "text": [
      "2019-05-12 13:53:48,460 Restoring parameters from ./trained_3layers_feature32_epoch100/model.ckpt\n",
      "2019-05-12 13:53:49,662 Model restored from file: ./trained_3layers_feature32_epoch100/model.ckpt\n"
     ]
    },
    {
     "name": "stdout",
     "output_type": "stream",
     "text": [
      "Number of files used: 1\n",
      "Number of channels: 1\n",
      "Number of classes: 2\n",
      "INFO:tensorflow:Restoring parameters from ./trained_3layers_feature32_epoch100/model.ckpt\n"
     ]
    },
    {
     "name": "stderr",
     "output_type": "stream",
     "text": [
      "2019-05-12 13:53:54,338 Restoring parameters from ./trained_3layers_feature32_epoch100/model.ckpt\n",
      "2019-05-12 13:53:55,545 Model restored from file: ./trained_3layers_feature32_epoch100/model.ckpt\n"
     ]
    },
    {
     "name": "stdout",
     "output_type": "stream",
     "text": [
      "Number of files used: 1\n",
      "Number of channels: 1\n",
      "Number of classes: 2\n",
      "Number of files used: 1\n",
      "Number of channels: 1\n",
      "Number of classes: 2\n",
      "Number of files used: 1\n",
      "Number of channels: 1\n",
      "Number of classes: 2\n",
      "Number of files used: 1\n",
      "Number of channels: 1\n",
      "Number of classes: 2\n",
      "Number of files used: 1\n",
      "Number of channels: 1\n",
      "Number of classes: 2\n",
      "Number of files used: 1\n",
      "Number of channels: 1\n",
      "Number of classes: 2\n",
      "Number of files used: 1\n",
      "Number of channels: 1\n",
      "Number of classes: 2\n",
      "Number of files used: 1\n",
      "Number of channels: 1\n",
      "Number of classes: 2\n",
      "Number of files used: 1\n",
      "Number of channels: 1\n",
      "Number of classes: 2\n",
      "Number of files used: 1\n",
      "Number of channels: 1\n",
      "Number of classes: 2\n",
      "Number of files used: 1\n",
      "Number of channels: 1\n",
      "Number of classes: 2\n",
      "Number of files used: 1\n",
      "Number of channels: 1\n",
      "Number of classes: 2\n",
      "Number of files used: 1\n",
      "Number of channels: 1\n",
      "Number of classes: 2\n",
      "Number of files used: 1\n",
      "Number of channels: 1\n",
      "Number of classes: 2\n",
      "Number of files used: 1\n",
      "Number of channels: 1\n",
      "Number of classes: 2\n",
      "Number of files used: 1\n",
      "Number of channels: 1\n",
      "Number of classes: 2\n",
      "Number of files used: 1\n",
      "Number of channels: 1\n",
      "Number of classes: 2\n",
      "Number of files used: 1\n",
      "Number of channels: 1\n",
      "Number of classes: 2\n",
      "Number of files used: 1\n",
      "Number of channels: 1\n",
      "Number of classes: 2\n",
      "Number of files used: 1\n",
      "Number of channels: 1\n",
      "Number of classes: 2\n",
      "Number of files used: 1\n",
      "Number of channels: 1\n",
      "Number of classes: 2\n",
      "Number of files used: 1\n",
      "Number of channels: 1\n",
      "Number of classes: 2\n",
      "Number of files used: 1\n",
      "Number of channels: 1\n",
      "Number of classes: 2\n",
      "Number of files used: 1\n",
      "Number of channels: 1\n",
      "Number of classes: 2\n",
      "Number of files used: 1\n",
      "Number of channels: 1\n",
      "Number of classes: 2\n",
      "Number of files used: 1\n",
      "Number of channels: 1\n",
      "Number of classes: 2\n",
      "Number of files used: 1\n",
      "Number of channels: 1\n",
      "Number of classes: 2\n",
      "Number of files used: 1\n",
      "Number of channels: 1\n",
      "Number of classes: 2\n",
      "INFO:tensorflow:Restoring parameters from ./trained_3layers_feature32_epoch100/model.ckpt\n"
     ]
    },
    {
     "name": "stderr",
     "output_type": "stream",
     "text": [
      "2019-05-12 13:54:01,007 Restoring parameters from ./trained_3layers_feature32_epoch100/model.ckpt\n",
      "2019-05-12 13:54:02,213 Model restored from file: ./trained_3layers_feature32_epoch100/model.ckpt\n"
     ]
    },
    {
     "name": "stdout",
     "output_type": "stream",
     "text": [
      "Number of files used: 1\n",
      "Number of channels: 1\n",
      "Number of classes: 2\n",
      "INFO:tensorflow:Restoring parameters from ./trained_3layers_feature32_epoch100/model.ckpt\n"
     ]
    },
    {
     "name": "stderr",
     "output_type": "stream",
     "text": [
      "2019-05-12 13:54:06,845 Restoring parameters from ./trained_3layers_feature32_epoch100/model.ckpt\n",
      "2019-05-12 13:54:08,069 Model restored from file: ./trained_3layers_feature32_epoch100/model.ckpt\n"
     ]
    },
    {
     "name": "stdout",
     "output_type": "stream",
     "text": [
      "Number of files used: 1\n",
      "Number of channels: 1\n",
      "Number of classes: 2\n",
      "Number of files used: 1\n",
      "Number of channels: 1\n",
      "Number of classes: 2\n",
      "Number of files used: 1\n",
      "Number of channels: 1\n",
      "Number of classes: 2\n",
      "Number of files used: 1\n",
      "Number of channels: 1\n",
      "Number of classes: 2\n",
      "Number of files used: 1\n",
      "Number of channels: 1\n",
      "Number of classes: 2\n",
      "Number of files used: 1\n",
      "Number of channels: 1\n",
      "Number of classes: 2\n",
      "Number of files used: 1\n",
      "Number of channels: 1\n",
      "Number of classes: 2\n",
      "Number of files used: 1\n",
      "Number of channels: 1\n",
      "Number of classes: 2\n",
      "INFO:tensorflow:Restoring parameters from ./trained_3layers_feature32_epoch100/model.ckpt\n"
     ]
    },
    {
     "name": "stderr",
     "output_type": "stream",
     "text": [
      "2019-05-12 13:54:12,883 Restoring parameters from ./trained_3layers_feature32_epoch100/model.ckpt\n",
      "2019-05-12 13:54:14,092 Model restored from file: ./trained_3layers_feature32_epoch100/model.ckpt\n"
     ]
    },
    {
     "name": "stdout",
     "output_type": "stream",
     "text": [
      "Number of files used: 1\n",
      "Number of channels: 1\n",
      "Number of classes: 2\n",
      "Number of files used: 1\n",
      "Number of channels: 1\n",
      "Number of classes: 2\n",
      "INFO:tensorflow:Restoring parameters from ./trained_3layers_feature32_epoch100/model.ckpt\n"
     ]
    },
    {
     "name": "stderr",
     "output_type": "stream",
     "text": [
      "2019-05-12 13:54:18,777 Restoring parameters from ./trained_3layers_feature32_epoch100/model.ckpt\n",
      "2019-05-12 13:54:20,018 Model restored from file: ./trained_3layers_feature32_epoch100/model.ckpt\n"
     ]
    },
    {
     "name": "stdout",
     "output_type": "stream",
     "text": [
      "Number of files used: 1\n",
      "Number of channels: 1\n",
      "Number of classes: 2\n",
      "INFO:tensorflow:Restoring parameters from ./trained_3layers_feature32_epoch100/model.ckpt\n"
     ]
    },
    {
     "name": "stderr",
     "output_type": "stream",
     "text": [
      "2019-05-12 13:54:24,705 Restoring parameters from ./trained_3layers_feature32_epoch100/model.ckpt\n",
      "2019-05-12 13:54:25,926 Model restored from file: ./trained_3layers_feature32_epoch100/model.ckpt\n"
     ]
    },
    {
     "name": "stdout",
     "output_type": "stream",
     "text": [
      "Number of files used: 1\n",
      "Number of channels: 1\n",
      "Number of classes: 2\n",
      "INFO:tensorflow:Restoring parameters from ./trained_3layers_feature32_epoch100/model.ckpt\n"
     ]
    },
    {
     "name": "stderr",
     "output_type": "stream",
     "text": [
      "2019-05-12 13:54:30,646 Restoring parameters from ./trained_3layers_feature32_epoch100/model.ckpt\n",
      "2019-05-12 13:54:31,893 Model restored from file: ./trained_3layers_feature32_epoch100/model.ckpt\n"
     ]
    },
    {
     "name": "stdout",
     "output_type": "stream",
     "text": [
      "Number of files used: 1\n",
      "Number of channels: 1\n",
      "Number of classes: 2\n",
      "INFO:tensorflow:Restoring parameters from ./trained_3layers_feature32_epoch100/model.ckpt\n"
     ]
    },
    {
     "name": "stderr",
     "output_type": "stream",
     "text": [
      "2019-05-12 13:54:36,641 Restoring parameters from ./trained_3layers_feature32_epoch100/model.ckpt\n",
      "2019-05-12 13:54:37,874 Model restored from file: ./trained_3layers_feature32_epoch100/model.ckpt\n"
     ]
    },
    {
     "name": "stdout",
     "output_type": "stream",
     "text": [
      "Number of files used: 1\n",
      "Number of channels: 1\n",
      "Number of classes: 2\n",
      "INFO:tensorflow:Restoring parameters from ./trained_3layers_feature32_epoch100/model.ckpt\n"
     ]
    },
    {
     "name": "stderr",
     "output_type": "stream",
     "text": [
      "2019-05-12 13:54:42,535 Restoring parameters from ./trained_3layers_feature32_epoch100/model.ckpt\n",
      "2019-05-12 13:54:43,759 Model restored from file: ./trained_3layers_feature32_epoch100/model.ckpt\n"
     ]
    },
    {
     "name": "stdout",
     "output_type": "stream",
     "text": [
      "Number of files used: 1\n",
      "Number of channels: 1\n",
      "Number of classes: 2\n",
      "INFO:tensorflow:Restoring parameters from ./trained_3layers_feature32_epoch100/model.ckpt\n"
     ]
    },
    {
     "name": "stderr",
     "output_type": "stream",
     "text": [
      "2019-05-12 13:54:48,452 Restoring parameters from ./trained_3layers_feature32_epoch100/model.ckpt\n",
      "2019-05-12 13:54:49,705 Model restored from file: ./trained_3layers_feature32_epoch100/model.ckpt\n"
     ]
    },
    {
     "name": "stdout",
     "output_type": "stream",
     "text": [
      "Number of files used: 1\n",
      "Number of channels: 1\n",
      "Number of classes: 2\n",
      "INFO:tensorflow:Restoring parameters from ./trained_3layers_feature32_epoch100/model.ckpt\n"
     ]
    },
    {
     "name": "stderr",
     "output_type": "stream",
     "text": [
      "2019-05-12 13:54:54,391 Restoring parameters from ./trained_3layers_feature32_epoch100/model.ckpt\n",
      "2019-05-12 13:54:55,624 Model restored from file: ./trained_3layers_feature32_epoch100/model.ckpt\n"
     ]
    },
    {
     "name": "stdout",
     "output_type": "stream",
     "text": [
      "Number of files used: 1\n",
      "Number of channels: 1\n",
      "Number of classes: 2\n",
      "INFO:tensorflow:Restoring parameters from ./trained_3layers_feature32_epoch100/model.ckpt\n"
     ]
    },
    {
     "name": "stderr",
     "output_type": "stream",
     "text": [
      "2019-05-12 13:55:00,331 Restoring parameters from ./trained_3layers_feature32_epoch100/model.ckpt\n",
      "2019-05-12 13:55:01,594 Model restored from file: ./trained_3layers_feature32_epoch100/model.ckpt\n"
     ]
    },
    {
     "name": "stdout",
     "output_type": "stream",
     "text": [
      "Number of files used: 1\n",
      "Number of channels: 1\n",
      "Number of classes: 2\n",
      "Number of files used: 1\n",
      "Number of channels: 1\n",
      "Number of classes: 2\n",
      "Number of files used: 1\n",
      "Number of channels: 1\n",
      "Number of classes: 2\n",
      "Number of files used: 1\n",
      "Number of channels: 1\n",
      "Number of classes: 2\n",
      "Number of files used: 1\n",
      "Number of channels: 1\n",
      "Number of classes: 2\n",
      "Number of files used: 1\n",
      "Number of channels: 1\n",
      "Number of classes: 2\n",
      "Number of files used: 1\n",
      "Number of channels: 1\n",
      "Number of classes: 2\n",
      "Number of files used: 1\n",
      "Number of channels: 1\n",
      "Number of classes: 2\n",
      "Number of files used: 1\n",
      "Number of channels: 1\n",
      "Number of classes: 2\n",
      "Number of files used: 1\n",
      "Number of channels: 1\n",
      "Number of classes: 2\n",
      "Number of files used: 1\n",
      "Number of channels: 1\n",
      "Number of classes: 2\n",
      "Number of files used: 1\n",
      "Number of channels: 1\n",
      "Number of classes: 2\n",
      "Number of files used: 1\n",
      "Number of channels: 1\n",
      "Number of classes: 2\n",
      "Number of files used: 1\n",
      "Number of channels: 1\n",
      "Number of classes: 2\n",
      "Number of files used: 1\n",
      "Number of channels: 1\n",
      "Number of classes: 2\n",
      "Number of files used: 1\n",
      "Number of channels: 1\n",
      "Number of classes: 2\n",
      "Number of files used: 1\n",
      "Number of channels: 1\n",
      "Number of classes: 2\n",
      "Number of files used: 1\n",
      "Number of channels: 1\n",
      "Number of classes: 2\n",
      "Number of files used: 1\n",
      "Number of channels: 1\n",
      "Number of classes: 2\n",
      "Number of files used: 1\n",
      "Number of channels: 1\n",
      "Number of classes: 2\n",
      "Number of files used: 1\n",
      "Number of channels: 1\n",
      "Number of classes: 2\n",
      "Number of files used: 1\n",
      "Number of channels: 1\n",
      "Number of classes: 2\n",
      "Number of files used: 1\n",
      "Number of channels: 1\n",
      "Number of classes: 2\n",
      "Number of files used: 1\n",
      "Number of channels: 1\n",
      "Number of classes: 2\n",
      "INFO:tensorflow:Restoring parameters from ./trained_3layers_feature32_epoch100/model.ckpt\n"
     ]
    },
    {
     "name": "stderr",
     "output_type": "stream",
     "text": [
      "2019-05-12 13:55:06,864 Restoring parameters from ./trained_3layers_feature32_epoch100/model.ckpt\n",
      "2019-05-12 13:55:08,132 Model restored from file: ./trained_3layers_feature32_epoch100/model.ckpt\n"
     ]
    },
    {
     "name": "stdout",
     "output_type": "stream",
     "text": [
      "Number of files used: 1\n",
      "Number of channels: 1\n",
      "Number of classes: 2\n",
      "INFO:tensorflow:Restoring parameters from ./trained_3layers_feature32_epoch100/model.ckpt\n"
     ]
    },
    {
     "name": "stderr",
     "output_type": "stream",
     "text": [
      "2019-05-12 13:55:12,952 Restoring parameters from ./trained_3layers_feature32_epoch100/model.ckpt\n",
      "2019-05-12 13:55:14,204 Model restored from file: ./trained_3layers_feature32_epoch100/model.ckpt\n"
     ]
    },
    {
     "name": "stdout",
     "output_type": "stream",
     "text": [
      "Number of files used: 1\n",
      "Number of channels: 1\n",
      "Number of classes: 2\n",
      "Number of files used: 1\n",
      "Number of channels: 1\n",
      "Number of classes: 2\n",
      "Number of files used: 1\n",
      "Number of channels: 1\n",
      "Number of classes: 2\n",
      "Number of files used: 1\n",
      "Number of channels: 1\n",
      "Number of classes: 2\n",
      "Number of files used: 1\n",
      "Number of channels: 1\n",
      "Number of classes: 2\n",
      "Number of files used: 1\n",
      "Number of channels: 1\n",
      "Number of classes: 2\n",
      "Number of files used: 1\n",
      "Number of channels: 1\n",
      "Number of classes: 2\n",
      "Number of files used: 1\n",
      "Number of channels: 1\n",
      "Number of classes: 2\n",
      "INFO:tensorflow:Restoring parameters from ./trained_3layers_feature32_epoch100/model.ckpt\n"
     ]
    },
    {
     "name": "stderr",
     "output_type": "stream",
     "text": [
      "2019-05-12 13:55:19,105 Restoring parameters from ./trained_3layers_feature32_epoch100/model.ckpt\n",
      "2019-05-12 13:55:20,354 Model restored from file: ./trained_3layers_feature32_epoch100/model.ckpt\n"
     ]
    },
    {
     "name": "stdout",
     "output_type": "stream",
     "text": [
      "Number of files used: 1\n",
      "Number of channels: 1\n",
      "Number of classes: 2\n",
      "INFO:tensorflow:Restoring parameters from ./trained_3layers_feature32_epoch100/model.ckpt\n"
     ]
    },
    {
     "name": "stderr",
     "output_type": "stream",
     "text": [
      "2019-05-12 13:55:25,298 Restoring parameters from ./trained_3layers_feature32_epoch100/model.ckpt\n",
      "2019-05-12 13:55:26,563 Model restored from file: ./trained_3layers_feature32_epoch100/model.ckpt\n"
     ]
    },
    {
     "name": "stdout",
     "output_type": "stream",
     "text": [
      "Number of files used: 1\n",
      "Number of channels: 1\n",
      "Number of classes: 2\n",
      "Number of files used: 1\n",
      "Number of channels: 1\n",
      "Number of classes: 2\n",
      "INFO:tensorflow:Restoring parameters from ./trained_3layers_feature32_epoch100/model.ckpt\n"
     ]
    },
    {
     "name": "stderr",
     "output_type": "stream",
     "text": [
      "2019-05-12 13:55:31,314 Restoring parameters from ./trained_3layers_feature32_epoch100/model.ckpt\n",
      "2019-05-12 13:55:32,584 Model restored from file: ./trained_3layers_feature32_epoch100/model.ckpt\n"
     ]
    },
    {
     "name": "stdout",
     "output_type": "stream",
     "text": [
      "Number of files used: 1\n",
      "Number of channels: 1\n",
      "Number of classes: 2\n",
      "INFO:tensorflow:Restoring parameters from ./trained_3layers_feature32_epoch100/model.ckpt\n"
     ]
    },
    {
     "name": "stderr",
     "output_type": "stream",
     "text": [
      "2019-05-12 13:55:37,361 Restoring parameters from ./trained_3layers_feature32_epoch100/model.ckpt\n",
      "2019-05-12 13:55:38,642 Model restored from file: ./trained_3layers_feature32_epoch100/model.ckpt\n"
     ]
    },
    {
     "name": "stdout",
     "output_type": "stream",
     "text": [
      "Number of files used: 1\n",
      "Number of channels: 1\n",
      "Number of classes: 2\n",
      "INFO:tensorflow:Restoring parameters from ./trained_3layers_feature32_epoch100/model.ckpt\n"
     ]
    },
    {
     "name": "stderr",
     "output_type": "stream",
     "text": [
      "2019-05-12 13:55:43,450 Restoring parameters from ./trained_3layers_feature32_epoch100/model.ckpt\n",
      "2019-05-12 13:55:44,735 Model restored from file: ./trained_3layers_feature32_epoch100/model.ckpt\n"
     ]
    },
    {
     "name": "stdout",
     "output_type": "stream",
     "text": [
      "Number of files used: 1\n",
      "Number of channels: 1\n",
      "Number of classes: 2\n",
      "INFO:tensorflow:Restoring parameters from ./trained_3layers_feature32_epoch100/model.ckpt\n"
     ]
    },
    {
     "name": "stderr",
     "output_type": "stream",
     "text": [
      "2019-05-12 13:55:49,522 Restoring parameters from ./trained_3layers_feature32_epoch100/model.ckpt\n",
      "2019-05-12 13:55:50,812 Model restored from file: ./trained_3layers_feature32_epoch100/model.ckpt\n"
     ]
    },
    {
     "name": "stdout",
     "output_type": "stream",
     "text": [
      "Number of files used: 1\n",
      "Number of channels: 1\n",
      "Number of classes: 2\n",
      "INFO:tensorflow:Restoring parameters from ./trained_3layers_feature32_epoch100/model.ckpt\n"
     ]
    },
    {
     "name": "stderr",
     "output_type": "stream",
     "text": [
      "2019-05-12 13:55:55,614 Restoring parameters from ./trained_3layers_feature32_epoch100/model.ckpt\n",
      "2019-05-12 13:55:56,898 Model restored from file: ./trained_3layers_feature32_epoch100/model.ckpt\n"
     ]
    },
    {
     "name": "stdout",
     "output_type": "stream",
     "text": [
      "Number of files used: 1\n",
      "Number of channels: 1\n",
      "Number of classes: 2\n",
      "INFO:tensorflow:Restoring parameters from ./trained_3layers_feature32_epoch100/model.ckpt\n"
     ]
    },
    {
     "name": "stderr",
     "output_type": "stream",
     "text": [
      "2019-05-12 13:56:01,670 Restoring parameters from ./trained_3layers_feature32_epoch100/model.ckpt\n",
      "2019-05-12 13:56:02,975 Model restored from file: ./trained_3layers_feature32_epoch100/model.ckpt\n"
     ]
    },
    {
     "name": "stdout",
     "output_type": "stream",
     "text": [
      "Number of files used: 1\n",
      "Number of channels: 1\n",
      "Number of classes: 2\n",
      "INFO:tensorflow:Restoring parameters from ./trained_3layers_feature32_epoch100/model.ckpt\n"
     ]
    },
    {
     "name": "stderr",
     "output_type": "stream",
     "text": [
      "2019-05-12 13:56:07,824 Restoring parameters from ./trained_3layers_feature32_epoch100/model.ckpt\n",
      "2019-05-12 13:56:09,137 Model restored from file: ./trained_3layers_feature32_epoch100/model.ckpt\n"
     ]
    },
    {
     "name": "stdout",
     "output_type": "stream",
     "text": [
      "Number of files used: 1\n",
      "Number of channels: 1\n",
      "Number of classes: 2\n",
      "INFO:tensorflow:Restoring parameters from ./trained_3layers_feature32_epoch100/model.ckpt\n"
     ]
    },
    {
     "name": "stderr",
     "output_type": "stream",
     "text": [
      "2019-05-12 13:56:13,953 Restoring parameters from ./trained_3layers_feature32_epoch100/model.ckpt\n",
      "2019-05-12 13:56:15,265 Model restored from file: ./trained_3layers_feature32_epoch100/model.ckpt\n"
     ]
    },
    {
     "name": "stdout",
     "output_type": "stream",
     "text": [
      "Number of files used: 1\n",
      "Number of channels: 1\n",
      "Number of classes: 2\n",
      "Number of files used: 1\n",
      "Number of channels: 1\n",
      "Number of classes: 2\n",
      "Number of files used: 1\n",
      "Number of channels: 1\n",
      "Number of classes: 2\n",
      "Number of files used: 1\n",
      "Number of channels: 1\n",
      "Number of classes: 2\n",
      "Number of files used: 1\n",
      "Number of channels: 1\n",
      "Number of classes: 2\n",
      "Number of files used: 1\n",
      "Number of channels: 1\n",
      "Number of classes: 2\n",
      "Number of files used: 1\n",
      "Number of channels: 1\n",
      "Number of classes: 2\n",
      "Number of files used: 1\n",
      "Number of channels: 1\n",
      "Number of classes: 2\n",
      "Number of files used: 1\n",
      "Number of channels: 1\n",
      "Number of classes: 2\n",
      "Number of files used: 1\n",
      "Number of channels: 1\n",
      "Number of classes: 2\n",
      "Number of files used: 1\n",
      "Number of channels: 1\n",
      "Number of classes: 2\n",
      "Number of files used: 1\n",
      "Number of channels: 1\n",
      "Number of classes: 2\n",
      "Number of files used: 1\n",
      "Number of channels: 1\n",
      "Number of classes: 2\n",
      "Number of files used: 1\n",
      "Number of channels: 1\n",
      "Number of classes: 2\n",
      "Number of files used: 1\n",
      "Number of channels: 1\n",
      "Number of classes: 2\n",
      "Number of files used: 1\n",
      "Number of channels: 1\n",
      "Number of classes: 2\n",
      "Number of files used: 1\n",
      "Number of channels: 1\n",
      "Number of classes: 2\n",
      "Number of files used: 1\n",
      "Number of channels: 1\n",
      "Number of classes: 2\n",
      "Number of files used: 1\n",
      "Number of channels: 1\n",
      "Number of classes: 2\n",
      "Number of files used: 1\n",
      "Number of channels: 1\n",
      "Number of classes: 2\n",
      "Number of files used: 1\n",
      "Number of channels: 1\n",
      "Number of classes: 2\n",
      "Number of files used: 1\n",
      "Number of channels: 1\n",
      "Number of classes: 2\n",
      "Number of files used: 1\n",
      "Number of channels: 1\n",
      "Number of classes: 2\n",
      "INFO:tensorflow:Restoring parameters from ./trained_3layers_feature32_epoch100/model.ckpt\n"
     ]
    },
    {
     "name": "stderr",
     "output_type": "stream",
     "text": [
      "2019-05-12 13:56:20,615 Restoring parameters from ./trained_3layers_feature32_epoch100/model.ckpt\n",
      "2019-05-12 13:56:21,959 Model restored from file: ./trained_3layers_feature32_epoch100/model.ckpt\n"
     ]
    },
    {
     "name": "stdout",
     "output_type": "stream",
     "text": [
      "Number of files used: 1\n",
      "Number of channels: 1\n",
      "Number of classes: 2\n",
      "INFO:tensorflow:Restoring parameters from ./trained_3layers_feature32_epoch100/model.ckpt\n"
     ]
    },
    {
     "name": "stderr",
     "output_type": "stream",
     "text": [
      "2019-05-12 13:56:26,755 Restoring parameters from ./trained_3layers_feature32_epoch100/model.ckpt\n",
      "2019-05-12 13:56:28,078 Model restored from file: ./trained_3layers_feature32_epoch100/model.ckpt\n"
     ]
    },
    {
     "name": "stdout",
     "output_type": "stream",
     "text": [
      "Number of files used: 1\n",
      "Number of channels: 1\n",
      "Number of classes: 2\n",
      "INFO:tensorflow:Restoring parameters from ./trained_3layers_feature32_epoch100/model.ckpt\n"
     ]
    },
    {
     "name": "stderr",
     "output_type": "stream",
     "text": [
      "2019-05-12 13:56:32,874 Restoring parameters from ./trained_3layers_feature32_epoch100/model.ckpt\n",
      "2019-05-12 13:56:34,197 Model restored from file: ./trained_3layers_feature32_epoch100/model.ckpt\n"
     ]
    },
    {
     "name": "stdout",
     "output_type": "stream",
     "text": [
      "Number of files used: 1\n",
      "Number of channels: 1\n",
      "Number of classes: 2\n",
      "Number of files used: 1\n",
      "Number of channels: 1\n",
      "Number of classes: 2\n",
      "Number of files used: 1\n",
      "Number of channels: 1\n",
      "Number of classes: 2\n",
      "Number of files used: 1\n",
      "Number of channels: 1\n",
      "Number of classes: 2\n",
      "Number of files used: 1\n",
      "Number of channels: 1\n",
      "Number of classes: 2\n",
      "Number of files used: 1\n",
      "Number of channels: 1\n",
      "Number of classes: 2\n",
      "INFO:tensorflow:Restoring parameters from ./trained_3layers_feature32_epoch100/model.ckpt\n"
     ]
    },
    {
     "name": "stderr",
     "output_type": "stream",
     "text": [
      "2019-05-12 13:56:39,113 Restoring parameters from ./trained_3layers_feature32_epoch100/model.ckpt\n",
      "2019-05-12 13:56:40,452 Model restored from file: ./trained_3layers_feature32_epoch100/model.ckpt\n"
     ]
    },
    {
     "name": "stdout",
     "output_type": "stream",
     "text": [
      "Number of files used: 1\n",
      "Number of channels: 1\n",
      "Number of classes: 2\n",
      "INFO:tensorflow:Restoring parameters from ./trained_3layers_feature32_epoch100/model.ckpt\n"
     ]
    },
    {
     "name": "stderr",
     "output_type": "stream",
     "text": [
      "2019-05-12 13:56:45,280 Restoring parameters from ./trained_3layers_feature32_epoch100/model.ckpt\n",
      "2019-05-12 13:56:46,617 Model restored from file: ./trained_3layers_feature32_epoch100/model.ckpt\n"
     ]
    },
    {
     "name": "stdout",
     "output_type": "stream",
     "text": [
      "Number of files used: 1\n",
      "Number of channels: 1\n",
      "Number of classes: 2\n",
      "INFO:tensorflow:Restoring parameters from ./trained_3layers_feature32_epoch100/model.ckpt\n"
     ]
    },
    {
     "name": "stderr",
     "output_type": "stream",
     "text": [
      "2019-05-12 13:56:51,487 Restoring parameters from ./trained_3layers_feature32_epoch100/model.ckpt\n",
      "2019-05-12 13:56:52,840 Model restored from file: ./trained_3layers_feature32_epoch100/model.ckpt\n"
     ]
    },
    {
     "name": "stdout",
     "output_type": "stream",
     "text": [
      "Number of files used: 1\n",
      "Number of channels: 1\n",
      "Number of classes: 2\n",
      "INFO:tensorflow:Restoring parameters from ./trained_3layers_feature32_epoch100/model.ckpt\n"
     ]
    },
    {
     "name": "stderr",
     "output_type": "stream",
     "text": [
      "2019-05-12 13:56:57,684 Restoring parameters from ./trained_3layers_feature32_epoch100/model.ckpt\n",
      "2019-05-12 13:56:59,022 Model restored from file: ./trained_3layers_feature32_epoch100/model.ckpt\n"
     ]
    },
    {
     "name": "stdout",
     "output_type": "stream",
     "text": [
      "Number of files used: 1\n",
      "Number of channels: 1\n",
      "Number of classes: 2\n",
      "Number of files used: 1\n",
      "Number of channels: 1\n",
      "Number of classes: 2\n",
      "Number of files used: 1\n",
      "Number of channels: 1\n",
      "Number of classes: 2\n",
      "INFO:tensorflow:Restoring parameters from ./trained_3layers_feature32_epoch100/model.ckpt\n"
     ]
    },
    {
     "name": "stderr",
     "output_type": "stream",
     "text": [
      "2019-05-12 13:57:03,902 Restoring parameters from ./trained_3layers_feature32_epoch100/model.ckpt\n",
      "2019-05-12 13:57:05,264 Model restored from file: ./trained_3layers_feature32_epoch100/model.ckpt\n"
     ]
    },
    {
     "name": "stdout",
     "output_type": "stream",
     "text": [
      "Number of files used: 1\n",
      "Number of channels: 1\n",
      "Number of classes: 2\n",
      "INFO:tensorflow:Restoring parameters from ./trained_3layers_feature32_epoch100/model.ckpt\n"
     ]
    },
    {
     "name": "stderr",
     "output_type": "stream",
     "text": [
      "2019-05-12 13:57:10,179 Restoring parameters from ./trained_3layers_feature32_epoch100/model.ckpt\n",
      "2019-05-12 13:57:11,552 Model restored from file: ./trained_3layers_feature32_epoch100/model.ckpt\n"
     ]
    },
    {
     "name": "stdout",
     "output_type": "stream",
     "text": [
      "Number of files used: 1\n",
      "Number of channels: 1\n",
      "Number of classes: 2\n",
      "INFO:tensorflow:Restoring parameters from ./trained_3layers_feature32_epoch100/model.ckpt\n"
     ]
    },
    {
     "name": "stderr",
     "output_type": "stream",
     "text": [
      "2019-05-12 13:57:16,449 Restoring parameters from ./trained_3layers_feature32_epoch100/model.ckpt\n",
      "2019-05-12 13:57:17,795 Model restored from file: ./trained_3layers_feature32_epoch100/model.ckpt\n"
     ]
    },
    {
     "name": "stdout",
     "output_type": "stream",
     "text": [
      "Number of files used: 1\n",
      "Number of channels: 1\n",
      "Number of classes: 2\n",
      "INFO:tensorflow:Restoring parameters from ./trained_3layers_feature32_epoch100/model.ckpt\n"
     ]
    },
    {
     "name": "stderr",
     "output_type": "stream",
     "text": [
      "2019-05-12 13:57:22,655 Restoring parameters from ./trained_3layers_feature32_epoch100/model.ckpt\n",
      "2019-05-12 13:57:24,028 Model restored from file: ./trained_3layers_feature32_epoch100/model.ckpt\n"
     ]
    },
    {
     "name": "stdout",
     "output_type": "stream",
     "text": [
      "Number of files used: 1\n",
      "Number of channels: 1\n",
      "Number of classes: 2\n",
      "INFO:tensorflow:Restoring parameters from ./trained_3layers_feature32_epoch100/model.ckpt\n"
     ]
    },
    {
     "name": "stderr",
     "output_type": "stream",
     "text": [
      "2019-05-12 13:57:28,916 Restoring parameters from ./trained_3layers_feature32_epoch100/model.ckpt\n",
      "2019-05-12 13:57:30,351 Model restored from file: ./trained_3layers_feature32_epoch100/model.ckpt\n"
     ]
    },
    {
     "name": "stdout",
     "output_type": "stream",
     "text": [
      "Number of files used: 1\n",
      "Number of channels: 1\n",
      "Number of classes: 2\n",
      "INFO:tensorflow:Restoring parameters from ./trained_3layers_feature32_epoch100/model.ckpt\n"
     ]
    },
    {
     "name": "stderr",
     "output_type": "stream",
     "text": [
      "2019-05-12 13:57:35,195 Restoring parameters from ./trained_3layers_feature32_epoch100/model.ckpt\n",
      "2019-05-12 13:57:36,593 Model restored from file: ./trained_3layers_feature32_epoch100/model.ckpt\n"
     ]
    },
    {
     "name": "stdout",
     "output_type": "stream",
     "text": [
      "Number of files used: 1\n",
      "Number of channels: 1\n",
      "Number of classes: 2\n",
      "INFO:tensorflow:Restoring parameters from ./trained_3layers_feature32_epoch100/model.ckpt\n"
     ]
    },
    {
     "name": "stderr",
     "output_type": "stream",
     "text": [
      "2019-05-12 13:57:41,450 Restoring parameters from ./trained_3layers_feature32_epoch100/model.ckpt\n",
      "2019-05-12 13:57:42,834 Model restored from file: ./trained_3layers_feature32_epoch100/model.ckpt\n"
     ]
    },
    {
     "name": "stdout",
     "output_type": "stream",
     "text": [
      "Number of files used: 1\n",
      "Number of channels: 1\n",
      "Number of classes: 2\n",
      "Number of files used: 1\n",
      "Number of channels: 1\n",
      "Number of classes: 2\n",
      "Number of files used: 1\n",
      "Number of channels: 1\n",
      "Number of classes: 2\n",
      "Number of files used: 1\n",
      "Number of channels: 1\n",
      "Number of classes: 2\n",
      "Number of files used: 1\n",
      "Number of channels: 1\n",
      "Number of classes: 2\n",
      "Number of files used: 1\n",
      "Number of channels: 1\n",
      "Number of classes: 2\n",
      "Number of files used: 1\n",
      "Number of channels: 1\n",
      "Number of classes: 2\n",
      "Number of files used: 1\n",
      "Number of channels: 1\n",
      "Number of classes: 2\n",
      "Number of files used: 1\n",
      "Number of channels: 1\n",
      "Number of classes: 2\n",
      "Number of files used: 1\n",
      "Number of channels: 1\n",
      "Number of classes: 2\n",
      "Number of files used: 1\n",
      "Number of channels: 1\n",
      "Number of classes: 2\n",
      "Number of files used: 1\n",
      "Number of channels: 1\n",
      "Number of classes: 2\n",
      "Number of files used: 1\n",
      "Number of channels: 1\n",
      "Number of classes: 2\n",
      "Number of files used: 1\n",
      "Number of channels: 1\n",
      "Number of classes: 2\n",
      "Number of files used: 1\n",
      "Number of channels: 1\n",
      "Number of classes: 2\n",
      "Number of files used: 1\n",
      "Number of channels: 1\n",
      "Number of classes: 2\n",
      "Number of files used: 1\n",
      "Number of channels: 1\n",
      "Number of classes: 2\n",
      "Number of files used: 1\n",
      "Number of channels: 1\n",
      "Number of classes: 2\n",
      "Number of files used: 1\n",
      "Number of channels: 1\n",
      "Number of classes: 2\n",
      "Number of files used: 1\n",
      "Number of channels: 1\n",
      "Number of classes: 2\n",
      "Number of files used: 1\n",
      "Number of channels: 1\n",
      "Number of classes: 2\n",
      "Number of files used: 1\n",
      "Number of channels: 1\n",
      "Number of classes: 2\n",
      "INFO:tensorflow:Restoring parameters from ./trained_3layers_feature32_epoch100/model.ckpt\n"
     ]
    },
    {
     "name": "stderr",
     "output_type": "stream",
     "text": [
      "2019-05-12 13:57:48,214 Restoring parameters from ./trained_3layers_feature32_epoch100/model.ckpt\n",
      "2019-05-12 13:57:49,601 Model restored from file: ./trained_3layers_feature32_epoch100/model.ckpt\n"
     ]
    },
    {
     "name": "stdout",
     "output_type": "stream",
     "text": [
      "Number of files used: 1\n",
      "Number of channels: 1\n",
      "Number of classes: 2\n",
      "INFO:tensorflow:Restoring parameters from ./trained_3layers_feature32_epoch100/model.ckpt\n"
     ]
    },
    {
     "name": "stderr",
     "output_type": "stream",
     "text": [
      "2019-05-12 13:57:54,538 Restoring parameters from ./trained_3layers_feature32_epoch100/model.ckpt\n",
      "2019-05-12 13:57:55,941 Model restored from file: ./trained_3layers_feature32_epoch100/model.ckpt\n"
     ]
    },
    {
     "name": "stdout",
     "output_type": "stream",
     "text": [
      "Number of files used: 1\n",
      "Number of channels: 1\n",
      "Number of classes: 2\n",
      "Number of files used: 1\n",
      "Number of channels: 1\n",
      "Number of classes: 2\n",
      "Number of files used: 1\n",
      "Number of channels: 1\n",
      "Number of classes: 2\n",
      "Number of files used: 1\n",
      "Number of channels: 1\n",
      "Number of classes: 2\n",
      "Number of files used: 1\n",
      "Number of channels: 1\n",
      "Number of classes: 2\n",
      "Number of files used: 1\n",
      "Number of channels: 1\n",
      "Number of classes: 2\n",
      "Number of files used: 1\n",
      "Number of channels: 1\n",
      "Number of classes: 2\n",
      "Number of files used: 1\n",
      "Number of channels: 1\n",
      "Number of classes: 2\n",
      "INFO:tensorflow:Restoring parameters from ./trained_3layers_feature32_epoch100/model.ckpt\n"
     ]
    },
    {
     "name": "stderr",
     "output_type": "stream",
     "text": [
      "2019-05-12 13:58:01,084 Restoring parameters from ./trained_3layers_feature32_epoch100/model.ckpt\n",
      "2019-05-12 13:58:02,518 Model restored from file: ./trained_3layers_feature32_epoch100/model.ckpt\n"
     ]
    },
    {
     "name": "stdout",
     "output_type": "stream",
     "text": [
      "Number of files used: 1\n",
      "Number of channels: 1\n",
      "Number of classes: 2\n",
      "INFO:tensorflow:Restoring parameters from ./trained_3layers_feature32_epoch100/model.ckpt\n"
     ]
    },
    {
     "name": "stderr",
     "output_type": "stream",
     "text": [
      "2019-05-12 13:58:07,473 Restoring parameters from ./trained_3layers_feature32_epoch100/model.ckpt\n",
      "2019-05-12 13:58:08,887 Model restored from file: ./trained_3layers_feature32_epoch100/model.ckpt\n"
     ]
    },
    {
     "name": "stdout",
     "output_type": "stream",
     "text": [
      "Number of files used: 1\n",
      "Number of channels: 1\n",
      "Number of classes: 2\n",
      "INFO:tensorflow:Restoring parameters from ./trained_3layers_feature32_epoch100/model.ckpt\n"
     ]
    },
    {
     "name": "stderr",
     "output_type": "stream",
     "text": [
      "2019-05-12 13:58:13,834 Restoring parameters from ./trained_3layers_feature32_epoch100/model.ckpt\n",
      "2019-05-12 13:58:15,245 Model restored from file: ./trained_3layers_feature32_epoch100/model.ckpt\n"
     ]
    },
    {
     "name": "stdout",
     "output_type": "stream",
     "text": [
      "Number of files used: 1\n",
      "Number of channels: 1\n",
      "Number of classes: 2\n",
      "INFO:tensorflow:Restoring parameters from ./trained_3layers_feature32_epoch100/model.ckpt\n"
     ]
    },
    {
     "name": "stderr",
     "output_type": "stream",
     "text": [
      "2019-05-12 13:58:20,227 Restoring parameters from ./trained_3layers_feature32_epoch100/model.ckpt\n",
      "2019-05-12 13:58:21,638 Model restored from file: ./trained_3layers_feature32_epoch100/model.ckpt\n"
     ]
    },
    {
     "name": "stdout",
     "output_type": "stream",
     "text": [
      "Number of files used: 1\n",
      "Number of channels: 1\n",
      "Number of classes: 2\n",
      "Number of files used: 1\n",
      "Number of channels: 1\n",
      "Number of classes: 2\n",
      "INFO:tensorflow:Restoring parameters from ./trained_3layers_feature32_epoch100/model.ckpt\n"
     ]
    },
    {
     "name": "stderr",
     "output_type": "stream",
     "text": [
      "2019-05-12 13:58:26,589 Restoring parameters from ./trained_3layers_feature32_epoch100/model.ckpt\n",
      "2019-05-12 13:58:28,025 Model restored from file: ./trained_3layers_feature32_epoch100/model.ckpt\n"
     ]
    },
    {
     "name": "stdout",
     "output_type": "stream",
     "text": [
      "Number of files used: 1\n",
      "Number of channels: 1\n",
      "Number of classes: 2\n",
      "INFO:tensorflow:Restoring parameters from ./trained_3layers_feature32_epoch100/model.ckpt\n"
     ]
    },
    {
     "name": "stderr",
     "output_type": "stream",
     "text": [
      "2019-05-12 13:58:33,016 Restoring parameters from ./trained_3layers_feature32_epoch100/model.ckpt\n",
      "2019-05-12 13:58:34,445 Model restored from file: ./trained_3layers_feature32_epoch100/model.ckpt\n"
     ]
    },
    {
     "name": "stdout",
     "output_type": "stream",
     "text": [
      "Number of files used: 1\n",
      "Number of channels: 1\n",
      "Number of classes: 2\n",
      "INFO:tensorflow:Restoring parameters from ./trained_3layers_feature32_epoch100/model.ckpt\n"
     ]
    },
    {
     "name": "stderr",
     "output_type": "stream",
     "text": [
      "2019-05-12 13:58:39,453 Restoring parameters from ./trained_3layers_feature32_epoch100/model.ckpt\n",
      "2019-05-12 13:58:40,882 Model restored from file: ./trained_3layers_feature32_epoch100/model.ckpt\n"
     ]
    },
    {
     "name": "stdout",
     "output_type": "stream",
     "text": [
      "Number of files used: 1\n",
      "Number of channels: 1\n",
      "Number of classes: 2\n",
      "INFO:tensorflow:Restoring parameters from ./trained_3layers_feature32_epoch100/model.ckpt\n"
     ]
    },
    {
     "name": "stderr",
     "output_type": "stream",
     "text": [
      "2019-05-12 13:58:45,913 Restoring parameters from ./trained_3layers_feature32_epoch100/model.ckpt\n",
      "2019-05-12 13:58:47,325 Model restored from file: ./trained_3layers_feature32_epoch100/model.ckpt\n"
     ]
    },
    {
     "name": "stdout",
     "output_type": "stream",
     "text": [
      "Number of files used: 1\n",
      "Number of channels: 1\n",
      "Number of classes: 2\n",
      "INFO:tensorflow:Restoring parameters from ./trained_3layers_feature32_epoch100/model.ckpt\n"
     ]
    },
    {
     "name": "stderr",
     "output_type": "stream",
     "text": [
      "2019-05-12 13:58:52,331 Restoring parameters from ./trained_3layers_feature32_epoch100/model.ckpt\n",
      "2019-05-12 13:58:53,770 Model restored from file: ./trained_3layers_feature32_epoch100/model.ckpt\n"
     ]
    },
    {
     "name": "stdout",
     "output_type": "stream",
     "text": [
      "Number of files used: 1\n",
      "Number of channels: 1\n",
      "Number of classes: 2\n",
      "INFO:tensorflow:Restoring parameters from ./trained_3layers_feature32_epoch100/model.ckpt\n"
     ]
    },
    {
     "name": "stderr",
     "output_type": "stream",
     "text": [
      "2019-05-12 13:58:58,809 Restoring parameters from ./trained_3layers_feature32_epoch100/model.ckpt\n",
      "2019-05-12 13:59:00,284 Model restored from file: ./trained_3layers_feature32_epoch100/model.ckpt\n"
     ]
    },
    {
     "name": "stdout",
     "output_type": "stream",
     "text": [
      "Number of files used: 1\n",
      "Number of channels: 1\n",
      "Number of classes: 2\n",
      "INFO:tensorflow:Restoring parameters from ./trained_3layers_feature32_epoch100/model.ckpt\n"
     ]
    },
    {
     "name": "stderr",
     "output_type": "stream",
     "text": [
      "2019-05-12 13:59:05,337 Restoring parameters from ./trained_3layers_feature32_epoch100/model.ckpt\n",
      "2019-05-12 13:59:06,829 Model restored from file: ./trained_3layers_feature32_epoch100/model.ckpt\n"
     ]
    },
    {
     "name": "stdout",
     "output_type": "stream",
     "text": [
      "Number of files used: 1\n",
      "Number of channels: 1\n",
      "Number of classes: 2\n",
      "INFO:tensorflow:Restoring parameters from ./trained_3layers_feature32_epoch100/model.ckpt\n"
     ]
    },
    {
     "name": "stderr",
     "output_type": "stream",
     "text": [
      "2019-05-12 13:59:11,886 Restoring parameters from ./trained_3layers_feature32_epoch100/model.ckpt\n",
      "2019-05-12 13:59:13,336 Model restored from file: ./trained_3layers_feature32_epoch100/model.ckpt\n"
     ]
    },
    {
     "name": "stdout",
     "output_type": "stream",
     "text": [
      "Number of files used: 1\n",
      "Number of channels: 1\n",
      "Number of classes: 2\n",
      "Number of files used: 1\n",
      "Number of channels: 1\n",
      "Number of classes: 2\n",
      "Number of files used: 1\n",
      "Number of channels: 1\n",
      "Number of classes: 2\n",
      "Number of files used: 1\n",
      "Number of channels: 1\n",
      "Number of classes: 2\n",
      "Number of files used: 1\n",
      "Number of channels: 1\n",
      "Number of classes: 2\n",
      "Number of files used: 1\n",
      "Number of channels: 1\n",
      "Number of classes: 2\n",
      "Number of files used: 1\n",
      "Number of channels: 1\n",
      "Number of classes: 2\n",
      "Number of files used: 1\n",
      "Number of channels: 1\n",
      "Number of classes: 2\n",
      "Number of files used: 1\n",
      "Number of channels: 1\n",
      "Number of classes: 2\n",
      "Number of files used: 1\n",
      "Number of channels: 1\n",
      "Number of classes: 2\n",
      "Number of files used: 1\n",
      "Number of channels: 1\n",
      "Number of classes: 2\n",
      "Number of files used: 1\n",
      "Number of channels: 1\n",
      "Number of classes: 2\n",
      "Number of files used: 1\n",
      "Number of channels: 1\n",
      "Number of classes: 2\n",
      "Number of files used: 1\n",
      "Number of channels: 1\n",
      "Number of classes: 2\n",
      "Number of files used: 1\n",
      "Number of channels: 1\n",
      "Number of classes: 2\n",
      "Number of files used: 1\n",
      "Number of channels: 1\n",
      "Number of classes: 2\n",
      "Number of files used: 1\n",
      "Number of channels: 1\n",
      "Number of classes: 2\n",
      "Number of files used: 1\n",
      "Number of channels: 1\n",
      "Number of classes: 2\n",
      "INFO:tensorflow:Restoring parameters from ./trained_3layers_feature32_epoch100/model.ckpt\n"
     ]
    },
    {
     "name": "stderr",
     "output_type": "stream",
     "text": [
      "2019-05-12 13:59:18,709 Restoring parameters from ./trained_3layers_feature32_epoch100/model.ckpt\n",
      "2019-05-12 13:59:20,156 Model restored from file: ./trained_3layers_feature32_epoch100/model.ckpt\n"
     ]
    },
    {
     "name": "stdout",
     "output_type": "stream",
     "text": [
      "Number of files used: 1\n",
      "Number of channels: 1\n",
      "Number of classes: 2\n",
      "INFO:tensorflow:Restoring parameters from ./trained_3layers_feature32_epoch100/model.ckpt\n"
     ]
    },
    {
     "name": "stderr",
     "output_type": "stream",
     "text": [
      "2019-05-12 13:59:25,147 Restoring parameters from ./trained_3layers_feature32_epoch100/model.ckpt\n",
      "2019-05-12 13:59:26,614 Model restored from file: ./trained_3layers_feature32_epoch100/model.ckpt\n"
     ]
    },
    {
     "name": "stdout",
     "output_type": "stream",
     "text": [
      "Number of files used: 1\n",
      "Number of channels: 1\n",
      "Number of classes: 2\n",
      "INFO:tensorflow:Restoring parameters from ./trained_3layers_feature32_epoch100/model.ckpt\n"
     ]
    },
    {
     "name": "stderr",
     "output_type": "stream",
     "text": [
      "2019-05-12 13:59:31,666 Restoring parameters from ./trained_3layers_feature32_epoch100/model.ckpt\n",
      "2019-05-12 13:59:33,117 Model restored from file: ./trained_3layers_feature32_epoch100/model.ckpt\n"
     ]
    },
    {
     "name": "stdout",
     "output_type": "stream",
     "text": [
      "Number of files used: 1\n",
      "Number of channels: 1\n",
      "Number of classes: 2\n",
      "INFO:tensorflow:Restoring parameters from ./trained_3layers_feature32_epoch100/model.ckpt\n"
     ]
    },
    {
     "name": "stderr",
     "output_type": "stream",
     "text": [
      "2019-05-12 13:59:38,123 Restoring parameters from ./trained_3layers_feature32_epoch100/model.ckpt\n",
      "2019-05-12 13:59:39,580 Model restored from file: ./trained_3layers_feature32_epoch100/model.ckpt\n"
     ]
    },
    {
     "name": "stdout",
     "output_type": "stream",
     "text": [
      "Number of files used: 1\n",
      "Number of channels: 1\n",
      "Number of classes: 2\n",
      "INFO:tensorflow:Restoring parameters from ./trained_3layers_feature32_epoch100/model.ckpt\n"
     ]
    },
    {
     "name": "stderr",
     "output_type": "stream",
     "text": [
      "2019-05-12 13:59:44,569 Restoring parameters from ./trained_3layers_feature32_epoch100/model.ckpt\n",
      "2019-05-12 13:59:46,047 Model restored from file: ./trained_3layers_feature32_epoch100/model.ckpt\n"
     ]
    },
    {
     "name": "stdout",
     "output_type": "stream",
     "text": [
      "Number of files used: 1\n",
      "Number of channels: 1\n",
      "Number of classes: 2\n",
      "INFO:tensorflow:Restoring parameters from ./trained_3layers_feature32_epoch100/model.ckpt\n"
     ]
    },
    {
     "name": "stderr",
     "output_type": "stream",
     "text": [
      "2019-05-12 13:59:51,355 Restoring parameters from ./trained_3layers_feature32_epoch100/model.ckpt\n",
      "2019-05-12 13:59:52,832 Model restored from file: ./trained_3layers_feature32_epoch100/model.ckpt\n"
     ]
    },
    {
     "name": "stdout",
     "output_type": "stream",
     "text": [
      "Number of files used: 1\n",
      "Number of channels: 1\n",
      "Number of classes: 2\n",
      "Number of files used: 1\n",
      "Number of channels: 1\n",
      "Number of classes: 2\n",
      "Number of files used: 1\n",
      "Number of channels: 1\n",
      "Number of classes: 2\n",
      "Number of files used: 1\n",
      "Number of channels: 1\n",
      "Number of classes: 2\n",
      "Number of files used: 1\n",
      "Number of channels: 1\n",
      "Number of classes: 2\n",
      "Number of files used: 1\n",
      "Number of channels: 1\n",
      "Number of classes: 2\n",
      "Number of files used: 1\n",
      "Number of channels: 1\n",
      "Number of classes: 2\n",
      "Number of files used: 1\n",
      "Number of channels: 1\n",
      "Number of classes: 2\n",
      "INFO:tensorflow:Restoring parameters from ./trained_3layers_feature32_epoch100/model.ckpt\n"
     ]
    },
    {
     "name": "stderr",
     "output_type": "stream",
     "text": [
      "2019-05-12 13:59:58,068 Restoring parameters from ./trained_3layers_feature32_epoch100/model.ckpt\n",
      "2019-05-12 13:59:59,539 Model restored from file: ./trained_3layers_feature32_epoch100/model.ckpt\n"
     ]
    },
    {
     "name": "stdout",
     "output_type": "stream",
     "text": [
      "Number of files used: 1\n",
      "Number of channels: 1\n",
      "Number of classes: 2\n",
      "INFO:tensorflow:Restoring parameters from ./trained_3layers_feature32_epoch100/model.ckpt\n"
     ]
    },
    {
     "name": "stderr",
     "output_type": "stream",
     "text": [
      "2019-05-12 14:00:04,554 Restoring parameters from ./trained_3layers_feature32_epoch100/model.ckpt\n",
      "2019-05-12 14:00:06,035 Model restored from file: ./trained_3layers_feature32_epoch100/model.ckpt\n"
     ]
    },
    {
     "name": "stdout",
     "output_type": "stream",
     "text": [
      "Number of files used: 1\n",
      "Number of channels: 1\n",
      "Number of classes: 2\n",
      "INFO:tensorflow:Restoring parameters from ./trained_3layers_feature32_epoch100/model.ckpt\n"
     ]
    },
    {
     "name": "stderr",
     "output_type": "stream",
     "text": [
      "2019-05-12 14:00:11,108 Restoring parameters from ./trained_3layers_feature32_epoch100/model.ckpt\n",
      "2019-05-12 14:00:12,611 Model restored from file: ./trained_3layers_feature32_epoch100/model.ckpt\n"
     ]
    },
    {
     "name": "stdout",
     "output_type": "stream",
     "text": [
      "Number of files used: 1\n",
      "Number of channels: 1\n",
      "Number of classes: 2\n",
      "INFO:tensorflow:Restoring parameters from ./trained_3layers_feature32_epoch100/model.ckpt\n"
     ]
    },
    {
     "name": "stderr",
     "output_type": "stream",
     "text": [
      "2019-05-12 14:00:17,673 Restoring parameters from ./trained_3layers_feature32_epoch100/model.ckpt\n",
      "2019-05-12 14:00:19,171 Model restored from file: ./trained_3layers_feature32_epoch100/model.ckpt\n"
     ]
    },
    {
     "name": "stdout",
     "output_type": "stream",
     "text": [
      "Number of files used: 1\n",
      "Number of channels: 1\n",
      "Number of classes: 2\n",
      "INFO:tensorflow:Restoring parameters from ./trained_3layers_feature32_epoch100/model.ckpt\n"
     ]
    },
    {
     "name": "stderr",
     "output_type": "stream",
     "text": [
      "2019-05-12 14:00:24,221 Restoring parameters from ./trained_3layers_feature32_epoch100/model.ckpt\n",
      "2019-05-12 14:00:25,722 Model restored from file: ./trained_3layers_feature32_epoch100/model.ckpt\n"
     ]
    },
    {
     "name": "stdout",
     "output_type": "stream",
     "text": [
      "Number of files used: 1\n",
      "Number of channels: 1\n",
      "Number of classes: 2\n",
      "INFO:tensorflow:Restoring parameters from ./trained_3layers_feature32_epoch100/model.ckpt\n"
     ]
    },
    {
     "name": "stderr",
     "output_type": "stream",
     "text": [
      "2019-05-12 14:00:30,800 Restoring parameters from ./trained_3layers_feature32_epoch100/model.ckpt\n",
      "2019-05-12 14:00:32,336 Model restored from file: ./trained_3layers_feature32_epoch100/model.ckpt\n"
     ]
    },
    {
     "name": "stdout",
     "output_type": "stream",
     "text": [
      "Number of files used: 1\n",
      "Number of channels: 1\n",
      "Number of classes: 2\n",
      "INFO:tensorflow:Restoring parameters from ./trained_3layers_feature32_epoch100/model.ckpt\n"
     ]
    },
    {
     "name": "stderr",
     "output_type": "stream",
     "text": [
      "2019-05-12 14:00:37,474 Restoring parameters from ./trained_3layers_feature32_epoch100/model.ckpt\n",
      "2019-05-12 14:00:38,981 Model restored from file: ./trained_3layers_feature32_epoch100/model.ckpt\n"
     ]
    },
    {
     "name": "stdout",
     "output_type": "stream",
     "text": [
      "Number of files used: 1\n",
      "Number of channels: 1\n",
      "Number of classes: 2\n",
      "INFO:tensorflow:Restoring parameters from ./trained_3layers_feature32_epoch100/model.ckpt\n"
     ]
    },
    {
     "name": "stderr",
     "output_type": "stream",
     "text": [
      "2019-05-12 14:00:44,140 Restoring parameters from ./trained_3layers_feature32_epoch100/model.ckpt\n",
      "2019-05-12 14:00:45,647 Model restored from file: ./trained_3layers_feature32_epoch100/model.ckpt\n"
     ]
    },
    {
     "name": "stdout",
     "output_type": "stream",
     "text": [
      "Number of files used: 1\n",
      "Number of channels: 1\n",
      "Number of classes: 2\n",
      "INFO:tensorflow:Restoring parameters from ./trained_3layers_feature32_epoch100/model.ckpt\n"
     ]
    },
    {
     "name": "stderr",
     "output_type": "stream",
     "text": [
      "2019-05-12 14:00:50,821 Restoring parameters from ./trained_3layers_feature32_epoch100/model.ckpt\n",
      "2019-05-12 14:00:52,364 Model restored from file: ./trained_3layers_feature32_epoch100/model.ckpt\n"
     ]
    },
    {
     "name": "stdout",
     "output_type": "stream",
     "text": [
      "Number of files used: 1\n",
      "Number of channels: 1\n",
      "Number of classes: 2\n",
      "INFO:tensorflow:Restoring parameters from ./trained_3layers_feature32_epoch100/model.ckpt\n"
     ]
    },
    {
     "name": "stderr",
     "output_type": "stream",
     "text": [
      "2019-05-12 14:00:57,487 Restoring parameters from ./trained_3layers_feature32_epoch100/model.ckpt\n",
      "2019-05-12 14:00:59,021 Model restored from file: ./trained_3layers_feature32_epoch100/model.ckpt\n"
     ]
    },
    {
     "name": "stdout",
     "output_type": "stream",
     "text": [
      "Number of files used: 1\n",
      "Number of channels: 1\n",
      "Number of classes: 2\n",
      "INFO:tensorflow:Restoring parameters from ./trained_3layers_feature32_epoch100/model.ckpt\n"
     ]
    },
    {
     "name": "stderr",
     "output_type": "stream",
     "text": [
      "2019-05-12 14:01:04,149 Restoring parameters from ./trained_3layers_feature32_epoch100/model.ckpt\n",
      "2019-05-12 14:01:05,664 Model restored from file: ./trained_3layers_feature32_epoch100/model.ckpt\n"
     ]
    },
    {
     "name": "stdout",
     "output_type": "stream",
     "text": [
      "Number of files used: 1\n",
      "Number of channels: 1\n",
      "Number of classes: 2\n",
      "INFO:tensorflow:Restoring parameters from ./trained_3layers_feature32_epoch100/model.ckpt\n"
     ]
    },
    {
     "name": "stderr",
     "output_type": "stream",
     "text": [
      "2019-05-12 14:01:10,790 Restoring parameters from ./trained_3layers_feature32_epoch100/model.ckpt\n",
      "2019-05-12 14:01:12,320 Model restored from file: ./trained_3layers_feature32_epoch100/model.ckpt\n"
     ]
    },
    {
     "name": "stdout",
     "output_type": "stream",
     "text": [
      "Number of files used: 1\n",
      "Number of channels: 1\n",
      "Number of classes: 2\n",
      "INFO:tensorflow:Restoring parameters from ./trained_3layers_feature32_epoch100/model.ckpt\n"
     ]
    },
    {
     "name": "stderr",
     "output_type": "stream",
     "text": [
      "2019-05-12 14:01:17,497 Restoring parameters from ./trained_3layers_feature32_epoch100/model.ckpt\n",
      "2019-05-12 14:01:19,041 Model restored from file: ./trained_3layers_feature32_epoch100/model.ckpt\n"
     ]
    },
    {
     "name": "stdout",
     "output_type": "stream",
     "text": [
      "Number of files used: 1\n",
      "Number of channels: 1\n",
      "Number of classes: 2\n",
      "Number of files used: 1\n",
      "Number of channels: 1\n",
      "Number of classes: 2\n",
      "Number of files used: 1\n",
      "Number of channels: 1\n",
      "Number of classes: 2\n",
      "Number of files used: 1\n",
      "Number of channels: 1\n",
      "Number of classes: 2\n",
      "Number of files used: 1\n",
      "Number of channels: 1\n",
      "Number of classes: 2\n",
      "Number of files used: 1\n",
      "Number of channels: 1\n",
      "Number of classes: 2\n",
      "Number of files used: 1\n",
      "Number of channels: 1\n",
      "Number of classes: 2\n",
      "Number of files used: 1\n",
      "Number of channels: 1\n",
      "Number of classes: 2\n",
      "Number of files used: 1\n",
      "Number of channels: 1\n",
      "Number of classes: 2\n",
      "Number of files used: 1\n",
      "Number of channels: 1\n",
      "Number of classes: 2\n",
      "Number of files used: 1\n",
      "Number of channels: 1\n",
      "Number of classes: 2\n",
      "Number of files used: 1\n",
      "Number of channels: 1\n",
      "Number of classes: 2\n",
      "Number of files used: 1\n",
      "Number of channels: 1\n",
      "Number of classes: 2\n",
      "Number of files used: 1\n",
      "Number of channels: 1\n",
      "Number of classes: 2\n",
      "Number of files used: 1\n",
      "Number of channels: 1\n",
      "Number of classes: 2\n",
      "Number of files used: 1\n",
      "Number of channels: 1\n",
      "Number of classes: 2\n",
      "Number of files used: 1\n",
      "Number of channels: 1\n",
      "Number of classes: 2\n",
      "Number of files used: 1\n",
      "Number of channels: 1\n",
      "Number of classes: 2\n",
      "INFO:tensorflow:Restoring parameters from ./trained_3layers_feature32_epoch100/model.ckpt\n"
     ]
    },
    {
     "name": "stderr",
     "output_type": "stream",
     "text": [
      "2019-05-12 14:01:24,566 Restoring parameters from ./trained_3layers_feature32_epoch100/model.ckpt\n",
      "2019-05-12 14:01:26,147 Model restored from file: ./trained_3layers_feature32_epoch100/model.ckpt\n"
     ]
    },
    {
     "name": "stdout",
     "output_type": "stream",
     "text": [
      "Number of files used: 1\n",
      "Number of channels: 1\n",
      "Number of classes: 2\n",
      "INFO:tensorflow:Restoring parameters from ./trained_3layers_feature32_epoch100/model.ckpt\n"
     ]
    },
    {
     "name": "stderr",
     "output_type": "stream",
     "text": [
      "2019-05-12 14:01:31,280 Restoring parameters from ./trained_3layers_feature32_epoch100/model.ckpt\n",
      "2019-05-12 14:01:32,829 Model restored from file: ./trained_3layers_feature32_epoch100/model.ckpt\n"
     ]
    },
    {
     "name": "stdout",
     "output_type": "stream",
     "text": [
      "Number of files used: 1\n",
      "Number of channels: 1\n",
      "Number of classes: 2\n",
      "INFO:tensorflow:Restoring parameters from ./trained_3layers_feature32_epoch100/model.ckpt\n"
     ]
    },
    {
     "name": "stderr",
     "output_type": "stream",
     "text": [
      "2019-05-12 14:01:38,028 Restoring parameters from ./trained_3layers_feature32_epoch100/model.ckpt\n",
      "2019-05-12 14:01:39,579 Model restored from file: ./trained_3layers_feature32_epoch100/model.ckpt\n"
     ]
    },
    {
     "name": "stdout",
     "output_type": "stream",
     "text": [
      "Number of files used: 1\n",
      "Number of channels: 1\n",
      "Number of classes: 2\n",
      "INFO:tensorflow:Restoring parameters from ./trained_3layers_feature32_epoch100/model.ckpt\n"
     ]
    },
    {
     "name": "stderr",
     "output_type": "stream",
     "text": [
      "2019-05-12 14:01:44,745 Restoring parameters from ./trained_3layers_feature32_epoch100/model.ckpt\n",
      "2019-05-12 14:01:46,308 Model restored from file: ./trained_3layers_feature32_epoch100/model.ckpt\n"
     ]
    },
    {
     "name": "stdout",
     "output_type": "stream",
     "text": [
      "Number of files used: 1\n",
      "Number of channels: 1\n",
      "Number of classes: 2\n",
      "INFO:tensorflow:Restoring parameters from ./trained_3layers_feature32_epoch100/model.ckpt\n"
     ]
    },
    {
     "name": "stderr",
     "output_type": "stream",
     "text": [
      "2019-05-12 14:01:51,568 Restoring parameters from ./trained_3layers_feature32_epoch100/model.ckpt\n",
      "2019-05-12 14:01:53,144 Model restored from file: ./trained_3layers_feature32_epoch100/model.ckpt\n"
     ]
    },
    {
     "name": "stdout",
     "output_type": "stream",
     "text": [
      "Number of files used: 1\n",
      "Number of channels: 1\n",
      "Number of classes: 2\n",
      "INFO:tensorflow:Restoring parameters from ./trained_3layers_feature32_epoch100/model.ckpt\n"
     ]
    },
    {
     "name": "stderr",
     "output_type": "stream",
     "text": [
      "2019-05-12 14:01:58,371 Restoring parameters from ./trained_3layers_feature32_epoch100/model.ckpt\n",
      "2019-05-12 14:01:59,960 Model restored from file: ./trained_3layers_feature32_epoch100/model.ckpt\n"
     ]
    },
    {
     "name": "stdout",
     "output_type": "stream",
     "text": [
      "Number of files used: 1\n",
      "Number of channels: 1\n",
      "Number of classes: 2\n",
      "Number of files used: 1\n",
      "Number of channels: 1\n",
      "Number of classes: 2\n",
      "Number of files used: 1\n",
      "Number of channels: 1\n",
      "Number of classes: 2\n",
      "Number of files used: 1\n",
      "Number of channels: 1\n",
      "Number of classes: 2\n",
      "Number of files used: 1\n",
      "Number of channels: 1\n",
      "Number of classes: 2\n",
      "Number of files used: 1\n",
      "Number of channels: 1\n",
      "Number of classes: 2\n",
      "Number of files used: 1\n",
      "Number of channels: 1\n",
      "Number of classes: 2\n",
      "Number of files used: 1\n",
      "Number of channels: 1\n",
      "Number of classes: 2\n",
      "INFO:tensorflow:Restoring parameters from ./trained_3layers_feature32_epoch100/model.ckpt\n"
     ]
    },
    {
     "name": "stderr",
     "output_type": "stream",
     "text": [
      "2019-05-12 14:02:05,312 Restoring parameters from ./trained_3layers_feature32_epoch100/model.ckpt\n",
      "2019-05-12 14:02:06,910 Model restored from file: ./trained_3layers_feature32_epoch100/model.ckpt\n"
     ]
    },
    {
     "name": "stdout",
     "output_type": "stream",
     "text": [
      "Number of files used: 1\n",
      "Number of channels: 1\n",
      "Number of classes: 2\n",
      "Number of files used: 1\n",
      "Number of channels: 1\n",
      "Number of classes: 2\n",
      "Number of files used: 1\n",
      "Number of channels: 1\n",
      "Number of classes: 2\n",
      "INFO:tensorflow:Restoring parameters from ./trained_3layers_feature32_epoch100/model.ckpt\n"
     ]
    },
    {
     "name": "stderr",
     "output_type": "stream",
     "text": [
      "2019-05-12 14:02:12,194 Restoring parameters from ./trained_3layers_feature32_epoch100/model.ckpt\n",
      "2019-05-12 14:02:13,794 Model restored from file: ./trained_3layers_feature32_epoch100/model.ckpt\n"
     ]
    },
    {
     "name": "stdout",
     "output_type": "stream",
     "text": [
      "Number of files used: 1\n",
      "Number of channels: 1\n",
      "Number of classes: 2\n",
      "INFO:tensorflow:Restoring parameters from ./trained_3layers_feature32_epoch100/model.ckpt\n"
     ]
    },
    {
     "name": "stderr",
     "output_type": "stream",
     "text": [
      "2019-05-12 14:02:19,018 Restoring parameters from ./trained_3layers_feature32_epoch100/model.ckpt\n",
      "2019-05-12 14:02:20,610 Model restored from file: ./trained_3layers_feature32_epoch100/model.ckpt\n"
     ]
    },
    {
     "name": "stdout",
     "output_type": "stream",
     "text": [
      "Number of files used: 1\n",
      "Number of channels: 1\n",
      "Number of classes: 2\n",
      "INFO:tensorflow:Restoring parameters from ./trained_3layers_feature32_epoch100/model.ckpt\n"
     ]
    },
    {
     "name": "stderr",
     "output_type": "stream",
     "text": [
      "2019-05-12 14:02:25,815 Restoring parameters from ./trained_3layers_feature32_epoch100/model.ckpt\n",
      "2019-05-12 14:02:27,410 Model restored from file: ./trained_3layers_feature32_epoch100/model.ckpt\n"
     ]
    },
    {
     "name": "stdout",
     "output_type": "stream",
     "text": [
      "Number of files used: 1\n",
      "Number of channels: 1\n",
      "Number of classes: 2\n",
      "Number of files used: 1\n",
      "Number of channels: 1\n",
      "Number of classes: 2\n",
      "INFO:tensorflow:Restoring parameters from ./trained_3layers_feature32_epoch100/model.ckpt\n"
     ]
    },
    {
     "name": "stderr",
     "output_type": "stream",
     "text": [
      "2019-05-12 14:02:32,650 Restoring parameters from ./trained_3layers_feature32_epoch100/model.ckpt\n",
      "2019-05-12 14:02:34,265 Model restored from file: ./trained_3layers_feature32_epoch100/model.ckpt\n"
     ]
    },
    {
     "name": "stdout",
     "output_type": "stream",
     "text": [
      "Number of files used: 1\n",
      "Number of channels: 1\n",
      "Number of classes: 2\n",
      "INFO:tensorflow:Restoring parameters from ./trained_3layers_feature32_epoch100/model.ckpt\n"
     ]
    },
    {
     "name": "stderr",
     "output_type": "stream",
     "text": [
      "2019-05-12 14:02:39,506 Restoring parameters from ./trained_3layers_feature32_epoch100/model.ckpt\n",
      "2019-05-12 14:02:41,121 Model restored from file: ./trained_3layers_feature32_epoch100/model.ckpt\n"
     ]
    },
    {
     "name": "stdout",
     "output_type": "stream",
     "text": [
      "Number of files used: 1\n",
      "Number of channels: 1\n",
      "Number of classes: 2\n",
      "INFO:tensorflow:Restoring parameters from ./trained_3layers_feature32_epoch100/model.ckpt\n"
     ]
    },
    {
     "name": "stderr",
     "output_type": "stream",
     "text": [
      "2019-05-12 14:02:46,340 Restoring parameters from ./trained_3layers_feature32_epoch100/model.ckpt\n",
      "2019-05-12 14:02:48,036 Model restored from file: ./trained_3layers_feature32_epoch100/model.ckpt\n"
     ]
    },
    {
     "name": "stdout",
     "output_type": "stream",
     "text": [
      "Number of files used: 1\n",
      "Number of channels: 1\n",
      "Number of classes: 2\n",
      "INFO:tensorflow:Restoring parameters from ./trained_3layers_feature32_epoch100/model.ckpt\n"
     ]
    },
    {
     "name": "stderr",
     "output_type": "stream",
     "text": [
      "2019-05-12 14:02:53,351 Restoring parameters from ./trained_3layers_feature32_epoch100/model.ckpt\n",
      "2019-05-12 14:02:54,969 Model restored from file: ./trained_3layers_feature32_epoch100/model.ckpt\n"
     ]
    },
    {
     "name": "stdout",
     "output_type": "stream",
     "text": [
      "Number of files used: 1\n",
      "Number of channels: 1\n",
      "Number of classes: 2\n",
      "INFO:tensorflow:Restoring parameters from ./trained_3layers_feature32_epoch100/model.ckpt\n"
     ]
    },
    {
     "name": "stderr",
     "output_type": "stream",
     "text": [
      "2019-05-12 14:03:00,236 Restoring parameters from ./trained_3layers_feature32_epoch100/model.ckpt\n",
      "2019-05-12 14:03:01,856 Model restored from file: ./trained_3layers_feature32_epoch100/model.ckpt\n"
     ]
    },
    {
     "name": "stdout",
     "output_type": "stream",
     "text": [
      "Number of files used: 1\n",
      "Number of channels: 1\n",
      "Number of classes: 2\n",
      "INFO:tensorflow:Restoring parameters from ./trained_3layers_feature32_epoch100/model.ckpt\n"
     ]
    },
    {
     "name": "stderr",
     "output_type": "stream",
     "text": [
      "2019-05-12 14:03:07,109 Restoring parameters from ./trained_3layers_feature32_epoch100/model.ckpt\n",
      "2019-05-12 14:03:08,760 Model restored from file: ./trained_3layers_feature32_epoch100/model.ckpt\n"
     ]
    },
    {
     "name": "stdout",
     "output_type": "stream",
     "text": [
      "Number of files used: 1\n",
      "Number of channels: 1\n",
      "Number of classes: 2\n",
      "INFO:tensorflow:Restoring parameters from ./trained_3layers_feature32_epoch100/model.ckpt\n"
     ]
    },
    {
     "name": "stderr",
     "output_type": "stream",
     "text": [
      "2019-05-12 14:03:14,041 Restoring parameters from ./trained_3layers_feature32_epoch100/model.ckpt\n",
      "2019-05-12 14:03:15,676 Model restored from file: ./trained_3layers_feature32_epoch100/model.ckpt\n"
     ]
    },
    {
     "name": "stdout",
     "output_type": "stream",
     "text": [
      "Number of files used: 1\n",
      "Number of channels: 1\n",
      "Number of classes: 2\n",
      "Number of files used: 1\n",
      "Number of channels: 1\n",
      "Number of classes: 2\n",
      "Number of files used: 1\n",
      "Number of channels: 1\n",
      "Number of classes: 2\n",
      "Number of files used: 1\n",
      "Number of channels: 1\n",
      "Number of classes: 2\n",
      "Number of files used: 1\n",
      "Number of channels: 1\n",
      "Number of classes: 2\n",
      "Number of files used: 1\n",
      "Number of channels: 1\n",
      "Number of classes: 2\n",
      "Number of files used: 1\n",
      "Number of channels: 1\n",
      "Number of classes: 2\n",
      "Number of files used: 1\n",
      "Number of channels: 1\n",
      "Number of classes: 2\n",
      "Number of files used: 1\n",
      "Number of channels: 1\n",
      "Number of classes: 2\n",
      "Number of files used: 1\n",
      "Number of channels: 1\n",
      "Number of classes: 2\n",
      "Number of files used: 1\n",
      "Number of channels: 1\n",
      "Number of classes: 2\n",
      "Number of files used: 1\n",
      "Number of channels: 1\n",
      "Number of classes: 2\n",
      "Number of files used: 1\n",
      "Number of channels: 1\n",
      "Number of classes: 2\n",
      "Number of files used: 1\n",
      "Number of channels: 1\n",
      "Number of classes: 2\n",
      "Number of files used: 1\n",
      "Number of channels: 1\n",
      "Number of classes: 2\n",
      "Number of files used: 1\n",
      "Number of channels: 1\n",
      "Number of classes: 2\n",
      "Number of files used: 1\n",
      "Number of channels: 1\n",
      "Number of classes: 2\n",
      "Number of files used: 1\n",
      "Number of channels: 1\n",
      "Number of classes: 2\n",
      "Number of files used: 1\n",
      "Number of channels: 1\n",
      "Number of classes: 2\n",
      "Number of files used: 1\n",
      "Number of channels: 1\n",
      "Number of classes: 2\n",
      "Number of files used: 1\n",
      "Number of channels: 1\n",
      "Number of classes: 2\n",
      "Number of files used: 1\n",
      "Number of channels: 1\n",
      "Number of classes: 2\n",
      "Number of files used: 1\n",
      "Number of channels: 1\n",
      "Number of classes: 2\n",
      "Number of files used: 1\n",
      "Number of channels: 1\n",
      "Number of classes: 2\n",
      "Number of files used: 1\n",
      "Number of channels: 1\n",
      "Number of classes: 2\n",
      "Number of files used: 1\n",
      "Number of channels: 1\n",
      "Number of classes: 2\n",
      "Number of files used: 1\n",
      "Number of channels: 1\n",
      "Number of classes: 2\n",
      "Number of files used: 1\n",
      "Number of channels: 1\n",
      "Number of classes: 2\n",
      "INFO:tensorflow:Restoring parameters from ./trained_3layers_feature32_epoch100/model.ckpt\n"
     ]
    },
    {
     "name": "stderr",
     "output_type": "stream",
     "text": [
      "2019-05-12 14:03:21,567 Restoring parameters from ./trained_3layers_feature32_epoch100/model.ckpt\n",
      "2019-05-12 14:03:23,195 Model restored from file: ./trained_3layers_feature32_epoch100/model.ckpt\n"
     ]
    },
    {
     "name": "stdout",
     "output_type": "stream",
     "text": [
      "Number of files used: 1\n",
      "Number of channels: 1\n",
      "Number of classes: 2\n",
      "INFO:tensorflow:Restoring parameters from ./trained_3layers_feature32_epoch100/model.ckpt\n"
     ]
    },
    {
     "name": "stderr",
     "output_type": "stream",
     "text": [
      "2019-05-12 14:03:28,486 Restoring parameters from ./trained_3layers_feature32_epoch100/model.ckpt\n",
      "2019-05-12 14:03:30,122 Model restored from file: ./trained_3layers_feature32_epoch100/model.ckpt\n"
     ]
    },
    {
     "name": "stdout",
     "output_type": "stream",
     "text": [
      "Number of files used: 1\n",
      "Number of channels: 1\n",
      "Number of classes: 2\n",
      "INFO:tensorflow:Restoring parameters from ./trained_3layers_feature32_epoch100/model.ckpt\n"
     ]
    },
    {
     "name": "stderr",
     "output_type": "stream",
     "text": [
      "2019-05-12 14:03:35,390 Restoring parameters from ./trained_3layers_feature32_epoch100/model.ckpt\n",
      "2019-05-12 14:03:37,029 Model restored from file: ./trained_3layers_feature32_epoch100/model.ckpt\n"
     ]
    },
    {
     "name": "stdout",
     "output_type": "stream",
     "text": [
      "Number of files used: 1\n",
      "Number of channels: 1\n",
      "Number of classes: 2\n",
      "INFO:tensorflow:Restoring parameters from ./trained_3layers_feature32_epoch100/model.ckpt\n"
     ]
    },
    {
     "name": "stderr",
     "output_type": "stream",
     "text": [
      "2019-05-12 14:03:42,302 Restoring parameters from ./trained_3layers_feature32_epoch100/model.ckpt\n",
      "2019-05-12 14:03:43,975 Model restored from file: ./trained_3layers_feature32_epoch100/model.ckpt\n"
     ]
    },
    {
     "name": "stdout",
     "output_type": "stream",
     "text": [
      "Number of files used: 1\n",
      "Number of channels: 1\n",
      "Number of classes: 2\n",
      "INFO:tensorflow:Restoring parameters from ./trained_3layers_feature32_epoch100/model.ckpt\n"
     ]
    },
    {
     "name": "stderr",
     "output_type": "stream",
     "text": [
      "2019-05-12 14:03:49,283 Restoring parameters from ./trained_3layers_feature32_epoch100/model.ckpt\n",
      "2019-05-12 14:03:50,940 Model restored from file: ./trained_3layers_feature32_epoch100/model.ckpt\n"
     ]
    },
    {
     "name": "stdout",
     "output_type": "stream",
     "text": [
      "Number of files used: 1\n",
      "Number of channels: 1\n",
      "Number of classes: 2\n",
      "INFO:tensorflow:Restoring parameters from ./trained_3layers_feature32_epoch100/model.ckpt\n"
     ]
    },
    {
     "name": "stderr",
     "output_type": "stream",
     "text": [
      "2019-05-12 14:03:56,293 Restoring parameters from ./trained_3layers_feature32_epoch100/model.ckpt\n",
      "2019-05-12 14:03:57,937 Model restored from file: ./trained_3layers_feature32_epoch100/model.ckpt\n"
     ]
    },
    {
     "name": "stdout",
     "output_type": "stream",
     "text": [
      "Number of files used: 1\n",
      "Number of channels: 1\n",
      "Number of classes: 2\n",
      "Number of files used: 1\n",
      "Number of channels: 1\n",
      "Number of classes: 2\n",
      "Number of files used: 1\n",
      "Number of channels: 1\n",
      "Number of classes: 2\n",
      "Number of files used: 1\n",
      "Number of channels: 1\n",
      "Number of classes: 2\n",
      "Number of files used: 1\n",
      "Number of channels: 1\n",
      "Number of classes: 2\n",
      "Number of files used: 1\n",
      "Number of channels: 1\n",
      "Number of classes: 2\n",
      "Number of files used: 1\n",
      "Number of channels: 1\n",
      "Number of classes: 2\n",
      "INFO:tensorflow:Restoring parameters from ./trained_3layers_feature32_epoch100/model.ckpt\n"
     ]
    },
    {
     "name": "stderr",
     "output_type": "stream",
     "text": [
      "2019-05-12 14:04:03,378 Restoring parameters from ./trained_3layers_feature32_epoch100/model.ckpt\n",
      "2019-05-12 14:04:05,057 Model restored from file: ./trained_3layers_feature32_epoch100/model.ckpt\n"
     ]
    },
    {
     "name": "stdout",
     "output_type": "stream",
     "text": [
      "Number of files used: 1\n",
      "Number of channels: 1\n",
      "Number of classes: 2\n",
      "INFO:tensorflow:Restoring parameters from ./trained_3layers_feature32_epoch100/model.ckpt\n"
     ]
    },
    {
     "name": "stderr",
     "output_type": "stream",
     "text": [
      "2019-05-12 14:04:10,344 Restoring parameters from ./trained_3layers_feature32_epoch100/model.ckpt\n",
      "2019-05-12 14:04:12,010 Model restored from file: ./trained_3layers_feature32_epoch100/model.ckpt\n"
     ]
    },
    {
     "name": "stdout",
     "output_type": "stream",
     "text": [
      "Number of files used: 1\n",
      "Number of channels: 1\n",
      "Number of classes: 2\n",
      "INFO:tensorflow:Restoring parameters from ./trained_3layers_feature32_epoch100/model.ckpt\n"
     ]
    },
    {
     "name": "stderr",
     "output_type": "stream",
     "text": [
      "2019-05-12 14:04:17,347 Restoring parameters from ./trained_3layers_feature32_epoch100/model.ckpt\n",
      "2019-05-12 14:04:19,050 Model restored from file: ./trained_3layers_feature32_epoch100/model.ckpt\n"
     ]
    },
    {
     "name": "stdout",
     "output_type": "stream",
     "text": [
      "Number of files used: 1\n",
      "Number of channels: 1\n",
      "Number of classes: 2\n",
      "Number of files used: 1\n",
      "Number of channels: 1\n",
      "Number of classes: 2\n",
      "Number of files used: 1\n",
      "Number of channels: 1\n",
      "Number of classes: 2\n",
      "Number of files used: 1\n",
      "Number of channels: 1\n",
      "Number of classes: 2\n",
      "Number of files used: 1\n",
      "Number of channels: 1\n",
      "Number of classes: 2\n",
      "Number of files used: 1\n",
      "Number of channels: 1\n",
      "Number of classes: 2\n",
      "Number of files used: 1\n",
      "Number of channels: 1\n",
      "Number of classes: 2\n",
      "Number of files used: 1\n",
      "Number of channels: 1\n",
      "Number of classes: 2\n",
      "Number of files used: 1\n",
      "Number of channels: 1\n",
      "Number of classes: 2\n",
      "Number of files used: 1\n",
      "Number of channels: 1\n",
      "Number of classes: 2\n",
      "Number of files used: 1\n",
      "Number of channels: 1\n",
      "Number of classes: 2\n",
      "Number of files used: 1\n",
      "Number of channels: 1\n",
      "Number of classes: 2\n",
      "Number of files used: 1\n",
      "Number of channels: 1\n",
      "Number of classes: 2\n",
      "Number of files used: 1\n",
      "Number of channels: 1\n",
      "Number of classes: 2\n",
      "Number of files used: 1\n",
      "Number of channels: 1\n",
      "Number of classes: 2\n",
      "Number of files used: 1\n",
      "Number of channels: 1\n",
      "Number of classes: 2\n",
      "Number of files used: 1\n",
      "Number of channels: 1\n",
      "Number of classes: 2\n",
      "Number of files used: 1\n",
      "Number of channels: 1\n",
      "Number of classes: 2\n",
      "Number of files used: 1\n",
      "Number of channels: 1\n",
      "Number of classes: 2\n",
      "Number of files used: 1\n",
      "Number of channels: 1\n",
      "Number of classes: 2\n",
      "Number of files used: 1\n",
      "Number of channels: 1\n",
      "Number of classes: 2\n",
      "Number of files used: 1\n",
      "Number of channels: 1\n",
      "Number of classes: 2\n",
      "Number of files used: 1\n",
      "Number of channels: 1\n",
      "Number of classes: 2\n",
      "Number of files used: 1\n",
      "Number of channels: 1\n",
      "Number of classes: 2\n",
      "Number of files used: 1\n",
      "Number of channels: 1\n",
      "Number of classes: 2\n",
      "Number of files used: 1\n",
      "Number of channels: 1\n",
      "Number of classes: 2\n",
      "Number of files used: 1\n",
      "Number of channels: 1\n",
      "Number of classes: 2\n",
      "Number of files used: 1\n",
      "Number of channels: 1\n",
      "Number of classes: 2\n",
      "Number of files used: 1\n",
      "Number of channels: 1\n",
      "Number of classes: 2\n",
      "INFO:tensorflow:Restoring parameters from ./trained_3layers_feature32_epoch100/model.ckpt\n"
     ]
    },
    {
     "name": "stderr",
     "output_type": "stream",
     "text": [
      "2019-05-12 14:04:25,055 Restoring parameters from ./trained_3layers_feature32_epoch100/model.ckpt\n",
      "2019-05-12 14:04:26,729 Model restored from file: ./trained_3layers_feature32_epoch100/model.ckpt\n"
     ]
    },
    {
     "name": "stdout",
     "output_type": "stream",
     "text": [
      "Number of files used: 1\n",
      "Number of channels: 1\n",
      "Number of classes: 2\n",
      "INFO:tensorflow:Restoring parameters from ./trained_3layers_feature32_epoch100/model.ckpt\n"
     ]
    },
    {
     "name": "stderr",
     "output_type": "stream",
     "text": [
      "2019-05-12 14:04:32,110 Restoring parameters from ./trained_3layers_feature32_epoch100/model.ckpt\n",
      "2019-05-12 14:04:33,788 Model restored from file: ./trained_3layers_feature32_epoch100/model.ckpt\n"
     ]
    },
    {
     "name": "stdout",
     "output_type": "stream",
     "text": [
      "Number of files used: 1\n",
      "Number of channels: 1\n",
      "Number of classes: 2\n",
      "INFO:tensorflow:Restoring parameters from ./trained_3layers_feature32_epoch100/model.ckpt\n"
     ]
    },
    {
     "name": "stderr",
     "output_type": "stream",
     "text": [
      "2019-05-12 14:04:39,272 Restoring parameters from ./trained_3layers_feature32_epoch100/model.ckpt\n",
      "2019-05-12 14:04:40,965 Model restored from file: ./trained_3layers_feature32_epoch100/model.ckpt\n"
     ]
    },
    {
     "name": "stdout",
     "output_type": "stream",
     "text": [
      "Number of files used: 1\n",
      "Number of channels: 1\n",
      "Number of classes: 2\n",
      "INFO:tensorflow:Restoring parameters from ./trained_3layers_feature32_epoch100/model.ckpt\n"
     ]
    },
    {
     "name": "stderr",
     "output_type": "stream",
     "text": [
      "2019-05-12 14:04:46,293 Restoring parameters from ./trained_3layers_feature32_epoch100/model.ckpt\n",
      "2019-05-12 14:04:47,986 Model restored from file: ./trained_3layers_feature32_epoch100/model.ckpt\n"
     ]
    },
    {
     "name": "stdout",
     "output_type": "stream",
     "text": [
      "Number of files used: 1\n",
      "Number of channels: 1\n",
      "Number of classes: 2\n",
      "Number of files used: 1\n",
      "Number of channels: 1\n",
      "Number of classes: 2\n",
      "Number of files used: 1\n",
      "Number of channels: 1\n",
      "Number of classes: 2\n",
      "Number of files used: 1\n",
      "Number of channels: 1\n",
      "Number of classes: 2\n",
      "Number of files used: 1\n",
      "Number of channels: 1\n",
      "Number of classes: 2\n",
      "Number of files used: 1\n",
      "Number of channels: 1\n",
      "Number of classes: 2\n",
      "Number of files used: 1\n",
      "Number of channels: 1\n",
      "Number of classes: 2\n",
      "Number of files used: 1\n",
      "Number of channels: 1\n",
      "Number of classes: 2\n",
      "Number of files used: 1\n",
      "Number of channels: 1\n",
      "Number of classes: 2\n",
      "Number of files used: 1\n",
      "Number of channels: 1\n",
      "Number of classes: 2\n",
      "Number of files used: 1\n",
      "Number of channels: 1\n",
      "Number of classes: 2\n",
      "Number of files used: 1\n",
      "Number of channels: 1\n",
      "Number of classes: 2\n",
      "Number of files used: 1\n",
      "Number of channels: 1\n",
      "Number of classes: 2\n",
      "Number of files used: 1\n",
      "Number of channels: 1\n",
      "Number of classes: 2\n",
      "Number of files used: 1\n",
      "Number of channels: 1\n",
      "Number of classes: 2\n",
      "Number of files used: 1\n",
      "Number of channels: 1\n",
      "Number of classes: 2\n",
      "Number of files used: 1\n",
      "Number of channels: 1\n",
      "Number of classes: 2\n",
      "Number of files used: 1\n",
      "Number of channels: 1\n",
      "Number of classes: 2\n",
      "Number of files used: 1\n",
      "Number of channels: 1\n",
      "Number of classes: 2\n",
      "Number of files used: 1\n",
      "Number of channels: 1\n",
      "Number of classes: 2\n",
      "Number of files used: 1\n",
      "Number of channels: 1\n",
      "Number of classes: 2\n",
      "Number of files used: 1\n",
      "Number of channels: 1\n",
      "Number of classes: 2\n",
      "Number of files used: 1\n",
      "Number of channels: 1\n",
      "Number of classes: 2\n",
      "Number of files used: 1\n",
      "Number of channels: 1\n",
      "Number of classes: 2\n",
      "Number of files used: 1\n",
      "Number of channels: 1\n",
      "Number of classes: 2\n",
      "Number of files used: 1\n",
      "Number of channels: 1\n",
      "Number of classes: 2\n",
      "Number of files used: 1\n",
      "Number of channels: 1\n",
      "Number of classes: 2\n",
      "Number of files used: 1\n",
      "Number of channels: 1\n",
      "Number of classes: 2\n",
      "Number of files used: 1\n",
      "Number of channels: 1\n",
      "Number of classes: 2\n",
      "Number of files used: 1\n",
      "Number of channels: 1\n",
      "Number of classes: 2\n",
      "Number of files used: 1\n",
      "Number of channels: 1\n",
      "Number of classes: 2\n",
      "Number of files used: 1\n",
      "Number of channels: 1\n",
      "Number of classes: 2\n",
      "Number of files used: 1\n",
      "Number of channels: 1\n",
      "Number of classes: 2\n",
      "Number of files used: 1\n",
      "Number of channels: 1\n",
      "Number of classes: 2\n",
      "Number of files used: 1\n",
      "Number of channels: 1\n",
      "Number of classes: 2\n",
      "Number of files used: 1\n",
      "Number of channels: 1\n",
      "Number of classes: 2\n",
      "Number of files used: 1\n",
      "Number of channels: 1\n",
      "Number of classes: 2\n",
      "Number of files used: 1\n",
      "Number of channels: 1\n",
      "Number of classes: 2\n",
      "Number of files used: 1\n",
      "Number of channels: 1\n",
      "Number of classes: 2\n",
      "Number of files used: 1\n",
      "Number of channels: 1\n",
      "Number of classes: 2\n",
      "INFO:tensorflow:Restoring parameters from ./trained_3layers_feature32_epoch100/model.ckpt\n"
     ]
    },
    {
     "name": "stderr",
     "output_type": "stream",
     "text": [
      "2019-05-12 14:04:54,214 Restoring parameters from ./trained_3layers_feature32_epoch100/model.ckpt\n",
      "2019-05-12 14:04:55,946 Model restored from file: ./trained_3layers_feature32_epoch100/model.ckpt\n"
     ]
    },
    {
     "name": "stdout",
     "output_type": "stream",
     "text": [
      "Number of files used: 1\n",
      "Number of channels: 1\n",
      "Number of classes: 2\n",
      "INFO:tensorflow:Restoring parameters from ./trained_3layers_feature32_epoch100/model.ckpt\n"
     ]
    },
    {
     "name": "stderr",
     "output_type": "stream",
     "text": [
      "2019-05-12 14:05:01,377 Restoring parameters from ./trained_3layers_feature32_epoch100/model.ckpt\n",
      "2019-05-12 14:05:03,059 Model restored from file: ./trained_3layers_feature32_epoch100/model.ckpt\n"
     ]
    },
    {
     "name": "stdout",
     "output_type": "stream",
     "text": [
      "Number of files used: 1\n",
      "Number of channels: 1\n",
      "Number of classes: 2\n",
      "Number of files used: 1\n",
      "Number of channels: 1\n",
      "Number of classes: 2\n",
      "Number of files used: 1\n",
      "Number of channels: 1\n",
      "Number of classes: 2\n",
      "Number of files used: 1\n",
      "Number of channels: 1\n",
      "Number of classes: 2\n",
      "Number of files used: 1\n",
      "Number of channels: 1\n",
      "Number of classes: 2\n",
      "Number of files used: 1\n",
      "Number of channels: 1\n",
      "Number of classes: 2\n",
      "Number of files used: 1\n",
      "Number of channels: 1\n",
      "Number of classes: 2\n",
      "Number of files used: 1\n",
      "Number of channels: 1\n",
      "Number of classes: 2\n",
      "Number of files used: 1\n",
      "Number of channels: 1\n",
      "Number of classes: 2\n",
      "Number of files used: 1\n",
      "Number of channels: 1\n",
      "Number of classes: 2\n",
      "Number of files used: 1\n",
      "Number of channels: 1\n",
      "Number of classes: 2\n",
      "Number of files used: 1\n",
      "Number of channels: 1\n",
      "Number of classes: 2\n",
      "Number of files used: 1\n",
      "Number of channels: 1\n",
      "Number of classes: 2\n",
      "Number of files used: 1\n",
      "Number of channels: 1\n",
      "Number of classes: 2\n",
      "Number of files used: 1\n",
      "Number of channels: 1\n",
      "Number of classes: 2\n",
      "Number of files used: 1\n",
      "Number of channels: 1\n",
      "Number of classes: 2\n",
      "Number of files used: 1\n",
      "Number of channels: 1\n",
      "Number of classes: 2\n",
      "Number of files used: 1\n",
      "Number of channels: 1\n",
      "Number of classes: 2\n",
      "Number of files used: 1\n",
      "Number of channels: 1\n",
      "Number of classes: 2\n",
      "Number of files used: 1\n",
      "Number of channels: 1\n",
      "Number of classes: 2\n",
      "Number of files used: 1\n",
      "Number of channels: 1\n",
      "Number of classes: 2\n",
      "Number of files used: 1\n",
      "Number of channels: 1\n",
      "Number of classes: 2\n",
      "Number of files used: 1\n",
      "Number of channels: 1\n",
      "Number of classes: 2\n",
      "Number of files used: 1\n",
      "Number of channels: 1\n",
      "Number of classes: 2\n",
      "Number of files used: 1\n",
      "Number of channels: 1\n",
      "Number of classes: 2\n",
      "Number of files used: 1\n",
      "Number of channels: 1\n",
      "Number of classes: 2\n",
      "Number of files used: 1\n",
      "Number of channels: 1\n",
      "Number of classes: 2\n",
      "Number of files used: 1\n",
      "Number of channels: 1\n",
      "Number of classes: 2\n",
      "Number of files used: 1\n",
      "Number of channels: 1\n",
      "Number of classes: 2\n",
      "Number of files used: 1\n",
      "Number of channels: 1\n",
      "Number of classes: 2\n",
      "Number of files used: 1\n",
      "Number of channels: 1\n",
      "Number of classes: 2\n",
      "Number of files used: 1\n",
      "Number of channels: 1\n",
      "Number of classes: 2\n",
      "Number of files used: 1\n",
      "Number of channels: 1\n",
      "Number of classes: 2\n",
      "Number of files used: 1\n",
      "Number of channels: 1\n",
      "Number of classes: 2\n",
      "Number of files used: 1\n",
      "Number of channels: 1\n",
      "Number of classes: 2\n",
      "Number of files used: 1\n",
      "Number of channels: 1\n",
      "Number of classes: 2\n",
      "Number of files used: 1\n",
      "Number of channels: 1\n",
      "Number of classes: 2\n",
      "Number of files used: 1\n",
      "Number of channels: 1\n",
      "Number of classes: 2\n",
      "Number of files used: 1\n",
      "Number of channels: 1\n",
      "Number of classes: 2\n",
      "Number of files used: 1\n",
      "Number of channels: 1\n",
      "Number of classes: 2\n",
      "Number of files used: 1\n",
      "Number of channels: 1\n",
      "Number of classes: 2\n",
      "Number of files used: 1\n",
      "Number of channels: 1\n",
      "Number of classes: 2\n",
      "INFO:tensorflow:Restoring parameters from ./trained_3layers_feature32_epoch100/model.ckpt\n"
     ]
    },
    {
     "name": "stderr",
     "output_type": "stream",
     "text": [
      "2019-05-12 14:05:09,381 Restoring parameters from ./trained_3layers_feature32_epoch100/model.ckpt\n",
      "2019-05-12 14:05:11,098 Model restored from file: ./trained_3layers_feature32_epoch100/model.ckpt\n"
     ]
    },
    {
     "name": "stdout",
     "output_type": "stream",
     "text": [
      "Number of files used: 1\n",
      "Number of channels: 1\n",
      "Number of classes: 2\n",
      "Number of files used: 1\n",
      "Number of channels: 1\n",
      "Number of classes: 2\n",
      "Number of files used: 1\n",
      "Number of channels: 1\n",
      "Number of classes: 2\n",
      "Number of files used: 1\n",
      "Number of channels: 1\n",
      "Number of classes: 2\n",
      "Number of files used: 1\n",
      "Number of channels: 1\n",
      "Number of classes: 2\n",
      "Number of files used: 1\n",
      "Number of channels: 1\n",
      "Number of classes: 2\n",
      "Number of files used: 1\n",
      "Number of channels: 1\n",
      "Number of classes: 2\n",
      "Number of files used: 1\n",
      "Number of channels: 1\n",
      "Number of classes: 2\n",
      "Number of files used: 1\n",
      "Number of channels: 1\n",
      "Number of classes: 2\n",
      "Number of files used: 1\n",
      "Number of channels: 1\n",
      "Number of classes: 2\n",
      "Number of files used: 1\n",
      "Number of channels: 1\n",
      "Number of classes: 2\n",
      "Number of files used: 1\n",
      "Number of channels: 1\n",
      "Number of classes: 2\n",
      "Number of files used: 1\n",
      "Number of channels: 1\n",
      "Number of classes: 2\n",
      "INFO:tensorflow:Restoring parameters from ./trained_3layers_feature32_epoch100/model.ckpt\n"
     ]
    },
    {
     "name": "stderr",
     "output_type": "stream",
     "text": [
      "2019-05-12 14:05:16,759 Restoring parameters from ./trained_3layers_feature32_epoch100/model.ckpt\n",
      "2019-05-12 14:05:18,502 Model restored from file: ./trained_3layers_feature32_epoch100/model.ckpt\n"
     ]
    },
    {
     "name": "stdout",
     "output_type": "stream",
     "text": [
      "Number of files used: 1\n",
      "Number of channels: 1\n",
      "Number of classes: 2\n",
      "INFO:tensorflow:Restoring parameters from ./trained_3layers_feature32_epoch100/model.ckpt\n"
     ]
    },
    {
     "name": "stderr",
     "output_type": "stream",
     "text": [
      "2019-05-12 14:05:23,956 Restoring parameters from ./trained_3layers_feature32_epoch100/model.ckpt\n",
      "2019-05-12 14:05:25,712 Model restored from file: ./trained_3layers_feature32_epoch100/model.ckpt\n"
     ]
    },
    {
     "name": "stdout",
     "output_type": "stream",
     "text": [
      "Number of files used: 1\n",
      "Number of channels: 1\n",
      "Number of classes: 2\n",
      "Number of files used: 1\n",
      "Number of channels: 1\n",
      "Number of classes: 2\n",
      "Number of files used: 1\n",
      "Number of channels: 1\n",
      "Number of classes: 2\n",
      "Number of files used: 1\n",
      "Number of channels: 1\n",
      "Number of classes: 2\n",
      "Number of files used: 1\n",
      "Number of channels: 1\n",
      "Number of classes: 2\n",
      "Number of files used: 1\n",
      "Number of channels: 1\n",
      "Number of classes: 2\n",
      "Number of files used: 1\n",
      "Number of channels: 1\n",
      "Number of classes: 2\n",
      "Number of files used: 1\n",
      "Number of channels: 1\n",
      "Number of classes: 2\n",
      "Number of files used: 1\n",
      "Number of channels: 1\n",
      "Number of classes: 2\n",
      "Number of files used: 1\n",
      "Number of channels: 1\n",
      "Number of classes: 2\n",
      "Number of files used: 1\n",
      "Number of channels: 1\n",
      "Number of classes: 2\n",
      "Number of files used: 1\n",
      "Number of channels: 1\n",
      "Number of classes: 2\n",
      "Number of files used: 1\n",
      "Number of channels: 1\n",
      "Number of classes: 2\n",
      "Number of files used: 1\n",
      "Number of channels: 1\n",
      "Number of classes: 2\n",
      "Number of files used: 1\n",
      "Number of channels: 1\n",
      "Number of classes: 2\n",
      "Number of files used: 1\n",
      "Number of channels: 1\n",
      "Number of classes: 2\n",
      "Number of files used: 1\n",
      "Number of channels: 1\n",
      "Number of classes: 2\n",
      "Number of files used: 1\n",
      "Number of channels: 1\n",
      "Number of classes: 2\n",
      "Number of files used: 1\n",
      "Number of channels: 1\n",
      "Number of classes: 2\n",
      "Number of files used: 1\n",
      "Number of channels: 1\n",
      "Number of classes: 2\n",
      "Number of files used: 1\n",
      "Number of channels: 1\n",
      "Number of classes: 2\n",
      "Number of files used: 1\n",
      "Number of channels: 1\n",
      "Number of classes: 2\n",
      "Number of files used: 1\n",
      "Number of channels: 1\n",
      "Number of classes: 2\n",
      "Number of files used: 1\n",
      "Number of channels: 1\n",
      "Number of classes: 2\n",
      "Number of files used: 1\n",
      "Number of channels: 1\n",
      "Number of classes: 2\n",
      "Number of files used: 1\n",
      "Number of channels: 1\n",
      "Number of classes: 2\n",
      "Number of files used: 1\n",
      "Number of channels: 1\n",
      "Number of classes: 2\n",
      "Number of files used: 1\n",
      "Number of channels: 1\n",
      "Number of classes: 2\n",
      "Number of files used: 1\n",
      "Number of channels: 1\n",
      "Number of classes: 2\n",
      "Number of files used: 1\n",
      "Number of channels: 1\n",
      "Number of classes: 2\n",
      "Number of files used: 1\n",
      "Number of channels: 1\n",
      "Number of classes: 2\n",
      "Number of files used: 1\n",
      "Number of channels: 1\n",
      "Number of classes: 2\n",
      "Number of files used: 1\n",
      "Number of channels: 1\n",
      "Number of classes: 2\n",
      "Number of files used: 1\n",
      "Number of channels: 1\n",
      "Number of classes: 2\n",
      "Number of files used: 1\n",
      "Number of channels: 1\n",
      "Number of classes: 2\n",
      "Number of files used: 1\n",
      "Number of channels: 1\n",
      "Number of classes: 2\n",
      "Number of files used: 1\n",
      "Number of channels: 1\n",
      "Number of classes: 2\n",
      "Number of files used: 1\n",
      "Number of channels: 1\n",
      "Number of classes: 2\n",
      "Number of files used: 1\n",
      "Number of channels: 1\n",
      "Number of classes: 2\n",
      "Number of files used: 1\n",
      "Number of channels: 1\n",
      "Number of classes: 2\n",
      "Number of files used: 1\n",
      "Number of channels: 1\n",
      "Number of classes: 2\n",
      "Number of files used: 1\n",
      "Number of channels: 1\n",
      "Number of classes: 2\n",
      "INFO:tensorflow:Restoring parameters from ./trained_3layers_feature32_epoch100/model.ckpt\n"
     ]
    },
    {
     "name": "stderr",
     "output_type": "stream",
     "text": [
      "2019-05-12 14:05:32,078 Restoring parameters from ./trained_3layers_feature32_epoch100/model.ckpt\n",
      "2019-05-12 14:05:33,807 Model restored from file: ./trained_3layers_feature32_epoch100/model.ckpt\n"
     ]
    },
    {
     "name": "stdout",
     "output_type": "stream",
     "text": [
      "Number of files used: 1\n",
      "Number of channels: 1\n",
      "Number of classes: 2\n",
      "INFO:tensorflow:Restoring parameters from ./trained_3layers_feature32_epoch100/model.ckpt\n"
     ]
    },
    {
     "name": "stderr",
     "output_type": "stream",
     "text": [
      "2019-05-12 14:05:39,244 Restoring parameters from ./trained_3layers_feature32_epoch100/model.ckpt\n",
      "2019-05-12 14:05:41,070 Model restored from file: ./trained_3layers_feature32_epoch100/model.ckpt\n"
     ]
    },
    {
     "name": "stdout",
     "output_type": "stream",
     "text": [
      "Number of files used: 1\n",
      "Number of channels: 1\n",
      "Number of classes: 2\n",
      "INFO:tensorflow:Restoring parameters from ./trained_3layers_feature32_epoch100/model.ckpt\n"
     ]
    },
    {
     "name": "stderr",
     "output_type": "stream",
     "text": [
      "2019-05-12 14:05:46,864 Restoring parameters from ./trained_3layers_feature32_epoch100/model.ckpt\n",
      "2019-05-12 14:05:48,601 Model restored from file: ./trained_3layers_feature32_epoch100/model.ckpt\n"
     ]
    },
    {
     "name": "stdout",
     "output_type": "stream",
     "text": [
      "Number of files used: 1\n",
      "Number of channels: 1\n",
      "Number of classes: 2\n",
      "Number of files used: 1\n",
      "Number of channels: 1\n",
      "Number of classes: 2\n",
      "Number of files used: 1\n",
      "Number of channels: 1\n",
      "Number of classes: 2\n",
      "Number of files used: 1\n",
      "Number of channels: 1\n",
      "Number of classes: 2\n",
      "Number of files used: 1\n",
      "Number of channels: 1\n",
      "Number of classes: 2\n",
      "Number of files used: 1\n",
      "Number of channels: 1\n",
      "Number of classes: 2\n",
      "Number of files used: 1\n",
      "Number of channels: 1\n",
      "Number of classes: 2\n",
      "Number of files used: 1\n",
      "Number of channels: 1\n",
      "Number of classes: 2\n",
      "Number of files used: 1\n",
      "Number of channels: 1\n",
      "Number of classes: 2\n",
      "Number of files used: 1\n",
      "Number of channels: 1\n",
      "Number of classes: 2\n",
      "Number of files used: 1\n",
      "Number of channels: 1\n",
      "Number of classes: 2\n",
      "Number of files used: 1\n",
      "Number of channels: 1\n",
      "Number of classes: 2\n",
      "Number of files used: 1\n",
      "Number of channels: 1\n",
      "Number of classes: 2\n",
      "Number of files used: 1\n",
      "Number of channels: 1\n",
      "Number of classes: 2\n",
      "Number of files used: 1\n",
      "Number of channels: 1\n",
      "Number of classes: 2\n",
      "Number of files used: 1\n",
      "Number of channels: 1\n",
      "Number of classes: 2\n",
      "Number of files used: 1\n",
      "Number of channels: 1\n",
      "Number of classes: 2\n",
      "Number of files used: 1\n",
      "Number of channels: 1\n",
      "Number of classes: 2\n",
      "Number of files used: 1\n",
      "Number of channels: 1\n",
      "Number of classes: 2\n",
      "Number of files used: 1\n",
      "Number of channels: 1\n",
      "Number of classes: 2\n",
      "Number of files used: 1\n",
      "Number of channels: 1\n",
      "Number of classes: 2\n",
      "Number of files used: 1\n",
      "Number of channels: 1\n",
      "Number of classes: 2\n",
      "Number of files used: 1\n",
      "Number of channels: 1\n",
      "Number of classes: 2\n",
      "Number of files used: 1\n",
      "Number of channels: 1\n",
      "Number of classes: 2\n",
      "Number of files used: 1\n",
      "Number of channels: 1\n",
      "Number of classes: 2\n",
      "Number of files used: 1\n",
      "Number of channels: 1\n",
      "Number of classes: 2\n",
      "Number of files used: 1\n",
      "Number of channels: 1\n",
      "Number of classes: 2\n",
      "Number of files used: 1\n",
      "Number of channels: 1\n",
      "Number of classes: 2\n",
      "Number of files used: 1\n",
      "Number of channels: 1\n",
      "Number of classes: 2\n",
      "Number of files used: 1\n",
      "Number of channels: 1\n",
      "Number of classes: 2\n",
      "Number of files used: 1\n",
      "Number of channels: 1\n",
      "Number of classes: 2\n",
      "Number of files used: 1\n",
      "Number of channels: 1\n",
      "Number of classes: 2\n",
      "Number of files used: 1\n",
      "Number of channels: 1\n",
      "Number of classes: 2\n",
      "Number of files used: 1\n",
      "Number of channels: 1\n",
      "Number of classes: 2\n",
      "Number of files used: 1\n",
      "Number of channels: 1\n",
      "Number of classes: 2\n",
      "Number of files used: 1\n",
      "Number of channels: 1\n",
      "Number of classes: 2\n",
      "Number of files used: 1\n",
      "Number of channels: 1\n",
      "Number of classes: 2\n",
      "Number of files used: 1\n",
      "Number of channels: 1\n",
      "Number of classes: 2\n",
      "Number of files used: 1\n",
      "Number of channels: 1\n",
      "Number of classes: 2\n",
      "Number of files used: 1\n",
      "Number of channels: 1\n",
      "Number of classes: 2\n",
      "Number of files used: 1\n",
      "Number of channels: 1\n",
      "Number of classes: 2\n",
      "INFO:tensorflow:Restoring parameters from ./trained_3layers_feature32_epoch100/model.ckpt\n"
     ]
    },
    {
     "name": "stderr",
     "output_type": "stream",
     "text": [
      "2019-05-12 14:05:55,682 Restoring parameters from ./trained_3layers_feature32_epoch100/model.ckpt\n",
      "2019-05-12 14:05:57,469 Model restored from file: ./trained_3layers_feature32_epoch100/model.ckpt\n"
     ]
    },
    {
     "name": "stdout",
     "output_type": "stream",
     "text": [
      "Number of files used: 1\n",
      "Number of channels: 1\n",
      "Number of classes: 2\n",
      "INFO:tensorflow:Restoring parameters from ./trained_3layers_feature32_epoch100/model.ckpt\n"
     ]
    },
    {
     "name": "stderr",
     "output_type": "stream",
     "text": [
      "2019-05-12 14:06:03,477 Restoring parameters from ./trained_3layers_feature32_epoch100/model.ckpt\n",
      "2019-05-12 14:06:05,229 Model restored from file: ./trained_3layers_feature32_epoch100/model.ckpt\n"
     ]
    },
    {
     "name": "stdout",
     "output_type": "stream",
     "text": [
      "Number of files used: 1\n",
      "Number of channels: 1\n",
      "Number of classes: 2\n",
      "INFO:tensorflow:Restoring parameters from ./trained_3layers_feature32_epoch100/model.ckpt\n"
     ]
    },
    {
     "name": "stderr",
     "output_type": "stream",
     "text": [
      "2019-05-12 14:06:10,824 Restoring parameters from ./trained_3layers_feature32_epoch100/model.ckpt\n",
      "2019-05-12 14:06:12,570 Model restored from file: ./trained_3layers_feature32_epoch100/model.ckpt\n"
     ]
    },
    {
     "name": "stdout",
     "output_type": "stream",
     "text": [
      "Number of files used: 1\n",
      "Number of channels: 1\n",
      "Number of classes: 2\n",
      "Number of files used: 1\n",
      "Number of channels: 1\n",
      "Number of classes: 2\n",
      "Number of files used: 1\n",
      "Number of channels: 1\n",
      "Number of classes: 2\n",
      "Number of files used: 1\n",
      "Number of channels: 1\n",
      "Number of classes: 2\n",
      "Number of files used: 1\n",
      "Number of channels: 1\n",
      "Number of classes: 2\n",
      "Number of files used: 1\n",
      "Number of channels: 1\n",
      "Number of classes: 2\n",
      "Number of files used: 1\n",
      "Number of channels: 1\n",
      "Number of classes: 2\n",
      "Number of files used: 1\n",
      "Number of channels: 1\n",
      "Number of classes: 2\n",
      "Number of files used: 1\n",
      "Number of channels: 1\n",
      "Number of classes: 2\n",
      "Number of files used: 1\n",
      "Number of channels: 1\n",
      "Number of classes: 2\n",
      "Number of files used: 1\n",
      "Number of channels: 1\n",
      "Number of classes: 2\n",
      "Number of files used: 1\n",
      "Number of channels: 1\n",
      "Number of classes: 2\n",
      "Number of files used: 1\n",
      "Number of channels: 1\n",
      "Number of classes: 2\n",
      "Number of files used: 1\n",
      "Number of channels: 1\n",
      "Number of classes: 2\n",
      "Number of files used: 1\n",
      "Number of channels: 1\n",
      "Number of classes: 2\n",
      "INFO:tensorflow:Restoring parameters from ./trained_3layers_feature32_epoch100/model.ckpt\n"
     ]
    },
    {
     "name": "stderr",
     "output_type": "stream",
     "text": [
      "2019-05-12 14:06:18,465 Restoring parameters from ./trained_3layers_feature32_epoch100/model.ckpt\n",
      "2019-05-12 14:06:20,218 Model restored from file: ./trained_3layers_feature32_epoch100/model.ckpt\n"
     ]
    },
    {
     "name": "stdout",
     "output_type": "stream",
     "text": [
      "Number of files used: 1\n",
      "Number of channels: 1\n",
      "Number of classes: 2\n",
      "Number of files used: 1\n",
      "Number of channels: 1\n",
      "Number of classes: 2\n",
      "Number of files used: 1\n",
      "Number of channels: 1\n",
      "Number of classes: 2\n",
      "INFO:tensorflow:Restoring parameters from ./trained_3layers_feature32_epoch100/model.ckpt\n"
     ]
    },
    {
     "name": "stderr",
     "output_type": "stream",
     "text": [
      "2019-05-12 14:06:25,806 Restoring parameters from ./trained_3layers_feature32_epoch100/model.ckpt\n",
      "2019-05-12 14:06:27,546 Model restored from file: ./trained_3layers_feature32_epoch100/model.ckpt\n"
     ]
    },
    {
     "name": "stdout",
     "output_type": "stream",
     "text": [
      "Number of files used: 1\n",
      "Number of channels: 1\n",
      "Number of classes: 2\n",
      "INFO:tensorflow:Restoring parameters from ./trained_3layers_feature32_epoch100/model.ckpt\n"
     ]
    },
    {
     "name": "stderr",
     "output_type": "stream",
     "text": [
      "2019-05-12 14:06:33,068 Restoring parameters from ./trained_3layers_feature32_epoch100/model.ckpt\n",
      "2019-05-12 14:06:34,841 Model restored from file: ./trained_3layers_feature32_epoch100/model.ckpt\n"
     ]
    },
    {
     "name": "stdout",
     "output_type": "stream",
     "text": [
      "Number of files used: 1\n",
      "Number of channels: 1\n",
      "Number of classes: 2\n",
      "Number of files used: 1\n",
      "Number of channels: 1\n",
      "Number of classes: 2\n",
      "Number of files used: 1\n",
      "Number of channels: 1\n",
      "Number of classes: 2\n",
      "Number of files used: 1\n",
      "Number of channels: 1\n",
      "Number of classes: 2\n",
      "Number of files used: 1\n",
      "Number of channels: 1\n",
      "Number of classes: 2\n",
      "Number of files used: 1\n",
      "Number of channels: 1\n",
      "Number of classes: 2\n",
      "Number of files used: 1\n",
      "Number of channels: 1\n",
      "Number of classes: 2\n",
      "Number of files used: 1\n",
      "Number of channels: 1\n",
      "Number of classes: 2\n",
      "Number of files used: 1\n",
      "Number of channels: 1\n",
      "Number of classes: 2\n",
      "Number of files used: 1\n",
      "Number of channels: 1\n",
      "Number of classes: 2\n",
      "Number of files used: 1\n",
      "Number of channels: 1\n",
      "Number of classes: 2\n",
      "Number of files used: 1\n",
      "Number of channels: 1\n",
      "Number of classes: 2\n",
      "Number of files used: 1\n",
      "Number of channels: 1\n",
      "Number of classes: 2\n",
      "Number of files used: 1\n",
      "Number of channels: 1\n",
      "Number of classes: 2\n",
      "Number of files used: 1\n",
      "Number of channels: 1\n",
      "Number of classes: 2\n",
      "Number of files used: 1\n",
      "Number of channels: 1\n",
      "Number of classes: 2\n",
      "Number of files used: 1\n",
      "Number of channels: 1\n",
      "Number of classes: 2\n",
      "Number of files used: 1\n",
      "Number of channels: 1\n",
      "Number of classes: 2\n",
      "Number of files used: 1\n",
      "Number of channels: 1\n",
      "Number of classes: 2\n",
      "Number of files used: 1\n",
      "Number of channels: 1\n",
      "Number of classes: 2\n",
      "Number of files used: 1\n",
      "Number of channels: 1\n",
      "Number of classes: 2\n",
      "Number of files used: 1\n",
      "Number of channels: 1\n",
      "Number of classes: 2\n",
      "Number of files used: 1\n",
      "Number of channels: 1\n",
      "Number of classes: 2\n",
      "INFO:tensorflow:Restoring parameters from ./trained_3layers_feature32_epoch100/model.ckpt\n"
     ]
    },
    {
     "name": "stderr",
     "output_type": "stream",
     "text": [
      "2019-05-12 14:06:40,931 Restoring parameters from ./trained_3layers_feature32_epoch100/model.ckpt\n",
      "2019-05-12 14:06:42,727 Model restored from file: ./trained_3layers_feature32_epoch100/model.ckpt\n"
     ]
    },
    {
     "name": "stdout",
     "output_type": "stream",
     "text": [
      "Number of files used: 1\n",
      "Number of channels: 1\n",
      "Number of classes: 2\n",
      "INFO:tensorflow:Restoring parameters from ./trained_3layers_feature32_epoch100/model.ckpt\n"
     ]
    },
    {
     "name": "stderr",
     "output_type": "stream",
     "text": [
      "2019-05-12 14:06:48,372 Restoring parameters from ./trained_3layers_feature32_epoch100/model.ckpt\n",
      "2019-05-12 14:06:50,183 Model restored from file: ./trained_3layers_feature32_epoch100/model.ckpt\n"
     ]
    },
    {
     "name": "stdout",
     "output_type": "stream",
     "text": [
      "Number of files used: 1\n",
      "Number of channels: 1\n",
      "Number of classes: 2\n",
      "INFO:tensorflow:Restoring parameters from ./trained_3layers_feature32_epoch100/model.ckpt\n"
     ]
    },
    {
     "name": "stderr",
     "output_type": "stream",
     "text": [
      "2019-05-12 14:06:55,888 Restoring parameters from ./trained_3layers_feature32_epoch100/model.ckpt\n",
      "2019-05-12 14:06:57,697 Model restored from file: ./trained_3layers_feature32_epoch100/model.ckpt\n"
     ]
    },
    {
     "name": "stdout",
     "output_type": "stream",
     "text": [
      "Number of files used: 1\n",
      "Number of channels: 1\n",
      "Number of classes: 2\n",
      "Number of files used: 1\n",
      "Number of channels: 1\n",
      "Number of classes: 2\n",
      "Number of files used: 1\n",
      "Number of channels: 1\n",
      "Number of classes: 2\n",
      "Number of files used: 1\n",
      "Number of channels: 1\n",
      "Number of classes: 2\n",
      "Number of files used: 1\n",
      "Number of channels: 1\n",
      "Number of classes: 2\n",
      "Number of files used: 1\n",
      "Number of channels: 1\n",
      "Number of classes: 2\n",
      "Number of files used: 1\n",
      "Number of channels: 1\n",
      "Number of classes: 2\n",
      "Number of files used: 1\n",
      "Number of channels: 1\n",
      "Number of classes: 2\n",
      "Number of files used: 1\n",
      "Number of channels: 1\n",
      "Number of classes: 2\n",
      "Number of files used: 1\n",
      "Number of channels: 1\n",
      "Number of classes: 2\n",
      "Number of files used: 1\n",
      "Number of channels: 1\n",
      "Number of classes: 2\n",
      "Number of files used: 1\n",
      "Number of channels: 1\n",
      "Number of classes: 2\n",
      "Number of files used: 1\n",
      "Number of channels: 1\n",
      "Number of classes: 2\n",
      "INFO:tensorflow:Restoring parameters from ./trained_3layers_feature32_epoch100/model.ckpt\n"
     ]
    },
    {
     "name": "stderr",
     "output_type": "stream",
     "text": [
      "2019-05-12 14:07:03,673 Restoring parameters from ./trained_3layers_feature32_epoch100/model.ckpt\n",
      "2019-05-12 14:07:05,545 Model restored from file: ./trained_3layers_feature32_epoch100/model.ckpt\n"
     ]
    },
    {
     "name": "stdout",
     "output_type": "stream",
     "text": [
      "Number of files used: 1\n",
      "Number of channels: 1\n",
      "Number of classes: 2\n",
      "INFO:tensorflow:Restoring parameters from ./trained_3layers_feature32_epoch100/model.ckpt\n"
     ]
    },
    {
     "name": "stderr",
     "output_type": "stream",
     "text": [
      "2019-05-12 14:07:11,121 Restoring parameters from ./trained_3layers_feature32_epoch100/model.ckpt\n",
      "2019-05-12 14:07:12,961 Model restored from file: ./trained_3layers_feature32_epoch100/model.ckpt\n"
     ]
    },
    {
     "name": "stdout",
     "output_type": "stream",
     "text": [
      "Number of files used: 1\n",
      "Number of channels: 1\n",
      "Number of classes: 2\n",
      "Number of files used: 1\n",
      "Number of channels: 1\n",
      "Number of classes: 2\n",
      "Number of files used: 1\n",
      "Number of channels: 1\n",
      "Number of classes: 2\n",
      "INFO:tensorflow:Restoring parameters from ./trained_3layers_feature32_epoch100/model.ckpt\n"
     ]
    },
    {
     "name": "stderr",
     "output_type": "stream",
     "text": [
      "2019-05-12 14:07:18,503 Restoring parameters from ./trained_3layers_feature32_epoch100/model.ckpt\n",
      "2019-05-12 14:07:20,325 Model restored from file: ./trained_3layers_feature32_epoch100/model.ckpt\n"
     ]
    },
    {
     "name": "stdout",
     "output_type": "stream",
     "text": [
      "Number of files used: 1\n",
      "Number of channels: 1\n",
      "Number of classes: 2\n",
      "Number of files used: 1\n",
      "Number of channels: 1\n",
      "Number of classes: 2\n",
      "Number of files used: 1\n",
      "Number of channels: 1\n",
      "Number of classes: 2\n",
      "Number of files used: 1\n",
      "Number of channels: 1\n",
      "Number of classes: 2\n",
      "Number of files used: 1\n",
      "Number of channels: 1\n",
      "Number of classes: 2\n",
      "Number of files used: 1\n",
      "Number of channels: 1\n",
      "Number of classes: 2\n",
      "Number of files used: 1\n",
      "Number of channels: 1\n",
      "Number of classes: 2\n",
      "Number of files used: 1\n",
      "Number of channels: 1\n",
      "Number of classes: 2\n",
      "Number of files used: 1\n",
      "Number of channels: 1\n",
      "Number of classes: 2\n",
      "Number of files used: 1\n",
      "Number of channels: 1\n",
      "Number of classes: 2\n",
      "Number of files used: 1\n",
      "Number of channels: 1\n",
      "Number of classes: 2\n",
      "Number of files used: 1\n",
      "Number of channels: 1\n",
      "Number of classes: 2\n",
      "Number of files used: 1\n",
      "Number of channels: 1\n",
      "Number of classes: 2\n",
      "Number of files used: 1\n",
      "Number of channels: 1\n",
      "Number of classes: 2\n",
      "Number of files used: 1\n",
      "Number of channels: 1\n",
      "Number of classes: 2\n",
      "Number of files used: 1\n",
      "Number of channels: 1\n",
      "Number of classes: 2\n",
      "Number of files used: 1\n",
      "Number of channels: 1\n",
      "Number of classes: 2\n",
      "Number of files used: 1\n",
      "Number of channels: 1\n",
      "Number of classes: 2\n",
      "Number of files used: 1\n",
      "Number of channels: 1\n",
      "Number of classes: 2\n",
      "Number of files used: 1\n",
      "Number of channels: 1\n",
      "Number of classes: 2\n",
      "Number of files used: 1\n",
      "Number of channels: 1\n",
      "Number of classes: 2\n",
      "Number of files used: 1\n",
      "Number of channels: 1\n",
      "Number of classes: 2\n",
      "Number of files used: 1\n",
      "Number of channels: 1\n",
      "Number of classes: 2\n",
      "Number of files used: 1\n",
      "Number of channels: 1\n",
      "Number of classes: 2\n",
      "Number of files used: 1\n",
      "Number of channels: 1\n",
      "Number of classes: 2\n",
      "INFO:tensorflow:Restoring parameters from ./trained_3layers_feature32_epoch100/model.ckpt\n"
     ]
    },
    {
     "name": "stderr",
     "output_type": "stream",
     "text": [
      "2019-05-12 14:07:26,718 Restoring parameters from ./trained_3layers_feature32_epoch100/model.ckpt\n",
      "2019-05-12 14:07:28,779 Model restored from file: ./trained_3layers_feature32_epoch100/model.ckpt\n"
     ]
    },
    {
     "name": "stdout",
     "output_type": "stream",
     "text": [
      "Number of files used: 1\n",
      "Number of channels: 1\n",
      "Number of classes: 2\n",
      "INFO:tensorflow:Restoring parameters from ./trained_3layers_feature32_epoch100/model.ckpt\n"
     ]
    },
    {
     "name": "stderr",
     "output_type": "stream",
     "text": [
      "2019-05-12 14:07:34,754 Restoring parameters from ./trained_3layers_feature32_epoch100/model.ckpt\n",
      "2019-05-12 14:07:36,683 Model restored from file: ./trained_3layers_feature32_epoch100/model.ckpt\n"
     ]
    },
    {
     "name": "stdout",
     "output_type": "stream",
     "text": [
      "Number of files used: 1\n",
      "Number of channels: 1\n",
      "Number of classes: 2\n",
      "Number of files used: 1\n",
      "Number of channels: 1\n",
      "Number of classes: 2\n",
      "Number of files used: 1\n",
      "Number of channels: 1\n",
      "Number of classes: 2\n",
      "Number of files used: 1\n",
      "Number of channels: 1\n",
      "Number of classes: 2\n",
      "Number of files used: 1\n",
      "Number of channels: 1\n",
      "Number of classes: 2\n",
      "Number of files used: 1\n",
      "Number of channels: 1\n",
      "Number of classes: 2\n",
      "Number of files used: 1\n",
      "Number of channels: 1\n",
      "Number of classes: 2\n",
      "Number of files used: 1\n",
      "Number of channels: 1\n",
      "Number of classes: 2\n",
      "INFO:tensorflow:Restoring parameters from ./trained_3layers_feature32_epoch100/model.ckpt\n"
     ]
    },
    {
     "name": "stderr",
     "output_type": "stream",
     "text": [
      "2019-05-12 14:07:43,285 Restoring parameters from ./trained_3layers_feature32_epoch100/model.ckpt\n",
      "2019-05-12 14:07:45,414 Model restored from file: ./trained_3layers_feature32_epoch100/model.ckpt\n"
     ]
    },
    {
     "name": "stdout",
     "output_type": "stream",
     "text": [
      "Number of files used: 1\n",
      "Number of channels: 1\n",
      "Number of classes: 2\n",
      "INFO:tensorflow:Restoring parameters from ./trained_3layers_feature32_epoch100/model.ckpt\n"
     ]
    },
    {
     "name": "stderr",
     "output_type": "stream",
     "text": [
      "2019-05-12 14:07:52,135 Restoring parameters from ./trained_3layers_feature32_epoch100/model.ckpt\n",
      "2019-05-12 14:07:54,334 Model restored from file: ./trained_3layers_feature32_epoch100/model.ckpt\n"
     ]
    },
    {
     "name": "stdout",
     "output_type": "stream",
     "text": [
      "Number of files used: 1\n",
      "Number of channels: 1\n",
      "Number of classes: 2\n",
      "INFO:tensorflow:Restoring parameters from ./trained_3layers_feature32_epoch100/model.ckpt\n"
     ]
    },
    {
     "name": "stderr",
     "output_type": "stream",
     "text": [
      "2019-05-12 14:08:00,951 Restoring parameters from ./trained_3layers_feature32_epoch100/model.ckpt\n",
      "2019-05-12 14:08:02,975 Model restored from file: ./trained_3layers_feature32_epoch100/model.ckpt\n"
     ]
    },
    {
     "name": "stdout",
     "output_type": "stream",
     "text": [
      "Number of files used: 1\n",
      "Number of channels: 1\n",
      "Number of classes: 2\n",
      "INFO:tensorflow:Restoring parameters from ./trained_3layers_feature32_epoch100/model.ckpt\n"
     ]
    },
    {
     "name": "stderr",
     "output_type": "stream",
     "text": [
      "2019-05-12 14:08:09,860 Restoring parameters from ./trained_3layers_feature32_epoch100/model.ckpt\n",
      "2019-05-12 14:08:11,934 Model restored from file: ./trained_3layers_feature32_epoch100/model.ckpt\n"
     ]
    },
    {
     "name": "stdout",
     "output_type": "stream",
     "text": [
      "Number of files used: 1\n",
      "Number of channels: 1\n",
      "Number of classes: 2\n",
      "INFO:tensorflow:Restoring parameters from ./trained_3layers_feature32_epoch100/model.ckpt\n"
     ]
    },
    {
     "name": "stderr",
     "output_type": "stream",
     "text": [
      "2019-05-12 14:08:18,043 Restoring parameters from ./trained_3layers_feature32_epoch100/model.ckpt\n",
      "2019-05-12 14:08:19,887 Model restored from file: ./trained_3layers_feature32_epoch100/model.ckpt\n"
     ]
    },
    {
     "name": "stdout",
     "output_type": "stream",
     "text": [
      "Number of files used: 1\n",
      "Number of channels: 1\n",
      "Number of classes: 2\n",
      "INFO:tensorflow:Restoring parameters from ./trained_3layers_feature32_epoch100/model.ckpt\n"
     ]
    },
    {
     "name": "stderr",
     "output_type": "stream",
     "text": [
      "2019-05-12 14:08:25,452 Restoring parameters from ./trained_3layers_feature32_epoch100/model.ckpt\n",
      "2019-05-12 14:08:27,307 Model restored from file: ./trained_3layers_feature32_epoch100/model.ckpt\n"
     ]
    },
    {
     "name": "stdout",
     "output_type": "stream",
     "text": [
      "Number of files used: 1\n",
      "Number of channels: 1\n",
      "Number of classes: 2\n",
      "INFO:tensorflow:Restoring parameters from ./trained_3layers_feature32_epoch100/model.ckpt\n"
     ]
    },
    {
     "name": "stderr",
     "output_type": "stream",
     "text": [
      "2019-05-12 14:08:32,882 Restoring parameters from ./trained_3layers_feature32_epoch100/model.ckpt\n",
      "2019-05-12 14:08:34,756 Model restored from file: ./trained_3layers_feature32_epoch100/model.ckpt\n"
     ]
    },
    {
     "name": "stdout",
     "output_type": "stream",
     "text": [
      "Number of files used: 1\n",
      "Number of channels: 1\n",
      "Number of classes: 2\n",
      "Number of files used: 1\n",
      "Number of channels: 1\n",
      "Number of classes: 2\n",
      "Number of files used: 1\n",
      "Number of channels: 1\n",
      "Number of classes: 2\n",
      "Number of files used: 1\n",
      "Number of channels: 1\n",
      "Number of classes: 2\n",
      "Number of files used: 1\n",
      "Number of channels: 1\n",
      "Number of classes: 2\n",
      "Number of files used: 1\n",
      "Number of channels: 1\n",
      "Number of classes: 2\n",
      "Number of files used: 1\n",
      "Number of channels: 1\n",
      "Number of classes: 2\n",
      "Number of files used: 1\n",
      "Number of channels: 1\n",
      "Number of classes: 2\n",
      "Number of files used: 1\n",
      "Number of channels: 1\n",
      "Number of classes: 2\n",
      "Number of files used: 1\n",
      "Number of channels: 1\n",
      "Number of classes: 2\n",
      "Number of files used: 1\n",
      "Number of channels: 1\n",
      "Number of classes: 2\n",
      "Number of files used: 1\n",
      "Number of channels: 1\n",
      "Number of classes: 2\n",
      "Number of files used: 1\n",
      "Number of channels: 1\n",
      "Number of classes: 2\n",
      "Number of files used: 1\n",
      "Number of channels: 1\n",
      "Number of classes: 2\n",
      "Number of files used: 1\n",
      "Number of channels: 1\n",
      "Number of classes: 2\n",
      "Number of files used: 1\n",
      "Number of channels: 1\n",
      "Number of classes: 2\n",
      "Number of files used: 1\n",
      "Number of channels: 1\n",
      "Number of classes: 2\n",
      "Number of files used: 1\n",
      "Number of channels: 1\n",
      "Number of classes: 2\n",
      "Number of files used: 1\n",
      "Number of channels: 1\n",
      "Number of classes: 2\n",
      "Number of files used: 1\n",
      "Number of channels: 1\n",
      "Number of classes: 2\n",
      "Number of files used: 1\n",
      "Number of channels: 1\n",
      "Number of classes: 2\n",
      "Number of files used: 1\n",
      "Number of channels: 1\n",
      "Number of classes: 2\n",
      "Number of files used: 1\n",
      "Number of channels: 1\n",
      "Number of classes: 2\n",
      "Number of files used: 1\n",
      "Number of channels: 1\n",
      "Number of classes: 2\n",
      "Number of files used: 1\n",
      "Number of channels: 1\n",
      "Number of classes: 2\n",
      "Number of files used: 1\n",
      "Number of channels: 1\n",
      "Number of classes: 2\n",
      "Number of files used: 1\n",
      "Number of channels: 1\n",
      "Number of classes: 2\n",
      "Number of files used: 1\n",
      "Number of channels: 1\n",
      "Number of classes: 2\n",
      "Number of files used: 1\n",
      "Number of channels: 1\n",
      "Number of classes: 2\n",
      "INFO:tensorflow:Restoring parameters from ./trained_3layers_feature32_epoch100/model.ckpt\n"
     ]
    },
    {
     "name": "stderr",
     "output_type": "stream",
     "text": [
      "2019-05-12 14:08:41,053 Restoring parameters from ./trained_3layers_feature32_epoch100/model.ckpt\n",
      "2019-05-12 14:08:42,951 Model restored from file: ./trained_3layers_feature32_epoch100/model.ckpt\n"
     ]
    },
    {
     "name": "stdout",
     "output_type": "stream",
     "text": [
      "Number of files used: 1\n",
      "Number of channels: 1\n",
      "Number of classes: 2\n",
      "INFO:tensorflow:Restoring parameters from ./trained_3layers_feature32_epoch100/model.ckpt\n"
     ]
    },
    {
     "name": "stderr",
     "output_type": "stream",
     "text": [
      "2019-05-12 14:08:48,557 Restoring parameters from ./trained_3layers_feature32_epoch100/model.ckpt\n",
      "2019-05-12 14:08:50,439 Model restored from file: ./trained_3layers_feature32_epoch100/model.ckpt\n"
     ]
    },
    {
     "name": "stdout",
     "output_type": "stream",
     "text": [
      "Number of files used: 1\n",
      "Number of channels: 1\n",
      "Number of classes: 2\n",
      "INFO:tensorflow:Restoring parameters from ./trained_3layers_feature32_epoch100/model.ckpt\n"
     ]
    },
    {
     "name": "stderr",
     "output_type": "stream",
     "text": [
      "2019-05-12 14:08:56,013 Restoring parameters from ./trained_3layers_feature32_epoch100/model.ckpt\n",
      "2019-05-12 14:08:57,882 Model restored from file: ./trained_3layers_feature32_epoch100/model.ckpt\n"
     ]
    },
    {
     "name": "stdout",
     "output_type": "stream",
     "text": [
      "Number of files used: 1\n",
      "Number of channels: 1\n",
      "Number of classes: 2\n",
      "INFO:tensorflow:Restoring parameters from ./trained_3layers_feature32_epoch100/model.ckpt\n"
     ]
    },
    {
     "name": "stderr",
     "output_type": "stream",
     "text": [
      "2019-05-12 14:09:03,536 Restoring parameters from ./trained_3layers_feature32_epoch100/model.ckpt\n",
      "2019-05-12 14:09:05,426 Model restored from file: ./trained_3layers_feature32_epoch100/model.ckpt\n"
     ]
    },
    {
     "name": "stdout",
     "output_type": "stream",
     "text": [
      "Number of files used: 1\n",
      "Number of channels: 1\n",
      "Number of classes: 2\n",
      "INFO:tensorflow:Restoring parameters from ./trained_3layers_feature32_epoch100/model.ckpt\n"
     ]
    },
    {
     "name": "stderr",
     "output_type": "stream",
     "text": [
      "2019-05-12 14:09:11,050 Restoring parameters from ./trained_3layers_feature32_epoch100/model.ckpt\n",
      "2019-05-12 14:09:12,949 Model restored from file: ./trained_3layers_feature32_epoch100/model.ckpt\n"
     ]
    },
    {
     "name": "stdout",
     "output_type": "stream",
     "text": [
      "Number of files used: 1\n",
      "Number of channels: 1\n",
      "Number of classes: 2\n",
      "Number of files used: 1\n",
      "Number of channels: 1\n",
      "Number of classes: 2\n",
      "INFO:tensorflow:Restoring parameters from ./trained_3layers_feature32_epoch100/model.ckpt\n"
     ]
    },
    {
     "name": "stderr",
     "output_type": "stream",
     "text": [
      "2019-05-12 14:09:18,639 Restoring parameters from ./trained_3layers_feature32_epoch100/model.ckpt\n",
      "2019-05-12 14:09:20,583 Model restored from file: ./trained_3layers_feature32_epoch100/model.ckpt\n"
     ]
    },
    {
     "name": "stdout",
     "output_type": "stream",
     "text": [
      "Number of files used: 1\n",
      "Number of channels: 1\n",
      "Number of classes: 2\n",
      "INFO:tensorflow:Restoring parameters from ./trained_3layers_feature32_epoch100/model.ckpt\n"
     ]
    },
    {
     "name": "stderr",
     "output_type": "stream",
     "text": [
      "2019-05-12 14:09:26,204 Restoring parameters from ./trained_3layers_feature32_epoch100/model.ckpt\n",
      "2019-05-12 14:09:28,105 Model restored from file: ./trained_3layers_feature32_epoch100/model.ckpt\n"
     ]
    },
    {
     "name": "stdout",
     "output_type": "stream",
     "text": [
      "Number of files used: 1\n",
      "Number of channels: 1\n",
      "Number of classes: 2\n",
      "INFO:tensorflow:Restoring parameters from ./trained_3layers_feature32_epoch100/model.ckpt\n"
     ]
    },
    {
     "name": "stderr",
     "output_type": "stream",
     "text": [
      "2019-05-12 14:09:33,767 Restoring parameters from ./trained_3layers_feature32_epoch100/model.ckpt\n",
      "2019-05-12 14:09:35,673 Model restored from file: ./trained_3layers_feature32_epoch100/model.ckpt\n"
     ]
    },
    {
     "name": "stdout",
     "output_type": "stream",
     "text": [
      "Number of files used: 1\n",
      "Number of channels: 1\n",
      "Number of classes: 2\n",
      "INFO:tensorflow:Restoring parameters from ./trained_3layers_feature32_epoch100/model.ckpt\n"
     ]
    },
    {
     "name": "stderr",
     "output_type": "stream",
     "text": [
      "2019-05-12 14:09:41,384 Restoring parameters from ./trained_3layers_feature32_epoch100/model.ckpt\n",
      "2019-05-12 14:09:43,308 Model restored from file: ./trained_3layers_feature32_epoch100/model.ckpt\n"
     ]
    },
    {
     "name": "stdout",
     "output_type": "stream",
     "text": [
      "Number of files used: 1\n",
      "Number of channels: 1\n",
      "Number of classes: 2\n",
      "INFO:tensorflow:Restoring parameters from ./trained_3layers_feature32_epoch100/model.ckpt\n"
     ]
    },
    {
     "name": "stderr",
     "output_type": "stream",
     "text": [
      "2019-05-12 14:09:49,047 Restoring parameters from ./trained_3layers_feature32_epoch100/model.ckpt\n",
      "2019-05-12 14:09:50,952 Model restored from file: ./trained_3layers_feature32_epoch100/model.ckpt\n"
     ]
    },
    {
     "name": "stdout",
     "output_type": "stream",
     "text": [
      "Number of files used: 1\n",
      "Number of channels: 1\n",
      "Number of classes: 2\n",
      "INFO:tensorflow:Restoring parameters from ./trained_3layers_feature32_epoch100/model.ckpt\n"
     ]
    },
    {
     "name": "stderr",
     "output_type": "stream",
     "text": [
      "2019-05-12 14:09:56,709 Restoring parameters from ./trained_3layers_feature32_epoch100/model.ckpt\n",
      "2019-05-12 14:09:58,631 Model restored from file: ./trained_3layers_feature32_epoch100/model.ckpt\n"
     ]
    },
    {
     "name": "stdout",
     "output_type": "stream",
     "text": [
      "Number of files used: 1\n",
      "Number of channels: 1\n",
      "Number of classes: 2\n",
      "INFO:tensorflow:Restoring parameters from ./trained_3layers_feature32_epoch100/model.ckpt\n"
     ]
    },
    {
     "name": "stderr",
     "output_type": "stream",
     "text": [
      "2019-05-12 14:10:04,333 Restoring parameters from ./trained_3layers_feature32_epoch100/model.ckpt\n",
      "2019-05-12 14:10:06,268 Model restored from file: ./trained_3layers_feature32_epoch100/model.ckpt\n"
     ]
    },
    {
     "name": "stdout",
     "output_type": "stream",
     "text": [
      "Number of files used: 1\n",
      "Number of channels: 1\n",
      "Number of classes: 2\n",
      "Number of files used: 1\n",
      "Number of channels: 1\n",
      "Number of classes: 2\n",
      "Number of files used: 1\n",
      "Number of channels: 1\n",
      "Number of classes: 2\n",
      "Number of files used: 1\n",
      "Number of channels: 1\n",
      "Number of classes: 2\n",
      "Number of files used: 1\n",
      "Number of channels: 1\n",
      "Number of classes: 2\n",
      "Number of files used: 1\n",
      "Number of channels: 1\n",
      "Number of classes: 2\n",
      "Number of files used: 1\n",
      "Number of channels: 1\n",
      "Number of classes: 2\n",
      "Number of files used: 1\n",
      "Number of channels: 1\n",
      "Number of classes: 2\n",
      "Number of files used: 1\n",
      "Number of channels: 1\n",
      "Number of classes: 2\n",
      "Number of files used: 1\n",
      "Number of channels: 1\n",
      "Number of classes: 2\n",
      "Number of files used: 1\n",
      "Number of channels: 1\n",
      "Number of classes: 2\n",
      "Number of files used: 1\n",
      "Number of channels: 1\n",
      "Number of classes: 2\n",
      "Number of files used: 1\n",
      "Number of channels: 1\n",
      "Number of classes: 2\n",
      "Number of files used: 1\n",
      "Number of channels: 1\n",
      "Number of classes: 2\n",
      "Number of files used: 1\n",
      "Number of channels: 1\n",
      "Number of classes: 2\n",
      "Number of files used: 1\n",
      "Number of channels: 1\n",
      "Number of classes: 2\n",
      "Number of files used: 1\n",
      "Number of channels: 1\n",
      "Number of classes: 2\n",
      "Number of files used: 1\n",
      "Number of channels: 1\n",
      "Number of classes: 2\n",
      "Number of files used: 1\n",
      "Number of channels: 1\n",
      "Number of classes: 2\n",
      "Number of files used: 1\n",
      "Number of channels: 1\n",
      "Number of classes: 2\n",
      "Number of files used: 1\n",
      "Number of channels: 1\n",
      "Number of classes: 2\n",
      "Number of files used: 1\n",
      "Number of channels: 1\n",
      "Number of classes: 2\n",
      "Number of files used: 1\n",
      "Number of channels: 1\n",
      "Number of classes: 2\n",
      "Number of files used: 1\n",
      "Number of channels: 1\n",
      "Number of classes: 2\n",
      "Number of files used: 1\n",
      "Number of channels: 1\n",
      "Number of classes: 2\n",
      "Number of files used: 1\n",
      "Number of channels: 1\n",
      "Number of classes: 2\n",
      "Number of files used: 1\n",
      "Number of channels: 1\n",
      "Number of classes: 2\n",
      "Number of files used: 1\n",
      "Number of channels: 1\n",
      "Number of classes: 2\n",
      "Number of files used: 1\n",
      "Number of channels: 1\n",
      "Number of classes: 2\n",
      "Number of files used: 1\n",
      "Number of channels: 1\n",
      "Number of classes: 2\n",
      "Number of files used: 1\n",
      "Number of channels: 1\n",
      "Number of classes: 2\n",
      "INFO:tensorflow:Restoring parameters from ./trained_3layers_feature32_epoch100/model.ckpt\n"
     ]
    },
    {
     "name": "stderr",
     "output_type": "stream",
     "text": [
      "2019-05-12 14:10:12,707 Restoring parameters from ./trained_3layers_feature32_epoch100/model.ckpt\n",
      "2019-05-12 14:10:14,630 Model restored from file: ./trained_3layers_feature32_epoch100/model.ckpt\n"
     ]
    },
    {
     "name": "stdout",
     "output_type": "stream",
     "text": [
      "Number of files used: 1\n",
      "Number of channels: 1\n",
      "Number of classes: 2\n",
      "INFO:tensorflow:Restoring parameters from ./trained_3layers_feature32_epoch100/model.ckpt\n"
     ]
    },
    {
     "name": "stderr",
     "output_type": "stream",
     "text": [
      "2019-05-12 14:10:20,362 Restoring parameters from ./trained_3layers_feature32_epoch100/model.ckpt\n",
      "2019-05-12 14:10:22,328 Model restored from file: ./trained_3layers_feature32_epoch100/model.ckpt\n"
     ]
    },
    {
     "name": "stdout",
     "output_type": "stream",
     "text": [
      "Number of files used: 1\n",
      "Number of channels: 1\n",
      "Number of classes: 2\n",
      "INFO:tensorflow:Restoring parameters from ./trained_3layers_feature32_epoch100/model.ckpt\n"
     ]
    },
    {
     "name": "stderr",
     "output_type": "stream",
     "text": [
      "2019-05-12 14:10:28,059 Restoring parameters from ./trained_3layers_feature32_epoch100/model.ckpt\n",
      "2019-05-12 14:10:29,978 Model restored from file: ./trained_3layers_feature32_epoch100/model.ckpt\n"
     ]
    },
    {
     "name": "stdout",
     "output_type": "stream",
     "text": [
      "Number of files used: 1\n",
      "Number of channels: 1\n",
      "Number of classes: 2\n",
      "INFO:tensorflow:Restoring parameters from ./trained_3layers_feature32_epoch100/model.ckpt\n"
     ]
    },
    {
     "name": "stderr",
     "output_type": "stream",
     "text": [
      "2019-05-12 14:10:35,708 Restoring parameters from ./trained_3layers_feature32_epoch100/model.ckpt\n",
      "2019-05-12 14:10:37,656 Model restored from file: ./trained_3layers_feature32_epoch100/model.ckpt\n"
     ]
    },
    {
     "name": "stdout",
     "output_type": "stream",
     "text": [
      "Number of files used: 1\n",
      "Number of channels: 1\n",
      "Number of classes: 2\n",
      "INFO:tensorflow:Restoring parameters from ./trained_3layers_feature32_epoch100/model.ckpt\n"
     ]
    },
    {
     "name": "stderr",
     "output_type": "stream",
     "text": [
      "2019-05-12 14:10:43,369 Restoring parameters from ./trained_3layers_feature32_epoch100/model.ckpt\n",
      "2019-05-12 14:10:45,304 Model restored from file: ./trained_3layers_feature32_epoch100/model.ckpt\n"
     ]
    },
    {
     "name": "stdout",
     "output_type": "stream",
     "text": [
      "Number of files used: 1\n",
      "Number of channels: 1\n",
      "Number of classes: 2\n",
      "INFO:tensorflow:Restoring parameters from ./trained_3layers_feature32_epoch100/model.ckpt\n"
     ]
    },
    {
     "name": "stderr",
     "output_type": "stream",
     "text": [
      "2019-05-12 14:10:51,046 Restoring parameters from ./trained_3layers_feature32_epoch100/model.ckpt\n",
      "2019-05-12 14:10:52,995 Model restored from file: ./trained_3layers_feature32_epoch100/model.ckpt\n"
     ]
    },
    {
     "name": "stdout",
     "output_type": "stream",
     "text": [
      "Number of files used: 1\n",
      "Number of channels: 1\n",
      "Number of classes: 2\n",
      "INFO:tensorflow:Restoring parameters from ./trained_3layers_feature32_epoch100/model.ckpt\n"
     ]
    },
    {
     "name": "stderr",
     "output_type": "stream",
     "text": [
      "2019-05-12 14:10:59,037 Restoring parameters from ./trained_3layers_feature32_epoch100/model.ckpt\n",
      "2019-05-12 14:11:00,993 Model restored from file: ./trained_3layers_feature32_epoch100/model.ckpt\n"
     ]
    },
    {
     "name": "stdout",
     "output_type": "stream",
     "text": [
      "Number of files used: 1\n",
      "Number of channels: 1\n",
      "Number of classes: 2\n",
      "INFO:tensorflow:Restoring parameters from ./trained_3layers_feature32_epoch100/model.ckpt\n"
     ]
    },
    {
     "name": "stderr",
     "output_type": "stream",
     "text": [
      "2019-05-12 14:11:06,762 Restoring parameters from ./trained_3layers_feature32_epoch100/model.ckpt\n",
      "2019-05-12 14:11:08,780 Model restored from file: ./trained_3layers_feature32_epoch100/model.ckpt\n"
     ]
    },
    {
     "name": "stdout",
     "output_type": "stream",
     "text": [
      "Number of files used: 1\n",
      "Number of channels: 1\n",
      "Number of classes: 2\n",
      "INFO:tensorflow:Restoring parameters from ./trained_3layers_feature32_epoch100/model.ckpt\n"
     ]
    },
    {
     "name": "stderr",
     "output_type": "stream",
     "text": [
      "2019-05-12 14:11:14,506 Restoring parameters from ./trained_3layers_feature32_epoch100/model.ckpt\n",
      "2019-05-12 14:11:16,495 Model restored from file: ./trained_3layers_feature32_epoch100/model.ckpt\n"
     ]
    },
    {
     "name": "stdout",
     "output_type": "stream",
     "text": [
      "Number of files used: 1\n",
      "Number of channels: 1\n",
      "Number of classes: 2\n",
      "Number of files used: 1\n",
      "Number of channels: 1\n",
      "Number of classes: 2\n",
      "Number of files used: 1\n",
      "Number of channels: 1\n",
      "Number of classes: 2\n",
      "Number of files used: 1\n",
      "Number of channels: 1\n",
      "Number of classes: 2\n",
      "Number of files used: 1\n",
      "Number of channels: 1\n",
      "Number of classes: 2\n",
      "Number of files used: 1\n",
      "Number of channels: 1\n",
      "Number of classes: 2\n",
      "Number of files used: 1\n",
      "Number of channels: 1\n",
      "Number of classes: 2\n",
      "Number of files used: 1\n",
      "Number of channels: 1\n",
      "Number of classes: 2\n",
      "Number of files used: 1\n",
      "Number of channels: 1\n",
      "Number of classes: 2\n",
      "Number of files used: 1\n",
      "Number of channels: 1\n",
      "Number of classes: 2\n",
      "Number of files used: 1\n",
      "Number of channels: 1\n",
      "Number of classes: 2\n",
      "Number of files used: 1\n",
      "Number of channels: 1\n",
      "Number of classes: 2\n",
      "Number of files used: 1\n",
      "Number of channels: 1\n",
      "Number of classes: 2\n",
      "Number of files used: 1\n",
      "Number of channels: 1\n",
      "Number of classes: 2\n",
      "Number of files used: 1\n",
      "Number of channels: 1\n",
      "Number of classes: 2\n",
      "Number of files used: 1\n",
      "Number of channels: 1\n",
      "Number of classes: 2\n",
      "Number of files used: 1\n",
      "Number of channels: 1\n",
      "Number of classes: 2\n",
      "Number of files used: 1\n",
      "Number of channels: 1\n",
      "Number of classes: 2\n",
      "Number of files used: 1\n",
      "Number of channels: 1\n",
      "Number of classes: 2\n",
      "Number of files used: 1\n",
      "Number of channels: 1\n",
      "Number of classes: 2\n",
      "Number of files used: 1\n",
      "Number of channels: 1\n",
      "Number of classes: 2\n",
      "Number of files used: 1\n",
      "Number of channels: 1\n",
      "Number of classes: 2\n",
      "Number of files used: 1\n",
      "Number of channels: 1\n",
      "Number of classes: 2\n",
      "Number of files used: 1\n",
      "Number of channels: 1\n",
      "Number of classes: 2\n",
      "Number of files used: 1\n",
      "Number of channels: 1\n",
      "Number of classes: 2\n",
      "Number of files used: 1\n",
      "Number of channels: 1\n",
      "Number of classes: 2\n",
      "Number of files used: 1\n",
      "Number of channels: 1\n",
      "Number of classes: 2\n",
      "Number of files used: 1\n",
      "Number of channels: 1\n",
      "Number of classes: 2\n",
      "Number of files used: 1\n",
      "Number of channels: 1\n",
      "Number of classes: 2\n",
      "Number of files used: 1\n",
      "Number of channels: 1\n",
      "Number of classes: 2\n",
      "Number of files used: 1\n",
      "Number of channels: 1\n",
      "Number of classes: 2\n",
      "Number of files used: 1\n",
      "Number of channels: 1\n",
      "Number of classes: 2\n",
      "Number of files used: 1\n",
      "Number of channels: 1\n",
      "Number of classes: 2\n",
      "Number of files used: 1\n",
      "Number of channels: 1\n",
      "Number of classes: 2\n",
      "Number of files used: 1\n",
      "Number of channels: 1\n",
      "Number of classes: 2\n",
      "Number of files used: 1\n",
      "Number of channels: 1\n",
      "Number of classes: 2\n",
      "Number of files used: 1\n",
      "Number of channels: 1\n",
      "Number of classes: 2\n",
      "INFO:tensorflow:Restoring parameters from ./trained_3layers_feature32_epoch100/model.ckpt\n"
     ]
    },
    {
     "name": "stderr",
     "output_type": "stream",
     "text": [
      "2019-05-12 14:11:23,177 Restoring parameters from ./trained_3layers_feature32_epoch100/model.ckpt\n",
      "2019-05-12 14:11:25,163 Model restored from file: ./trained_3layers_feature32_epoch100/model.ckpt\n"
     ]
    },
    {
     "name": "stdout",
     "output_type": "stream",
     "text": [
      "Number of files used: 1\n",
      "Number of channels: 1\n",
      "Number of classes: 2\n",
      "INFO:tensorflow:Restoring parameters from ./trained_3layers_feature32_epoch100/model.ckpt\n"
     ]
    },
    {
     "name": "stderr",
     "output_type": "stream",
     "text": [
      "2019-05-12 14:11:30,911 Restoring parameters from ./trained_3layers_feature32_epoch100/model.ckpt\n",
      "2019-05-12 14:11:32,899 Model restored from file: ./trained_3layers_feature32_epoch100/model.ckpt\n"
     ]
    },
    {
     "name": "stdout",
     "output_type": "stream",
     "text": [
      "Number of files used: 1\n",
      "Number of channels: 1\n",
      "Number of classes: 2\n",
      "Number of files used: 1\n",
      "Number of channels: 1\n",
      "Number of classes: 2\n",
      "Number of files used: 1\n",
      "Number of channels: 1\n",
      "Number of classes: 2\n",
      "Number of files used: 1\n",
      "Number of channels: 1\n",
      "Number of classes: 2\n",
      "Number of files used: 1\n",
      "Number of channels: 1\n",
      "Number of classes: 2\n",
      "Number of files used: 1\n",
      "Number of channels: 1\n",
      "Number of classes: 2\n",
      "Number of files used: 1\n",
      "Number of channels: 1\n",
      "Number of classes: 2\n",
      "Number of files used: 1\n",
      "Number of channels: 1\n",
      "Number of classes: 2\n",
      "Number of files used: 1\n",
      "Number of channels: 1\n",
      "Number of classes: 2\n",
      "Number of files used: 1\n",
      "Number of channels: 1\n",
      "Number of classes: 2\n",
      "Number of files used: 1\n",
      "Number of channels: 1\n",
      "Number of classes: 2\n",
      "Number of files used: 1\n",
      "Number of channels: 1\n",
      "Number of classes: 2\n",
      "Number of files used: 1\n",
      "Number of channels: 1\n",
      "Number of classes: 2\n",
      "Number of files used: 1\n",
      "Number of channels: 1\n",
      "Number of classes: 2\n",
      "Number of files used: 1\n",
      "Number of channels: 1\n",
      "Number of classes: 2\n",
      "Number of files used: 1\n",
      "Number of channels: 1\n",
      "Number of classes: 2\n",
      "Number of files used: 1\n",
      "Number of channels: 1\n",
      "Number of classes: 2\n",
      "Number of files used: 1\n",
      "Number of channels: 1\n",
      "Number of classes: 2\n",
      "Number of files used: 1\n",
      "Number of channels: 1\n",
      "Number of classes: 2\n",
      "Number of files used: 1\n",
      "Number of channels: 1\n",
      "Number of classes: 2\n",
      "Number of files used: 1\n",
      "Number of channels: 1\n",
      "Number of classes: 2\n",
      "Number of files used: 1\n",
      "Number of channels: 1\n",
      "Number of classes: 2\n"
     ]
    }
   ],
   "source": [
    "#prepare test data\n",
    "for i in range (1,37):\n",
    "    for j in range (1,44):\n",
    "        test_data = image_util.ImageDataProvider(\"./data_Antarctica/MOA209_125m_mask\"+str(i)+\"x\"+str(j)+\".tif\")\n",
    "        x_test, y_test = test_data(1) # 1 image\n",
    "        x_test_ = x_test[0,...,0]\n",
    "        if x_test_.sum()!=0:\n",
    "            prediction = net.predict(output_path+\"/model.ckpt\", x_test)\n",
    "       #    print(prediction.shape)\n",
    "            prediction = prediction[0,...,1]\n",
    "            matplotlib.image.imsave(\"./predict_Antarctica_epoch100/prediction\"+str(i)+\"x\"+str(j)+\".tif\", prediction)"
   ]
  },
  {
   "cell_type": "code",
   "execution_count": null,
   "metadata": {},
   "outputs": [],
   "source": []
  }
 ],
 "metadata": {
  "kernelspec": {
   "display_name": "Python 3",
   "language": "python",
   "name": "python3"
  },
  "language_info": {
   "codemirror_mode": {
    "name": "ipython",
    "version": 3
   },
   "file_extension": ".py",
   "mimetype": "text/x-python",
   "name": "python",
   "nbconvert_exporter": "python",
   "pygments_lexer": "ipython3",
   "version": "3.6.0"
  }
 },
 "nbformat": 4,
 "nbformat_minor": 1
}
